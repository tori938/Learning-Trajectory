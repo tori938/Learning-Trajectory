{
 "cells": [
  {
   "cell_type": "code",
   "execution_count": 1,
   "metadata": {},
   "outputs": [],
   "source": [
    "import pandas as pd, numpy as np"
   ]
  },
  {
   "cell_type": "markdown",
   "metadata": {},
   "source": [
    "counting null values: \\\n",
    ".isna().sum()"
   ]
  },
  {
   "cell_type": "code",
   "execution_count": 3,
   "metadata": {},
   "outputs": [
    {
     "name": "stdout",
     "output_type": "stream",
     "text": [
      "    Name  Age   Salary  Experience\n",
      "0   John   25  50000.0         2.0\n",
      "1    Doe   30  60000.0         5.0\n",
      "2  Alice   22      NaN         1.0\n",
      "3    Bob   28  75000.0         NaN\n",
      "4  Chris   35  90000.0        10.0\n",
      "\n",
      "1, 1\n",
      "\n",
      "Name          0\n",
      "Age           0\n",
      "Salary        1\n",
      "Experience    1\n",
      "dtype: int64\n",
      "\n"
     ]
    }
   ],
   "source": [
    "# Creating a data frame with missing values\n",
    "data = {\n",
    "    'Name': ['John', 'Doe', 'Alice', 'Bob', 'Chris'],\n",
    "    'Age': [25, 30, 22, 28, 35],\n",
    "    'Salary': [50000, 60000, None, 75000, 90000],\n",
    "    'Experience': [2, 5, 1, None, 10]\n",
    "}\n",
    "df = pd.DataFrame(data)\n",
    "print(df)\n",
    "print()\n",
    "\n",
    "salary_nan_count = df['Salary'].isna().sum() #counting NaN values in the 'Salary' column\n",
    "exp_nan_count = df['Experience'].isna().sum() #counting NaN values in the 'Experience' column\n",
    "print(salary_nan_count, exp_nan_count, sep=', ')\n",
    "print()\n",
    "\n",
    "nan_count = df.isna().sum() #counting NaN values in all columns\n",
    "print(nan_count)\n",
    "print()\n"
   ]
  },
  {
   "cell_type": "markdown",
   "metadata": {},
   "source": [
    "working with null values: \\\n",
    ".dropna()"
   ]
  },
  {
   "cell_type": "code",
   "execution_count": 4,
   "metadata": {},
   "outputs": [
    {
     "name": "stdout",
     "output_type": "stream",
     "text": [
      "red       0.0\n",
      "blue      1.0\n",
      "yellow    2.0\n",
      "white     NaN\n",
      "green     9.0\n",
      "dtype: float64\n",
      "\n",
      "a few ways of deleting NaN: can be done manually, but it's tricky and doesn't guarantee that you'll delete them all, thus dropna() function is used\n",
      "red       0.0\n",
      "blue      1.0\n",
      "yellow    2.0\n",
      "green     9.0\n",
      "dtype: float64\n",
      "\n"
     ]
    }
   ],
   "source": [
    "ser = pd.Series(\n",
    "    [0, 1, 2, np.NaN, 9],\n",
    "     index = ['red', 'blue', 'yellow', 'white', 'green']\n",
    ")\n",
    "print(ser)\n",
    "print()\n",
    "\n",
    "print(\"a few ways of deleting NaN: can be done manually, but it's tricky and doesn't guarantee that you'll \\\n",
    "delete them all, thus dropna() function is used\")\n",
    "ser = ser.dropna() #you need to force it, can't just write ser.dropna() -> it doesn't update properly\n",
    "print(ser)\n",
    "print()"
   ]
  },
  {
   "cell_type": "markdown",
   "metadata": {},
   "source": [
    "an alternative method is: \\\n",
    ".notnull()"
   ]
  },
  {
   "cell_type": "code",
   "execution_count": 5,
   "metadata": {},
   "outputs": [
    {
     "name": "stdout",
     "output_type": "stream",
     "text": [
      "red       0.0\n",
      "blue      1.0\n",
      "yellow    2.0\n",
      "white     NaN\n",
      "green     9.0\n",
      "dtype: float64\n",
      "\n",
      "red       0.0\n",
      "blue      1.0\n",
      "yellow    2.0\n",
      "green     9.0\n",
      "dtype: float64\n",
      "\n"
     ]
    }
   ],
   "source": [
    "ser_2 = pd.Series(\n",
    "    [0, 1, 2, np.NaN, 9],\n",
    "     index = ['red', 'blue', 'yellow', 'white', 'green']\n",
    ")\n",
    "print(ser_2)\n",
    "print()\n",
    "\n",
    "ser_2 = ser_2[ser_2.notnull()]\n",
    "print(ser_2)\n",
    "print()"
   ]
  },
  {
   "cell_type": "markdown",
   "metadata": {},
   "source": [
    "but with DataFrame dropna() deletes any record with just one instance of NaN \\\n",
    "dangerous as all the data is lost"
   ]
  },
  {
   "cell_type": "code",
   "execution_count": 6,
   "metadata": {},
   "outputs": [
    {
     "name": "stdout",
     "output_type": "stream",
     "text": [
      "       ball  mug  pen\n",
      "blue    6.0  NaN  6.0\n",
      "green   NaN  NaN  NaN\n",
      "red     2.0  NaN  5.0\n",
      "\n",
      "Empty DataFrame\n",
      "Columns: [ball, mug, pen]\n",
      "Index: []\n",
      "\n"
     ]
    }
   ],
   "source": [
    "frame3 = pd.DataFrame([\n",
    "    [6, np.nan, 6],\n",
    "    [np.nan, np.nan, np.nan],\n",
    "    [2, np.nan, 5]\n",
    "],\n",
    "    index = ['blue', 'green', 'red'],\n",
    "    columns = ['ball', 'mug', 'pen']\n",
    ")\n",
    "print(frame3)\n",
    "print()\n",
    "\n",
    "frame3 = frame3.dropna()\n",
    "print(frame3)\n",
    "print()"
   ]
  },
  {
   "cell_type": "markdown",
   "metadata": {},
   "source": [
    "to avoid problems use how=all \\\n",
    ".dropna(how='all')"
   ]
  },
  {
   "cell_type": "code",
   "execution_count": 7,
   "metadata": {},
   "outputs": [
    {
     "name": "stdout",
     "output_type": "stream",
     "text": [
      "       ball  mug  pen\n",
      "blue    6.0  NaN  6.0\n",
      "green   NaN  NaN  NaN\n",
      "red     2.0  NaN  5.0\n",
      "\n",
      "      ball  mug  pen\n",
      "blue   6.0  NaN  6.0\n",
      "red    2.0  NaN  5.0\n",
      "\n"
     ]
    }
   ],
   "source": [
    "frame4 = pd.DataFrame([\n",
    "    [6, np.nan, 6],\n",
    "    [np.nan, np.nan, np.nan],\n",
    "    [2, np.nan, 5]\n",
    "],\n",
    "    index = ['blue', 'green', 'red'],\n",
    "    columns = ['ball', 'mug', 'pen']\n",
    ")\n",
    "print(frame4)\n",
    "print()\n",
    "\n",
    "frame4 = frame4.dropna(how='all')\n",
    "print(frame4)\n",
    "print()"
   ]
  },
  {
   "cell_type": "markdown",
   "metadata": {},
   "source": [
    "instead of deleting the column / row, \\\n",
    "use .fillna()"
   ]
  },
  {
   "cell_type": "code",
   "execution_count": 9,
   "metadata": {},
   "outputs": [
    {
     "name": "stdout",
     "output_type": "stream",
     "text": [
      "       ball  mug  pen\n",
      "blue    6.0  NaN  6.0\n",
      "green   NaN  NaN  NaN\n",
      "red     2.0  NaN  5.0\n",
      "\n",
      "       ball  mug  pen\n",
      "blue    6.0  0.0  6.0\n",
      "green   0.0  0.0  0.0\n",
      "red     2.0  0.0  5.0\n",
      "\n"
     ]
    }
   ],
   "source": [
    "frame3 = pd.DataFrame([\n",
    "    [6, np.nan, 6],\n",
    "    [np.nan, np.nan, np.nan],\n",
    "    [2, np.nan, 5]\n",
    "],\n",
    "    index = ['blue', 'green', 'red'],\n",
    "    columns = ['ball', 'mug', 'pen']\n",
    ")\n",
    "print(frame3)\n",
    "print()\n",
    "\n",
    "frame3 = frame3.fillna(0) #fill with 0\n",
    "print(frame3)\n",
    "print()"
   ]
  },
  {
   "cell_type": "markdown",
   "metadata": {},
   "source": [
    "or use a specific fill with the dict"
   ]
  },
  {
   "cell_type": "code",
   "execution_count": 10,
   "metadata": {},
   "outputs": [
    {
     "name": "stdout",
     "output_type": "stream",
     "text": [
      "       ball  mug  pen\n",
      "blue    6.0  NaN  6.0\n",
      "green   NaN  NaN  NaN\n",
      "red     2.0  NaN  5.0\n",
      "\n",
      "       ball  mug  pen\n",
      "blue    6.0  0.0  6.0\n",
      "green   1.0  0.0  5.0\n",
      "red     2.0  0.0  5.0\n",
      "\n"
     ]
    }
   ],
   "source": [
    "frame7 = pd.DataFrame([\n",
    "    [6, np.nan, 6],\n",
    "    [np.nan, np.nan, np.nan],\n",
    "    [2, np.nan, 5]\n",
    "],\n",
    "    index = ['blue', 'green', 'red'],\n",
    "    columns = ['ball', 'mug', 'pen']\n",
    ")\n",
    "print(frame7)\n",
    "print()\n",
    "frame7 = frame7.fillna({'ball': 1, 'mug': 0, 'pen': 5}) #specific fill\n",
    "print(frame7)\n",
    "print()"
   ]
  }
 ],
 "metadata": {
  "kernelspec": {
   "display_name": "Python 3",
   "language": "python",
   "name": "python3"
  },
  "language_info": {
   "codemirror_mode": {
    "name": "ipython",
    "version": 3
   },
   "file_extension": ".py",
   "mimetype": "text/x-python",
   "name": "python",
   "nbconvert_exporter": "python",
   "pygments_lexer": "ipython3",
   "version": "3.10.5"
  }
 },
 "nbformat": 4,
 "nbformat_minor": 2
}
