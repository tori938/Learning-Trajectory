{
 "cells": [
  {
   "cell_type": "markdown",
   "metadata": {},
   "source": [
    "IMPORT LIBRARY"
   ]
  },
  {
   "cell_type": "code",
   "execution_count": 5,
   "metadata": {},
   "outputs": [],
   "source": [
    "import pandas as pd, numpy as np"
   ]
  },
  {
   "cell_type": "markdown",
   "metadata": {},
   "source": [
    "DATAFRAME + CHANGING THE INDEX"
   ]
  },
  {
   "cell_type": "code",
   "execution_count": 2,
   "metadata": {},
   "outputs": [
    {
     "name": "stdout",
     "output_type": "stream",
     "text": [
      "          country  population   square\n",
      "0  United Kingdom       56.29   133396\n",
      "1          Canada       38.05  9984670\n",
      "2   United States      322.28  9826630\n",
      "\n",
      "           country  population   square\n",
      "UK  United Kingdom       56.29   133396\n",
      "CA          Canada       38.05  9984670\n",
      "US   United States      322.28  9826630\n",
      "\n"
     ]
    }
   ],
   "source": [
    "countries = pd.DataFrame({\n",
    "    'country': ['United Kingdom', 'Canada', 'United States'],\n",
    "    'population': [56.29, 38.05, 322.28],\n",
    "    'square': [133396, 9984670, 9826630],\n",
    "    }\n",
    ")\n",
    "print(countries)\n",
    "print()\n",
    "\n",
    "countries.index = ['UK', 'CA', 'US']\n",
    "print(countries)\n",
    "print()"
   ]
  },
  {
   "cell_type": "markdown",
   "metadata": {},
   "source": [
    "DATAFRAME + FINDING THE HORIZONTAL / VERTICAL MEAN"
   ]
  },
  {
   "cell_type": "code",
   "execution_count": 3,
   "metadata": {},
   "outputs": [
    {
     "name": "stdout",
     "output_type": "stream",
     "text": [
      "           country  population   square\n",
      "UK  United Kingdom       56.29   133396\n",
      "CA          Canada       38.05  9984670\n",
      "US   United States      322.28  9826630\n",
      "\n",
      "population    1.388733e+02\n",
      "square        6.648232e+06\n",
      "dtype: float64\n",
      "\n",
      "UK      66726.145\n",
      "CA    4992354.025\n",
      "US    4913476.140\n",
      "dtype: float64\n",
      "\n"
     ]
    }
   ],
   "source": [
    "countries = pd.DataFrame({\n",
    "    'country': ['United Kingdom', 'Canada', 'United States'],\n",
    "    'population': [56.29, 38.05, 322.28],\n",
    "    'square': [133396, 9984670, 9826630]},\n",
    "    index = ['UK', 'CA', 'US']\n",
    ")\n",
    "print(countries)\n",
    "print()\n",
    "\n",
    "print(countries.mean(axis=0, numeric_only=True))\n",
    "print()\n",
    "\n",
    "print(countries.mean(axis=1, numeric_only=True))\n",
    "print()"
   ]
  },
  {
   "cell_type": "markdown",
   "metadata": {},
   "source": [
    "MEAN"
   ]
  },
  {
   "cell_type": "code",
   "execution_count": 6,
   "metadata": {},
   "outputs": [
    {
     "name": "stdout",
     "output_type": "stream",
     "text": [
      "        Monday  Tuesday  Wednesday\n",
      "Shelby      51       92         14\n",
      "Nora        71       60         20\n",
      "Henry       82       86         74\n",
      "Linh        74       87         99\n",
      "\n",
      "mean across columns: takes the average per day\n",
      "Monday       69.50\n",
      "Tuesday      81.25\n",
      "Wednesday    51.75\n",
      "dtype: float64\n",
      "Monday       69.50\n",
      "Tuesday      81.25\n",
      "Wednesday    51.75\n",
      "dtype: float64\n",
      "\n",
      "mean across rows: takes the average per person\n",
      "Shelby    52.333333\n",
      "Nora      50.333333\n",
      "Henry     80.666667\n",
      "Linh      86.666667\n",
      "dtype: float64\n",
      "Shelby    52.333333\n",
      "Nora      50.333333\n",
      "Henry     80.666667\n",
      "Linh      86.666667\n",
      "dtype: float64\n",
      "\n"
     ]
    }
   ],
   "source": [
    "np.random.seed(seed=42)\n",
    "week = pd.DataFrame(\n",
    "    data = np.random.randint(0, 100, (4,3)),\n",
    "    columns = ('Monday', 'Tuesday', 'Wednesday'),\n",
    "    index = ('Shelby', 'Nora', 'Henry', 'Linh')\n",
    "    )\n",
    "print(week)\n",
    "print()\n",
    "\n",
    "print('mean across columns: takes the average per day')\n",
    "print(week.mean(axis='index'))\n",
    "print(week.mean(axis=0))\n",
    "print()\n",
    "\n",
    "print('mean across rows: takes the average per person')\n",
    "print(week.mean(axis='columns'))\n",
    "print(week.mean(axis=1))\n",
    "print()"
   ]
  },
  {
   "cell_type": "markdown",
   "metadata": {},
   "source": [
    "MEDIAN"
   ]
  },
  {
   "cell_type": "code",
   "execution_count": 7,
   "metadata": {},
   "outputs": [
    {
     "name": "stdout",
     "output_type": "stream",
     "text": [
      "        Monday  Tuesday  Wednesday\n",
      "Shelby      51       92         14\n",
      "Nora        71       60         20\n",
      "Henry       82       86         74\n",
      "Linh        74       87         99\n",
      "\n",
      "median across columns: takes the average per day\n",
      "Monday       72.5\n",
      "Tuesday      86.5\n",
      "Wednesday    47.0\n",
      "dtype: float64\n",
      "\n",
      "median across rows: takes the average per person\n",
      "Shelby    51.0\n",
      "Nora      60.0\n",
      "Henry     82.0\n",
      "Linh      87.0\n",
      "dtype: float64\n",
      "\n"
     ]
    }
   ],
   "source": [
    "np.random.seed(seed=42)\n",
    "week = pd.DataFrame(\n",
    "    data = np.random.randint(0, 100, (4,3)),\n",
    "    columns = ('Monday', 'Tuesday', 'Wednesday'),\n",
    "    index = ('Shelby', 'Nora', 'Henry', 'Linh')\n",
    "    )\n",
    "print(week)\n",
    "print()\n",
    "\n",
    "print('median across columns: takes the average per day')\n",
    "print(week.median(axis=0))\n",
    "print()\n",
    "\n",
    "print('median across rows: takes the average per person')\n",
    "print(week.median(axis=1))\n",
    "print()"
   ]
  },
  {
   "cell_type": "markdown",
   "metadata": {},
   "source": [
    "MODE"
   ]
  },
  {
   "cell_type": "code",
   "execution_count": 8,
   "metadata": {},
   "outputs": [
    {
     "name": "stdout",
     "output_type": "stream",
     "text": [
      "     subjects  marks\n",
      "MON         6     85\n",
      "TUE         6     80\n",
      "WED         5     85\n",
      "\n",
      "mode across columns\n",
      "   subjects  marks\n",
      "0         6     85\n",
      "\n"
     ]
    }
   ],
   "source": [
    "week_days = pd.DataFrame({\n",
    "    'subjects': [6, 6, 5],\n",
    "    'marks': [85, 80, 85],\n",
    "    },\n",
    "    index = ['MON', 'TUE', 'WED']\n",
    ")\n",
    "print(week_days)\n",
    "print()\n",
    "\n",
    "print('mode across columns')\n",
    "print(week_days.mode(axis='index'))\n",
    "print()"
   ]
  },
  {
   "cell_type": "markdown",
   "metadata": {},
   "source": [
    "DATAFRAME: COUNTRIES + EXPORTING PIECES USING .LOC / .ILOC, COLUMN NAMES"
   ]
  },
  {
   "cell_type": "code",
   "execution_count": 9,
   "metadata": {},
   "outputs": [
    {
     "name": "stdout",
     "output_type": "stream",
     "text": [
      "           country  population    square\n",
      "UK  United Kingdom       56.29    133396\n",
      "CA          Canada       38.05   9984670\n",
      "US   United States      322.28   9826630\n",
      "RU          Russia      146.24  17125191\n",
      "\n",
      "UK     56.29\n",
      "CA     38.05\n",
      "US    322.28\n",
      "RU    146.24\n",
      "Name: population, dtype: float64\n",
      "\n",
      "<class 'pandas.core.series.Series'>\n",
      "\n",
      "UK      133396\n",
      "CA     9984670\n",
      "US     9826630\n",
      "RU    17125191\n",
      "Name: square, dtype: int64\n",
      "\n",
      "56.29\n",
      "\n",
      "population      146.24\n",
      "square        17125191\n",
      "Name: RU, dtype: object\n",
      "\n",
      "    population   square\n",
      "CA       38.05  9984670\n",
      "US      322.28  9826630\n",
      "\n"
     ]
    }
   ],
   "source": [
    "countries = pd.DataFrame({\n",
    "    'country': ['United Kingdom', 'Canada', 'United States', 'Russia'],\n",
    "    'population': [56.29, 38.05, 322.28, 146.24],\n",
    "    'square': [133396, 9984670, 9826630, 17125191]},\n",
    "    index = ['UK', 'CA', 'US', 'RU']\n",
    ")\n",
    "print(countries)\n",
    "print()\n",
    "\n",
    "print(countries.population)\n",
    "print()\n",
    "print(type(countries.population))\n",
    "print()\n",
    "\n",
    "print(countries['square'])\n",
    "print()\n",
    "\n",
    "print(countries.loc['UK', 'population'])\n",
    "print()\n",
    "\n",
    "print(countries.loc['RU', ['population', 'square']])\n",
    "print()\n",
    "\n",
    "print(countries.loc[['CA', 'US'], ['population', 'square']])\n",
    "print()"
   ]
  },
  {
   "cell_type": "markdown",
   "metadata": {},
   "source": [
    "EXERCISE 3.5"
   ]
  },
  {
   "cell_type": "code",
   "execution_count": 10,
   "metadata": {},
   "outputs": [
    {
     "name": "stdout",
     "output_type": "stream",
     "text": [
      "      income  expenses\n",
      "2018     478       156\n",
      "2019     512       130\n",
      "2020     196       270\n",
      "\n",
      "322\n",
      "382\n",
      "-74\n",
      "None\n",
      "\n"
     ]
    }
   ],
   "source": [
    "income = [478, 512, 196]\n",
    "expenses = [156, 130, 270]\n",
    "years = [2018, 2019, 2020]\n",
    "\n",
    "def create_companyDF(income, expenses, years):\n",
    "    #set the DataFrame using dict\n",
    "    df = pd.DataFrame({\n",
    "        'income': income,\n",
    "        'expenses': expenses\n",
    "    },\n",
    "    index = years\n",
    "    )\n",
    "    return df\n",
    "\n",
    "print(create_companyDF(income, expenses, years))\n",
    "print()\n",
    "\n",
    "#call the first function\n",
    "#so that a table exists to be called in the second function\n",
    "df = create_companyDF(income, expenses, years)\n",
    "\n",
    "def get_profit(df, year):\n",
    "    if year in years:\n",
    "        dif_per_year = df.loc[year, 'income'] - df.loc[year, 'expenses']\n",
    "        return dif_per_year\n",
    "\n",
    "print(get_profit(df, 2018))\n",
    "print(get_profit(df, 2019))\n",
    "print(get_profit(df, 2020))\n",
    "print(get_profit(df, 2023))\n",
    "print()"
   ]
  }
 ],
 "metadata": {
  "kernelspec": {
   "display_name": "Python 3",
   "language": "python",
   "name": "python3"
  },
  "language_info": {
   "codemirror_mode": {
    "name": "ipython",
    "version": 3
   },
   "file_extension": ".py",
   "mimetype": "text/x-python",
   "name": "python",
   "nbconvert_exporter": "python",
   "pygments_lexer": "ipython3",
   "version": "3.10.5"
  }
 },
 "nbformat": 4,
 "nbformat_minor": 2
}
