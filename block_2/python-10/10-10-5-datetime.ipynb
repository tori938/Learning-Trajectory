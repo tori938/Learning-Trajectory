{
 "cells": [
  {
   "cell_type": "code",
   "execution_count": 1,
   "metadata": {},
   "outputs": [],
   "source": [
    "import pandas as pd, numpy as np"
   ]
  },
  {
   "cell_type": "markdown",
   "metadata": {},
   "source": [
    "converting from YYYY-MM-DD -> DD-MM-YYYY"
   ]
  },
  {
   "cell_type": "code",
   "execution_count": 2,
   "metadata": {},
   "outputs": [
    {
     "name": "stdout",
     "output_type": "stream",
     "text": [
      "        Date\n",
      "0 2022-12-16\n",
      "1 2022-12-15\n",
      "2 2022-12-14\n",
      "3 2022-12-13\n",
      "\n",
      "0    16-12-2022\n",
      "1    15-12-2022\n",
      "2    14-12-2022\n",
      "3    13-12-2022\n",
      "Name: Date, dtype: object\n",
      "\n"
     ]
    },
    {
     "name": "stderr",
     "output_type": "stream",
     "text": [
      "/var/folders/0j/pqz07rqd22q5j3qyrrpztqnr0000gn/T/ipykernel_4841/3501226288.py:9: UserWarning: Parsing dates in %d.%m.%Y format when dayfirst=False (the default) was specified. Pass `dayfirst=True` or specify a format to silence this warning.\n",
      "  df['Date'] = pd.to_datetime(df.Date)\n"
     ]
    }
   ],
   "source": [
    "df = pd.DataFrame({\n",
    "    'Date': \n",
    "        {0: '16.12.2022',\n",
    "         1: '15.12.2022',\n",
    "         2: '14.12.2022',\n",
    "         3: '13.12.2022'}\n",
    "})\n",
    "#converting string field to datetime YYYY-MM-DD format\n",
    "df['Date'] = pd.to_datetime(df.Date)\n",
    "print(df)\n",
    "print()\n",
    "#adjusting the structure in DD-MM-YYYY format -> the strftime will convert the datetime to unicode\n",
    "df = df['Date'].dt.strftime('%d-%m-%Y')\n",
    "print(df)\n",
    "print()"
   ]
  },
  {
   "cell_type": "markdown",
   "metadata": {},
   "source": [
    "converting from DD-MM-YYYY > to_datetime()"
   ]
  },
  {
   "cell_type": "code",
   "execution_count": 3,
   "metadata": {},
   "outputs": [
    {
     "name": "stdout",
     "output_type": "stream",
     "text": [
      "          Day   Time     Open     High      Low    Close  Volume\n",
      "0  23.11.2009  17:15  1104.00  1104.00  1104.00  1104.00       2\n",
      "1  23.11.2009  17:20  1103.00  1103.00  1103.00  1103.00      11\n",
      "2  23.11.2009  17:25  1103.75  1103.75  1103.75  1103.75       1\n",
      "3  23.11.2009  17:30  1103.25  1103.25  1102.50  1103.25       3\n",
      "4  23.11.2009  17:35  1103.25  1103.50  1102.50  1103.00      13\n",
      "\n",
      "         Day   Time     Open     High      Low    Close  Volume\n",
      "0 2009-11-23  17:15  1104.00  1104.00  1104.00  1104.00       2\n",
      "1 2009-11-23  17:20  1103.00  1103.00  1103.00  1103.00      11\n",
      "2 2009-11-23  17:25  1103.75  1103.75  1103.75  1103.75       1\n",
      "3 2009-11-23  17:30  1103.25  1103.25  1102.50  1103.25       3\n",
      "4 2009-11-23  17:35  1103.25  1103.50  1102.50  1103.00      13\n",
      "\n",
      "Day       datetime64[ns]\n",
      "Time              object\n",
      "Open             float64\n",
      "High             float64\n",
      "Low              float64\n",
      "Close            float64\n",
      "Volume             int64\n",
      "dtype: object\n",
      "\n"
     ]
    },
    {
     "name": "stderr",
     "output_type": "stream",
     "text": [
      "/var/folders/0j/pqz07rqd22q5j3qyrrpztqnr0000gn/T/ipykernel_4841/2268495072.py:15: UserWarning: Parsing dates in %d.%m.%Y format when dayfirst=False (the default) was specified. Pass `dayfirst=True` or specify a format to silence this warning.\n",
      "  date_data['Day'] = pd.to_datetime(date_data['Day'])\n"
     ]
    }
   ],
   "source": [
    "date_data = pd.DataFrame(\n",
    "    {'Day': ['23.11.2009', '23.11.2009', '23.11.2009', '23.11.2009', '23.11.2009'],\n",
    "     'Time': ['17:15', '17:20', '17:25', '17:30', '17:35'],\n",
    "     'Open': [1104.00, 1103.00, 1103.75, 1103.25, 1103.25],\n",
    "     'High': [1104.00, 1103.00, 1103.75, 1103.25, 1103.50],\n",
    "     'Low': [1104.00, 1103.00, 1103.75, 1102.50, 1102.50],\n",
    "     'Close': [1104.00, 1103.00, 1103.75, 1103.25, 1103.00],\n",
    "     'Volume': [2, 11, 1, 3, 13]\n",
    "    },\n",
    "    index = [0, 1, 2, 3, 4]\n",
    ")\n",
    "print(date_data)\n",
    "print()\n",
    "\n",
    "date_data['Day'] = pd.to_datetime(date_data['Day'])\n",
    "print(date_data)\n",
    "print()\n",
    "\n",
    "print(date_data.dtypes)\n",
    "print()"
   ]
  },
  {
   "cell_type": "code",
   "execution_count": 4,
   "metadata": {},
   "outputs": [
    {
     "name": "stdout",
     "output_type": "stream",
     "text": [
      "            DateWtime\n",
      "0 2022-07-01 00:00:00\n",
      "1 2022-07-01 01:00:00\n",
      "2 2022-07-01 02:00:00\n",
      "3 2022-07-01 03:00:00\n",
      "4 2022-07-01 04:00:00\n",
      "\n",
      "            DateWtime\n",
      "0 2022-07-01 00:00:00\n",
      "1 2022-07-01 00:01:00\n",
      "2 2022-07-01 00:02:00\n",
      "3 2022-07-01 00:03:00\n",
      "4 2022-07-01 00:04:00\n",
      "\n",
      "            DateWtime\n",
      "0 2022-07-01 00:00:00\n",
      "1 2022-07-01 00:00:01\n",
      "2 2022-07-01 00:00:02\n",
      "3 2022-07-01 00:00:03\n",
      "4 2022-07-01 00:00:04\n",
      "\n"
     ]
    }
   ],
   "source": [
    "dt_range_hrs = pd.date_range('2022-07-01', periods=5, freq='H') #hours\n",
    "hours = pd.DataFrame({'DateWtime': dt_range_hrs})\n",
    "print(hours)\n",
    "print()\n",
    "\n",
    "dt_range_min = pd.date_range('2022-07-01', periods=5, freq='T') #minutes\n",
    "minutes = pd.DataFrame({'DateWtime': dt_range_min})\n",
    "print(minutes)\n",
    "print()\n",
    "\n",
    "dt_range_sec = pd.date_range('2022-07-01', periods=5, freq='S') #seconds\n",
    "seconds = pd.DataFrame({'DateWtime': dt_range_sec})\n",
    "print(seconds)\n",
    "print()"
   ]
  }
 ],
 "metadata": {
  "kernelspec": {
   "display_name": "Python 3",
   "language": "python",
   "name": "python3"
  },
  "language_info": {
   "codemirror_mode": {
    "name": "ipython",
    "version": 3
   },
   "file_extension": ".py",
   "mimetype": "text/x-python",
   "name": "python",
   "nbconvert_exporter": "python",
   "pygments_lexer": "ipython3",
   "version": "3.10.5"
  }
 },
 "nbformat": 4,
 "nbformat_minor": 2
}
