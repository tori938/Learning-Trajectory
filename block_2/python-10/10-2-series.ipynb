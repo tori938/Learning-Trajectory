{
 "cells": [
  {
   "cell_type": "markdown",
   "metadata": {},
   "source": [
    "IMPORT THE LIBRARY"
   ]
  },
  {
   "cell_type": "code",
   "execution_count": 1,
   "metadata": {},
   "outputs": [
    {
     "name": "stdout",
     "output_type": "stream",
     "text": [
      "2.1.3\n",
      "\n"
     ]
    }
   ],
   "source": [
    "import pandas as pd\n",
    "print(pd.__version__)\n",
    "print()"
   ]
  },
  {
   "cell_type": "markdown",
   "metadata": {},
   "source": [
    "SERIES + USING .LOC METHOD"
   ]
  },
  {
   "cell_type": "code",
   "execution_count": 2,
   "metadata": {},
   "outputs": [
    {
     "name": "stdout",
     "output_type": "stream",
     "text": [
      "UK    United Kingdom\n",
      "CA            Canada\n",
      "US     United States\n",
      "RU            Russia\n",
      "Name: countries, dtype: object\n",
      "\n",
      "United Kingdom\n",
      "\n",
      "UK    United Kingdom\n",
      "US     United States\n",
      "Name: countries, dtype: object\n",
      "\n"
     ]
    }
   ],
   "source": [
    "countries = pd.Series(\n",
    "    data = ['United Kingdom', 'Canada', 'United States', 'Russia'],\n",
    "    index = ['UK', 'CA', 'US', 'RU'],\n",
    "    name = 'countries'\n",
    "    )\n",
    "print(countries)\n",
    "print()\n",
    "\n",
    "print(countries.loc['UK'])\n",
    "print()\n",
    "\n",
    "print(countries.loc[['UK', 'US']])\n",
    "print()"
   ]
  },
  {
   "cell_type": "markdown",
   "metadata": {},
   "source": [
    "SERIES + USING .ILOC METHOD"
   ]
  },
  {
   "cell_type": "code",
   "execution_count": 3,
   "metadata": {},
   "outputs": [
    {
     "name": "stdout",
     "output_type": "stream",
     "text": [
      "LR       Leah Rilke\n",
      "FJ    Fatin Jadmani\n",
      "RR      Rachel Reid\n",
      "Name: participants, dtype: object\n",
      "\n",
      "Leah Rilke\n",
      "\n",
      "LR       Leah Rilke\n",
      "FJ    Fatin Jadmani\n",
      "Name: participants, dtype: object\n",
      "\n"
     ]
    }
   ],
   "source": [
    "participants = pd.Series(\n",
    "    {'LR': 'Leah Rilke',\n",
    "     'FJ': 'Fatin Jadmani',\n",
    "     'RR': 'Rachel Reid'\n",
    "    },\n",
    "    name = 'participants'\n",
    "    )\n",
    "print(participants)\n",
    "print()\n",
    "\n",
    "print(participants.iloc[0])\n",
    "print()\n",
    "\n",
    "print(participants.iloc[0:2])\n",
    "print()\n"
   ]
  },
  {
   "cell_type": "markdown",
   "metadata": {},
   "source": [
    "SERIES + USING .LOC AND .ILOC METHODS"
   ]
  },
  {
   "cell_type": "code",
   "execution_count": 4,
   "metadata": {},
   "outputs": [
    {
     "name": "stdout",
     "output_type": "stream",
     "text": [
      "b    6\n",
      "c    7\n",
      "e    9\n",
      "dtype: int64\n",
      "\n",
      "b    6\n",
      "c    7\n",
      "e    9\n",
      "dtype: int64\n",
      "\n"
     ]
    }
   ],
   "source": [
    "my_series = pd.Series(\n",
    "    data = [5, 6, 7, 8, 9, 10],\n",
    "    index = ['a', 'b', 'c', 'd', 'e', 'f']\n",
    "    )\n",
    "\n",
    "print(my_series.loc[['b', 'c', 'e']])\n",
    "print()\n",
    "\n",
    "print(my_series.iloc[[1, 2, 4]])\n",
    "print()"
   ]
  },
  {
   "cell_type": "markdown",
   "metadata": {},
   "source": [
    "EXERCISE 2.4"
   ]
  },
  {
   "cell_type": "code",
   "execution_count": 7,
   "metadata": {},
   "outputs": [
    {
     "name": "stdout",
     "output_type": "stream",
     "text": [
      "chlorhexidine    15\n",
      "cyntomycin       18\n",
      "afobazol          7\n",
      "Name: medications, dtype: int64\n",
      "\n",
      "37.5\n",
      "\n"
     ]
    }
   ],
   "source": [
    "names = ['chlorhexidine', 'cyntomycin', 'afobazol']\n",
    "counts = [15, 18, 7]\n",
    "\n",
    "def create_medications(names, counts):\n",
    "    medications = pd.Series(\n",
    "        data = counts,\n",
    "        index = names,\n",
    "        name = 'medications'\n",
    "        )\n",
    "    return medications\n",
    "print(create_medications(names, counts))\n",
    "print()\n",
    "\n",
    "medications = create_medications(names, counts)\n",
    "\n",
    "def get_percent(medications, name):\n",
    "    percent = (medications.loc[name] / medications.sum()) * 100\n",
    "    return percent\n",
    "print(get_percent(medications, \"chlorhexidine\"))\n",
    "print()\n"
   ]
  }
 ],
 "metadata": {
  "kernelspec": {
   "display_name": "Python 3",
   "language": "python",
   "name": "python3"
  },
  "language_info": {
   "codemirror_mode": {
    "name": "ipython",
    "version": 3
   },
   "file_extension": ".py",
   "mimetype": "text/x-python",
   "name": "python",
   "nbconvert_exporter": "python",
   "pygments_lexer": "ipython3",
   "version": "3.10.5"
  }
 },
 "nbformat": 4,
 "nbformat_minor": 2
}
