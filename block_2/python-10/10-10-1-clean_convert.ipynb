{
 "cells": [
  {
   "cell_type": "markdown",
   "metadata": {},
   "source": [
    "IMPORT LIBRARIES"
   ]
  },
  {
   "cell_type": "code",
   "execution_count": 1,
   "metadata": {},
   "outputs": [],
   "source": [
    "import pandas as pd, numpy as np"
   ]
  },
  {
   "cell_type": "markdown",
   "metadata": {},
   "source": [
    "create the dataset yourself"
   ]
  },
  {
   "cell_type": "code",
   "execution_count": 2,
   "metadata": {},
   "outputs": [
    {
     "data": {
      "text/html": [
       "<div>\n",
       "<style scoped>\n",
       "    .dataframe tbody tr th:only-of-type {\n",
       "        vertical-align: middle;\n",
       "    }\n",
       "\n",
       "    .dataframe tbody tr th {\n",
       "        vertical-align: top;\n",
       "    }\n",
       "\n",
       "    .dataframe thead th {\n",
       "        text-align: right;\n",
       "    }\n",
       "</style>\n",
       "<table border=\"1\" class=\"dataframe\">\n",
       "  <thead>\n",
       "    <tr style=\"text-align: right;\">\n",
       "      <th></th>\n",
       "      <th>Customer Number</th>\n",
       "      <th>Customer Name</th>\n",
       "      <th>2016</th>\n",
       "      <th>2017</th>\n",
       "      <th>Percent Growth</th>\n",
       "      <th>Jan Units</th>\n",
       "      <th>Month</th>\n",
       "      <th>Day</th>\n",
       "      <th>Year</th>\n",
       "      <th>Active</th>\n",
       "    </tr>\n",
       "  </thead>\n",
       "  <tbody>\n",
       "    <tr>\n",
       "      <th>0</th>\n",
       "      <td>10002.0</td>\n",
       "      <td>Quest Industries</td>\n",
       "      <td>$125,000.00</td>\n",
       "      <td>$162500.00</td>\n",
       "      <td>30.00%</td>\n",
       "      <td>500</td>\n",
       "      <td>1</td>\n",
       "      <td>10</td>\n",
       "      <td>2015</td>\n",
       "      <td>Y</td>\n",
       "    </tr>\n",
       "    <tr>\n",
       "      <th>1</th>\n",
       "      <td>552278.0</td>\n",
       "      <td>Smith Plumbing</td>\n",
       "      <td>$920,000.00</td>\n",
       "      <td>$101,2000.00</td>\n",
       "      <td>10.00%</td>\n",
       "      <td>700</td>\n",
       "      <td>6</td>\n",
       "      <td>15</td>\n",
       "      <td>2014</td>\n",
       "      <td>Y</td>\n",
       "    </tr>\n",
       "    <tr>\n",
       "      <th>2</th>\n",
       "      <td>23477.0</td>\n",
       "      <td>ACME Industrial</td>\n",
       "      <td>$50,000.00</td>\n",
       "      <td>$62500.00</td>\n",
       "      <td>25.00%</td>\n",
       "      <td>125</td>\n",
       "      <td>3</td>\n",
       "      <td>29</td>\n",
       "      <td>2016</td>\n",
       "      <td>Y</td>\n",
       "    </tr>\n",
       "    <tr>\n",
       "      <th>3</th>\n",
       "      <td>24900.0</td>\n",
       "      <td>Brekke LTD</td>\n",
       "      <td>$350,000.00</td>\n",
       "      <td>$490000.00</td>\n",
       "      <td>4.00%</td>\n",
       "      <td>75</td>\n",
       "      <td>10</td>\n",
       "      <td>27</td>\n",
       "      <td>2015</td>\n",
       "      <td>Y</td>\n",
       "    </tr>\n",
       "    <tr>\n",
       "      <th>4</th>\n",
       "      <td>651029.0</td>\n",
       "      <td>Harbor Co</td>\n",
       "      <td>$15,000.00</td>\n",
       "      <td>$12750.00</td>\n",
       "      <td>-15.00%</td>\n",
       "      <td>Closed</td>\n",
       "      <td>2</td>\n",
       "      <td>2</td>\n",
       "      <td>2014</td>\n",
       "      <td>N</td>\n",
       "    </tr>\n",
       "  </tbody>\n",
       "</table>\n",
       "</div>"
      ],
      "text/plain": [
       "   Customer Number     Customer Name         2016          2017  \\\n",
       "0          10002.0  Quest Industries  $125,000.00    $162500.00   \n",
       "1         552278.0    Smith Plumbing  $920,000.00  $101,2000.00   \n",
       "2          23477.0   ACME Industrial   $50,000.00     $62500.00   \n",
       "3          24900.0        Brekke LTD  $350,000.00    $490000.00   \n",
       "4         651029.0         Harbor Co   $15,000.00     $12750.00   \n",
       "\n",
       "  Percent Growth Jan Units  Month  Day  Year Active  \n",
       "0         30.00%       500      1   10  2015      Y  \n",
       "1         10.00%       700      6   15  2014      Y  \n",
       "2         25.00%       125      3   29  2016      Y  \n",
       "3          4.00%        75     10   27  2015      Y  \n",
       "4        -15.00%    Closed      2    2  2014      N  "
      ]
     },
     "execution_count": 2,
     "metadata": {},
     "output_type": "execute_result"
    }
   ],
   "source": [
    "sales_data = pd.DataFrame(\n",
    "    {'Customer Number': [10002.0, 552278, 23477, 24900, 651029],\n",
    "     'Customer Name': ['Quest Industries', 'Smith Plumbing', 'ACME Industrial', 'Brekke LTD', 'Harbor Co'],\n",
    "     '2016': ['$125,000.00', '$920,000.00', '$50,000.00', '$350,000.00', '$15,000.00'],\n",
    "     '2017': ['$162500.00', '$101,2000.00', '$62500.00', '$490000.00', '$12750.00'],\n",
    "     'Percent Growth': ['30.00%', '10.00%', '25.00%', '4.00%', '-15.00%'],\n",
    "     'Jan Units': [500, 700, 125, 75, 'Closed'],\n",
    "     'Month': [1, 6, 3, 10, 2],\n",
    "     'Day': [10, 15, 29, 27, 2],\n",
    "     'Year': [2015, 2014, 2016, 2015, 2014],\n",
    "     'Active': ['Y', 'Y', 'Y', 'Y', 'N']       \n",
    "    }\n",
    ")\n",
    "sales_data"
   ]
  },
  {
   "cell_type": "markdown",
   "metadata": {},
   "source": [
    "would like to add two columns together -> but pandas is doing concatenation instead \\\n",
    "(due to dtype being object)"
   ]
  },
  {
   "cell_type": "code",
   "execution_count": 3,
   "metadata": {},
   "outputs": [
    {
     "data": {
      "text/plain": [
       "0      $125,000.00$162500.00\n",
       "1    $920,000.00$101,2000.00\n",
       "2        $50,000.00$62500.00\n",
       "3      $350,000.00$490000.00\n",
       "4        $15,000.00$12750.00\n",
       "dtype: object"
      ]
     },
     "execution_count": 3,
     "metadata": {},
     "output_type": "execute_result"
    }
   ],
   "source": [
    "add = sales_data['2016'] + sales_data['2017']\n",
    "add"
   ]
  },
  {
   "cell_type": "markdown",
   "metadata": {},
   "source": [
    "find the general information on the data set"
   ]
  },
  {
   "cell_type": "code",
   "execution_count": 4,
   "metadata": {},
   "outputs": [
    {
     "name": "stdout",
     "output_type": "stream",
     "text": [
      "<class 'pandas.core.frame.DataFrame'>\n",
      "RangeIndex: 5 entries, 0 to 4\n",
      "Data columns (total 10 columns):\n",
      " #   Column           Non-Null Count  Dtype  \n",
      "---  ------           --------------  -----  \n",
      " 0   Customer Number  5 non-null      float64\n",
      " 1   Customer Name    5 non-null      object \n",
      " 2   2016             5 non-null      object \n",
      " 3   2017             5 non-null      object \n",
      " 4   Percent Growth   5 non-null      object \n",
      " 5   Jan Units        5 non-null      object \n",
      " 6   Month            5 non-null      int64  \n",
      " 7   Day              5 non-null      int64  \n",
      " 8   Year             5 non-null      int64  \n",
      " 9   Active           5 non-null      object \n",
      "dtypes: float64(1), int64(3), object(6)\n",
      "memory usage: 528.0+ bytes\n"
     ]
    }
   ],
   "source": [
    "sales_data.info()"
   ]
  },
  {
   "cell_type": "markdown",
   "metadata": {},
   "source": [
    "to actually change the dtype of a column in the original dataframe \\\n",
    "make sure to assign it back since the astype() function returns a copy only"
   ]
  },
  {
   "cell_type": "code",
   "execution_count": 5,
   "metadata": {},
   "outputs": [
    {
     "name": "stdout",
     "output_type": "stream",
     "text": [
      "<class 'pandas.core.frame.DataFrame'>\n",
      "RangeIndex: 5 entries, 0 to 4\n",
      "Data columns (total 10 columns):\n",
      " #   Column           Non-Null Count  Dtype \n",
      "---  ------           --------------  ----- \n",
      " 0   Customer Number  5 non-null      int64 \n",
      " 1   Customer Name    5 non-null      object\n",
      " 2   2016             5 non-null      object\n",
      " 3   2017             5 non-null      object\n",
      " 4   Percent Growth   5 non-null      object\n",
      " 5   Jan Units        5 non-null      object\n",
      " 6   Month            5 non-null      int64 \n",
      " 7   Day              5 non-null      int64 \n",
      " 8   Year             5 non-null      int64 \n",
      " 9   Active           5 non-null      object\n",
      "dtypes: int64(4), object(6)\n",
      "memory usage: 528.0+ bytes\n"
     ]
    }
   ],
   "source": [
    "sales_data['Customer Number'] = sales_data['Customer Number'].astype('int64')\n",
    "sales_data.info()"
   ]
  },
  {
   "cell_type": "markdown",
   "metadata": {},
   "source": [
    "astype() a perfect tool only if the data is clean"
   ]
  },
  {
   "cell_type": "code",
   "execution_count": 6,
   "metadata": {},
   "outputs": [
    {
     "name": "stdout",
     "output_type": "stream",
     "text": [
      "unable to convert 2016 or 2017 to float64 due to currency, and Active to bool value\n",
      "\n",
      "astype only works if:\n",
      "the data is clean and can be simply interpreted as a number, or\n",
      "want to convert a numeric value to a string object\n",
      "if the data has non-numeric characters or is not homogeneous, then astype() is not a good choice for type conversion\n"
     ]
    }
   ],
   "source": [
    "print('unable to convert 2016 or 2017 to float64 due to currency, and Active to bool value')\n",
    "print()\n",
    "\n",
    "print('astype only works if:', 'the data is clean and can be simply interpreted as a number, or', 'want to convert a numeric value to a string object', \\\n",
    "    sep='\\n')\n",
    "\n",
    "print('if the data has non-numeric characters or is not homogeneous, then astype() is not a good choice for type conversion')"
   ]
  },
  {
   "cell_type": "markdown",
   "metadata": {},
   "source": [
    "custom conversion: currency -> using a normal function"
   ]
  },
  {
   "cell_type": "code",
   "execution_count": 7,
   "metadata": {},
   "outputs": [
    {
     "data": {
      "text/plain": [
       "0    125000.0\n",
       "1    920000.0\n",
       "2     50000.0\n",
       "3    350000.0\n",
       "4     15000.0\n",
       "Name: 2016, dtype: float64"
      ]
     },
     "execution_count": 7,
     "metadata": {},
     "output_type": "execute_result"
    }
   ],
   "source": [
    "def convert_currency(val):\n",
    "    \"\"\"\n",
    "    Convert the string number value (currency value) to a float\n",
    "     - remove $\n",
    "     - remove commas\n",
    "     - convert to float\n",
    "    \"\"\"\n",
    "    new_val = val.replace(',', '').replace('$', '')\n",
    "    return float(new_val)\n",
    "\n",
    "sales_data['2016'].apply(convert_currency)"
   ]
  },
  {
   "cell_type": "markdown",
   "metadata": {},
   "source": [
    "custom conversion: currency -> using the lambda function"
   ]
  },
  {
   "cell_type": "code",
   "execution_count": 8,
   "metadata": {},
   "outputs": [
    {
     "data": {
      "text/plain": [
       "0     162500.0\n",
       "1    1012000.0\n",
       "2      62500.0\n",
       "3     490000.0\n",
       "4      12750.0\n",
       "Name: 2017, dtype: float64"
      ]
     },
     "execution_count": 8,
     "metadata": {},
     "output_type": "execute_result"
    }
   ],
   "source": [
    "sales_data['2017'].apply(lambda x: x.replace('$', '').replace(',', '')).astype('float')"
   ]
  },
  {
   "cell_type": "markdown",
   "metadata": {},
   "source": [
    "custom conversion: % -> using the lambda function \\\n",
    "add *100 to ensure the value becomes a percentage point"
   ]
  },
  {
   "cell_type": "code",
   "execution_count": 10,
   "metadata": {},
   "outputs": [
    {
     "data": {
      "text/plain": [
       "0    0.30\n",
       "1    0.10\n",
       "2    0.25\n",
       "3    0.04\n",
       "4   -0.15\n",
       "Name: Percent Growth, dtype: float64"
      ]
     },
     "execution_count": 10,
     "metadata": {},
     "output_type": "execute_result"
    }
   ],
   "source": [
    "sales_data['Percent Growth'].apply(lambda x: x.replace('%', '')).astype('float') / 100"
   ]
  },
  {
   "cell_type": "markdown",
   "metadata": {},
   "source": [
    "custom conversion: using np.where() to convert to bool value"
   ]
  },
  {
   "cell_type": "code",
   "execution_count": 11,
   "metadata": {},
   "outputs": [
    {
     "data": {
      "text/plain": [
       "array([ True,  True,  True,  True, False])"
      ]
     },
     "execution_count": 11,
     "metadata": {},
     "output_type": "execute_result"
    }
   ],
   "source": [
    "np.where(sales_data[\"Active\"] == \"Y\", True, False)"
   ]
  },
  {
   "cell_type": "markdown",
   "metadata": {},
   "source": [
    "custom conversion: numeric and strings using to_numeric with fillna() function for NaN"
   ]
  },
  {
   "cell_type": "code",
   "execution_count": 12,
   "metadata": {},
   "outputs": [
    {
     "data": {
      "text/plain": [
       "0    500.0\n",
       "1    700.0\n",
       "2    125.0\n",
       "3     75.0\n",
       "4      0.0\n",
       "Name: Jan Units, dtype: float64"
      ]
     },
     "execution_count": 12,
     "metadata": {},
     "output_type": "execute_result"
    }
   ],
   "source": [
    "pd.to_numeric(sales_data['Jan Units'], errors='coerce').fillna(0)"
   ]
  },
  {
   "cell_type": "markdown",
   "metadata": {},
   "source": [
    "custom conversion: mm/dd/yyyy using to_datetime"
   ]
  },
  {
   "cell_type": "code",
   "execution_count": 13,
   "metadata": {},
   "outputs": [
    {
     "data": {
      "text/plain": [
       "0   2015-01-10\n",
       "1   2014-06-15\n",
       "2   2016-03-29\n",
       "3   2015-10-27\n",
       "4   2014-02-02\n",
       "dtype: datetime64[ns]"
      ]
     },
     "execution_count": 13,
     "metadata": {},
     "output_type": "execute_result"
    }
   ],
   "source": [
    "pd.to_datetime(sales_data[['Month', 'Day', 'Year']])"
   ]
  },
  {
   "cell_type": "markdown",
   "metadata": {},
   "source": [
    "need to assign / apply all the changes back to the original"
   ]
  },
  {
   "cell_type": "code",
   "execution_count": 14,
   "metadata": {},
   "outputs": [],
   "source": [
    "sales_data['2016'] = sales_data['2016'].apply(convert_currency)\n",
    "\n",
    "sales_data['2017'] = sales_data['2017'].apply(lambda x: x.replace('$', '').replace(',', '')).astype('float')\n",
    "\n",
    "sales_data['Percent Growth'] = sales_data['Percent Growth'].apply(lambda x: x.replace('%', '')).astype('float') / 100\n",
    "\n",
    "sales_data[\"Active\"] = np.where(sales_data[\"Active\"] == \"Y\", True, False)\n",
    "\n",
    "sales_data['Jan Units'] = pd.to_numeric(sales_data['Jan Units'], errors='coerce').fillna(0)\n",
    "\n",
    "sales_data['Sale Date'] = pd.to_datetime(sales_data[['Month', 'Day', 'Year']])\n"
   ]
  },
  {
   "cell_type": "code",
   "execution_count": 15,
   "metadata": {},
   "outputs": [
    {
     "data": {
      "text/html": [
       "<div>\n",
       "<style scoped>\n",
       "    .dataframe tbody tr th:only-of-type {\n",
       "        vertical-align: middle;\n",
       "    }\n",
       "\n",
       "    .dataframe tbody tr th {\n",
       "        vertical-align: top;\n",
       "    }\n",
       "\n",
       "    .dataframe thead th {\n",
       "        text-align: right;\n",
       "    }\n",
       "</style>\n",
       "<table border=\"1\" class=\"dataframe\">\n",
       "  <thead>\n",
       "    <tr style=\"text-align: right;\">\n",
       "      <th></th>\n",
       "      <th>Customer Number</th>\n",
       "      <th>Customer Name</th>\n",
       "      <th>2016</th>\n",
       "      <th>2017</th>\n",
       "      <th>Percent Growth</th>\n",
       "      <th>Jan Units</th>\n",
       "      <th>Month</th>\n",
       "      <th>Day</th>\n",
       "      <th>Year</th>\n",
       "      <th>Active</th>\n",
       "      <th>Sale Date</th>\n",
       "    </tr>\n",
       "  </thead>\n",
       "  <tbody>\n",
       "    <tr>\n",
       "      <th>0</th>\n",
       "      <td>10002</td>\n",
       "      <td>Quest Industries</td>\n",
       "      <td>125000.0</td>\n",
       "      <td>162500.0</td>\n",
       "      <td>0.30</td>\n",
       "      <td>500.0</td>\n",
       "      <td>1</td>\n",
       "      <td>10</td>\n",
       "      <td>2015</td>\n",
       "      <td>True</td>\n",
       "      <td>2015-01-10</td>\n",
       "    </tr>\n",
       "    <tr>\n",
       "      <th>1</th>\n",
       "      <td>552278</td>\n",
       "      <td>Smith Plumbing</td>\n",
       "      <td>920000.0</td>\n",
       "      <td>1012000.0</td>\n",
       "      <td>0.10</td>\n",
       "      <td>700.0</td>\n",
       "      <td>6</td>\n",
       "      <td>15</td>\n",
       "      <td>2014</td>\n",
       "      <td>True</td>\n",
       "      <td>2014-06-15</td>\n",
       "    </tr>\n",
       "    <tr>\n",
       "      <th>2</th>\n",
       "      <td>23477</td>\n",
       "      <td>ACME Industrial</td>\n",
       "      <td>50000.0</td>\n",
       "      <td>62500.0</td>\n",
       "      <td>0.25</td>\n",
       "      <td>125.0</td>\n",
       "      <td>3</td>\n",
       "      <td>29</td>\n",
       "      <td>2016</td>\n",
       "      <td>True</td>\n",
       "      <td>2016-03-29</td>\n",
       "    </tr>\n",
       "    <tr>\n",
       "      <th>3</th>\n",
       "      <td>24900</td>\n",
       "      <td>Brekke LTD</td>\n",
       "      <td>350000.0</td>\n",
       "      <td>490000.0</td>\n",
       "      <td>0.04</td>\n",
       "      <td>75.0</td>\n",
       "      <td>10</td>\n",
       "      <td>27</td>\n",
       "      <td>2015</td>\n",
       "      <td>True</td>\n",
       "      <td>2015-10-27</td>\n",
       "    </tr>\n",
       "    <tr>\n",
       "      <th>4</th>\n",
       "      <td>651029</td>\n",
       "      <td>Harbor Co</td>\n",
       "      <td>15000.0</td>\n",
       "      <td>12750.0</td>\n",
       "      <td>-0.15</td>\n",
       "      <td>0.0</td>\n",
       "      <td>2</td>\n",
       "      <td>2</td>\n",
       "      <td>2014</td>\n",
       "      <td>False</td>\n",
       "      <td>2014-02-02</td>\n",
       "    </tr>\n",
       "  </tbody>\n",
       "</table>\n",
       "</div>"
      ],
      "text/plain": [
       "   Customer Number     Customer Name      2016       2017  Percent Growth  \\\n",
       "0            10002  Quest Industries  125000.0   162500.0            0.30   \n",
       "1           552278    Smith Plumbing  920000.0  1012000.0            0.10   \n",
       "2            23477   ACME Industrial   50000.0    62500.0            0.25   \n",
       "3            24900        Brekke LTD  350000.0   490000.0            0.04   \n",
       "4           651029         Harbor Co   15000.0    12750.0           -0.15   \n",
       "\n",
       "   Jan Units  Month  Day  Year  Active  Sale Date  \n",
       "0      500.0      1   10  2015    True 2015-01-10  \n",
       "1      700.0      6   15  2014    True 2014-06-15  \n",
       "2      125.0      3   29  2016    True 2016-03-29  \n",
       "3       75.0     10   27  2015    True 2015-10-27  \n",
       "4        0.0      2    2  2014   False 2014-02-02  "
      ]
     },
     "execution_count": 15,
     "metadata": {},
     "output_type": "execute_result"
    }
   ],
   "source": [
    "sales_data"
   ]
  },
  {
   "cell_type": "code",
   "execution_count": 16,
   "metadata": {},
   "outputs": [
    {
     "name": "stdout",
     "output_type": "stream",
     "text": [
      "<class 'pandas.core.frame.DataFrame'>\n",
      "RangeIndex: 5 entries, 0 to 4\n",
      "Data columns (total 11 columns):\n",
      " #   Column           Non-Null Count  Dtype         \n",
      "---  ------           --------------  -----         \n",
      " 0   Customer Number  5 non-null      int64         \n",
      " 1   Customer Name    5 non-null      object        \n",
      " 2   2016             5 non-null      float64       \n",
      " 3   2017             5 non-null      float64       \n",
      " 4   Percent Growth   5 non-null      float64       \n",
      " 5   Jan Units        5 non-null      float64       \n",
      " 6   Month            5 non-null      int64         \n",
      " 7   Day              5 non-null      int64         \n",
      " 8   Year             5 non-null      int64         \n",
      " 9   Active           5 non-null      bool          \n",
      " 10  Sale Date        5 non-null      datetime64[ns]\n",
      "dtypes: bool(1), datetime64[ns](1), float64(4), int64(4), object(1)\n",
      "memory usage: 533.0+ bytes\n"
     ]
    }
   ],
   "source": [
    "sales_data.info()"
   ]
  },
  {
   "cell_type": "markdown",
   "metadata": {},
   "source": [
    "if you know that the date set comes in the same format each time \\\n",
    "can write a function to convert it instantly"
   ]
  },
  {
   "cell_type": "code",
   "execution_count": null,
   "metadata": {},
   "outputs": [],
   "source": [
    "# df_2 = pd.read_csv(\"sales_data_types.csv\",\n",
    "#                    dtype={'Customer Number': 'int'},\n",
    "#                    converters={'2016': convert_currency,\n",
    "#                                '2017': convert_currency,\n",
    "#                                'Percent Growth': convert_percent,\n",
    "#                                'Jan Units': lambda x: pd.to_numeric(x, errors='coerce'),\n",
    "#                                'Active': lambda x: np.where(x == \"Y\", True, False)\n",
    "#                               })\n",
    "\n",
    "# df_2.dtypes"
   ]
  },
  {
   "cell_type": "code",
   "execution_count": 17,
   "metadata": {},
   "outputs": [],
   "source": [
    "#del sales_data['Month'] #works with one column at a time\n",
    "sales_data = sales_data.drop(['Month', 'Day', 'Year'], axis=1) #works with multiple columns"
   ]
  },
  {
   "cell_type": "code",
   "execution_count": 18,
   "metadata": {},
   "outputs": [
    {
     "data": {
      "text/html": [
       "<div>\n",
       "<style scoped>\n",
       "    .dataframe tbody tr th:only-of-type {\n",
       "        vertical-align: middle;\n",
       "    }\n",
       "\n",
       "    .dataframe tbody tr th {\n",
       "        vertical-align: top;\n",
       "    }\n",
       "\n",
       "    .dataframe thead th {\n",
       "        text-align: right;\n",
       "    }\n",
       "</style>\n",
       "<table border=\"1\" class=\"dataframe\">\n",
       "  <thead>\n",
       "    <tr style=\"text-align: right;\">\n",
       "      <th></th>\n",
       "      <th>Customer Number</th>\n",
       "      <th>Customer Name</th>\n",
       "      <th>2016</th>\n",
       "      <th>2017</th>\n",
       "      <th>Percent Growth</th>\n",
       "      <th>Jan Units</th>\n",
       "      <th>Active</th>\n",
       "      <th>Sale Date</th>\n",
       "    </tr>\n",
       "  </thead>\n",
       "  <tbody>\n",
       "    <tr>\n",
       "      <th>0</th>\n",
       "      <td>10002</td>\n",
       "      <td>Quest Industries</td>\n",
       "      <td>125000.0</td>\n",
       "      <td>162500.0</td>\n",
       "      <td>0.30</td>\n",
       "      <td>500.0</td>\n",
       "      <td>True</td>\n",
       "      <td>2015-01-10</td>\n",
       "    </tr>\n",
       "    <tr>\n",
       "      <th>1</th>\n",
       "      <td>552278</td>\n",
       "      <td>Smith Plumbing</td>\n",
       "      <td>920000.0</td>\n",
       "      <td>1012000.0</td>\n",
       "      <td>0.10</td>\n",
       "      <td>700.0</td>\n",
       "      <td>True</td>\n",
       "      <td>2014-06-15</td>\n",
       "    </tr>\n",
       "    <tr>\n",
       "      <th>2</th>\n",
       "      <td>23477</td>\n",
       "      <td>ACME Industrial</td>\n",
       "      <td>50000.0</td>\n",
       "      <td>62500.0</td>\n",
       "      <td>0.25</td>\n",
       "      <td>125.0</td>\n",
       "      <td>True</td>\n",
       "      <td>2016-03-29</td>\n",
       "    </tr>\n",
       "    <tr>\n",
       "      <th>3</th>\n",
       "      <td>24900</td>\n",
       "      <td>Brekke LTD</td>\n",
       "      <td>350000.0</td>\n",
       "      <td>490000.0</td>\n",
       "      <td>0.04</td>\n",
       "      <td>75.0</td>\n",
       "      <td>True</td>\n",
       "      <td>2015-10-27</td>\n",
       "    </tr>\n",
       "    <tr>\n",
       "      <th>4</th>\n",
       "      <td>651029</td>\n",
       "      <td>Harbor Co</td>\n",
       "      <td>15000.0</td>\n",
       "      <td>12750.0</td>\n",
       "      <td>-0.15</td>\n",
       "      <td>0.0</td>\n",
       "      <td>False</td>\n",
       "      <td>2014-02-02</td>\n",
       "    </tr>\n",
       "  </tbody>\n",
       "</table>\n",
       "</div>"
      ],
      "text/plain": [
       "   Customer Number     Customer Name      2016       2017  Percent Growth  \\\n",
       "0            10002  Quest Industries  125000.0   162500.0            0.30   \n",
       "1           552278    Smith Plumbing  920000.0  1012000.0            0.10   \n",
       "2            23477   ACME Industrial   50000.0    62500.0            0.25   \n",
       "3            24900        Brekke LTD  350000.0   490000.0            0.04   \n",
       "4           651029         Harbor Co   15000.0    12750.0           -0.15   \n",
       "\n",
       "   Jan Units  Active  Sale Date  \n",
       "0      500.0    True 2015-01-10  \n",
       "1      700.0    True 2014-06-15  \n",
       "2      125.0    True 2016-03-29  \n",
       "3       75.0    True 2015-10-27  \n",
       "4        0.0   False 2014-02-02  "
      ]
     },
     "execution_count": 18,
     "metadata": {},
     "output_type": "execute_result"
    }
   ],
   "source": [
    "sales_data"
   ]
  },
  {
   "cell_type": "markdown",
   "metadata": {},
   "source": [
    "EXPORT TO FOLDER WITHOUT THE INDEX"
   ]
  },
  {
   "cell_type": "code",
   "execution_count": 120,
   "metadata": {},
   "outputs": [],
   "source": [
    "sales_data.to_csv('data/sales_data.csv', index=False)"
   ]
  },
  {
   "cell_type": "markdown",
   "metadata": {},
   "source": [
    "READ THE FILE TO CONFIRM THAT IT WAS SAVED CORRECTLY"
   ]
  },
  {
   "cell_type": "code",
   "execution_count": 121,
   "metadata": {},
   "outputs": [
    {
     "data": {
      "text/html": [
       "<div>\n",
       "<style scoped>\n",
       "    .dataframe tbody tr th:only-of-type {\n",
       "        vertical-align: middle;\n",
       "    }\n",
       "\n",
       "    .dataframe tbody tr th {\n",
       "        vertical-align: top;\n",
       "    }\n",
       "\n",
       "    .dataframe thead th {\n",
       "        text-align: right;\n",
       "    }\n",
       "</style>\n",
       "<table border=\"1\" class=\"dataframe\">\n",
       "  <thead>\n",
       "    <tr style=\"text-align: right;\">\n",
       "      <th></th>\n",
       "      <th>Customer Number</th>\n",
       "      <th>Customer Name</th>\n",
       "      <th>2016</th>\n",
       "      <th>2017</th>\n",
       "      <th>Percent Growth</th>\n",
       "      <th>Jan Units</th>\n",
       "      <th>Active</th>\n",
       "      <th>Sale Date</th>\n",
       "    </tr>\n",
       "  </thead>\n",
       "  <tbody>\n",
       "    <tr>\n",
       "      <th>0</th>\n",
       "      <td>10002</td>\n",
       "      <td>Quest Industries</td>\n",
       "      <td>125000.0</td>\n",
       "      <td>162500.0</td>\n",
       "      <td>0.30</td>\n",
       "      <td>500.0</td>\n",
       "      <td>True</td>\n",
       "      <td>2015-01-10</td>\n",
       "    </tr>\n",
       "    <tr>\n",
       "      <th>1</th>\n",
       "      <td>552278</td>\n",
       "      <td>Smith Plumbing</td>\n",
       "      <td>920000.0</td>\n",
       "      <td>1012000.0</td>\n",
       "      <td>0.10</td>\n",
       "      <td>700.0</td>\n",
       "      <td>True</td>\n",
       "      <td>2014-06-15</td>\n",
       "    </tr>\n",
       "    <tr>\n",
       "      <th>2</th>\n",
       "      <td>23477</td>\n",
       "      <td>ACME Industrial</td>\n",
       "      <td>50000.0</td>\n",
       "      <td>62500.0</td>\n",
       "      <td>0.25</td>\n",
       "      <td>125.0</td>\n",
       "      <td>True</td>\n",
       "      <td>2016-03-29</td>\n",
       "    </tr>\n",
       "    <tr>\n",
       "      <th>3</th>\n",
       "      <td>24900</td>\n",
       "      <td>Brekke LTD</td>\n",
       "      <td>350000.0</td>\n",
       "      <td>490000.0</td>\n",
       "      <td>0.04</td>\n",
       "      <td>75.0</td>\n",
       "      <td>True</td>\n",
       "      <td>2015-10-27</td>\n",
       "    </tr>\n",
       "    <tr>\n",
       "      <th>4</th>\n",
       "      <td>651029</td>\n",
       "      <td>Harbor Co</td>\n",
       "      <td>15000.0</td>\n",
       "      <td>12750.0</td>\n",
       "      <td>-0.15</td>\n",
       "      <td>0.0</td>\n",
       "      <td>False</td>\n",
       "      <td>2014-02-02</td>\n",
       "    </tr>\n",
       "  </tbody>\n",
       "</table>\n",
       "</div>"
      ],
      "text/plain": [
       "   Customer Number     Customer Name      2016       2017  Percent Growth  \\\n",
       "0            10002  Quest Industries  125000.0   162500.0            0.30   \n",
       "1           552278    Smith Plumbing  920000.0  1012000.0            0.10   \n",
       "2            23477   ACME Industrial   50000.0    62500.0            0.25   \n",
       "3            24900        Brekke LTD  350000.0   490000.0            0.04   \n",
       "4           651029         Harbor Co   15000.0    12750.0           -0.15   \n",
       "\n",
       "   Jan Units  Active   Sale Date  \n",
       "0      500.0    True  2015-01-10  \n",
       "1      700.0    True  2014-06-15  \n",
       "2      125.0    True  2016-03-29  \n",
       "3       75.0    True  2015-10-27  \n",
       "4        0.0   False  2014-02-02  "
      ]
     },
     "execution_count": 121,
     "metadata": {},
     "output_type": "execute_result"
    }
   ],
   "source": [
    "sales_data = pd.read_csv('data/sales_data.csv', sep=',')\n",
    "sales_data"
   ]
  }
 ],
 "metadata": {
  "kernelspec": {
   "display_name": "Python 3",
   "language": "python",
   "name": "python3"
  },
  "language_info": {
   "codemirror_mode": {
    "name": "ipython",
    "version": 3
   },
   "file_extension": ".py",
   "mimetype": "text/x-python",
   "name": "python",
   "nbconvert_exporter": "python",
   "pygments_lexer": "ipython3",
   "version": "3.10.5"
  }
 },
 "nbformat": 4,
 "nbformat_minor": 2
}
