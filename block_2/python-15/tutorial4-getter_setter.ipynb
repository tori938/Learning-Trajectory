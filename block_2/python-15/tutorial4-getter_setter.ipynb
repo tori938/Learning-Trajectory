{
  "cells": [
    {
      "cell_type": "code",
      "execution_count": 9,
      "metadata": {
        "trusted": true
      },
      "outputs": [],
      "source": [
        "class StudentOne():\n",
        "    #only called when you first create the object --> nothing stopping the user from circumventing at a later stage\n",
        "    def __init__(self, first_name, last_name, house, patronus, bogart):\n",
        "        if not first_name or not last_name:\n",
        "            raise ValueError('missing name')\n",
        "        if house not in ['slytherin', 'hufflepuff', 'ravenclaw', 'gryffindor']:\n",
        "            raise ValueError('invalid house')\n",
        "        self.first_name = first_name.capitalize()\n",
        "        self.last_name = last_name.capitalize()\n",
        "        self.house = house.capitalize()\n",
        "        self.patronus = patronus.capitalize()\n",
        "        self.bogart = bogart.capitalize()\n",
        "\n",
        "    def __str__(self):\n",
        "        return f\"{self.first_name} {self.last_name} from {self.house}\"\n",
        "\n",
        "    def charm(self):\n",
        "        match self.patronus:\n",
        "            case 'Dragon':\n",
        "                return '🐉'\n",
        "            case 'Direwolf':\n",
        "                return '🐺'\n",
        "            case 'Spider':\n",
        "                return '🕷️'"
      ]
    },
    {
      "cell_type": "code",
      "execution_count": 10,
      "metadata": {
        "trusted": true
      },
      "outputs": [],
      "source": [
        "stud_1 = StudentOne('daenerys', 'targaryen', 'hufflepuff', 'dragon', 'madness')\n",
        "stud_2 = StudentOne('sansa', 'stark', 'slytherin', 'direwolf', 'failure')\n",
        "stud_3 = StudentOne('varys', 'blackfyre', 'ravenclaw', 'spider', 'fire')"
      ]
    },
    {
      "cell_type": "code",
      "execution_count": 11,
      "metadata": {
        "trusted": true
      },
      "outputs": [
        {
          "name": "stdout",
          "output_type": "stream",
          "text": [
            "🐉 🐺 🕷️\n"
          ]
        }
      ],
      "source": [
        "print(stud_1.charm(), stud_2.charm(), stud_3.charm())"
      ]
    },
    {
      "cell_type": "code",
      "execution_count": 12,
      "metadata": {
        "trusted": true
      },
      "outputs": [
        {
          "name": "stdout",
          "output_type": "stream",
          "text": [
            "Daenerys Targaryen from Hufflepuff\n"
          ]
        }
      ],
      "source": [
        "print(stud_1)"
      ]
    },
    {
      "cell_type": "code",
      "execution_count": 13,
      "metadata": {
        "trusted": true
      },
      "outputs": [
        {
          "name": "stdout",
          "output_type": "stream",
          "text": [
            "Daenerys Targaryen from Durmstrang Institute\n"
          ]
        }
      ],
      "source": [
        "#let's circumvent\n",
        "stud_1.house = 'Durmstrang Institute'\n",
        "print(stud_1)"
      ]
    },
    {
      "cell_type": "markdown",
      "metadata": {},
      "source": [
        "@property: getter and setter and deleter"
      ]
    },
    {
      "cell_type": "markdown",
      "metadata": {},
      "source": [
        "Property an attribute that gets more defensive and allows the developer more control \\\n",
        "End user can mess things up a little less\n",
        "\n",
        "@property"
      ]
    },
    {
      "cell_type": "code",
      "execution_count": 14,
      "metadata": {
        "trusted": true
      },
      "outputs": [],
      "source": [
        "class Student():\n",
        "\n",
        "    def __init__(self, first_name, last_name, house, patronus, bogart):\n",
        "        if not first_name or not last_name:\n",
        "            raise ValueError('missing name')\n",
        "        if house not in ['slytherin', 'hufflepuff', 'ravenclaw', 'gryffindor']:\n",
        "            raise ValueError('invalid house')\n",
        "        self.first_name = first_name.capitalize()\n",
        "        self.last_name = last_name.capitalize()\n",
        "        self.house = house.capitalize()\n",
        "        self.patronus = patronus.capitalize()\n",
        "        self.bogart = bogart.capitalize()\n",
        "\n",
        "    def __str__(self):\n",
        "        return f\"{self.first_name} {self.last_name} from {self.house}\"\n",
        "\n",
        "    @property\n",
        "    #getter: func for a class that gets an attribute --> in order to get an attribute you have to go through a function\n",
        "    #got to differentiate and give different variable / method names --> otherwise they collide\n",
        "    def house(self):\n",
        "        return self._house\n",
        "\n",
        "    @house.setter\n",
        "    #setter: sets some value --> in order to set an attribute you have to go through a function\n",
        "    def house(self, house):\n",
        "        if house not in ['Slytherin', 'Hufflepuff', 'Ravenclaw', 'Gryffindor']:\n",
        "            raise ValueError('invalid house') \n",
        "        self._house = house"
      ]
    },
    {
      "cell_type": "code",
      "execution_count": 15,
      "metadata": {
        "trusted": true
      },
      "outputs": [],
      "source": [
        "student1 = Student('daenerys', 'targaryen', 'hufflepuff', 'dragon', 'madness')"
      ]
    },
    {
      "cell_type": "code",
      "execution_count": 16,
      "metadata": {
        "trusted": true
      },
      "outputs": [
        {
          "ename": "ValueError",
          "evalue": "invalid house",
          "output_type": "error",
          "traceback": [
            "\u001b[0;31m---------------------------------------------------------------------------\u001b[0m",
            "\u001b[0;31mValueError\u001b[0m                                Traceback (most recent call last)",
            "Cell \u001b[0;32mIn[16], line 2\u001b[0m\n\u001b[1;32m      1\u001b[0m \u001b[38;5;66;03m#let's try to circumvent again\u001b[39;00m\n\u001b[0;32m----> 2\u001b[0m \u001b[43mstudent1\u001b[49m\u001b[38;5;241;43m.\u001b[39;49m\u001b[43mhouse\u001b[49m \u001b[38;5;241m=\u001b[39m \u001b[38;5;124m'\u001b[39m\u001b[38;5;124mDurmstrang Institute\u001b[39m\u001b[38;5;124m'\u001b[39m\n\u001b[1;32m      3\u001b[0m \u001b[38;5;28mprint\u001b[39m(student1)\n",
            "Cell \u001b[0;32mIn[14], line 27\u001b[0m, in \u001b[0;36mStudent.house\u001b[0;34m(self, house)\u001b[0m\n\u001b[1;32m     23\u001b[0m \u001b[38;5;129m@house\u001b[39m\u001b[38;5;241m.\u001b[39msetter\n\u001b[1;32m     24\u001b[0m \u001b[38;5;66;03m#setter: sets some value --> in order to set an attribute you have to go through a function\u001b[39;00m\n\u001b[1;32m     25\u001b[0m \u001b[38;5;28;01mdef\u001b[39;00m \u001b[38;5;21mhouse\u001b[39m(\u001b[38;5;28mself\u001b[39m, house):\n\u001b[1;32m     26\u001b[0m     \u001b[38;5;28;01mif\u001b[39;00m house \u001b[38;5;129;01mnot\u001b[39;00m \u001b[38;5;129;01min\u001b[39;00m [\u001b[38;5;124m'\u001b[39m\u001b[38;5;124mSlytherin\u001b[39m\u001b[38;5;124m'\u001b[39m, \u001b[38;5;124m'\u001b[39m\u001b[38;5;124mHufflepuff\u001b[39m\u001b[38;5;124m'\u001b[39m, \u001b[38;5;124m'\u001b[39m\u001b[38;5;124mRavenclaw\u001b[39m\u001b[38;5;124m'\u001b[39m, \u001b[38;5;124m'\u001b[39m\u001b[38;5;124mGryffindor\u001b[39m\u001b[38;5;124m'\u001b[39m]:\n\u001b[0;32m---> 27\u001b[0m         \u001b[38;5;28;01mraise\u001b[39;00m \u001b[38;5;167;01mValueError\u001b[39;00m(\u001b[38;5;124m'\u001b[39m\u001b[38;5;124minvalid house\u001b[39m\u001b[38;5;124m'\u001b[39m) \n\u001b[1;32m     28\u001b[0m     \u001b[38;5;28mself\u001b[39m\u001b[38;5;241m.\u001b[39m_house \u001b[38;5;241m=\u001b[39m house\n",
            "\u001b[0;31mValueError\u001b[0m: invalid house"
          ]
        }
      ],
      "source": [
        "#let's try to circumvent again\n",
        "student1.house = 'Durmstrang Institute'\n",
        "print(student1)"
      ]
    }
  ],
  "metadata": {
    "kernelspec": {
      "display_name": "Python 3",
      "language": "python",
      "name": "python3"
    },
    "language_info": {
      "codemirror_mode": {
        "name": "ipython",
        "version": 3
      },
      "file_extension": ".py",
      "mimetype": "text/x-python",
      "name": "python",
      "nbconvert_exporter": "python",
      "pygments_lexer": "ipython3",
      "version": "3.10.5"
    }
  },
  "nbformat": 4,
  "nbformat_minor": 4
}
