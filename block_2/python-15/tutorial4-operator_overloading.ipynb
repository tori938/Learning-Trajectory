{
  "cells": [
    {
      "cell_type": "code",
      "execution_count": 1,
      "metadata": {
        "trusted": true
      },
      "outputs": [],
      "source": [
        "class Vault():\n",
        "    def __init__(self, galleons=0, sickles=0, knuts=0):\n",
        "        self.galleons = galleons\n",
        "        self.sickles = sickles\n",
        "        self.knuts = knuts\n",
        "    def __add__(self, pot):\n",
        "        galleons = self.galleons + pot.galleons\n",
        "        sickles = self.sickles + pot.sickles\n",
        "        knuts = self.knuts + pot.knuts\n",
        "        return Vault(galleons, sickles, knuts)\n",
        "    def __str__(self):\n",
        "        return f\"{self.galleons} galleons, {self.sickles} sickles, {self.knuts} knuts\""
      ]
    },
    {
      "cell_type": "code",
      "execution_count": 2,
      "metadata": {
        "trusted": true
      },
      "outputs": [
        {
          "name": "stdout",
          "output_type": "stream",
          "text": [
            "10000 galleons, 500 sickles, 100 knuts\n"
          ]
        }
      ],
      "source": [
        "delacours = Vault(10000, 500, 100)\n",
        "print(delacours)"
      ]
    },
    {
      "cell_type": "code",
      "execution_count": 3,
      "metadata": {
        "trusted": true
      },
      "outputs": [
        {
          "name": "stdout",
          "output_type": "stream",
          "text": [
            "500 galleons, 100 sickles, 50 knuts\n"
          ]
        }
      ],
      "source": [
        "grangers = Vault(500, 100, 50)\n",
        "print(grangers)"
      ]
    },
    {
      "cell_type": "code",
      "execution_count": 4,
      "metadata": {
        "trusted": true
      },
      "outputs": [
        {
          "name": "stdout",
          "output_type": "stream",
          "text": [
            "10500 galleons, 600 sickles, 150 knuts\n"
          ]
        }
      ],
      "source": [
        "total = delacours + grangers\n",
        "print(total)"
      ]
    }
  ],
  "metadata": {
    "kernelspec": {
      "display_name": "Python 3",
      "language": "python",
      "name": "python3"
    },
    "language_info": {
      "codemirror_mode": {
        "name": "ipython",
        "version": 3
      },
      "file_extension": ".py",
      "mimetype": "text/x-python",
      "name": "python",
      "nbconvert_exporter": "python",
      "pygments_lexer": "ipython3",
      "version": "3.10.5"
    }
  },
  "nbformat": 4,
  "nbformat_minor": 4
}
