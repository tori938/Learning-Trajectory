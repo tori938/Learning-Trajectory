{
 "cells": [
  {
   "cell_type": "markdown",
   "metadata": {},
   "source": [
    "import the libraries"
   ]
  },
  {
   "cell_type": "code",
   "execution_count": 1,
   "metadata": {},
   "outputs": [],
   "source": [
    "import pandas as pd\n",
    "import numpy as np\n",
    "import matplotlib.pyplot as plt\n",
    "import seaborn as sns\n",
    "import plotly.express as px\n",
    "import plotly.graph_objects as go"
   ]
  },
  {
   "cell_type": "markdown",
   "metadata": {},
   "source": [
    "objects"
   ]
  },
  {
   "cell_type": "code",
   "execution_count": 2,
   "metadata": {},
   "outputs": [
    {
     "name": "stdout",
     "output_type": "stream",
     "text": [
      "False\n",
      "(5, 2)\n",
      "2\n",
      "['Ella', 'Melanie', 'Samantha', 'Sophie', 'Sophie']\n"
     ]
    }
   ],
   "source": [
    "number = 2.5\n",
    "#check the condition\n",
    "print(number.is_integer())\n",
    "\n",
    "#return as a fraction\n",
    "print(number.as_integer_ratio())\n",
    "\n",
    "\n",
    "people = ['Ella','Sophie', 'Sophie', 'Samantha', 'Melanie']\n",
    "#use the count method\n",
    "print(people.count('Sophie'))\n",
    "\n",
    "#sort the list\n",
    "people.sort()\n",
    "print(people)"
   ]
  },
  {
   "cell_type": "markdown",
   "metadata": {},
   "source": [
    "classes"
   ]
  },
  {
   "cell_type": "code",
   "execution_count": 3,
   "metadata": {},
   "outputs": [
    {
     "name": "stdout",
     "output_type": "stream",
     "text": [
      "what is the class of 2.5 - <class 'float'> and ['Ella', 'Melanie', 'Samantha', 'Sophie', 'Sophie'] - <class 'list'>\n"
     ]
    }
   ],
   "source": [
    "print(f'what is the class of {number} - {number.__class__} and {people} - {people.__class__}')"
   ]
  },
  {
   "cell_type": "code",
   "execution_count": 4,
   "metadata": {},
   "outputs": [
    {
     "name": "stdout",
     "output_type": "stream",
     "text": [
      "each instance of an object is its own, thus report_1 does not equal / is the same as report_2: False\n"
     ]
    }
   ],
   "source": [
    "class SalesReport():\n",
    "    pass\n",
    "\n",
    "def build_report():\n",
    "    pass\n",
    "\n",
    "#create an instance(s)\n",
    "report_1 = SalesReport()\n",
    "report_2 = SalesReport()\n",
    "\n",
    "print(f'each instance of an object is its own, thus report_1 does not equal / is the same as report_2: {report_1 == report_2}')"
   ]
  }
 ],
 "metadata": {
  "kernelspec": {
   "display_name": "Python 3",
   "language": "python",
   "name": "python3"
  },
  "language_info": {
   "codemirror_mode": {
    "name": "ipython",
    "version": 3
   },
   "file_extension": ".py",
   "mimetype": "text/x-python",
   "name": "python",
   "nbconvert_exporter": "python",
   "pygments_lexer": "ipython3",
   "version": "3.10.5"
  }
 },
 "nbformat": 4,
 "nbformat_minor": 2
}
