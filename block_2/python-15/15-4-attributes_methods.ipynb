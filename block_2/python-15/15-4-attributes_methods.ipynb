{
 "cells": [
  {
   "cell_type": "code",
   "execution_count": 83,
   "metadata": {},
   "outputs": [],
   "source": [
    "import pandas as pd\n",
    "import numpy as np\n",
    "import matplotlib.pyplot as plt\n",
    "import seaborn as sns\n",
    "import plotly.express as px\n",
    "import plotly.graph_objects as go"
   ]
  },
  {
   "cell_type": "code",
   "execution_count": 84,
   "metadata": {},
   "outputs": [
    {
     "name": "stdout",
     "output_type": "stream",
     "text": [
      "Total amount: 10\n",
      "Total amount: 20\n"
     ]
    }
   ],
   "source": [
    "class SalesReport():\n",
    "    pass\n",
    "\n",
    "report_1 = SalesReport()\n",
    "report_2 = SalesReport()\n",
    "\n",
    "report_1.amount = 10\n",
    "report_2.amount = 20\n",
    "\n",
    "def print_report(report):  \n",
    "    print('Total amount:', report.amount)\n",
    "    \n",
    "print_report(report_1)\n",
    "print_report(report_2)"
   ]
  },
  {
   "cell_type": "code",
   "execution_count": 85,
   "metadata": {},
   "outputs": [
    {
     "name": "stdout",
     "output_type": "stream",
     "text": [
      "Total amount: 10\n",
      "Total amount: 20\n"
     ]
    }
   ],
   "source": [
    "class BuildingReport():\n",
    "    def print_report(self):  \n",
    "        print('Total amount:', self.amount)\n",
    "\n",
    "report_1 = BuildingReport()\n",
    "report_2 = BuildingReport()\n",
    "\n",
    "report_1.amount = 10\n",
    "report_2.amount = 20\n",
    "\n",
    "report_1.print_report()\n",
    "report_2.print_report()"
   ]
  },
  {
   "cell_type": "code",
   "execution_count": 86,
   "metadata": {},
   "outputs": [
    {
     "name": "stdout",
     "output_type": "stream",
     "text": [
      "[10000, 30000]\n",
      "Total sales: 40000\n"
     ]
    }
   ],
   "source": [
    "class SalesReport():\n",
    "    # Позволим добавлять много разных сделок\n",
    "    def add_deal(self, amount):\n",
    "        # На первой сделке создадим список для хранения всех сделок\n",
    "        if not hasattr(self, 'deals'):\n",
    "            self.deals = []\n",
    "        # Добавим текущую сделку\n",
    "        self.deals.append(amount)\n",
    "        \n",
    "    # Посчитаем сумму всех сделок      \n",
    "    def total_amount(self):\n",
    "        return sum(self.deals)\n",
    "    \n",
    "    def print_report(self):\n",
    "        print(\"Total sales:\", self.total_amount())\n",
    "\n",
    "# Используем наши новые возможности\n",
    "# Добавим две сделки и распечатаем отчёт\n",
    "report = SalesReport()\n",
    "report.add_deal(10000)\n",
    "report.add_deal(30000)\n",
    "print(report.deals) #this is a list, so a list is returned \n",
    "report.print_report()"
   ]
  },
  {
   "cell_type": "markdown",
   "metadata": {},
   "source": [
    "Exercise 4.1"
   ]
  },
  {
   "cell_type": "code",
   "execution_count": 87,
   "metadata": {},
   "outputs": [
    {
     "name": "stdout",
     "output_type": "stream",
     "text": [
      "[1000000, 400000]\n",
      "700000.0\n"
     ]
    }
   ],
   "source": [
    "class DepartmentReport():\n",
    "    def add_revenue(self, amount):\n",
    "        \"\"\"\n",
    "        Метод для добавления выручки отдела в список revenues.\n",
    "        Если атрибута revenues ещё не существует, метод должен создавать пустой список перед добавлением выручки.\n",
    "        \"\"\"\n",
    "        if not hasattr(self, 'revenues'):\n",
    "            self.revenues = []\n",
    "        self.revenues.append(amount)\n",
    "   \n",
    "    def average_revenue(self):\n",
    "        \"\"\"\n",
    "        Метод возвращает среднюю выручку по отделам.\n",
    "        \"\"\"\n",
    "        return sum(self.revenues) / len(self.revenues)\n",
    "\n",
    "report = DepartmentReport()\n",
    "report.add_revenue(1_000_000)\n",
    "report.add_revenue(400_000)\n",
    "print(report.revenues)\n",
    "print(report.average_revenue())"
   ]
  },
  {
   "cell_type": "code",
   "execution_count": 88,
   "metadata": {},
   "outputs": [],
   "source": [
    "try:\n",
    "    class SalesReport():  \n",
    "        def add_deal(self, amount):   \n",
    "            if not hasattr(self, 'deals'):  \n",
    "                self.deals = []  \n",
    "            self.deals.append(amount)  \n",
    "          \n",
    "        def total_amount(self):  \n",
    "            return sum(self.deals)  \n",
    "      \n",
    "        def print_report(self):  \n",
    "            print(\"Total sales:\", self.total_amount())  \n",
    "except:\n",
    "    print('AttributeError')\n",
    "    \n",
    "#report = SalesReport()  \n",
    "#report.total_amount()  \n",
    "# => AttributeError"
   ]
  },
  {
   "cell_type": "markdown",
   "metadata": {},
   "source": [
    "using __init__ method"
   ]
  },
  {
   "cell_type": "code",
   "execution_count": 89,
   "metadata": {},
   "outputs": [
    {
     "name": "stdout",
     "output_type": "stream",
     "text": [
      "[]\n"
     ]
    },
    {
     "data": {
      "text/plain": [
       "0"
      ]
     },
     "execution_count": 89,
     "metadata": {},
     "output_type": "execute_result"
    }
   ],
   "source": [
    "class SalesReport():\n",
    "    def __init__(self):\n",
    "        self.deals = []\n",
    "\n",
    "    def add_deal(self, amount):\n",
    "        self.deals.append(amount)\n",
    "        \n",
    "    def total_amount(self):\n",
    "        return sum(self.deals)\n",
    "    \n",
    "    def print_report(self):\n",
    "        print(\"Total sales:\", self.total_amount())\n",
    "        \n",
    "report = SalesReport()\n",
    "\n",
    "print(report.deals)\n",
    "report.total_amount()\n",
    "#report.print_report()"
   ]
  },
  {
   "cell_type": "code",
   "execution_count": 90,
   "metadata": {},
   "outputs": [
    {
     "name": "stdout",
     "output_type": "stream",
     "text": [
      "Manager: Michael Scott\n",
      "Total sales: 40000\n"
     ]
    }
   ],
   "source": [
    "class SalesReport():  \n",
    "    # Будем принимать в __init__ ещё и имя менеджера  \n",
    "    def __init__(self, manager_name):  \n",
    "        self.deals = []  \n",
    "        self.manager_name = manager_name  \n",
    "          \n",
    "    def add_deal(self, amount):   \n",
    "        self.deals.append(amount)  \n",
    "          \n",
    "    def total_amount(self):  \n",
    "        return sum(self.deals)  \n",
    "      \n",
    "    def print_report(self):  \n",
    "        # И добавлять это имя в отчёт  \n",
    "        print('Manager:', self.manager_name)  \n",
    "        print('Total sales:', self.total_amount())  \n",
    "          \n",
    "report = SalesReport('Michael Scott')  \n",
    "report.add_deal(10000)  \n",
    "report.add_deal(30000)  \n",
    "report.print_report()"
   ]
  },
  {
   "cell_type": "markdown",
   "metadata": {},
   "source": [
    "Exercise 4.2"
   ]
  },
  {
   "cell_type": "code",
   "execution_count": 91,
   "metadata": {},
   "outputs": [
    {
     "name": "stdout",
     "output_type": "stream",
     "text": [
      "Pepsi\n",
      "Average Department Revenue for Pepsi: 700000\n"
     ]
    }
   ],
   "source": [
    "class DepartmentReport():\n",
    "    def __init__(self, company_name):\n",
    "        \"\"\"\n",
    "        Метод инициализации класса. \n",
    "        Создаёт атрибуты revenues и company\n",
    "        \"\"\"\n",
    "        self.revenues = []\n",
    "        self.company = company_name\n",
    "    \n",
    "    def add_revenue(self, amount):\n",
    "        \"\"\"\n",
    "        Метод для добавления выручки отдела в список revenues.\n",
    "        Если атрибута revenues ещё не существует, метод должен создавать пустой список перед добавлением выручки.\n",
    "        \"\"\"\n",
    "        self.revenues.append(amount)\n",
    "    \n",
    "    def average_revenue(self):\n",
    "        \"\"\"\n",
    "        Вычисляет average_revenue — среднюю выручку по отделам — округляя до целого.\n",
    "        Метод возвращает строку в формате:\n",
    "        'Average department revenue for <company>: <average_revenue>'\n",
    "        \"\"\"\n",
    "        return (f'Average Department Revenue for {self.company}: {round(sum(self.revenues) / len(self.revenues),)}')\n",
    "\n",
    "report = DepartmentReport(company_name='Pepsi')\n",
    "print(report.company)\n",
    "\n",
    "report.add_revenue(1000000)\n",
    "report.add_revenue(400_000)\n",
    "\n",
    "print(report.average_revenue())"
   ]
  },
  {
   "cell_type": "code",
   "execution_count": 92,
   "metadata": {},
   "outputs": [
    {
     "name": "stdout",
     "output_type": "stream",
     "text": [
      "Employee:  Don Draper\n",
      "Total sales: 370000\n",
      "Average sales: 185000.0\n",
      "Companies: ['SkySports', 'PepsiCo']\n"
     ]
    }
   ],
   "source": [
    "class SalesReport():  \n",
    "    def __init__(self, employee_name):  \n",
    "        self.deals = []  \n",
    "        self.employee_name = employee_name  \n",
    "      \n",
    "    def add_deal(self, company, amount):   \n",
    "        self.deals.append({'company': company,\n",
    "                           'amount': amount})  \n",
    "          \n",
    "    def total_amount(self):  \n",
    "        return sum([deal['amount'] for deal in self.deals])  \n",
    "      \n",
    "    def average_deal(self):  \n",
    "        return self.total_amount()/len(self.deals)  \n",
    "      \n",
    "    def all_companies(self):  \n",
    "        return list(set([deal['company'] for deal in self.deals]))  \n",
    "      \n",
    "    def print_report(self):  \n",
    "        print(\"Employee: \", self.employee_name)  \n",
    "        print(\"Total sales:\", self.total_amount())  \n",
    "        print(\"Average sales:\", self.average_deal())  \n",
    "        print(\"Companies:\", self.all_companies())  \n",
    "      \n",
    "      \n",
    "report = SalesReport('Don Draper')  \n",
    "  \n",
    "report.add_deal('PepsiCo', 120000)  \n",
    "report.add_deal('SkySports', 250000)  \n",
    "#report.add_deal('PepsiCo', 20000)\n",
    "\n",
    "report.print_report()"
   ]
  },
  {
   "cell_type": "markdown",
   "metadata": {},
   "source": [
    "**additional examples**: part one"
   ]
  },
  {
   "cell_type": "code",
   "execution_count": 93,
   "metadata": {},
   "outputs": [
    {
     "name": "stdout",
     "output_type": "stream",
     "text": [
      "Order price for shauna_shipman@gmail.com is 100\n",
      "Order price for jackie_taylor@gmail.com is 180.0\n",
      "Order price for lottie_matthews@gmail.com is 500\n",
      "Order price for lottie_matthews@gmail.com is 450.0\n"
     ]
    }
   ],
   "source": [
    "class Client():\n",
    "    #basic datatabase\n",
    "    def __init__(self, email, order_num, registration_year):\n",
    "        self.email = email\n",
    "        self.order_num = order_num\n",
    "        self.registration_year = registration_year\n",
    "        self.discount = 0\n",
    "\n",
    "    #setting up the order\n",
    "    def make_order(self, price):\n",
    "        self.update_discount()\n",
    "        self.order_num += 1\n",
    "        #would have been an order checkout here, but will simply display its price\n",
    "        discounted_price = price * (1 - self.discount)\n",
    "        print(f'Order price for {self.email} is {discounted_price}')\n",
    "    \n",
    "    #setting up the discount\n",
    "    def update_discount(self):\n",
    "        if self.registration_year < 2018 and self.order_num >= 5:\n",
    "            self.discount = 0.1\n",
    "\n",
    "#create a database\n",
    "client_db = [\n",
    "    Client('shauna_shipman@gmail.com', 2, 2019),\n",
    "    Client('jackie_taylor@gmail.com', 10, 2015),\n",
    "    Client('lottie_matthews@gmail.com', 4, 2017)\n",
    "]\n",
    "\n",
    "#generate orders\n",
    "#has 2x (now + 1) orders in the database, thus no discount\n",
    "client_db[0].make_order(100)\n",
    "\n",
    "#has 10x (now + 1) orders in the database, thus discount\n",
    "client_db[1].make_order(200)\n",
    "\n",
    "#has 4x (now + 1) orders in the database, thus no discount  \n",
    "client_db[2].make_order(500)\n",
    "\n",
    "#has 5x (now + 1) orders in the database, thus discount  \n",
    "client_db[2].make_order(500)"
   ]
  },
  {
   "cell_type": "markdown",
   "metadata": {},
   "source": [
    "Exercise 5.1"
   ]
  },
  {
   "cell_type": "code",
   "execution_count": 3,
   "metadata": {},
   "outputs": [
    {
     "name": "stdout",
     "output_type": "stream",
     "text": [
      "False\n",
      "True\n",
      "18700\n"
     ]
    }
   ],
   "source": [
    "class User():\n",
    "    #basic datatabase\n",
    "    def __init__(self, email, password, balance):\n",
    "        self.email = email\n",
    "        self.password = password\n",
    "        self.balance = balance\n",
    "    #setting up the check up for email and password\n",
    "    def login(self, email, password):\n",
    "        if self.email == email and self.password == password:\n",
    "            return True\n",
    "        else:\n",
    "            return False\n",
    "    #setting up the change in balance amount\n",
    "    def update_balance(self, amount):\n",
    "        self.balance += amount\n",
    "        return self.balance\n",
    "\n",
    "\n",
    "user = User('shauna_shipman@gmail.com', 'i_love_jackie', 20000)\n",
    "print(user.login('shauna_shipman@gmail.com', 'jackie'))\n",
    "print(user.login('shauna_shipman@gmail.com', 'i_love_jackie'))\n",
    "user.update_balance(200)\n",
    "user.update_balance(-1500)\n",
    "print(user.balance)\n"
   ]
  },
  {
   "cell_type": "markdown",
   "metadata": {},
   "source": [
    "**additional examples**: part two"
   ]
  },
  {
   "cell_type": "code",
   "execution_count": 95,
   "metadata": {},
   "outputs": [
    {
     "name": "stdout",
     "output_type": "stream",
     "text": [
      "[1.0, 17.0, 4.0, 0.0, 8.0]\n",
      "6.89\n",
      "4.0\n",
      "6.0\n"
     ]
    }
   ],
   "source": [
    "import statistics\n",
    "\n",
    "class DataFrame():\n",
    "    def __init__(self, column, fill_value=0):\n",
    "        #initialising attributes\n",
    "        self.column = column\n",
    "        self.fill_value = fill_value\n",
    "        #fill the blanks -> calling a function\n",
    "        self.fill_missed()\n",
    "        #converting all elements into float -> calling a function\n",
    "        self.to_float()\n",
    "\n",
    "    def fill_missed(self):\n",
    "        for i, value in enumerate(self.column):\n",
    "            if value is None or value == '':\n",
    "                self.column[i] = self.fill_value\n",
    "\n",
    "    def to_float(self):\n",
    "        self.column = [float(value) for value in self.column]\n",
    "\n",
    "    def median(self):\n",
    "        return statistics.median(self.column)\n",
    "\n",
    "    def mean(self):\n",
    "        return statistics.mean(self.column)\n",
    "\n",
    "    def deviation(self):\n",
    "        return round(statistics.stdev(self.column), 2)\n",
    "\n",
    "#using the created class \n",
    "df = DataFrame(['1', 17, 4, None, 8])\n",
    "\n",
    "print(df.column)\n",
    "print(df.deviation())\n",
    "print(df.median())\n",
    "print(df.mean())"
   ]
  },
  {
   "cell_type": "markdown",
   "metadata": {},
   "source": [
    "Exercise 5.2"
   ]
  },
  {
   "cell_type": "code",
   "execution_count": 96,
   "metadata": {},
   "outputs": [
    {
     "name": "stdout",
     "output_type": "stream",
     "text": [
      "[4, 4, 3, 0, 2, 0, 4]\n",
      "5\n",
      "4\n"
     ]
    }
   ],
   "source": [
    "class IntDataFrame():\n",
    "    def __init__(self, column):\n",
    "        #initialising attributes\n",
    "        self.column = column\n",
    "        #converting all elements into int -> calling a function\n",
    "        self.to_int()\n",
    "    \n",
    "    #converting all values into int\n",
    "    def to_int(self):\n",
    "        self.column = [int(value) for value in self.column]\n",
    "    \n",
    "    #find values > 0, and return the sum\n",
    "    def count(self):\n",
    "        count = 0\n",
    "        for element in self.column:\n",
    "            if element > 0:\n",
    "                count += 1\n",
    "        return count\n",
    "    \n",
    "    #find unique values only, and return the sum\n",
    "    def unique(self):\n",
    "        return len(set(self.column))\n",
    "    \n",
    "df = IntDataFrame([4.7, 4, 3, 0, 2.4, 0.3, 4])\n",
    "print(df.column)\n",
    "print(df.count())\n",
    "print(df.unique())"
   ]
  },
  {
   "cell_type": "code",
   "execution_count": 97,
   "metadata": {},
   "outputs": [
    {
     "name": "stdout",
     "output_type": "stream",
     "text": [
      "[4, 4, 3, 0, 2, 0, 4]\n",
      "5\n",
      "4\n"
     ]
    }
   ],
   "source": [
    "class IntDataFrame():\n",
    "    def __init__(self, column):\n",
    "        self.column = list(map(lambda x: int(x), column))\n",
    "\n",
    "    def count(self):\n",
    "        return len(list(filter(lambda x: x != 0, self.column)))\n",
    "\n",
    "    def unique(self):\n",
    "        uniq = []\n",
    "        for i, value in enumerate(self.column):\n",
    "            if value in uniq:\n",
    "                continue\n",
    "            else:\n",
    "                uniq.append(value)\n",
    "        return len(uniq)\n",
    "    \n",
    "df = IntDataFrame([4.7, 4, 3, 0, 2.4, 0.3, 4])\n",
    "print(df.column)\n",
    "print(df.count())\n",
    "print(df.unique())"
   ]
  },
  {
   "cell_type": "markdown",
   "metadata": {},
   "source": [
    "**additional examples**: part three"
   ]
  },
  {
   "cell_type": "code",
   "execution_count": 98,
   "metadata": {},
   "outputs": [
    {
     "name": "stdout",
     "output_type": "stream",
     "text": [
      "{'perfomance': [10, 20, 10], 'clients': {'Chamobile': 10, 'Vector': 34}}\n"
     ]
    }
   ],
   "source": [
    "import pickle\n",
    "from datetime import datetime\n",
    "from os import path\n",
    "\n",
    "class Dumper():\n",
    "    def __init__(self, archive_dir='archive/'):\n",
    "        self.archive_dir = archive_dir\n",
    "\n",
    "    def dump(self, data):\n",
    "        #pickle library allows to return and add objects into a file\n",
    "        with open(self.get_file_name(), 'wb') as file:\n",
    "            pickle.dump(data, file)\n",
    "\n",
    "    def load_for_day(self, day):\n",
    "        file_name = path.join(self.archive_dir, day + \".pkl\")\n",
    "        with open(file_name, 'rb') as file:\n",
    "            sets = pickle.load(file)\n",
    "        return sets\n",
    "\n",
    "    #return the correct file name\n",
    "    def get_file_name(self):\n",
    "        today = datetime.now().strftime(\"%y-%m-%d\")\n",
    "        return path.join(self.archive_dir, today + \".pkl\")\n",
    "\n",
    "#example database\n",
    "data = {\n",
    "    'perfomance': [10, 20, 10],\n",
    "    'clients': {'Chamobile': 10,\n",
    "                'Vector': 34}\n",
    "}\n",
    "\n",
    "dumper = Dumper()\n",
    "\n",
    "#save the data\n",
    "dumper.dump(data)\n",
    "\n",
    "#restore for today's date\n",
    "file_name = datetime.now().strftime(\"%y-%m-%d\")\n",
    "restored_data = dumper.load_for_day(file_name)\n",
    "print(restored_data)"
   ]
  },
  {
   "cell_type": "markdown",
   "metadata": {},
   "source": [
    "Exercise 5.3"
   ]
  },
  {
   "cell_type": "code",
   "execution_count": 15,
   "metadata": {},
   "outputs": [
    {
     "data": {
      "text/plain": [
       "'Connection lost'"
      ]
     },
     "execution_count": 15,
     "metadata": {},
     "output_type": "execute_result"
    }
   ],
   "source": [
    "class OwnLogger():\n",
    "    def __init__(self):\n",
    "        self.logs = {'info': None,\n",
    "                     'warning': None,\n",
    "                     'error': None,\n",
    "                     'all': None}\n",
    "\n",
    "    def log(self, message, level):\n",
    "        self.logs[level] = message\n",
    "        self.logs['all'] = message\n",
    "        \n",
    "    def show_last(self, level='all'):\n",
    "        return self.logs[level]\n",
    "        \n",
    "logger = OwnLogger()\n",
    "logger.log(\"System started\", \"info\")\n",
    "#logger.show_last(\"error\")\n",
    "\n",
    "logger.log(\"Connection unstable\", \"warning\")\n",
    "logger.log(\"Connection lost\", \"error\")\n",
    "\n",
    "logger.show_last()\n",
    "# print(logger.show_last(\"info\"))\n",
    "# print(logger.show_last(\"warning\"))\n",
    "# print(logger.show_last(\"error\"))\n",
    "# logger.show_last(\"all\")"
   ]
  },
  {
   "cell_type": "markdown",
   "metadata": {},
   "source": [
    "Exercise 6.3"
   ]
  },
  {
   "cell_type": "code",
   "execution_count": 101,
   "metadata": {},
   "outputs": [
    {
     "name": "stdout",
     "output_type": "stream",
     "text": [
      "Bark!\n",
      "Paw\n"
     ]
    }
   ],
   "source": [
    "class Dog():\n",
    "    def bark(self, lst):\n",
    "        return 'Bark!'\n",
    "    def give_paw(self, lst):\n",
    "        return 'Paw'\n",
    "\n",
    "print(Dog().bark(['Лайка', 'Бим']))\n",
    "print(Dog().give_paw(['Лайка', 'Бим']))"
   ]
  }
 ],
 "metadata": {
  "kernelspec": {
   "display_name": "Python 3",
   "language": "python",
   "name": "python3"
  },
  "language_info": {
   "codemirror_mode": {
    "name": "ipython",
    "version": 3
   },
   "file_extension": ".py",
   "mimetype": "text/x-python",
   "name": "python",
   "nbconvert_exporter": "python",
   "pygments_lexer": "ipython3",
   "version": "3.10.5"
  }
 },
 "nbformat": 4,
 "nbformat_minor": 2
}
