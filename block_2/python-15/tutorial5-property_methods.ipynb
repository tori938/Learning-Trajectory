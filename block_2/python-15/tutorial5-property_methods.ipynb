{
  "cells": [
    {
      "cell_type": "markdown",
      "metadata": {},
      "source": [
        "getter and setter methods"
      ]
    },
    {
      "cell_type": "markdown",
      "metadata": {},
      "source": [
        "Property an attribute that gets more defensive and allows the developer more control \\\n",
        "End user can mess things up a little less\n",
        "\n",
        "@property"
      ]
    },
    {
      "cell_type": "code",
      "execution_count": 1,
      "metadata": {
        "trusted": true
      },
      "outputs": [
        {
          "name": "stdout",
          "output_type": "stream",
          "text": [
            "37\n",
            "98.60000000000001\n",
            "-400.0\n"
          ]
        }
      ],
      "source": [
        "#making getters and setter methods\n",
        "class Celsius:\n",
        "    def __init__(self, temperature=0):\n",
        "        self.set_temperature(temperature)\n",
        "\n",
        "    def to_fahrenheit(self):\n",
        "        return (self.get_temperature() * 1.8) + 32\n",
        "\n",
        "    # getter method\n",
        "    def get_temperature(self):\n",
        "        return self._temperature\n",
        "\n",
        "    # setter method --> stops the user from inputting nonsense\n",
        "    def set_temperature(self, value):\n",
        "        if value < -273.15:\n",
        "            raise ValueError('temperature below -273.15 is not possible.')\n",
        "        self._temperature = value\n",
        "        \n",
        "\n",
        "#create a new object, set_temperature() internally called by __init__\n",
        "human = Celsius(37)\n",
        "\n",
        "#get the temperature attribute via a getter\n",
        "print(human.get_temperature())\n",
        "\n",
        "#get the to_fahrenheit method, get_temperature() called by the method itself\n",
        "print(human.to_fahrenheit())\n",
        "\n",
        "#new constraint implementation\n",
        "human.set_temperature(-240)\n",
        "\n",
        "#get the to_fahreheit method\n",
        "print(human.to_fahrenheit())"
      ]
    }
  ],
  "metadata": {
    "kernelspec": {
      "display_name": "Python 3",
      "language": "python",
      "name": "python3"
    },
    "language_info": {
      "codemirror_mode": {
        "name": "ipython",
        "version": 3
      },
      "file_extension": ".py",
      "mimetype": "text/x-python",
      "name": "python",
      "nbconvert_exporter": "python",
      "pygments_lexer": "ipython3",
      "version": "3.10.5"
    }
  },
  "nbformat": 4,
  "nbformat_minor": 4
}
