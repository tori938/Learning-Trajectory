{
 "cells": [
  {
   "cell_type": "code",
   "execution_count": 1,
   "metadata": {},
   "outputs": [],
   "source": [
    "import pandas as pd\n",
    "import numpy as np\n",
    "import matplotlib.pyplot as plt\n",
    "import seaborn as sns\n",
    "import plotly.express as px\n",
    "import plotly.graph_objects as go\n",
    "\n",
    "import statistics\n",
    "\n",
    "import pickle\n",
    "from datetime import datetime\n",
    "import os as os\n",
    "from os import path"
   ]
  },
  {
   "cell_type": "code",
   "execution_count": 2,
   "metadata": {},
   "outputs": [
    {
     "data": {
      "text/plain": [
       "'/Users/victoriavilicheva/Documents/PYTHON/PYTHON-15'"
      ]
     },
     "execution_count": 2,
     "metadata": {},
     "output_type": "execute_result"
    }
   ],
   "source": [
    "start_path = os.getcwd()\n",
    "start_path"
   ]
  },
  {
   "cell_type": "code",
   "execution_count": 3,
   "metadata": {},
   "outputs": [
    {
     "data": {
      "text/plain": [
       "'/Users/victoriavilicheva/Documents/PYTHON'"
      ]
     },
     "execution_count": 3,
     "metadata": {},
     "output_type": "execute_result"
    }
   ],
   "source": [
    "os.chdir(\"..\") # подняться на один уровень выше\n",
    "os.getcwd() # '/home/nbuser'"
   ]
  },
  {
   "cell_type": "code",
   "execution_count": 4,
   "metadata": {},
   "outputs": [
    {
     "data": {
      "text/plain": [
       "'/Users/victoriavilicheva/Documents/PYTHON/PYTHON-15'"
      ]
     },
     "execution_count": 4,
     "metadata": {},
     "output_type": "execute_result"
    }
   ],
   "source": [
    "os.chdir(start_path)\n",
    "os.getcwd() # '/home/nbuser/library'"
   ]
  },
  {
   "cell_type": "code",
   "execution_count": 5,
   "metadata": {},
   "outputs": [
    {
     "name": "stdout",
     "output_type": "stream",
     "text": [
      "['archive', '15-8-9-exceptions.ipynb', '15-4-attributes_methods.ipynb', '15-3-objects_classes.ipynb', '15-7-working_with_files.ipynb']\n",
      "Файл отсутствует в данной директории\n"
     ]
    }
   ],
   "source": [
    "print(os.listdir())\n",
    "\n",
    "if 'tmp.py' not in os.listdir():\n",
    "    print(\"Файл отсутствует в данной директории\")"
   ]
  },
  {
   "cell_type": "code",
   "execution_count": 6,
   "metadata": {},
   "outputs": [
    {
     "name": "stdout",
     "output_type": "stream",
     "text": [
      "/Users/victoriavilicheva/Documents/PYTHON/PYTHON-15\n",
      "/Users/victoriavilicheva/Documents/PYTHON/PYTHON-15/test\n"
     ]
    }
   ],
   "source": [
    "# соединяет пути с учётом особенностей операционной системы\n",
    "print(start_path)\n",
    "print(os.path.join(start_path, 'test'))"
   ]
  },
  {
   "cell_type": "markdown",
   "metadata": {},
   "source": [
    "Exercise 7.3"
   ]
  },
  {
   "cell_type": "code",
   "execution_count": 7,
   "metadata": {},
   "outputs": [],
   "source": [
    "# def walk_desc(path=None):\n",
    "#     start_path = path if path is not None else os.getcwd()\n",
    "\n",
    "#     for root, dirs, files in os.walk(start_path):\n",
    "#         print(\"Текущая директория\", root)\n",
    "#         print(\"---\")\n",
    "\n",
    "#         if dirs:\n",
    "#             print(\"Список папок\", dirs)\n",
    "#         else:\n",
    "#             print(\"Папок нет\")\n",
    "#         print(\"---\")\n",
    "\n",
    "#         if files:\n",
    "#             print(\"Список файлов\", files)\n",
    "#         else:\n",
    "#             print(\"Файлов нет\")\n",
    "#         print(\"---\")\n",
    "\n",
    "#         if files and dirs:\n",
    "#             print(\"Все пути:\")\n",
    "#         for f in files:\n",
    "#             print(\"Файл \", os.path.join(root, f))\n",
    "#         for d in dirs:\n",
    "#             print(\"Папка \", os.path.join(root, d))\n",
    "#         print(\"===\")\n",
    "\n",
    "# walk_desc()"
   ]
  },
  {
   "cell_type": "markdown",
   "metadata": {},
   "source": [
    "**working with files**"
   ]
  },
  {
   "cell_type": "code",
   "execution_count": 8,
   "metadata": {},
   "outputs": [],
   "source": [
    "#f = open('path/to/file', 'filemode', encoding='utf8')"
   ]
  }
 ],
 "metadata": {
  "kernelspec": {
   "display_name": "Python 3",
   "language": "python",
   "name": "python3"
  },
  "language_info": {
   "codemirror_mode": {
    "name": "ipython",
    "version": 3
   },
   "file_extension": ".py",
   "mimetype": "text/x-python",
   "name": "python",
   "nbconvert_exporter": "python",
   "pygments_lexer": "ipython3",
   "version": "3.10.5"
  }
 },
 "nbformat": 4,
 "nbformat_minor": 2
}
