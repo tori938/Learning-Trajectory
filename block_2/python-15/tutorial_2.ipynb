{
 "cells": [
  {
   "cell_type": "markdown",
   "metadata": {},
   "source": [
    "##### CLASSES AND INSTANCES"
   ]
  },
  {
   "cell_type": "markdown",
   "metadata": {},
   "source": [
    "PART ONE"
   ]
  },
  {
   "cell_type": "code",
   "execution_count": 176,
   "metadata": {},
   "outputs": [
    {
     "name": "stdout",
     "output_type": "stream",
     "text": [
      "<__main__.Employee object at 0x103bb6080>\n",
      "<__main__.Employee object at 0x103bb5ed0>\n"
     ]
    }
   ],
   "source": [
    "class Employee():\n",
    "    pass\n",
    "\n",
    "emp_1 = Employee()\n",
    "emp_2 = Employee()\n",
    "\n",
    "print(emp_1)\n",
    "print(emp_2)"
   ]
  },
  {
   "cell_type": "code",
   "execution_count": 177,
   "metadata": {},
   "outputs": [
    {
     "name": "stdout",
     "output_type": "stream",
     "text": [
      "lottiematthews@gmail.com, jackietaylor@gmail.com\n"
     ]
    }
   ],
   "source": [
    "#can set it manually, but it's time consuming\n",
    "emp_1.first = 'Lottie'\n",
    "emp_1.last = 'Matthews'\n",
    "emp_1.email = 'lottiematthews@gmail.com'\n",
    "emp_1.profession = 'therapist'\n",
    "emp_1.pay = 70000\n",
    "\n",
    "emp_2.first = 'Jackie'\n",
    "emp_2.last = 'Taylor'\n",
    "emp_2.email = 'jackietaylor@gmail.com'\n",
    "emp_2.profession = 'primary teacher'\n",
    "emp_2.pay = 50000\n",
    "\n",
    "print(emp_1.email,  emp_2.email, sep=', ')"
   ]
  },
  {
   "cell_type": "markdown",
   "metadata": {},
   "source": [
    "PART TWO"
   ]
  },
  {
   "cell_type": "code",
   "execution_count": 178,
   "metadata": {},
   "outputs": [],
   "source": [
    "class Employee():\n",
    "    def __init__(self, first_name, last_name, profession, pay):\n",
    "        self.first_name = first_name.capitalize()\n",
    "        self.last_name = last_name.capitalize()\n",
    "        self.email = first_name.lower() + '.' + last_name.lower() + '@dundermifflin.com'\n",
    "        self.profession = profession.capitalize()\n",
    "        self.pay = round(int(pay), 0)\n",
    "    def full_name(self):\n",
    "        return (f'{self.first_name} {self.last_name}')\n",
    "    def display_pay(self):\n",
    "        return (f'{self.first_name} {self.last_name}: {round(self.pay / 12, 0)} per month')"
   ]
  },
  {
   "cell_type": "code",
   "execution_count": 179,
   "metadata": {},
   "outputs": [
    {
     "name": "stdout",
     "output_type": "stream",
     "text": [
      "michael.scott@dundermifflin.com\n",
      "<class 'int'>\n",
      "\n",
      "Dwight Schrute\n",
      "Michael Scott: 5833.0 per month\n"
     ]
    }
   ],
   "source": [
    "#to set the instance of an object - now have to include all args\n",
    "emp_1 = Employee('michael', 'scott', 'regional manager', '70000')\n",
    "emp_2 = Employee('dwight', 'schrute', 'salesman', 50000.78)\n",
    "\n",
    "#display the attributes\n",
    "print(emp_1.email)\n",
    "print(type(emp_1.pay))\n",
    "print()\n",
    "\n",
    "#use the method\n",
    "print(emp_2.full_name())\n",
    "print(emp_1.display_pay())"
   ]
  },
  {
   "cell_type": "markdown",
   "metadata": {},
   "source": [
    "##### CLASS VARIABLES"
   ]
  },
  {
   "cell_type": "markdown",
   "metadata": {},
   "source": [
    "PART ONE: INCORRECT WAY"
   ]
  },
  {
   "cell_type": "code",
   "execution_count": 180,
   "metadata": {},
   "outputs": [],
   "source": [
    "class Employee():\n",
    "    #class variable should be the same across all instances of an object\n",
    "    def __init__(self, first_name, last_name, profession, pay):\n",
    "        self.first_name = first_name.capitalize()\n",
    "        self.last_name = last_name.capitalize()\n",
    "        #-->but you need to call the variable doesn't work otherwise\n",
    "        #-->thus <class name>.<variable name>\n",
    "        self.email = first_name.lower() + '.' + last_name.lower() + '@dundermifflin.com'\n",
    "        self.profession = profession.capitalize()\n",
    "        self.pay = round(int(pay), 0)\n",
    "    def full_name(self):\n",
    "        return (f'{self.first_name} {self.last_name}')\n",
    "    #see why a class variable is better: first create a method\n",
    "    def apply_raise(self):\n",
    "        self.pay = int(self.pay * 1.04)"
   ]
  },
  {
   "cell_type": "code",
   "execution_count": 181,
   "metadata": {},
   "outputs": [
    {
     "name": "stdout",
     "output_type": "stream",
     "text": [
      "70000\n",
      "72800\n"
     ]
    }
   ],
   "source": [
    "emp_1 = Employee('michael', 'scott', 'regional manager', '70000')\n",
    "emp_2 = Employee('dwight', 'schrute', 'salesman', 50000.78)\n",
    "\n",
    "print(emp_1.pay)\n",
    "emp_1.apply_raise()\n",
    "print(emp_1.pay)\n",
    "\n",
    "#cannot raise it as emp_1.raise_amount\n",
    "#have to search and look for raise_amount in the function"
   ]
  },
  {
   "cell_type": "markdown",
   "metadata": {},
   "source": [
    "PART TWO"
   ]
  },
  {
   "cell_type": "code",
   "execution_count": 182,
   "metadata": {},
   "outputs": [],
   "source": [
    "class Employee():\n",
    "    #class variable should be the same across all instances of an object\n",
    "    raise_amount = 1.04\n",
    "    \n",
    "    def __init__(self, first_name, last_name, profession, pay):\n",
    "        self.first_name = first_name.capitalize()\n",
    "        self.last_name = last_name.capitalize()\n",
    "        #-->but you need to call the variable doesn't work otherwise\n",
    "        #-->thus <class name>.<variable name>\n",
    "        self.email = first_name.lower() + '.' + last_name.lower() + '@dundermifflin.com'\n",
    "        self.profession = profession.capitalize()\n",
    "        self.pay = round(int(pay), 0)\n",
    "    def full_name(self):\n",
    "        return (f'{self.first_name} {self.last_name}')\n",
    "    #see why a class variable is better: first create a method\n",
    "    def apply_raise(self):\n",
    "        self.pay = int(self.pay * self.raise_amount)"
   ]
  },
  {
   "cell_type": "code",
   "execution_count": 183,
   "metadata": {},
   "outputs": [
    {
     "name": "stdout",
     "output_type": "stream",
     "text": [
      "70000\n",
      "72800\n",
      "1.04\n",
      "1.04\n",
      "1.04\n"
     ]
    }
   ],
   "source": [
    "emp_1 = Employee('michael', 'scott', 'regional manager', '70000')\n",
    "emp_2 = Employee('dwight', 'schrute', 'salesman', 50000.78)\n",
    "\n",
    "print(emp_1.pay)\n",
    "emp_1.apply_raise()\n",
    "print(emp_1.pay)\n",
    "\n",
    "#can access the class variable through class itself or through an instance\n",
    "print(Employee.raise_amount)\n",
    "print(emp_1.raise_amount)\n",
    "print(emp_2.raise_amount)"
   ]
  },
  {
   "cell_type": "markdown",
   "metadata": {},
   "source": [
    "PART THREE"
   ]
  },
  {
   "cell_type": "code",
   "execution_count": 184,
   "metadata": {},
   "outputs": [
    {
     "name": "stdout",
     "output_type": "stream",
     "text": [
      "70000\n",
      "72800\n"
     ]
    }
   ],
   "source": [
    "class Employee():\n",
    "    #class variable should be the same across all instances of an object\n",
    "    raise_amount = 1.04\n",
    "    \n",
    "    def __init__(self, first_name, last_name, profession, pay):\n",
    "        self.first_name = first_name.capitalize()\n",
    "        self.last_name = last_name.capitalize()\n",
    "        #-->but you need to call the variable doesn't work otherwise\n",
    "        #-->thus <class name>.<variable name>\n",
    "        self.email = first_name.lower() + '.' + last_name.lower() + '@dundermifflin.com'\n",
    "        self.profession = profession.capitalize()\n",
    "        self.pay = round(int(pay), 0)\n",
    "    def full_name(self):\n",
    "        return (f'{self.first_name} {self.last_name}')\n",
    "    #with self.variable name - you can change the % by instance and not globally\n",
    "    def apply_raise(self):\n",
    "        self.pay = int(self.pay * self.raise_amount)\n",
    "        \n",
    "emp_1 = Employee('michael', 'scott', 'regional manager', '70000')\n",
    "emp_2 = Employee('dwight', 'schrute', 'salesman', 50000.78)\n",
    "\n",
    "print(emp_1.pay)\n",
    "emp_1.apply_raise()\n",
    "print(emp_1.pay)"
   ]
  },
  {
   "cell_type": "code",
   "execution_count": 185,
   "metadata": {},
   "outputs": [
    {
     "name": "stdout",
     "output_type": "stream",
     "text": [
      "1.04\n",
      "1.04\n",
      "1.04\n"
     ]
    }
   ],
   "source": [
    "#can access the class variable through class itself or through an instance\n",
    "print(Employee.raise_amount)\n",
    "print(emp_1.raise_amount)\n",
    "print(emp_2.raise_amount)"
   ]
  },
  {
   "cell_type": "code",
   "execution_count": 186,
   "metadata": {},
   "outputs": [
    {
     "name": "stdout",
     "output_type": "stream",
     "text": [
      "{'first_name': 'Michael', 'last_name': 'Scott', 'email': 'michael.scott@dundermifflin.com', 'profession': 'Regional manager', 'pay': 72800}\n",
      "\n",
      "{'__module__': '__main__', 'raise_amount': 1.04, '__init__': <function Employee.__init__ at 0x103c4a050>, 'full_name': <function Employee.full_name at 0x103c4ae60>, 'apply_raise': <function Employee.apply_raise at 0x103c4b250>, '__dict__': <attribute '__dict__' of 'Employee' objects>, '__weakref__': <attribute '__weakref__' of 'Employee' objects>, '__doc__': None}\n"
     ]
    }
   ],
   "source": [
    "#all variables through an instance\n",
    "print(emp_1.__dict__)\n",
    "print()\n",
    "#all variables through the class\n",
    "print(Employee.__dict__)"
   ]
  },
  {
   "cell_type": "code",
   "execution_count": 187,
   "metadata": {},
   "outputs": [
    {
     "name": "stdout",
     "output_type": "stream",
     "text": [
      "1.05\n",
      "1.05\n",
      "1.05\n",
      "1.05\n",
      "1.07\n",
      "1.05\n"
     ]
    }
   ],
   "source": [
    "#can change the class variables globally - and changes across all\n",
    "Employee.raise_amount = 1.05\n",
    "print(Employee.raise_amount)\n",
    "print(emp_1.raise_amount)\n",
    "print(emp_2.raise_amount)\n",
    "\n",
    "#or you can change through one variable only\n",
    "emp_1.raise_amount = 1.07\n",
    "print(Employee.raise_amount)\n",
    "print(emp_1.raise_amount) #only emp_1 as 7%\n",
    "print(emp_2.raise_amount)"
   ]
  },
  {
   "cell_type": "markdown",
   "metadata": {},
   "source": [
    "PART FOUR"
   ]
  },
  {
   "cell_type": "code",
   "execution_count": 188,
   "metadata": {},
   "outputs": [],
   "source": [
    "class Employee():\n",
    "    #class variable should be the same across all instances of an object\n",
    "    company_email = '@dundermifflin.com'\n",
    "    raise_amount = 1.04\n",
    "    no_of_employees = 0\n",
    "    \n",
    "    def __init__(self, first_name, last_name, profession, pay):\n",
    "        self.first_name = first_name.capitalize()\n",
    "        self.last_name = last_name.capitalize()\n",
    "        #-->but you need to call the variable doesn't work otherwise\n",
    "        #-->thus <class name>.<variable name> OR through self.variable name\n",
    "        self.email = first_name.lower() + '.' + last_name.lower() + Employee.company_email\n",
    "        self.profession = profession.capitalize()\n",
    "        self.pay = round(int(pay), 0)\n",
    "        \n",
    "        Employee.no_of_employees += 1\n",
    "        \n",
    "    def full_name(self):\n",
    "        return (f'{self.first_name} {self.last_name}')\n",
    "    #with self.variable name - you can change the % by instance and not globally\n",
    "    def apply_raise(self):\n",
    "        self.pay = int(self.pay * self.raise_amount)"
   ]
  },
  {
   "cell_type": "code",
   "execution_count": 189,
   "metadata": {},
   "outputs": [
    {
     "name": "stdout",
     "output_type": "stream",
     "text": [
      "0\n",
      "Michael Scott\n",
      "dwight.schrute@dundermifflin.com\n",
      "1.04\n",
      "2\n"
     ]
    }
   ],
   "source": [
    "print(Employee.no_of_employees)\n",
    "\n",
    "emp_1 = Employee('michael', 'scott', 'regional manager', '70000')\n",
    "emp_2 = Employee('dwight', 'schrute', 'salesman', 50000.78)\n",
    "\n",
    "print(emp_1.full_name())\n",
    "print(emp_2.email)\n",
    "\n",
    "print(emp_1.raise_amount)\n",
    "\n",
    "print(Employee.no_of_employees)"
   ]
  },
  {
   "cell_type": "markdown",
   "metadata": {},
   "source": [
    "##### CLASS AND STATIC METHODS"
   ]
  },
  {
   "cell_type": "markdown",
   "metadata": {},
   "source": [
    "PART ONE"
   ]
  },
  {
   "cell_type": "code",
   "execution_count": 190,
   "metadata": {},
   "outputs": [],
   "source": [
    "class Employee():\n",
    "    \n",
    "    no_of_employees = 0\n",
    "    raise_amount = 1.04\n",
    "    company_email = '@dundermifflin.com'\n",
    "    \n",
    "    def __init__(self, first_name, last_name, pay):\n",
    "        self.first_name = first_name.capitalize()\n",
    "        self.last_name = last_name.capitalize()\n",
    "        #-->but you need to call the variable doesn't work otherwise\n",
    "        #-->thus <class name>.<variable name> OR through self.variable name\n",
    "        self.email = first_name.lower() + '.' + last_name.lower() + Employee.company_email\n",
    "        self.pay = round(int(pay), 0)\n",
    "        \n",
    "        Employee.no_of_employees += 1\n",
    "        \n",
    "    def full_name(self):\n",
    "        return (f'{self.first_name} {self.last_name}')\n",
    "        \n",
    "    def apply_raise(self):\n",
    "        self.pay = int(self.pay * self.raise_amount)\n",
    "    \n",
    "    @classmethod\n",
    "    #altering the functionality of a method\n",
    "    #receive the class (cls) as first arg instead of instance (self)\n",
    "    #affects the variables globally\n",
    "    def set_raise_amt(cls, amount):\n",
    "        cls.raise_amount = amount"
   ]
  },
  {
   "cell_type": "code",
   "execution_count": 191,
   "metadata": {},
   "outputs": [
    {
     "name": "stdout",
     "output_type": "stream",
     "text": [
      "2\n",
      "1.05\n",
      "1.05\n",
      "1.05\n",
      "1.07\n",
      "1.07\n",
      "1.07\n"
     ]
    }
   ],
   "source": [
    "emp_1 = Employee('michael', 'scott', '70000')\n",
    "emp_2 = Employee('dwight', 'schrute', 50000.78)\n",
    "\n",
    "print(Employee.no_of_employees)\n",
    "\n",
    "#update the raise amount through classmethod\n",
    "Employee.set_raise_amt(1.05)\n",
    "\n",
    "print(Employee.raise_amount)\n",
    "print(emp_1.raise_amount)\n",
    "print(emp_2.raise_amount)\n",
    "\n",
    "#can use the instance for classmethod\n",
    "emp_1.set_raise_amt(1.07)\n",
    "\n",
    "print(Employee.raise_amount)\n",
    "print(emp_1.raise_amount)\n",
    "print(emp_2.raise_amount)"
   ]
  },
  {
   "cell_type": "markdown",
   "metadata": {},
   "source": [
    "PART TWO"
   ]
  },
  {
   "cell_type": "code",
   "execution_count": 192,
   "metadata": {},
   "outputs": [],
   "source": [
    "class Employee():\n",
    "    \n",
    "    no_of_employees = 0\n",
    "    raise_amount = 1.04\n",
    "    company_email = '@dundermifflin.com'\n",
    "    \n",
    "    def __init__(self, first_name, last_name, pay):\n",
    "        self.first_name = first_name.capitalize()\n",
    "        self.last_name = last_name.capitalize()\n",
    "        #-->but you need to call the variable doesn't work otherwise\n",
    "        #-->thus <class name>.<variable name> OR through self.variable name\n",
    "        self.email = first_name.lower() + '.' + last_name.lower() + Employee.company_email\n",
    "        self.pay = round(int(pay), 0)\n",
    "        \n",
    "        Employee.no_of_employees += 1\n",
    "        \n",
    "    def full_name(self):\n",
    "        return (f'{self.first_name} {self.last_name}')\n",
    "        \n",
    "    def apply_raise(self):\n",
    "        self.pay = int(self.pay * self.raise_amount)\n",
    "    \n",
    "    @classmethod\n",
    "    def set_raise_amt(cls, amount):\n",
    "        cls.raise_amount = amount"
   ]
  },
  {
   "cell_type": "code",
   "execution_count": 193,
   "metadata": {},
   "outputs": [
    {
     "name": "stdout",
     "output_type": "stream",
     "text": [
      "creed.bratton@dundermifflin.com\n"
     ]
    }
   ],
   "source": [
    "emp_1 = Employee('michael', 'scott', '70000')\n",
    "emp_2 = Employee('dwight', 'schrute', 50000.78)\n",
    "\n",
    "emp_str_1 = 'Creed-Bratton-60000'\n",
    "emp_str_2 = 'Kevin-Malone-100000'\n",
    "emp_str_3 = 'Stanley-Hudson-45000'\n",
    "\n",
    "#manually: split the string first\n",
    "first_name, last_name, pay = emp_str_1.split('-')\n",
    "emp_3 = Employee(first_name, last_name, pay)\n",
    "\n",
    "print(emp_3.email)"
   ]
  },
  {
   "cell_type": "markdown",
   "metadata": {},
   "source": [
    "PART THREE: STATIC"
   ]
  },
  {
   "cell_type": "code",
   "execution_count": 209,
   "metadata": {},
   "outputs": [],
   "source": [
    "class Employee():\n",
    "    \n",
    "    no_of_employees = 0\n",
    "    raise_amount = 1.04\n",
    "    company_email = '@dundermifflin.com'\n",
    "    \n",
    "    def __init__(self, first_name, last_name, pay):\n",
    "        self.first_name = first_name.capitalize()\n",
    "        self.last_name = last_name.capitalize()\n",
    "        #-->but you need to call the variable doesn't work otherwise\n",
    "        #-->thus <class name>.<variable name> OR through self.variable name\n",
    "        self.email = first_name.lower() + '.' + last_name.lower() + Employee.company_email\n",
    "        self.pay = round(int(pay), 0)\n",
    "        \n",
    "        Employee.no_of_employees += 1\n",
    "        \n",
    "    # def full_name(self):\n",
    "    #     return (f'{self.first_name} {self.last_name}')\n",
    "        \n",
    "    # def apply_raise(self):\n",
    "    #     self.pay = int(self.pay * self.raise_amount)\n",
    "    \n",
    "    @classmethod\n",
    "    #altering the functionality of a method\n",
    "    #receive the class (cls) as first arg instead of instance (self)\n",
    "    #affects the variables globally\n",
    "    def set_raise_amt(cls, amount):\n",
    "        cls.raise_amount = amount\n",
    "        \n",
    "    @classmethod\n",
    "    #as alternative constructors\n",
    "    def from_string(cls, emp_str):\n",
    "        first_name, last_name, pay = emp_str.split('-')\n",
    "        return cls(first_name, last_name, pay)\n",
    "    \n",
    "    @staticmethod\n",
    "    #don't pass anything automatically\n",
    "    #doesn't depend on the class variable or instance\n",
    "    #--> giveaway that a static method should be used not class method\n",
    "    def is_workday(day):\n",
    "        if day.weekday() == 5 or day.weekday() == 6:\n",
    "            return False\n",
    "        return True"
   ]
  },
  {
   "cell_type": "code",
   "execution_count": 210,
   "metadata": {},
   "outputs": [
    {
     "name": "stdout",
     "output_type": "stream",
     "text": [
      "2\n",
      "creed.bratton@dundermifflin.com, 60000\n",
      "False\n"
     ]
    }
   ],
   "source": [
    "emp_1 = Employee('michael', 'scott', '70000')\n",
    "#emp_2 = Employee('dwight', 'schrute', 50000.78)\n",
    "\n",
    "emp_str_1 = 'Creed-Bratton-60000'\n",
    "#emp_str_2 = 'Kevin-Malone-100000'\n",
    "#emp_str_3 = 'Stanley-Hudson-45000'\n",
    "\n",
    "#now provided a class method to unpack the string\n",
    "emp_3 = Employee.from_string(emp_str_1)\n",
    "#emp_4 = Employee.from_string(emp_str_2)\n",
    "#emp_5 = Employee.from_string(emp_str_3)\n",
    "\n",
    "print(Employee.no_of_employees)\n",
    "print(emp_3.email, emp_3.pay, sep=', ')\n",
    "\n",
    "import datetime\n",
    "my_date = datetime.date(2016, 7, 10)\n",
    "print(Employee.is_workday(my_date))"
   ]
  },
  {
   "cell_type": "markdown",
   "metadata": {},
   "source": [
    "##### INHERITANCE AND SUBCLASSES"
   ]
  },
  {
   "cell_type": "code",
   "execution_count": 196,
   "metadata": {},
   "outputs": [],
   "source": [
    "class Employee():\n",
    "    \n",
    "    no_of_employees = 0\n",
    "    raise_amount = 1.04\n",
    "    company_email = '@dundermifflin.com'\n",
    "    \n",
    "    def __init__(self, first_name, last_name, pay):\n",
    "        self.first_name = first_name.capitalize()\n",
    "        self.last_name = last_name.capitalize()\n",
    "        self.email = first_name.lower() + '.' + last_name.lower() + Employee.company_email\n",
    "        self.pay = round(int(pay), 0)\n",
    "        \n",
    "        Employee.no_of_employees += 1\n",
    "        \n",
    "    def full_name(self):\n",
    "        return (f'{self.first_name} {self.last_name}')\n",
    "        \n",
    "    def apply_raise(self):\n",
    "        self.pay = int(self.pay * self.raise_amount)\n",
    "    \n",
    "    @classmethod\n",
    "    def set_raise_amt(cls, amount):\n",
    "        cls.raise_amount = amount\n",
    "        \n",
    "    @classmethod\n",
    "    def from_string(cls, emp_str):\n",
    "        first_name, last_name, pay = emp_str.split('-')\n",
    "        return cls(first_name, last_name, pay)\n",
    "    \n",
    "    @staticmethod\n",
    "    def is_workday(day):\n",
    "        if day.weekday() == 5 or day.weekday() == 6:\n",
    "            return False\n",
    "        return True\n",
    "\n",
    "emp_1 = Employee('michael', 'scott', '70000')\n",
    "emp_3 = Employee('creed', 'bratton', '60000')\n",
    "emp_4 = Employee('kevin', 'malone', 100000)\n",
    "\n",
    "class Salesmen(Employee):\n",
    "    #to change the variable - to customise the subclass\n",
    "    #no reason to fear the breakage of the parent class\n",
    "    raise_amount = 1.10\n",
    "\n",
    "\n",
    "class Developer(Employee):\n",
    "    \n",
    "    raise_amount = 1.15\n",
    "    \n",
    "    def __init__(self, first_name, last_name, pay, prog_lang):\n",
    "        super().__init__(first_name, last_name, pay)\n",
    "        #alternative way: Employee.__init__(self, first_name, last_name, pay)\n",
    "        self.prog_lang = prog_lang"
   ]
  },
  {
   "cell_type": "code",
   "execution_count": 197,
   "metadata": {},
   "outputs": [
    {
     "name": "stdout",
     "output_type": "stream",
     "text": [
      "45000\n",
      "49500\n",
      "sadiq.turban@dundermifflin.com, Python\n"
     ]
    }
   ],
   "source": [
    "#can check which variables and methods were inherited\n",
    "#print(help(Salesmen))\n",
    "\n",
    "sal_1 = Salesmen('stanley', 'hudson', 45000)\n",
    "sal_2 = Salesmen('dwight', 'schrute', 50000.78)\n",
    "\n",
    "print(sal_1.pay)\n",
    "sal_1.apply_raise()\n",
    "print(sal_1.pay)\n",
    "\n",
    "dev_1 = Developer('Sadiq', 'Turban', 100000, 'Python')\n",
    "dev_2 = Developer('Nick', 'Glasses', 75000, 'Java')\n",
    "\n",
    "print(dev_1.email, dev_1.prog_lang, sep=', ')"
   ]
  },
  {
   "cell_type": "code",
   "execution_count": 198,
   "metadata": {},
   "outputs": [],
   "source": [
    "class Employee():\n",
    "    \n",
    "    no_of_employees = 0\n",
    "    raise_amount = 1.05\n",
    "    company_email = '@dundermifflin.com'\n",
    "    \n",
    "    def __init__(self, first_name, last_name, pay):\n",
    "        self.first_name = first_name.capitalize()\n",
    "        self.last_name = last_name.capitalize()\n",
    "        self.email = first_name.lower() + '.' + last_name.lower() + Employee.company_email\n",
    "        self.pay = round(int(pay), 0)\n",
    "        \n",
    "        Employee.no_of_employees += 1\n",
    "        \n",
    "    def full_name(self):\n",
    "        return (f'{self.first_name} {self.last_name}')\n",
    "        \n",
    "    def apply_raise(self):\n",
    "        self.pay = int(self.pay * self.raise_amount)\n",
    "    \n",
    "    @classmethod\n",
    "    def set_raise_amt(cls, amount):\n",
    "        cls.raise_amount = amount\n",
    "        \n",
    "    @classmethod\n",
    "    def from_string(cls, emp_str):\n",
    "        first_name, last_name, pay = emp_str.split('-')\n",
    "        return cls(first_name, last_name, pay)\n",
    "    \n",
    "    @staticmethod\n",
    "    def is_workday(day):\n",
    "        if day.weekday() == 5 or day.weekday() == 6:\n",
    "            return False\n",
    "        return True\n",
    "\n",
    "\n",
    "class Salesmen(Employee):\n",
    "    pass\n",
    "\n",
    "\n",
    "class Developer(Employee):\n",
    "\n",
    "    def __init__(self, first_name, last_name, pay, prog_lang):\n",
    "        super().__init__(first_name, last_name, pay)\n",
    "        self.prog_lang = prog_lang\n",
    "\n",
    "\n",
    "class Manager(Employee):\n",
    "    \n",
    "    def __init__(self, first_name, last_name, pay, employees=None):\n",
    "        super().__init__(first_name, last_name, pay)\n",
    "        if employees is None:\n",
    "            self.employees = []\n",
    "        else:\n",
    "            self.employees = employees\n",
    "    \n",
    "    def add_emp(self, emp):\n",
    "        if emp not in self.employees:\n",
    "            self.employees.append(emp)\n",
    "    \n",
    "    def remove_emp(self, emp):\n",
    "        if emp in self.employees:\n",
    "            self.employees.remove(emp)\n",
    "    \n",
    "    def print_emps(self):\n",
    "        for emp in self.employees:\n",
    "            print('-->', emp.full_name())"
   ]
  },
  {
   "cell_type": "code",
   "execution_count": 199,
   "metadata": {},
   "outputs": [
    {
     "name": "stdout",
     "output_type": "stream",
     "text": [
      "michael.scott@dundermifflin.com\n",
      "--> Elliot Alderson\n",
      "--> Stanley Hudson\n",
      "--> Dwight Schrute\n",
      "--> Creed Bratton\n",
      "--> Kevin Malone\n",
      "True\n",
      "False\n",
      "True\n",
      "False\n"
     ]
    }
   ],
   "source": [
    "emp_1 = Employee('creed', 'bratton', '60000')\n",
    "emp_2 = Employee('kevin', 'malone', 100000)\n",
    "       \n",
    "sal_1 = Salesmen('stanley', 'hudson', 45000)\n",
    "sal_2 = Salesmen('dwight', 'schrute', 50000.78)\n",
    "\n",
    "dev_1 = Developer('elliot', 'alderson', 85000, 'Java')\n",
    "\n",
    "mgr_1 = Manager('michael', 'scott', '70000', [dev_1, sal_1, sal_2, emp_1, emp_2])\n",
    "\n",
    "print(mgr_1.email)\n",
    "mgr_1.print_emps()\n",
    "\n",
    "#tell us if object is an instance of a class\n",
    "print(isinstance(mgr_1, Manager))\n",
    "#aren't part of each other's inheritance\n",
    "print(isinstance(mgr_1, Developer))\n",
    "\n",
    "#tell us if class is a subclass of a parent class\n",
    "print(issubclass(Manager, Employee))\n",
    "print(issubclass(Manager, Developer))"
   ]
  },
  {
   "cell_type": "markdown",
   "metadata": {},
   "source": [
    "##### SPECIAL METHODS"
   ]
  },
  {
   "cell_type": "code",
   "execution_count": 200,
   "metadata": {},
   "outputs": [],
   "source": [
    "class Employee:\n",
    "\n",
    "    raise_amt = 1.04\n",
    "    company_email = '@dundermifflin.com'\n",
    "\n",
    "    def __init__(self, first, last, pay):\n",
    "        self.first = first.capitalize()\n",
    "        self.last = last.capitalize()\n",
    "        #-->but you need to call the variable doesn't work otherwise\n",
    "        #-->thus <class name>.<variable name> OR through self.variable name\n",
    "        self.email = first.lower() + '.' + last.lower() + Employee.company_email\n",
    "        self.pay = pay\n",
    "\n",
    "    def fullname(self):\n",
    "        return '{} {}'.format(self.first, self.last)\n",
    "\n",
    "    def apply_raise(self):\n",
    "        self.pay = int(self.pay * self.raise_amt)\n",
    "\n",
    "    #surrounded by underscore - special methods, also called dunder\n",
    "    #repr meant to be an unambiguous representation of the object\n",
    "    #and should be used for debugging and logging\n",
    "    #meant to be seen by other developers\n",
    "    #always have __repr__ as a fallback (min) if can't have __str__\n",
    "    def __repr__(self):\n",
    "        return (f\"Employee('{self.first}', '{self.last}', {self.pay})\")\n",
    "    \n",
    "    #readable representation of the object to be used by the in-users\n",
    "    #--> if print(emp_1): __str__ is the priority return\n",
    "    #--> __str__ > __repr__\n",
    "    def __str__(self):\n",
    "        return (f'{self.fullname()} - {self.email}')\n",
    "\n",
    "    #combined pay\n",
    "    def __add__(self, other):\n",
    "        return self.pay + other.pay\n",
    "\n",
    "    def __len__(self):\n",
    "        return len(self.fullname())"
   ]
  },
  {
   "cell_type": "code",
   "execution_count": 201,
   "metadata": {},
   "outputs": [
    {
     "name": "stdout",
     "output_type": "stream",
     "text": [
      "if you want to find the details of employee one, aka: print(emp_1)\n",
      "without dunder method prints this:\n",
      "<__main__.Employee object at 0x7faac3b6af10>\n",
      "\n",
      "Elliot Alderson - elliot.alderson@dundermifflin.com\n",
      "\n"
     ]
    }
   ],
   "source": [
    "emp_1 = Employee('elliot', 'alderson', 85000)\n",
    "emp_2 = Employee('felicity', 'smoakes', 78000)\n",
    "\n",
    "print('if you want to find the details of employee one, aka: \\\n",
    "print(emp_1)')\n",
    "print('without dunder method prints this:')\n",
    "print('<__main__.Employee object at 0x7faac3b6af10>')\n",
    "print()\n",
    "\n",
    "print(emp_1)\n",
    "print()"
   ]
  },
  {
   "cell_type": "code",
   "execution_count": 202,
   "metadata": {},
   "outputs": [
    {
     "name": "stdout",
     "output_type": "stream",
     "text": [
      "Employee('Elliot', 'Alderson', 85000)\n",
      "Felicity Smoakes - felicity.smoakes@dundermifflin.com\n",
      "\n"
     ]
    }
   ],
   "source": [
    "#can still access separate methods\n",
    "print(emp_1.__repr__())\n",
    "print(emp_2.__str__())\n",
    "print()"
   ]
  },
  {
   "cell_type": "code",
   "execution_count": 203,
   "metadata": {},
   "outputs": [
    {
     "name": "stdout",
     "output_type": "stream",
     "text": [
      "15\n",
      "\n"
     ]
    }
   ],
   "source": [
    "#find the length of a string\n",
    "print(len(emp_1))\n",
    "print()"
   ]
  },
  {
   "cell_type": "code",
   "execution_count": 204,
   "metadata": {},
   "outputs": [
    {
     "name": "stdout",
     "output_type": "stream",
     "text": [
      "3\n",
      "ab\n",
      "4\n",
      "3\n",
      "ab\n",
      "4\n",
      "\n"
     ]
    }
   ],
   "source": [
    "#can use arithmetic or other\n",
    "print(1+2)\n",
    "print('a' + 'b')\n",
    "print(len('test'))\n",
    "print(int.__add__(1, 2))\n",
    "print(str.__add__('a', 'b'))\n",
    "print('test'.__len__())\n",
    "print()"
   ]
  },
  {
   "cell_type": "code",
   "execution_count": 205,
   "metadata": {},
   "outputs": [
    {
     "name": "stdout",
     "output_type": "stream",
     "text": [
      "163000\n"
     ]
    }
   ],
   "source": [
    "#find the combined pay\n",
    "print(emp_1 + emp_2)"
   ]
  },
  {
   "cell_type": "markdown",
   "metadata": {},
   "source": [
    "##### PROPERTY DECORATORS"
   ]
  },
  {
   "cell_type": "markdown",
   "metadata": {},
   "source": [
    "Property an attribute that gets more defensive and allows the developer more control \\\n",
    "End user can mess things up a little less\n",
    "\n",
    "@property"
   ]
  },
  {
   "cell_type": "code",
   "execution_count": 206,
   "metadata": {},
   "outputs": [],
   "source": [
    "class Employee:\n",
    "\n",
    "    def __init__(self, first, last):\n",
    "        self.first = first\n",
    "        self.last = last\n",
    "\n",
    "    @property\n",
    "    #to define a method and access it like an attribute\n",
    "    def email(self):\n",
    "        return (f'{self.first.lower()}.{self.last.lower()}@email.com')\n",
    "\n",
    "    @property\n",
    "    def fullname(self):\n",
    "        return f'{self.first} {self.last}'\n",
    "    \n",
    "    @fullname.setter\n",
    "    def fullname(self, name): #--> name is the value trying to set\n",
    "        first, last = name.split(' ')\n",
    "        self.first = first\n",
    "        self.last = last\n",
    "    \n",
    "    @fullname.deleter\n",
    "    def fullname(self):\n",
    "        print(f'Remove the Employee: {self.first} {self.last}')\n",
    "        self.first = None\n",
    "        self.last = None"
   ]
  },
  {
   "cell_type": "code",
   "execution_count": 207,
   "metadata": {},
   "outputs": [
    {
     "name": "stdout",
     "output_type": "stream",
     "text": [
      "pam.beesly@email.com, Pam Beesly\n",
      "\n",
      "pam.halpert@email.com, Pam Halpert\n",
      "Remove the Employee: Toby Flenderson\n"
     ]
    }
   ],
   "source": [
    "emp_1 = Employee('Pam', 'Beesly')\n",
    "emp_2 = Employee('Toby', 'Flenderson')\n",
    "print(emp_1.email, emp_1.fullname, sep=', ')\n",
    "print()\n",
    "\n",
    "#make the change --> now updates across\n",
    "emp_1.last = 'Halpert'\n",
    "print(emp_1.email, emp_1.fullname, sep=', ')\n",
    "\n",
    "del emp_2.fullname"
   ]
  }
 ],
 "metadata": {
  "kernelspec": {
   "display_name": "Python 3",
   "language": "python",
   "name": "python3"
  },
  "language_info": {
   "codemirror_mode": {
    "name": "ipython",
    "version": 3
   },
   "file_extension": ".py",
   "mimetype": "text/x-python",
   "name": "python",
   "nbconvert_exporter": "python",
   "pygments_lexer": "ipython3",
   "version": "3.10.5"
  }
 },
 "nbformat": 4,
 "nbformat_minor": 2
}
