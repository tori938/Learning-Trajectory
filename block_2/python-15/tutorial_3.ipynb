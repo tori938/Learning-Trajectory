{
  "cells": [
    {
      "cell_type": "markdown",
      "metadata": {},
      "source": [
        "introduction"
      ]
    },
    {
      "cell_type": "code",
      "execution_count": 1,
      "metadata": {
        "trusted": true
      },
      "outputs": [
        {
          "name": "stdout",
          "output_type": "stream",
          "text": [
            "1500\n",
            "4000\n"
          ]
        }
      ],
      "source": [
        "#create a class\n",
        "class Item():\n",
        "    \n",
        "    def calculate_total_price(self, x, y):\n",
        "        return x * y\n",
        "\n",
        "#create an instance of a class\n",
        "item1 = Item()\n",
        "\n",
        "#assign attributes: but no set of rules --> constructor should be used\n",
        "item1.name = 'Phone'\n",
        "item1.price = 500\n",
        "item1.quantity = 3\n",
        "\n",
        "#create an instance of a class\n",
        "item2 = Item()\n",
        "\n",
        "#assign attributes: but no set of rules --> constructor should be used\n",
        "item2.name = 'Laptop'\n",
        "item2.price = 2000\n",
        "item2.quantity = 2\n",
        "\n",
        "#calling methods from instances of a class:\n",
        "print(item1.calculate_total_price(item1.price, item1.quantity))\n",
        "print(item2.calculate_total_price(item2.price, item2.quantity))"
      ]
    },
    {
      "cell_type": "markdown",
      "metadata": {},
      "source": [
        "constructor"
      ]
    },
    {
      "cell_type": "code",
      "execution_count": 2,
      "metadata": {
        "trusted": true
      },
      "outputs": [
        {
          "name": "stdout",
          "output_type": "stream",
          "text": [
            "1900\n",
            "2500\n"
          ]
        }
      ],
      "source": [
        "class Item():\n",
        "    \n",
        "    def __init__(self, name: str, price: float, quantity=0):\n",
        "        #run validations to the received arguments\n",
        "        assert price >= 0, (f'price {price} is not greater than or equal to zero!')\n",
        "        assert quantity >= 0, (f'quantity {quantity} is not greater or equal to zero!')\n",
        "\n",
        "        #assign to self object\n",
        "        self.name = name\n",
        "        self.price = price\n",
        "        self.quantity = quantity\n",
        "\n",
        "    def calculate_total_price(self):\n",
        "        return self.price * self.quantity\n",
        "\n",
        "item1 = Item('Phone', 950, 2)\n",
        "item2 = Item('Laptop', 2500, 1)\n",
        "\n",
        "print(item1.calculate_total_price())\n",
        "print(item2.calculate_total_price())"
      ]
    },
    {
      "cell_type": "markdown",
      "metadata": {},
      "source": [
        "class attributes"
      ]
    },
    {
      "cell_type": "code",
      "execution_count": 3,
      "metadata": {
        "trusted": true
      },
      "outputs": [
        {
          "name": "stdout",
          "output_type": "stream",
          "text": [
            "[Item('Phone', 950, 1), Item('Laptop', 2000, 1), Item('Cable', 8.5, 5), Item('Mouse', 40, 5), Item('Keyboard', 75, 5)]\n"
          ]
        }
      ],
      "source": [
        "class Item():\n",
        "\n",
        "    #assign a class variable\n",
        "    #->pay rate after 20% discount\n",
        "    pay_rate = 0.8\n",
        "    all = []\n",
        "    \n",
        "    def __init__(self, name: str, price: float, quantity=0):\n",
        "        #run validations to the received arguments\n",
        "        assert price >= 0, (f'price {price} is not greater than or equal to zero!')\n",
        "        assert quantity >= 0, (f'quantity {quantity} is not greater or equal to zero!')\n",
        "\n",
        "        #assign to self object\n",
        "        self.name = name\n",
        "        self.price = price\n",
        "        self.quantity = quantity\n",
        "\n",
        "        #actions to execute\n",
        "        Item.all.append(self)\n",
        "\n",
        "    def calculate_total_price(self):\n",
        "        return self.price * self.quantity\n",
        "\n",
        "    def apply_discount(self):\n",
        "        self.price = self.price * self.pay_rate\n",
        "\n",
        "    def __repr__(self):\n",
        "        return (f\"Item('{self.name}', {self.price}, {self.quantity})\")\n",
        "\n",
        "item1 = Item('Phone', 950, 1)\n",
        "item2 = Item('Laptop', 2000, 1)\n",
        "item3 = Item('Cable', 8.5, 5)\n",
        "item4 = Item('Mouse', 40, 5)\n",
        "item5 = Item('Keyboard', 75, 5)\n",
        "\n",
        "print(Item.all)"
      ]
    },
    {
      "cell_type": "markdown",
      "metadata": {},
      "source": [
        "class and static methods"
      ]
    },
    {
      "cell_type": "code",
      "execution_count": 4,
      "metadata": {
        "trusted": true
      },
      "outputs": [],
      "source": [
        "import csv\n",
        "\n",
        "class Item():\n",
        "    \n",
        "    #assign a class variable\n",
        "    #->pay rate after 20% discount\n",
        "    pay_rate = 0.8\n",
        "    all = []\n",
        "    \n",
        "    def __init__(self, name: str, price: float, quantity=0):\n",
        "        #run validations to the received arguments\n",
        "        assert price >= 0, (f'price {price} is not greater than or equal to zero!')\n",
        "        assert quantity >= 0, (f'quantity {quantity} is not greater or equal to zero!')\n",
        "\n",
        "        #assign to self object\n",
        "        self.name = name\n",
        "        self.price = price\n",
        "        self.quantity = quantity\n",
        "\n",
        "        #actions to execute\n",
        "        Item.all.append(self)\n",
        "\n",
        "    def calculate_total_price(self):\n",
        "        return self.price * self.quantity\n",
        "\n",
        "    def apply_discount(self):\n",
        "        self.price = self.price * self.pay_rate\n",
        "\n",
        "    @classmethod\n",
        "    def instantiate_from_csv(cls):\n",
        "        with open('items.csv', 'r') as f:\n",
        "            reader = csv.DictReader(f)\n",
        "            items = list(reader)\n",
        "\n",
        "        for item in items:\n",
        "            Item(\n",
        "                name=item.get('name'),\n",
        "                price=float(item.get('price')),\n",
        "                quantity=int(item.get('quantity')),\n",
        "            )\n",
        "\n",
        "    @staticmethod\n",
        "    def is_integer(num):\n",
        "        #to count out the floats that are point zero\n",
        "        #i.e. 5.0, 10.0\n",
        "        if isinstance(num, float):\n",
        "            #count out the floats that are point zero\n",
        "            return num.is_integer()\n",
        "        elif isinstance(num, int):\n",
        "            return True\n",
        "        else:\n",
        "            return False\n",
        "\n",
        "    def __repr__(self):\n",
        "        return f\"Item('{self.name}', {self.price}, {self.quantity})\""
      ]
    },
    {
      "cell_type": "markdown",
      "metadata": {},
      "source": [
        "inheritance"
      ]
    },
    {
      "cell_type": "code",
      "execution_count": 5,
      "metadata": {
        "trusted": true
      },
      "outputs": [
        {
          "name": "stdout",
          "output_type": "stream",
          "text": [
            "[Phone('iPhone 13 Max', 1200, 5)]\n"
          ]
        }
      ],
      "source": [
        "import csv\n",
        "\n",
        "\n",
        "class Item():\n",
        "\n",
        "    #assign a class variable\n",
        "    #->pay rate after 20% discount\n",
        "    pay_rate = 0.8\n",
        "    all = []\n",
        "    \n",
        "    def __init__(self, name: str, price: float, quantity=0):\n",
        "        #run validations to the received arguments\n",
        "        assert price >= 0, (f'price {price} is not greater than or equal to zero!')\n",
        "        assert quantity >= 0, (f'quantity {quantity} is not greater or equal to zero!')\n",
        "\n",
        "        #assign to self object\n",
        "        self.name = name\n",
        "        self.price = price\n",
        "        self.quantity = quantity\n",
        "\n",
        "        #actions to execute\n",
        "        Item.all.append(self)\n",
        "\n",
        "    def calculate_total_price(self):\n",
        "        return self.price * self.quantity\n",
        "\n",
        "    def apply_discount(self):\n",
        "        self.price = self.price * self.pay_rate\n",
        "\n",
        "    @classmethod\n",
        "    def instantiate_from_csv(cls):\n",
        "        with open('items.csv', 'r') as f:\n",
        "            reader = csv.DictReader(f)\n",
        "            items = list(reader)\n",
        "\n",
        "        for item in items:\n",
        "            Item(\n",
        "                name=item.get('name'),\n",
        "                price=float(item.get('price')),\n",
        "                quantity=int(item.get('quantity')),\n",
        "            )\n",
        "\n",
        "    @staticmethod\n",
        "    def is_integer(num):\n",
        "        #to count out the floats that are point zero\n",
        "        #i.e. 5.0, 10.0\n",
        "        if isinstance(num, float):\n",
        "            #count out the floats that are point zero\n",
        "            return num.is_integer()\n",
        "        elif isinstance(num, int):\n",
        "            return True\n",
        "        else:\n",
        "            return False\n",
        "\n",
        "    def __repr__(self):\n",
        "        return f\"{self.__class__.__name__}('{self.name}', {self.price}, {self.quantity})\"\n",
        "\n",
        "\n",
        "class Phone(Item):\n",
        "    def __init__(self, name: str, price: float, quantity=0, broken_phones=0):\n",
        "        #call to super function to have access to all attributes / methods\n",
        "        super().__init__(\n",
        "            name, price, quantity\n",
        "        )\n",
        "\n",
        "        #run validations to the received arguments\n",
        "        assert broken_phones >= 0, f\"Broken Phones {broken_phones} is not greater or equal to zero!\"\n",
        "\n",
        "        #assign to self object\n",
        "        self.broken_phones = broken_phones\n",
        "\n",
        "phone1 = Phone('iPhone 13 Max', 1200, 5, 1)\n",
        "\n",
        "print(Item.all)"
      ]
    },
    {
      "cell_type": "markdown",
      "metadata": {},
      "source": [
        "getters and setters"
      ]
    },
    {
      "cell_type": "code",
      "execution_count": 6,
      "metadata": {
        "trusted": true
      },
      "outputs": [
        {
          "data": {
            "text/html": [
              "<div>\n",
              "<style scoped>\n",
              "    .dataframe tbody tr th:only-of-type {\n",
              "        vertical-align: middle;\n",
              "    }\n",
              "\n",
              "    .dataframe tbody tr th {\n",
              "        vertical-align: top;\n",
              "    }\n",
              "\n",
              "    .dataframe thead th {\n",
              "        text-align: right;\n",
              "    }\n",
              "</style>\n",
              "<table border=\"1\" class=\"dataframe\">\n",
              "  <thead>\n",
              "    <tr style=\"text-align: right;\">\n",
              "      <th></th>\n",
              "      <th>name</th>\n",
              "      <th>price</th>\n",
              "      <th>quantity</th>\n",
              "    </tr>\n",
              "  </thead>\n",
              "  <tbody>\n",
              "    <tr>\n",
              "      <th>0</th>\n",
              "      <td>Phone</td>\n",
              "      <td>950.0</td>\n",
              "      <td>3</td>\n",
              "    </tr>\n",
              "    <tr>\n",
              "      <th>1</th>\n",
              "      <td>Laptop</td>\n",
              "      <td>2000.0</td>\n",
              "      <td>2</td>\n",
              "    </tr>\n",
              "    <tr>\n",
              "      <th>2</th>\n",
              "      <td>Cable</td>\n",
              "      <td>8.5</td>\n",
              "      <td>5</td>\n",
              "    </tr>\n",
              "    <tr>\n",
              "      <th>3</th>\n",
              "      <td>Mouse</td>\n",
              "      <td>40.0</td>\n",
              "      <td>5</td>\n",
              "    </tr>\n",
              "    <tr>\n",
              "      <th>4</th>\n",
              "      <td>Keyboard</td>\n",
              "      <td>74.9</td>\n",
              "      <td>5</td>\n",
              "    </tr>\n",
              "  </tbody>\n",
              "</table>\n",
              "</div>"
            ],
            "text/plain": [
              "       name   price  quantity\n",
              "0     Phone   950.0         3\n",
              "1    Laptop  2000.0         2\n",
              "2     Cable     8.5         5\n",
              "3     Mouse    40.0         5\n",
              "4  Keyboard    74.9         5"
            ]
          },
          "metadata": {},
          "output_type": "display_data"
        }
      ],
      "source": [
        "import pandas as pd\n",
        "\n",
        "items = pd.DataFrame({\n",
        "    'name': ['Phone', 'Laptop', 'Cable', 'Mouse', 'Keyboard'],\n",
        "    'price': [950, 2000, 8.5, 40, 74.90],\n",
        "    'quantity': [3, 2, 5, 5, 5]\n",
        "})\n",
        "\n",
        "display(items)"
      ]
    },
    {
      "cell_type": "code",
      "execution_count": 7,
      "metadata": {
        "trusted": true
      },
      "outputs": [],
      "source": [
        "import csv\n",
        "\n",
        "class Item:\n",
        "    pay_rate = 0.8 # The pay rate after 20% discount\n",
        "    all = []\n",
        "    def __init__(self, name: str, price: float, quantity=0):\n",
        "        # Run validations to the received arguments\n",
        "        assert price >= 0, f\"Price {price} is not greater than or equal to zero!\"\n",
        "        assert quantity >= 0, f\"Quantity {quantity} is not greater or equal to zero!\"\n",
        "\n",
        "        # Assign to self object\n",
        "        self.__name = name\n",
        "        self.price = price\n",
        "        self.quantity = quantity\n",
        "\n",
        "        # Actions to execute\n",
        "        Item.all.append(self)\n",
        "\n",
        "    @property\n",
        "    # Property Decorator = Read-Only Attribute\n",
        "    def name(self):\n",
        "        return self.__name\n",
        "\n",
        "    @name.setter\n",
        "    def name(self, value):\n",
        "        if len(value) > 10:\n",
        "            raise Exception(\"The name is too long!\")\n",
        "        else:\n",
        "            self.__name = value\n",
        "\n",
        "    def calculate_total_price(self):\n",
        "        return self.price * self.quantity\n",
        "\n",
        "    def apply_discount(self):\n",
        "        self.price = self.price * self.pay_rate\n",
        "\n",
        "    @classmethod\n",
        "    def instantiate_from_csv(cls):\n",
        "        with open('items.csv', 'r') as f:\n",
        "            reader = csv.DictReader(f)\n",
        "            items = list(reader)\n",
        "\n",
        "        for item in items:\n",
        "            Item(\n",
        "                name=item.get('name'),\n",
        "                price=float(item.get('price')),\n",
        "                quantity=int(item.get('quantity')),\n",
        "            )\n",
        "\n",
        "    @staticmethod\n",
        "    def is_integer(num):\n",
        "        # We will count out the floats that are point zero\n",
        "        # For i.e: 5.0, 10.0\n",
        "        if isinstance(num, float):\n",
        "            # Count out the floats that are point zero\n",
        "            return num.is_integer()\n",
        "        elif isinstance(num, int):\n",
        "            return True\n",
        "        else:\n",
        "            return False\n",
        "\n",
        "    def __repr__(self):\n",
        "        return f\"{self.__class__.__name__}('{self.name}', {self.price}, {self.quantity})\""
      ]
    },
    {
      "cell_type": "code",
      "execution_count": 8,
      "metadata": {
        "trusted": true
      },
      "outputs": [],
      "source": [
        "class Phone(Item):\n",
        "    def __init__(self, name: str, price: float, quantity=0, broken_phones=0):\n",
        "        # Call to super function to have access to all attributes / methods\n",
        "        super().__init__(\n",
        "            name, price, quantity\n",
        "        )\n",
        "\n",
        "        # Run validations to the received arguments\n",
        "        assert broken_phones >= 0, f\"Broken Phones {broken_phones} is not greater or equal to zero!\"\n",
        "\n",
        "        # Assign to self object\n",
        "        self.broken_phones = broken_phones"
      ]
    }
  ],
  "metadata": {
    "kernelspec": {
      "display_name": "Python 3",
      "language": "python",
      "name": "python3"
    },
    "language_info": {
      "codemirror_mode": {
        "name": "ipython",
        "version": 3
      },
      "file_extension": ".py",
      "mimetype": "text/x-python",
      "name": "python",
      "nbconvert_exporter": "python",
      "pygments_lexer": "ipython3",
      "version": "3.10.5"
    }
  },
  "nbformat": 4,
  "nbformat_minor": 4
}
