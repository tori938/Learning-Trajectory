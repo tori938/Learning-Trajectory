{
 "cells": [
  {
   "cell_type": "code",
   "execution_count": 1,
   "metadata": {},
   "outputs": [],
   "source": [
    "from collections import Counter, defaultdict, OrderedDict"
   ]
  },
  {
   "cell_type": "code",
   "execution_count": 2,
   "metadata": {},
   "outputs": [],
   "source": [
    "from functools import reduce\n",
    "\n",
    "import itertools\n",
    "from itertools import chain"
   ]
  },
  {
   "cell_type": "code",
   "execution_count": 3,
   "metadata": {},
   "outputs": [],
   "source": [
    "import math\n",
    "import statistics"
   ]
  },
  {
   "cell_type": "code",
   "execution_count": 4,
   "metadata": {},
   "outputs": [],
   "source": [
    "import numpy as np\n",
    "import pandas as pd"
   ]
  },
  {
   "cell_type": "code",
   "execution_count": 5,
   "metadata": {},
   "outputs": [],
   "source": [
    "import matplotlib.pyplot as plt\n",
    "import seaborn as sns\n",
    "import plotly\n",
    "import plotly.express as px\n",
    "import plotly.graph_objects as go"
   ]
  },
  {
   "cell_type": "code",
   "execution_count": 6,
   "metadata": {},
   "outputs": [],
   "source": [
    "from chardet.universaldetector import UniversalDetector"
   ]
  },
  {
   "cell_type": "code",
   "execution_count": 7,
   "metadata": {},
   "outputs": [],
   "source": [
    "import json\n",
    "from pprint import pprint"
   ]
  },
  {
   "cell_type": "code",
   "execution_count": 8,
   "metadata": {},
   "outputs": [],
   "source": [
    "import requests\n",
    "from bs4 import BeautifulSoup\n",
    "import schedule\n",
    "import time"
   ]
  },
  {
   "cell_type": "code",
   "execution_count": 9,
   "metadata": {},
   "outputs": [
    {
     "name": "stdout",
     "output_type": "stream",
     "text": [
      "True\n",
      "True\n",
      "True\n"
     ]
    }
   ],
   "source": [
    "x = '5'\n",
    "y = 'tyt'\n",
    "z = '7ofhearts'\n",
    "\n",
    "print(x.isdigit())\n",
    "print(y.isalpha())\n",
    "print(z.isalnum())"
   ]
  },
  {
   "cell_type": "code",
   "execution_count": 10,
   "metadata": {},
   "outputs": [
    {
     "name": "stdout",
     "output_type": "stream",
     "text": [
      "120 a\n"
     ]
    }
   ],
   "source": [
    "x = 'x'\n",
    "y = 97\n",
    "print(ord(x), chr(y))"
   ]
  },
  {
   "cell_type": "markdown",
   "metadata": {},
   "source": [
    "LIST METHODS"
   ]
  },
  {
   "cell_type": "code",
   "execution_count": 11,
   "metadata": {},
   "outputs": [],
   "source": [
    "x = [1, 2, 3]\n",
    "y = [4, 5, 6]\n",
    "t = [5, 6]\n",
    "z = ['jackie', 'shauna', 'lottie']\n",
    "w = [True, 'clue', 11]"
   ]
  },
  {
   "cell_type": "code",
   "execution_count": 12,
   "metadata": {},
   "outputs": [
    {
     "name": "stdout",
     "output_type": "stream",
     "text": [
      "[1, 2, 3, [4, 5, 6]]\n",
      "\n",
      "[]\n",
      "\n",
      "1\n",
      "\n",
      "6\n",
      "4\n",
      "\n",
      "[4, 5, 6, 5, 6]\n",
      "\n",
      "26\n",
      "\n",
      "[11, 'clue', True]\n",
      "\n",
      "[11, 'clue']\n",
      "\n",
      "['clue']\n",
      "\n",
      "['clue', 'five']\n"
     ]
    }
   ],
   "source": [
    "x.append(y)\n",
    "print(x)\n",
    "print()\n",
    "\n",
    "x.clear()\n",
    "print(x)\n",
    "print()\n",
    "\n",
    "print(y.count(5))\n",
    "print()\n",
    "\n",
    "print(max(y))\n",
    "print(min(y))\n",
    "print()\n",
    "\n",
    "y.extend(t)\n",
    "print(y)\n",
    "print()\n",
    "\n",
    "print(sum(y))\n",
    "print()\n",
    "\n",
    "w.reverse()\n",
    "print(w)\n",
    "print()\n",
    "\n",
    "w.remove(True)\n",
    "print(w)\n",
    "print()\n",
    "\n",
    "w.pop(0)\n",
    "print(w)\n",
    "print()\n",
    "\n",
    "w.insert(1, 'five')\n",
    "print(w)"
   ]
  },
  {
   "cell_type": "markdown",
   "metadata": {},
   "source": [
    "TUPLE METHODS"
   ]
  },
  {
   "cell_type": "code",
   "execution_count": 13,
   "metadata": {},
   "outputs": [],
   "source": [
    "x = (1, 2, 3)\n",
    "y = ('leah', 'gretchen', 'seth')\n",
    "z = ('jackie', 'nat', 'lottie', 'laura lee')"
   ]
  },
  {
   "cell_type": "code",
   "execution_count": 14,
   "metadata": {},
   "outputs": [
    {
     "name": "stdout",
     "output_type": "stream",
     "text": [
      "1\n",
      "\n",
      "0\n",
      "('leah', 'gretchen', 'seth')\n",
      "\n",
      "(('leah', 'jackie'), ('gretchen', 'nat'), ('seth', 'lottie'))\n",
      "\n"
     ]
    }
   ],
   "source": [
    "print(x.count(2))\n",
    "print()\n",
    "\n",
    "print(y.index('leah'))\n",
    "print(y)\n",
    "print()\n",
    "\n",
    "print(tuple(zip(y, z)))\n",
    "print()"
   ]
  },
  {
   "cell_type": "markdown",
   "metadata": {},
   "source": [
    "SET METHODS"
   ]
  },
  {
   "cell_type": "code",
   "execution_count": 15,
   "metadata": {},
   "outputs": [],
   "source": [
    "x = {1, 2, 3}\n",
    "y = {'leah', 'gretchen', 'seth'}\n",
    "z = {'fatin', 'dot', 'martha'}"
   ]
  },
  {
   "cell_type": "code",
   "execution_count": 16,
   "metadata": {},
   "outputs": [
    {
     "name": "stdout",
     "output_type": "stream",
     "text": [
      "{'seth', 'gretchen', 'leah', 'daniel'}\n",
      "\n",
      "{'nora', 'leah', 'seth', 'gretchen', 'daniel'}\n",
      "\n"
     ]
    }
   ],
   "source": [
    "y.add('daniel')\n",
    "print(y)\n",
    "print()\n",
    "\n",
    "v = {'nora'}\n",
    "y.update(v)\n",
    "print(y)\n",
    "print()"
   ]
  },
  {
   "cell_type": "code",
   "execution_count": 17,
   "metadata": {},
   "outputs": [
    {
     "name": "stdout",
     "output_type": "stream",
     "text": [
      "{'leah', 'seth', 'gretchen', 'daniel'}\n",
      "\n"
     ]
    }
   ],
   "source": [
    "y.discard('nora')\n",
    "print(y)\n",
    "print()"
   ]
  },
  {
   "cell_type": "code",
   "execution_count": 18,
   "metadata": {},
   "outputs": [
    {
     "name": "stdout",
     "output_type": "stream",
     "text": [
      "{'fatin', 'martha', 'leah', 'dot', 'seth', 'gretchen', 'daniel'}\n"
     ]
    }
   ],
   "source": [
    "print(y.union(z))"
   ]
  },
  {
   "cell_type": "markdown",
   "metadata": {},
   "source": [
    "DICTIONARY METHODS"
   ]
  },
  {
   "cell_type": "code",
   "execution_count": 19,
   "metadata": {},
   "outputs": [],
   "source": [
    "players = {\n",
    "    'hearts': ['leah'],\n",
    "    'clubs': ['fatin', 'dot', 'martha'],\n",
    "    'diamonds': ['shelby', 'nora'],\n",
    "    'spades': ['rachel', 'toni']\n",
    "}\n",
    "\n",
    "citizens = {\n",
    "    'hearts': ['gretchen', 'daniel', 'seth'],\n",
    "    'clubs': ['audrey', 'alex'],\n",
    "    'diamonds': ['leonard', 'linh'],\n",
    "    'spades': ['']\n",
    "}\n",
    "\n",
    "dealers = {\n",
    "    'hearts': ['devon'],\n",
    "    'clubs': ['josh'],\n",
    "    'diamonds': ['susan', 'thom'],\n",
    "    'spades': ['']\n",
    "}"
   ]
  },
  {
   "cell_type": "code",
   "execution_count": 20,
   "metadata": {},
   "outputs": [
    {
     "name": "stdout",
     "output_type": "stream",
     "text": [
      "dict_keys(['hearts', 'clubs', 'diamonds', 'spades'])\n",
      "dict_values([['gretchen', 'daniel', 'seth'], ['audrey', 'alex'], ['leonard', 'linh'], ['']])\n",
      "dict_items([('hearts', ['leah']), ('clubs', ['fatin', 'dot', 'martha']), ('diamonds', ['shelby', 'nora']), ('spades', ['rachel', 'toni'])])\n",
      "\n",
      "{}\n",
      "\n",
      "['leah']\n",
      "\n",
      "{'hearts': ['gretchen', 'daniel', 'seth'], 'diamonds': ['leonard', 'linh'], 'spades': ['']}\n",
      "\n"
     ]
    }
   ],
   "source": [
    "print(players.keys())\n",
    "print(citizens.values())\n",
    "print(players.items())\n",
    "print()\n",
    "\n",
    "dealers.clear()\n",
    "print(dealers)\n",
    "print()\n",
    "\n",
    "x = players.get('hearts')\n",
    "print(x)\n",
    "print()\n",
    "\n",
    "citizens.pop('clubs')\n",
    "print(citizens)\n",
    "print()\n"
   ]
  },
  {
   "cell_type": "code",
   "execution_count": 21,
   "metadata": {},
   "outputs": [
    {
     "name": "stdout",
     "output_type": "stream",
     "text": [
      "{'hearts': ['leah', 'gretchen', 'daniel', 'seth'], 'clubs': ['fatin', 'dot', 'martha', 'gretchen', 'daniel', 'seth'], 'diamonds': ['shelby', 'nora', 'gretchen', 'daniel', 'seth'], 'spades': ['rachel', 'toni', 'gretchen', 'daniel', 'seth']}\n"
     ]
    }
   ],
   "source": [
    "from collections import defaultdict\n",
    "\n",
    "d = {}\n",
    "\n",
    "players_x = {\n",
    "    'hearts': ['leah'],\n",
    "    'clubs': ['fatin', 'dot', 'martha'],\n",
    "    'diamonds': ['shelby', 'nora'],\n",
    "    'spades': ['rachel', 'toni']\n",
    "}\n",
    "\n",
    "citizens_x = {\n",
    "    'hearts': ['gretchen', 'daniel', 'seth'],\n",
    "    'clubs': ['audrey', 'alex'],\n",
    "    'diamonds': ['leonard', 'linh'],\n",
    "    'spades': ['']\n",
    "}\n",
    "\n",
    "for k1, v1 in players_x.items():\n",
    "    for k2, v2 in citizens_x.items():\n",
    "        if k1 not in d:\n",
    "            d[k1] = v1 + v2\n",
    "print(d)"
   ]
  },
  {
   "cell_type": "code",
   "execution_count": 22,
   "metadata": {},
   "outputs": [
    {
     "name": "stdout",
     "output_type": "stream",
     "text": [
      "[[1. 0. 0.]\n",
      " [0. 1. 0.]\n",
      " [0. 0. 1.]]\n"
     ]
    }
   ],
   "source": [
    "print(np.eye(3))"
   ]
  },
  {
   "cell_type": "code",
   "execution_count": 23,
   "metadata": {},
   "outputs": [
    {
     "data": {
      "text/plain": [
       "0      Опыт работы 8 лет 3 месяца\n",
       "1    Опыт работы 3 года 5 месяцев\n",
       "2     Опыт работы 1 год 9 месяцев\n",
       "3            Опыт работы 3 месяца\n",
       "4               Опыт работы 6 лет\n",
       "dtype: object"
      ]
     },
     "execution_count": 23,
     "metadata": {},
     "output_type": "execute_result"
    }
   ],
   "source": [
    "test_series_1 = pd.Series([\n",
    "    'Опыт работы 8 лет 3 месяца',\n",
    "    'Опыт работы 3 года 5 месяцев',\n",
    "    'Опыт работы 1 год 9 месяцев',\n",
    "    'Опыт работы 3 месяца',\n",
    "    'Опыт работы 6 лет'\n",
    "])\n",
    "test_series_1"
   ]
  },
  {
   "cell_type": "markdown",
   "metadata": {},
   "source": [
    "CONTAINS FUNCTION USED WITH STR"
   ]
  },
  {
   "cell_type": "code",
   "execution_count": 24,
   "metadata": {},
   "outputs": [],
   "source": [
    "def get_experience(arg):\n",
    "    #convert the string into a list with each element separated\n",
    "    arg_lst = arg.split(' ')\n",
    "    #for the experience in years AND months\n",
    "    if len(arg_lst) == 6:\n",
    "        yrs = arg_lst[2]\n",
    "        mths = arg_lst[4]\n",
    "        exp = (int(yrs) * 12) + int(mths)\n",
    "    #for the experience in months OR years\n",
    "    elif len(arg_lst) == 4:\n",
    "        for word in arg_lst:\n",
    "            if arg.__contains__('мес'):\n",
    "                mths = arg_lst[2]\n",
    "                exp = int(mths)\n",
    "            elif arg.__contains__('лет') or arg.__contains__('год'):\n",
    "                yrs = arg_lst[2]\n",
    "                exp = int(yrs) * 12\n",
    "    return exp"
   ]
  },
  {
   "cell_type": "markdown",
   "metadata": {},
   "source": [
    "DROP COLUMNS"
   ]
  },
  {
   "cell_type": "code",
   "execution_count": 25,
   "metadata": {},
   "outputs": [
    {
     "name": "stdout",
     "output_type": "stream",
     "text": [
      "first time\n",
      "   cust_id  cust_age  cust_sale  cust_year_birth  cust_order\n",
      "0      128        13       0.00             2008        1400\n",
      "1     1201        21       0.00             2000       14142\n",
      "2     9832        19       0.20             2002         900\n",
      "3     4392        21       0.15             2000        1240\n",
      "4     7472        60       0.30             1961        8430\n",
      "\n",
      "second time\n",
      "   number2  cust_id2  cust_year_birth2  cust_order2\n",
      "0        0       128              2008         1400\n",
      "1        1      1201              2000        14142\n",
      "2        2      9832              2002          900\n",
      "3        3      4392              2000         1240\n",
      "4        4      7472              1961         8430\n",
      "\n",
      "third time\n",
      "None\n",
      "\n"
     ]
    }
   ],
   "source": [
    "customer_df = pd.DataFrame({\n",
    "            'number': [0, 1, 2, 3, 4],\n",
    "            'cust_id': [128, 1201, 9832, 4392, 7472],\n",
    "            'cust_age': [13, 21, 19, 21, 60],\n",
    "            'cust_sale': [0, 0, 0.2, 0.15, 0.3],\n",
    "            'cust_year_birth': [2008, 2000, 2002, 2000, 1961],\n",
    "            'cust_order': [1400, 14142, 900, 1240, 8430]\n",
    "        })\n",
    "\n",
    "customer_df2 = pd.DataFrame({\n",
    "            'number2': [0, 1, 2, 3, 4],\n",
    "            'cust_id2': [128, 1201, 9832, 4392, 7472],\n",
    "            'cust_age2': [13, 21, 19, 21, 60],\n",
    "            'cust_sale2': [0, 0, 0.2, 0.15, 0.3],\n",
    "            'cust_year_birth2': [2008, 2000, 2002, 2000, 1961],\n",
    "            'cust_order2': [1400, 14142, 900, 1240, 8430]\n",
    "        })\n",
    "\n",
    "def delete_columns(df, col=[]):\n",
    "    #work with a copy of the dataframe directly -> highly important otherwise leads to errors\n",
    "    new_df = df\n",
    "    #find whether the name of the column exists in the list\n",
    "    for column in col:\n",
    "        #if the name exists in the column names\n",
    "        if column in df.columns: #-> no need to use the list()\n",
    "            #delete the column \n",
    "            new_df = new_df.drop(column, axis=1, errors='ignore') #-> work directly with new_df entire time\n",
    "        else:\n",
    "            #if name of the column doesn't exist\n",
    "            return None\n",
    "    return new_df\n",
    "\n",
    "print('first time')\n",
    "print(delete_columns(df = customer_df, col = ['number']))\n",
    "print()\n",
    "\n",
    "print('second time')\n",
    "print(delete_columns(col = ['cust_sale2', 'cust_age2'], df = customer_df2))\n",
    "print()\n",
    "\n",
    "print('third time')\n",
    "print(delete_columns(df = customer_df2, col = ['cust_sale2', 'non-existent']))\n",
    "print()"
   ]
  }
 ],
 "metadata": {
  "kernelspec": {
   "display_name": "Python 3",
   "language": "python",
   "name": "python3"
  },
  "language_info": {
   "codemirror_mode": {
    "name": "ipython",
    "version": 3
   },
   "file_extension": ".py",
   "mimetype": "text/x-python",
   "name": "python",
   "nbconvert_exporter": "python",
   "pygments_lexer": "ipython3",
   "version": "3.10.5"
  }
 },
 "nbformat": 4,
 "nbformat_minor": 2
}
