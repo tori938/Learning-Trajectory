{
 "cells": [
  {
   "cell_type": "markdown",
   "metadata": {},
   "source": [
    "count the number of values in a nested dictionary"
   ]
  },
  {
   "cell_type": "code",
   "execution_count": 1,
   "metadata": {},
   "outputs": [
    {
     "name": "stdout",
     "output_type": "stream",
     "text": [
      "2\n",
      "6\n",
      "6\n"
     ]
    }
   ],
   "source": [
    "food_colors = {\n",
    "    'fruit': {'orange': 'orange',\n",
    "              'apple': 'red', 'banana': 'yellow'},\n",
    "    'vegetables': {'lettuce': 'green',\n",
    "                   'beet': 'red',\n",
    "                   'pumpkin': 'orange'}\n",
    "}\n",
    "print(len(food_colors))\n",
    "\n",
    "print(sum(len(v) for v in food_colors.values()))\n",
    "\n",
    "def count(d):\n",
    "    return sum([count(v) if isinstance(v, dict) else 1 for v in d.values()])\n",
    "\n",
    "print(count(food_colors))"
   ]
  },
  {
   "cell_type": "markdown",
   "metadata": {},
   "source": [
    "create tuples that extract words of specific length and of specific letter"
   ]
  },
  {
   "cell_type": "code",
   "execution_count": 8,
   "metadata": {},
   "outputs": [
    {
     "name": "stdout",
     "output_type": "stream",
     "text": [
      "['the', 'list', 'of', 'survivors', 'jackie', 'shauna', 'lottie', 'natalie', 'misty', 'taissa', 'vanessa']\n",
      "\n",
      "['jackie', 'lottie', 'natalie', 'vanessa']\n"
     ]
    },
    {
     "data": {
      "text/plain": [
       "[('jackie', 1), ('shauna', 2), ('natalie', 2), ('taissa', 2), ('vanessa', 2)]"
      ]
     },
     "execution_count": 8,
     "metadata": {},
     "output_type": "execute_result"
    }
   ],
   "source": [
    "text = 'the list of survivors: jackie, shauna, lottie, natalie, misty, taissa, vanessa'\n",
    "lst_of_text = text.replace(':', '').replace(',', '').split()\n",
    "print(lst_of_text)\n",
    "print()\n",
    "\n",
    "words = list(filter(lambda x: (len(x) > 4 and 'e' in x), lst_of_text))\n",
    "print(words)\n",
    "\n",
    "def specific_words_with_letters(text, length, letter):\n",
    "    text = text.replace(':', '').replace(',', '').split()\n",
    "    \n",
    "    new_words = []\n",
    "    for x in text:\n",
    "        if len(x) > length and letter in x:\n",
    "            count = x.count(letter)\n",
    "            new_words.append((x, count))\n",
    "    return new_words\n",
    "\n",
    "specific_words_with_letters(text, 2, 'a')"
   ]
  },
  {
   "cell_type": "markdown",
   "metadata": {},
   "source": [
    "extract values from nested dictionary"
   ]
  },
  {
   "cell_type": "code",
   "execution_count": 13,
   "metadata": {},
   "outputs": [
    {
     "name": "stdout",
     "output_type": "stream",
     "text": [
      "The original dictionary is : {'Gfg': {'a': 7, 'b': 9, 'c': 12}, 'is': {'a': 15, 'b': 19, 'c': 20}, 'best': {'a': 5, 'b': 10, 'c': 2}}\n",
      "\n",
      "The extracted values : [12, 20, 2]\n",
      "\n",
      "The extracted values : [9, 19, 10]\n",
      "\n",
      "The extracted values : [7, 15, 5]\n"
     ]
    }
   ],
   "source": [
    "# initializing dictionary\n",
    "test_dict = {'Gfg' : {\"a\" : 7, \"b\" : 9, \"c\" : 12},\n",
    "             'is' : {\"a\" : 15, \"b\" : 19, \"c\" : 20}, \n",
    "             'best' :{\"a\" : 5, \"b\" : 10, \"c\" : 2}}\n",
    " \n",
    "# printing original dictionary\n",
    "print(\"The original dictionary is : \" + str(test_dict))\n",
    "print()\n",
    " \n",
    "# initializing key\n",
    "temp = \"c\"\n",
    " \n",
    "# using item() to extract key value pair as whole\n",
    "res = [val[temp] for key, val in test_dict.items() if temp in val]\n",
    " \n",
    "# printing result\n",
    "print(\"The extracted values : \" + str(res)) \n",
    "print()\n",
    "\n",
    "\n",
    "\n",
    "# initializing key\n",
    "temp = \"b\"\n",
    "\n",
    "# using keys() and values() to extract values\n",
    "res = [sub[temp] for sub in test_dict.values() if temp in sub.keys()]\n",
    " \n",
    "# printing result \n",
    "print(\"The extracted values : \" + str(res)) \n",
    "print()\n",
    "\n",
    "\n",
    "\n",
    "# initializing empty list\n",
    "res = []\n",
    "\n",
    "# initializing key\n",
    "temp = \"a\"\n",
    "\n",
    "# iterating over each value in dictionary\n",
    "for value in test_dict.values():\n",
    "     \n",
    "    # checking if key exists in current value\n",
    "    if temp in value:\n",
    "         \n",
    "        # appending value of key to the result list\n",
    "        res.append(value[temp])\n",
    " \n",
    "# printing result\n",
    "print(\"The extracted values : \" + str(res))"
   ]
  },
  {
   "cell_type": "markdown",
   "metadata": {},
   "source": [
    "update all values in a nested dictionary"
   ]
  },
  {
   "cell_type": "code",
   "execution_count": 14,
   "metadata": {},
   "outputs": [
    {
     "name": "stdout",
     "output_type": "stream",
     "text": [
      "{'first': {'firstInner': 1}, 'second': {'secondInner': 2}}\n",
      "\n",
      "{'first': {'firstInner': 3}, 'second': {'secondInner': 3}}\n",
      "\n",
      "{'first': {'firstInner': 3}, 'second': {'secondInner': 3}}\n"
     ]
    }
   ],
   "source": [
    "sample = {\n",
    "    \"first\": {\"firstInner\": 1}, \n",
    "    \"second\": {\"secondInner\": 2}\n",
    "}\n",
    "print(sample)\n",
    "print()\n",
    "\n",
    "for key, value in sample.items():\n",
    "    for k in value.keys():\n",
    "        value[k] = 3\n",
    "print(sample)\n",
    "print()\n",
    "\n",
    "for outer in sample.keys():\n",
    "    for inner in sample[outer].keys():\n",
    "        sample[outer][inner] = 3\n",
    "print(sample)"
   ]
  },
  {
   "cell_type": "markdown",
   "metadata": {},
   "source": [
    "lists and lambda - find the lowest mark of a student"
   ]
  },
  {
   "cell_type": "code",
   "execution_count": 1,
   "metadata": {},
   "outputs": [
    {
     "name": "stdout",
     "output_type": "stream",
     "text": [
      "\n",
      "Names and Marks of all students:\n",
      "[['', 5.0], ['', 5.0], ['', 5.0], ['', 5.0], ['', 5.0]]\n",
      "\n",
      "Second lowest Marks:  0\n",
      "\n",
      "Names:\n"
     ]
    }
   ],
   "source": [
    "# students = []\n",
    "\n",
    "# # Create an empty list 'sec_name' (currently unused)\n",
    "# sec_name = []\n",
    "\n",
    "# # Initialize the variable 'second_low' to 0\n",
    "# second_low = 0\n",
    "\n",
    "# # Prompt the user to input the number of students\n",
    "# n = int(input(\"Input number of students: \"))\n",
    "\n",
    "# # Loop to input names and scores for 'n' students\n",
    "# for _ in range(n):\n",
    "#    # Prompt the user to input the student's name\n",
    "#    s_name = input(\"Name: \")\n",
    "   \n",
    "#    # Prompt the user to input the student's total marks (score)\n",
    "#    score = float(input(\"Total marks: \"))\n",
    "   \n",
    "#    # Append a list containing the student's name and score to the 'students' list\n",
    "#    students.append([s_name, score])\n",
    "\n",
    "# # Print a message to display the names and marks of all students\n",
    "# print(\"\\nNames and Marks of all students:\")\n",
    "   \n",
    "# # Print the content of the 'students' list\n",
    "# print(students)\n",
    "\n",
    "# # Sort the 'students' list based on the scores in ascending order\n",
    "# order = sorted(students, key=lambda x: int(x[1]))\n",
    "\n",
    "# # Loop to find the second lowest score\n",
    "# for i in range(n):\n",
    "#    if order[i][1] != order[0][1]:\n",
    "#        second_low = order[i][1]\n",
    "#        break\n",
    "\n",
    "# # Print a message to display the second lowest score\n",
    "# print(\"\\nSecond lowest Marks: \", second_low)\n",
    "\n",
    "# # Create a list 'sec_student_name' to store names of students with the second lowest score\n",
    "# sec_student_name = [x[0] for x in order if x[1] == second_low]\n",
    "\n",
    "# # Sort the names in 'sec_student_name' in alphabetical order\n",
    "# sec_student_name.sort()\n",
    "\n",
    "# # Print a message to display the names of students with the second lowest score\n",
    "# print(\"\\nNames:\")\n",
    "\n",
    "# # Loop to print the names of these students\n",
    "# for s_name in sec_student_name:\n",
    "#    print(s_name) "
   ]
  }
 ],
 "metadata": {
  "kernelspec": {
   "display_name": "Python 3",
   "language": "python",
   "name": "python3"
  },
  "language_info": {
   "codemirror_mode": {
    "name": "ipython",
    "version": 3
   },
   "file_extension": ".py",
   "mimetype": "text/x-python",
   "name": "python",
   "nbconvert_exporter": "python",
   "pygments_lexer": "ipython3",
   "version": "3.10.5"
  }
 },
 "nbformat": 4,
 "nbformat_minor": 2
}
