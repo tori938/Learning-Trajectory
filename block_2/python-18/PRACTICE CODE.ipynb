{
 "cells": [
  {
   "cell_type": "code",
   "execution_count": 98,
   "metadata": {},
   "outputs": [],
   "source": [
    "from collections import Counter, defaultdict, OrderedDict"
   ]
  },
  {
   "cell_type": "code",
   "execution_count": 99,
   "metadata": {},
   "outputs": [],
   "source": [
    "from functools import reduce\n",
    "\n",
    "import itertools\n",
    "from itertools import chain"
   ]
  },
  {
   "cell_type": "code",
   "execution_count": 100,
   "metadata": {},
   "outputs": [],
   "source": [
    "import math\n",
    "import statistics"
   ]
  },
  {
   "cell_type": "code",
   "execution_count": 101,
   "metadata": {},
   "outputs": [],
   "source": [
    "import numpy as np\n",
    "import pandas as pd"
   ]
  },
  {
   "cell_type": "code",
   "execution_count": 102,
   "metadata": {},
   "outputs": [],
   "source": [
    "import matplotlib.pyplot as plt\n",
    "import seaborn as sns\n",
    "import plotly\n",
    "import plotly.express as px\n",
    "import plotly.graph_objects as go"
   ]
  },
  {
   "cell_type": "code",
   "execution_count": 103,
   "metadata": {},
   "outputs": [],
   "source": [
    "from chardet.universaldetector import UniversalDetector"
   ]
  },
  {
   "cell_type": "code",
   "execution_count": 104,
   "metadata": {},
   "outputs": [],
   "source": [
    "import json\n",
    "from pprint import pprint"
   ]
  },
  {
   "cell_type": "code",
   "execution_count": 105,
   "metadata": {},
   "outputs": [],
   "source": [
    "import requests\n",
    "from bs4 import BeautifulSoup\n",
    "import schedule\n",
    "import time"
   ]
  },
  {
   "cell_type": "code",
   "execution_count": 106,
   "metadata": {},
   "outputs": [],
   "source": [
    "one = [1, \"2\", 3, \"4\"]\n",
    "two = (\"a\", \"b\", \"c\", \"d\")"
   ]
  },
  {
   "cell_type": "code",
   "execution_count": 107,
   "metadata": {},
   "outputs": [
    {
     "name": "stdout",
     "output_type": "stream",
     "text": [
      "[1, '2', 3, '4', 5]\n"
     ]
    }
   ],
   "source": [
    "one.append(5)\n",
    "print(one)\n",
    "\n",
    "# three = one + two\n",
    "# print(three)"
   ]
  },
  {
   "cell_type": "code",
   "execution_count": 108,
   "metadata": {},
   "outputs": [],
   "source": [
    "my_lst = [1, 2]\n"
   ]
  },
  {
   "cell_type": "code",
   "execution_count": 109,
   "metadata": {},
   "outputs": [],
   "source": [
    "#my_lst = my_lst[::-1]\n",
    "#my_lst.inverse()\n",
    "my_lst.reverse()\n",
    "#my_lst = my_lst[:, :, -1]\n",
    "#my_lst = my_lst[:-1]"
   ]
  },
  {
   "cell_type": "code",
   "execution_count": 110,
   "metadata": {},
   "outputs": [
    {
     "name": "stdout",
     "output_type": "stream",
     "text": [
      "[2, 1]\n"
     ]
    }
   ],
   "source": [
    "print(my_lst)"
   ]
  },
  {
   "cell_type": "code",
   "execution_count": 111,
   "metadata": {},
   "outputs": [],
   "source": [
    "config = {\n",
    "    \"server\": {\n",
    "        \"host\": \"127.0.0.1\",\n",
    "        \"port\": \"22\"\n",
    "    },\n",
    "    \"configuration\": {\n",
    "        \"ssh\": {\n",
    "            \"access\": True,\n",
    "            \"login\": \"some\",\n",
    "            \"password\": \"some\"\n",
    "        },\n",
    "        \"name\": \"2491Oaaf1414\"\n",
    "    }\n",
    "}"
   ]
  },
  {
   "cell_type": "code",
   "execution_count": 112,
   "metadata": {},
   "outputs": [
    {
     "data": {
      "text/plain": [
       "'some'"
      ]
     },
     "execution_count": 112,
     "metadata": {},
     "output_type": "execute_result"
    }
   ],
   "source": [
    "config['configuration']['ssh']['login']"
   ]
  },
  {
   "cell_type": "code",
   "execution_count": 113,
   "metadata": {},
   "outputs": [
    {
     "name": "stdout",
     "output_type": "stream",
     "text": [
      " gh \n"
     ]
    }
   ],
   "source": [
    "s = ' gh '\n",
    "''.join(s.split(' '))\n",
    "print(s)"
   ]
  },
  {
   "cell_type": "code",
   "execution_count": 114,
   "metadata": {},
   "outputs": [
    {
     "ename": "TypeError",
     "evalue": "'list' object is not callable",
     "output_type": "error",
     "traceback": [
      "\u001b[0;31m---------------------------------------------------------------------------\u001b[0m",
      "\u001b[0;31mTypeError\u001b[0m                                 Traceback (most recent call last)",
      "Cell \u001b[0;32mIn[114], line 2\u001b[0m\n\u001b[1;32m      1\u001b[0m x \u001b[38;5;241m=\u001b[39m \u001b[38;5;28mrange\u001b[39m(\u001b[38;5;241m10\u001b[39m, \u001b[38;5;241m181\u001b[39m, \u001b[38;5;241m5\u001b[39m)\n\u001b[0;32m----> 2\u001b[0m \u001b[38;5;28mprint\u001b[39m(\u001b[38;5;28;43mlist\u001b[39;49m\u001b[43m(\u001b[49m\u001b[43mx\u001b[49m\u001b[43m)\u001b[49m)\n",
      "\u001b[0;31mTypeError\u001b[0m: 'list' object is not callable"
     ]
    }
   ],
   "source": [
    "x = range(10, 181, 5)\n",
    "print(list(x))"
   ]
  },
  {
   "cell_type": "code",
   "execution_count": null,
   "metadata": {},
   "outputs": [],
   "source": [
    "def standart_z(values, new):\n",
    "    relative_value = (values - values.min()) / (values.max() - values.min())\n",
    "    scaled_value = new[0] + (new[1] - new[0]) * relative_value"
   ]
  },
  {
   "cell_type": "code",
   "execution_count": null,
   "metadata": {},
   "outputs": [],
   "source": [
    "x = np.array([1, 2])\n",
    "y = np.array([2, 3])\n",
    "standart_z(x, y)"
   ]
  },
  {
   "cell_type": "code",
   "execution_count": null,
   "metadata": {},
   "outputs": [
    {
     "name": "stdout",
     "output_type": "stream",
     "text": [
      "[[0. 0. 0.]\n",
      " [0. 0. 0.]]\n"
     ]
    }
   ],
   "source": [
    "x = np.zeros((2, 3))\n",
    "print(x)"
   ]
  },
  {
   "cell_type": "markdown",
   "metadata": {},
   "source": [
    "EXERCISE 2,1"
   ]
  },
  {
   "cell_type": "code",
   "execution_count": 140,
   "metadata": {},
   "outputs": [
    {
     "name": "stdout",
     "output_type": "stream",
     "text": [
      "None\n"
     ]
    }
   ],
   "source": [
    "products = {\n",
    "    'Oranges (packaged)': 114.99,\n",
    "    'Candy (Rotfront)': 280.0,\n",
    "    'Boiled sausage': 199.99,\n",
    "    'Juice J7 (orange)': 119.99,\n",
    "    'Trout (Seven Seas)': 399.99\n",
    "    }\n",
    "stocks = {\n",
    "    'Boiled sausage': '33%',\n",
    "    'Juice J7 (orange)': '12%',\n",
    "    'Trout (Seven Seas)': '18%'\n",
    "    }\n",
    "\n",
    "def apply_discounts(products, stocks):\n",
    "    pass\n",
    "\n",
    "\n",
    "print(apply_discounts(products, stocks))\n",
    "## {'Oranges (packaged)': 114.99, 'Candy (Rotfront)': 280.0, 'Boiled sausage': 133.99, 'Juice J7 (orange)': 105.59, 'Trout (Seven Seas)': 327.99}\n"
   ]
  },
  {
   "cell_type": "code",
   "execution_count": 141,
   "metadata": {},
   "outputs": [
    {
     "name": "stdout",
     "output_type": "stream",
     "text": [
      "{'Boiled sausage': 33, 'Juice J7 (orange)': 12, 'Trout (Seven Seas)': 18}\n"
     ]
    }
   ],
   "source": [
    "new_stocks = {}\n",
    "for k, v in stocks.items():\n",
    "    if k not in new_stocks:\n",
    "        v = v.replace('%', '')\n",
    "        new_stocks[k] = int(v)\n",
    "\n",
    "print(new_stocks)"
   ]
  },
  {
   "cell_type": "code",
   "execution_count": 138,
   "metadata": {},
   "outputs": [
    {
     "name": "stdout",
     "output_type": "stream",
     "text": [
      "{'Oranges (packaged)': 114.99, 'Candy (Rotfront)': 280.0, 'Boiled sausage': 133.99, 'Juice J7 (orange)': 119.99, 'Trout (Seven Seas)': 399.99}\n"
     ]
    }
   ],
   "source": [
    "d = {}\n",
    "for k, v in products.items():\n",
    "    for i, j in new_stocks.items():\n",
    "        if k not in d:\n",
    "            d[k] = v\n",
    "            if k == i:\n",
    "                d[k] = round((v - (v * (j/100))), 2)\n",
    "            else:\n",
    "                d[k] = v  \n",
    "        # else:\n",
    "        #     d[k] = v        \n",
    "print(d)"
   ]
  },
  {
   "cell_type": "code",
   "execution_count": 142,
   "metadata": {},
   "outputs": [
    {
     "name": "stdout",
     "output_type": "stream",
     "text": [
      "{'Oranges (packaged)': 114.99, 'Candy (Rotfront)': 280.0, 'Boiled sausage': 163.99, 'Juice J7 (orange)': 98.39, 'Trout (Seven Seas)': 327.99}\n"
     ]
    }
   ],
   "source": [
    "d = {}\n",
    "for k, v in products.items():\n",
    "    for i, j in new_stocks.items():\n",
    "        if k in new_stocks.keys():\n",
    "            d[k] = round((v - ((v/100) * j)), 2)\n",
    "        else:\n",
    "            d[k] = v * 1\n",
    "        # else:\n",
    "        #     d[k] = v        \n",
    "print(d)"
   ]
  },
  {
   "cell_type": "code",
   "execution_count": 134,
   "metadata": {},
   "outputs": [
    {
     "name": "stdout",
     "output_type": "stream",
     "text": [
      "{'Oranges (packaged)': 114.99, 'Candy (Rotfront)': 280.0, 'Boiled sausage': 36.0, 'Juice J7 (orange)': 21.6, 'Trout (Seven Seas)': 72.0}\n"
     ]
    }
   ],
   "source": [
    "d = {}\n",
    "for k, v in products.items():\n",
    "    for i, j in new_stocks.items():\n",
    "        if k in new_stocks.keys():\n",
    "            d[k] = round((v * (j/100)), 2)\n",
    "        else:\n",
    "            d[k] = v  \n",
    "        # else:\n",
    "        #     d[k] = v        \n",
    "print(d)"
   ]
  },
  {
   "cell_type": "code",
   "execution_count": null,
   "metadata": {},
   "outputs": [],
   "source": []
  }
 ],
 "metadata": {
  "kernelspec": {
   "display_name": "Python 3",
   "language": "python",
   "name": "python3"
  },
  "language_info": {
   "codemirror_mode": {
    "name": "ipython",
    "version": 3
   },
   "file_extension": ".py",
   "mimetype": "text/x-python",
   "name": "python",
   "nbconvert_exporter": "python",
   "pygments_lexer": "ipython3",
   "version": "3.10.5"
  }
 },
 "nbformat": 4,
 "nbformat_minor": 2
}
