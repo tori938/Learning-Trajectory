{
 "cells": [
  {
   "cell_type": "code",
   "execution_count": 2,
   "metadata": {},
   "outputs": [
    {
     "name": "stdout",
     "output_type": "stream",
     "text": [
      "find the factorial\n",
      "120\n"
     ]
    }
   ],
   "source": [
    "print('find the factorial')\n",
    "#n = int(input('input a number: '))\n",
    "n = 5\n",
    "\n",
    "try:\n",
    "    m = 1\n",
    "    for x in range(1, n+1):\n",
    "        m *= x\n",
    "    print(m)\n",
    "except ValueError:\n",
    "    print('cannot be zero or negative')"
   ]
  },
  {
   "cell_type": "code",
   "execution_count": 3,
   "metadata": {},
   "outputs": [
    {
     "name": "stdout",
     "output_type": "stream",
     "text": [
      "write a program to reverse the word\n",
      "nohtyp\n",
      "\n",
      "or easier way\n",
      "nohtyp\n"
     ]
    }
   ],
   "source": [
    "print('write a program to reverse the word')\n",
    "word = 'python'\n",
    "\n",
    "for i in range(len(word)-1, -1, -1):\n",
    "    print(word[i], end='')\n",
    "print()\n",
    "print()\n",
    "\n",
    "print('or easier way')\n",
    "word = word[::-1]\n",
    "print(word)"
   ]
  },
  {
   "cell_type": "code",
   "execution_count": 4,
   "metadata": {},
   "outputs": [
    {
     "name": "stdout",
     "output_type": "stream",
     "text": [
      "write a program to reverse the word\n",
      "12534\n",
      "\n",
      "or other\n",
      "12534\n"
     ]
    }
   ],
   "source": [
    "print('write a program to reverse the word')\n",
    "number = 43521\n",
    "\n",
    "for i in range(len(str(number))-1, -1, -1):\n",
    "    print(str(number)[i], end='')\n",
    "print()\n",
    "print()\n",
    "\n",
    "print('or other')\n",
    "rev = 0\n",
    "while(number != 0):\n",
    "    rem = number % 10\n",
    "    rev = rev * 10 + rem\n",
    "    number = number // 10\n",
    "print(rev)"
   ]
  },
  {
   "cell_type": "code",
   "execution_count": 5,
   "metadata": {},
   "outputs": [
    {
     "name": "stdout",
     "output_type": "stream",
     "text": [
      "print n natural number in descending order using a while loop\n",
      "10\n",
      "9\n",
      "8\n",
      "7\n",
      "6\n",
      "5\n",
      "4\n",
      "3\n",
      "2\n",
      "1\n"
     ]
    }
   ],
   "source": [
    "print('print n natural number in descending order using a while loop')\n",
    "n = 10\n",
    "\n",
    "while n > 0:\n",
    "    print(n)\n",
    "    n -= 1"
   ]
  },
  {
   "cell_type": "code",
   "execution_count": 6,
   "metadata": {},
   "outputs": [
    {
     "name": "stdout",
     "output_type": "stream",
     "text": [
      "display the first 7 multiples of 7\n",
      "0\n",
      "7\n",
      "14\n",
      "21\n",
      "28\n",
      "35\n",
      "42\n",
      "49\n",
      "\n"
     ]
    }
   ],
   "source": [
    "print('display the first 7 multiples of 7')\n",
    "#0  7  14  21  28  35  42  49\n",
    "\n",
    "i = 0\n",
    "for x in range(0, 8):\n",
    "    print(x * 7)\n",
    "    i += 1\n",
    "    if i > 7:\n",
    "        break\n",
    "print()"
   ]
  },
  {
   "cell_type": "code",
   "execution_count": 7,
   "metadata": {},
   "outputs": [
    {
     "name": "stdout",
     "output_type": "stream",
     "text": [
      "append the square of each number to a new list\n",
      "list comprehension\n",
      "[4, 9, 16, 25, 36, 49, 64]\n",
      "\n",
      "map and lambda\n",
      "[4, 9, 16, 25, 36, 49, 64]\n",
      "\n",
      "for loops\n",
      "[4, 9, 16, 25, 36, 49, 64]\n"
     ]
    }
   ],
   "source": [
    "print('append the square of each number to a new list')\n",
    "x = [2, 3, 4, 5, 6, 7, 8]\n",
    "print('list comprehension')\n",
    "sq = [n**2 for n in x]\n",
    "print(sq)\n",
    "print()\n",
    "\n",
    "print('map and lambda')\n",
    "squared = list(map(lambda n: n**2, x))\n",
    "print(squared)\n",
    "print()\n",
    "\n",
    "print('for loops')\n",
    "z = []\n",
    "for i in range(len(x)):\n",
    "    z.append(x[i]**2)\n",
    "print(z)"
   ]
  },
  {
   "cell_type": "code",
   "execution_count": 8,
   "metadata": {},
   "outputs": [
    {
     "name": "stdout",
     "output_type": "stream",
     "text": [
      "separate positive and negative number from a list\n",
      "([3, 4, 21, 23, 23], [-45, -9, -8, -6])\n"
     ]
    }
   ],
   "source": [
    "print('separate positive and negative number from a list')\n",
    "numbers = [23, 4, -6, 23, -9, 21, 3, -45, -8]\n",
    "\n",
    "def positive_to_negative(arg):\n",
    "    positive = []\n",
    "    negative = []\n",
    "    for x in arg:\n",
    "        if x > 0:\n",
    "            positive.append(x)\n",
    "        else:\n",
    "            negative.append(x)\n",
    "    return (sorted(positive), sorted(negative))\n",
    "\n",
    "print(positive_to_negative(numbers))"
   ]
  },
  {
   "cell_type": "code",
   "execution_count": 9,
   "metadata": {},
   "outputs": [
    {
     "name": "stdout",
     "output_type": "stream",
     "text": [
      "append the type of elements from a list\n",
      "[<class 'int'>, <class 'str'>, <class 'float'>]\n",
      "\n",
      "[23, 'Python', 23.98]\n",
      "[<class 'int'>, <class 'str'>, <class 'float'>]\n"
     ]
    }
   ],
   "source": [
    "print('append the type of elements from a list')\n",
    "lst = [23, 'Python', 23.98]\n",
    "\n",
    "def types(arg):\n",
    "    lst_of_types = []\n",
    "    for x in arg:\n",
    "        lst_of_types.append(type(x))\n",
    "    return lst_of_types\n",
    "\n",
    "print(types(lst))\n",
    "print()\n",
    "\n",
    "\n",
    "n = [23, 'Python',23.98]\n",
    "x = []\n",
    "\n",
    "for i in range(len(n)):\n",
    "    x.append(type(n[i]))\n",
    "print(n, x, sep='\\n')"
   ]
  },
  {
   "cell_type": "code",
   "execution_count": 10,
   "metadata": {},
   "outputs": [
    {
     "name": "stdout",
     "output_type": "stream",
     "text": [
      "filter even and odd number from a list\n",
      "([23, 35, 65], [10, 24, 78, 90])\n",
      "\n",
      "filter and lambda\n",
      "[23, 35, 65]\n",
      "[10, 24, 78, 90]\n"
     ]
    }
   ],
   "source": [
    "print('filter even and odd number from a list')\n",
    "numbers = [10, 23, 24, 35, 65, 78, 90]\n",
    "\n",
    "def odd_to_even(arg):\n",
    "    odd = []\n",
    "    even = []\n",
    "    for x in arg:\n",
    "        if x % 2 == 0:\n",
    "            even.append(x)\n",
    "        else:\n",
    "            odd.append(x)\n",
    "    return (sorted(odd), sorted(even))\n",
    "\n",
    "print(odd_to_even(numbers))\n",
    "print()\n",
    "\n",
    "\n",
    "print('filter and lambda')\n",
    "numbers = [10, 23, 24, 35, 65, 78, 90]\n",
    "\n",
    "even = list(filter(lambda x: x % 2 == 0, numbers))\n",
    "odd = list(filter(lambda x: x % 2 != 0, numbers))\n",
    "\n",
    "print(odd, even, sep='\\n')"
   ]
  },
  {
   "cell_type": "code",
   "execution_count": 17,
   "metadata": {},
   "outputs": [
    {
     "name": "stdout",
     "output_type": "stream",
     "text": [
      "fetch only even values from a dictionary\n",
      "10\n",
      "20\n",
      "22\n"
     ]
    }
   ],
   "source": [
    "print('fetch only even values from a dictionary')\n",
    "dic = {'val1': 10, 'val2': 20, 'val3': 23, 'val4': 22}\n",
    "\n",
    "for x in dic.values():\n",
    "    if x % 2 == 0:\n",
    "        print(x)"
   ]
  },
  {
   "cell_type": "code",
   "execution_count": 16,
   "metadata": {},
   "outputs": [
    {
     "name": "stdout",
     "output_type": "stream",
     "text": [
      "whether a list contains at least one number > 10\n",
      "contains\n",
      "\n"
     ]
    }
   ],
   "source": [
    "print('whether a list contains at least one number > 10')\n",
    "lst = [3, 5, 11, 12, 1]\n",
    "\n",
    "for x in lst:\n",
    "    if x > 10:\n",
    "        print('contains')\n",
    "        break\n",
    "print()"
   ]
  },
  {
   "cell_type": "code",
   "execution_count": 15,
   "metadata": {},
   "outputs": [
    {
     "name": "stdout",
     "output_type": "stream",
     "text": [
      "return each element in a nested list\n",
      "apple\n",
      "orange\n",
      "carrot\n",
      "cabbage\n",
      "chicken\n",
      "beef\n",
      "\n"
     ]
    }
   ],
   "source": [
    "print('return each element in a nested list')\n",
    "lst = [[\"apple\", \"orange\"], [\"carrot\", \"cabbage\"], [\"chicken\", \"beef\"]]\n",
    "\n",
    "for x in lst:\n",
    "    for y in x:\n",
    "        print(y)\n",
    "print()"
   ]
  },
  {
   "cell_type": "code",
   "execution_count": 14,
   "metadata": {},
   "outputs": [
    {
     "name": "stdout",
     "output_type": "stream",
     "text": [
      "find the numbers >= 50\n",
      "50\n",
      "57\n",
      "99\n",
      "80\n"
     ]
    }
   ],
   "source": [
    "print('find the numbers >= 50')\n",
    "numbers = [['50', '48', '-40'], ['57', '99', '80'], ['49', '40', '45']]\n",
    "\n",
    "for lst in numbers:\n",
    "    for n in lst:\n",
    "        if int(n) >= 50:\n",
    "            print(int(n))"
   ]
  },
  {
   "cell_type": "code",
   "execution_count": 13,
   "metadata": {},
   "outputs": [
    {
     "name": "stdout",
     "output_type": "stream",
     "text": [
      "1\n",
      "2\n",
      "3\n",
      "4\n",
      "5\n",
      "6\n",
      "\n",
      "A\n",
      "B\n",
      "C\n",
      "D\n",
      "E\n",
      "\n"
     ]
    }
   ],
   "source": [
    "for x in range(1, 7):\n",
    "    print(x)\n",
    "print()\n",
    "\n",
    "for x in 'ABCDE':\n",
    "    print(x)\n",
    "print()"
   ]
  },
  {
   "cell_type": "code",
   "execution_count": 12,
   "metadata": {},
   "outputs": [
    {
     "name": "stdout",
     "output_type": "stream",
     "text": [
      "France\n",
      "Japan\n",
      "USA\n",
      "\n",
      "Paris\n",
      "Tokyo\n",
      "Washington DC\n",
      "\n"
     ]
    }
   ],
   "source": [
    "country = {\"France\": \"Paris\",\n",
    "           \"Japan\": \"Tokyo\",\n",
    "           \"USA\": \"Washington DC\"}\n",
    "\n",
    "for key, value in country.items():\n",
    "    print(key)\n",
    "print()\n",
    "\n",
    "for key, value in country.items():\n",
    "    print(value)\n",
    "print()"
   ]
  }
 ],
 "metadata": {
  "kernelspec": {
   "display_name": "Python 3",
   "language": "python",
   "name": "python3"
  },
  "language_info": {
   "codemirror_mode": {
    "name": "ipython",
    "version": 3
   },
   "file_extension": ".py",
   "mimetype": "text/x-python",
   "name": "python",
   "nbconvert_exporter": "python",
   "pygments_lexer": "ipython3",
   "version": "3.10.5"
  }
 },
 "nbformat": 4,
 "nbformat_minor": 2
}
