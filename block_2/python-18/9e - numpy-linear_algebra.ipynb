{
 "cells": [
  {
   "cell_type": "code",
   "execution_count": 2,
   "metadata": {},
   "outputs": [],
   "source": [
    "import numpy as np"
   ]
  },
  {
   "cell_type": "code",
   "execution_count": 3,
   "metadata": {},
   "outputs": [
    {
     "name": "stdout",
     "output_type": "stream",
     "text": [
      "compute the multiplication of two given matrixes\n",
      "[[1 2]\n",
      " [3 4]]\n"
     ]
    }
   ],
   "source": [
    "print('compute the multiplication of two given matrixes')\n",
    "\n",
    "a = np.array([[1, 0], [0, 1]])\n",
    "b = np.array([[1, 2], [3, 4]])\n",
    "\n",
    "print(np.dot(a,b))"
   ]
  },
  {
   "cell_type": "code",
   "execution_count": 4,
   "metadata": {},
   "outputs": [
    {
     "name": "stdout",
     "output_type": "stream",
     "text": [
      "compute the outer produce of two given vectors\n",
      "[[1 2 3 4]\n",
      " [0 0 0 0]\n",
      " [0 0 0 0]\n",
      " [1 2 3 4]]\n"
     ]
    }
   ],
   "source": [
    "print('compute the outer produce of two given vectors')\n",
    "\n",
    "p = np.array([[1, 0], [0, 1]])\n",
    "q = np.array([[1, 2], [3, 4]])\n",
    "\n",
    "print(np.outer(p, q))"
   ]
  },
  {
   "cell_type": "code",
   "execution_count": 5,
   "metadata": {},
   "outputs": [
    {
     "name": "stdout",
     "output_type": "stream",
     "text": [
      "compute the cross product of two given vectors\n",
      "[ 2 -3]\n",
      "[-2  3]\n"
     ]
    }
   ],
   "source": [
    "print('compute the cross product of two given vectors')\n",
    "\n",
    "p = [[1, 0], [0, 1]]\n",
    "q = [[1, 2], [3, 4]]\n",
    "\n",
    "result1 = np.cross(p, q)\n",
    "result2 = np.cross(q, p)\n",
    "\n",
    "print(result1, result2, sep='\\n')"
   ]
  },
  {
   "cell_type": "code",
   "execution_count": 6,
   "metadata": {},
   "outputs": [
    {
     "name": "stdout",
     "output_type": "stream",
     "text": [
      "compute the determinant of a square array\n",
      "2.0\n"
     ]
    }
   ],
   "source": [
    "print('compute the determinant of a square array')\n",
    "\n",
    "a = np.array([[1, 0], [1, 2]])\n",
    "print(np.linalg.det(a)) "
   ]
  },
  {
   "cell_type": "code",
   "execution_count": 7,
   "metadata": {},
   "outputs": [
    {
     "name": "stdout",
     "output_type": "stream",
     "text": [
      "evaluate Einstein’s summation convention of two given multidimensional arrays\n",
      "2\n",
      "\n",
      "[[ 24  27  30]\n",
      " [ 78  90 102]\n",
      " [132 153 174]]\n"
     ]
    }
   ],
   "source": [
    "print(\"evaluate Einstein’s summation convention of two given multidimensional arrays\")\n",
    "\n",
    "a = np.array([1,2,3])\n",
    "b = np.array([0,1,0])\n",
    "\n",
    "#compute the Einstein’s summation convention of the 1-D arrays\n",
    "result =  np.einsum(\"n,n\", a, b)\n",
    "print(result)\n",
    "print()\n",
    "\n",
    "\n",
    "x = np.arange(9).reshape(3, 3)\n",
    "y = np.arange(3, 12).reshape(3, 3)\n",
    "\n",
    "result = np.einsum(\"mk,kn\", x, y)\n",
    "print(result)"
   ]
  },
  {
   "cell_type": "code",
   "execution_count": 8,
   "metadata": {},
   "outputs": [
    {
     "name": "stdout",
     "output_type": "stream",
     "text": [
      "compute the inner product of vectors for 1-D arrays (without complex conjugation) and in higher dimension\n",
      "4\n",
      "\n",
      "[[ 14  23  32]\n",
      " [ 50  86 122]\n",
      " [ 86 149 212]]\n"
     ]
    }
   ],
   "source": [
    "print('compute the inner product of vectors for 1-D arrays (without complex conjugation) and in higher dimension')\n",
    "\n",
    "a = np.array([1, 2, 5])\n",
    "b = np.array([2, 1, 0])\n",
    "\n",
    "result = np.inner(a, b)\n",
    "print(result)\n",
    "print()\n",
    "\n",
    "x = np.arange(9).reshape(3, 3)\n",
    "y = np.arange(3, 12).reshape(3, 3)\n",
    "\n",
    "result = np.inner(x, y)\n",
    "print(result) "
   ]
  },
  {
   "cell_type": "code",
   "execution_count": 9,
   "metadata": {},
   "outputs": [
    {
     "name": "stdout",
     "output_type": "stream",
     "text": [
      "compute the inverse of a given matrix\n",
      "[[-2.   1. ]\n",
      " [ 1.5 -0.5]]\n"
     ]
    }
   ],
   "source": [
    "print('compute the inverse of a given matrix')\n",
    "\n",
    "m = np.array([[1,2], [3,4]])\n",
    "\n",
    "result =  np.linalg.inv(m)\n",
    "print(result)"
   ]
  },
  {
   "cell_type": "code",
   "execution_count": 10,
   "metadata": {},
   "outputs": [
    {
     "name": "stdout",
     "output_type": "stream",
     "text": [
      "compute the sum of the diagonal element of a given array\n",
      "4\n"
     ]
    }
   ],
   "source": [
    "print('compute the sum of the diagonal element of a given array')\n",
    "\n",
    "m = np.arange(6).reshape(2, 3)\n",
    "\n",
    "#calculate the trace of the matrix 'm' using np.trace() function\n",
    "result = np.trace(m)\n",
    "print(result)"
   ]
  }
 ],
 "metadata": {
  "kernelspec": {
   "display_name": "Python 3",
   "language": "python",
   "name": "python3"
  },
  "language_info": {
   "codemirror_mode": {
    "name": "ipython",
    "version": 3
   },
   "file_extension": ".py",
   "mimetype": "text/x-python",
   "name": "python",
   "nbconvert_exporter": "python",
   "pygments_lexer": "ipython3",
   "version": "3.10.5"
  }
 },
 "nbformat": 4,
 "nbformat_minor": 2
}
