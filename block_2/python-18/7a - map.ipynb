{
 "cells": [
  {
   "cell_type": "code",
   "execution_count": 1,
   "metadata": {},
   "outputs": [
    {
     "name": "stdout",
     "output_type": "stream",
     "text": [
      "triple all numbers in a given list of integers\n",
      "(1, 8, 27, 64, 125, 216, 343)\n",
      "\n",
      "using list comprehension\n",
      "1 8 27 64 125 216 343\n"
     ]
    }
   ],
   "source": [
    "print('triple all numbers in a given list of integers')\n",
    "nums = (1, 2, 3, 4, 5, 6, 7)\n",
    "\n",
    "tripled = tuple(map(lambda x: x**3, nums))\n",
    "print(tripled)\n",
    "print()\n",
    "\n",
    "print('using list comprehension')\n",
    "numbers_tripled = [x**3 for x in nums]\n",
    "print(*numbers_tripled)"
   ]
  },
  {
   "cell_type": "code",
   "execution_count": 2,
   "metadata": {},
   "outputs": [
    {
     "name": "stdout",
     "output_type": "stream",
     "text": [
      "add lists together\n",
      "[12, 15, 18]\n"
     ]
    }
   ],
   "source": [
    "print('add lists together')\n",
    "nums1 = [1, 2, 3]\n",
    "nums2 = [4, 5, 6]\n",
    "nums3 = [7, 8, 9]\n",
    "\n",
    "result = list(map(lambda x, y, z: x + y + z, nums1, nums2, nums3))\n",
    "print(result)"
   ]
  },
  {
   "cell_type": "code",
   "execution_count": 3,
   "metadata": {},
   "outputs": [
    {
     "name": "stdout",
     "output_type": "stream",
     "text": [
      "listify the list of given strings individually\n",
      "[['R', 'e', 'd'], ['B', 'l', 'u', 'e'], ['B', 'l', 'a', 'c', 'k'], ['W', 'h', 'i', 't', 'e'], ['P', 'i', 'n', 'k']]\n"
     ]
    }
   ],
   "source": [
    "print('listify the list of given strings individually')\n",
    "colour = ['Red', 'Blue', 'Black', 'White', 'Pink']\n",
    "\n",
    "lst = list(map(list, colour))\n",
    "print(lst)"
   ]
  },
  {
   "cell_type": "code",
   "execution_count": 4,
   "metadata": {},
   "outputs": [
    {
     "name": "stdout",
     "output_type": "stream",
     "text": [
      "create a list containing the power of said number in bases raised to the corresponding number in the index\n",
      "[10, 400, 27000, 2560000, 312500000, 46656000000, 8235430000000, 1677721600000000, 387420489000000000, 100000000000000000000]\n",
      "\n",
      "or other\n",
      "[10, 400, 27000, 2560000, 312500000, 46656000000, 8235430000000, 1677721600000000, 387420489000000000, 100000000000000000000]\n"
     ]
    }
   ],
   "source": [
    "print('create a list containing the power of said number in bases raised to the corresponding number in the index')\n",
    "bases_num = [10, 20, 30, 40, 50, 60, 70, 80, 90, 100]\n",
    "index = [1, 2, 3, 4, 5, 6, 7, 8, 9, 10]\n",
    "\n",
    "power = list(map(lambda a, b: a**b, bases_num, index))\n",
    "print(power)\n",
    "print()\n",
    "\n",
    "print('or other')\n",
    "result = list(map(pow, bases_num, index))\n",
    "print(result)"
   ]
  },
  {
   "cell_type": "code",
   "execution_count": 5,
   "metadata": {},
   "outputs": [
    {
     "name": "stdout",
     "output_type": "stream",
     "text": [
      "square the elements of a list\n",
      "[16, 25, 4, 81]\n",
      "\n",
      "using list comprehension\n",
      "[16, 25, 4, 81]\n"
     ]
    }
   ],
   "source": [
    "print('square the elements of a list')\n",
    "nums = [4, 5, 2, 9]\n",
    "\n",
    "sq = list(map(lambda x: x**2, nums))\n",
    "print(sq)\n",
    "print()\n",
    "\n",
    "print('using list comprehension')\n",
    "squared = [n**2 for n in nums]\n",
    "print(squared)"
   ]
  },
  {
   "cell_type": "code",
   "execution_count": 6,
   "metadata": {},
   "outputs": [
    {
     "name": "stdout",
     "output_type": "stream",
     "text": [
      "add two given lists and find the difference between them\n",
      "[(6, 6), (6, 4), (10, -4), (16, 2)]\n"
     ]
    }
   ],
   "source": [
    "print('add two given lists and find the difference between them')\n",
    "nums1 = [6, 5, 3, 9]\n",
    "nums2 = [0, 1, 7, 7]\n",
    "\n",
    "def addition_subtraction(x, y):\n",
    "    return x + y, x - y\n",
    "\n",
    "result = list(map(addition_subtraction, nums1, nums2))\n",
    "print(result)"
   ]
  },
  {
   "cell_type": "code",
   "execution_count": 7,
   "metadata": {},
   "outputs": [
    {
     "name": "stdout",
     "output_type": "stream",
     "text": [
      "convert a given list of integers and a tuple of integers in a list of strings\n",
      "['1', '2', '3', '4']\n",
      "('0', '1', '2', '3')\n"
     ]
    }
   ],
   "source": [
    "print('convert a given list of integers and a tuple of integers in a list of strings')\n",
    "nums_list = [1, 2, 3, 4]\n",
    "nums_tuple = (0, 1, 2, 3)\n",
    "\n",
    "lst_to_str = list(map(str, nums_list))\n",
    "tpl_to_str = tuple(map(str, nums_tuple))\n",
    "print(lst_to_str, tpl_to_str, sep='\\n')"
   ]
  },
  {
   "cell_type": "code",
   "execution_count": 8,
   "metadata": {},
   "outputs": [
    {
     "name": "stdout",
     "output_type": "stream",
     "text": [
      "compute the square of the first N Fibonacci numbers and generate a list of the numbers\n",
      "[0, 1, 1, 2, 3, 5, 8, 13, 21, 34]\n",
      "[0, 1, 1, 4, 9, 25, 64, 169, 441, 1156]\n"
     ]
    }
   ],
   "source": [
    "print('compute the square of the first N Fibonacci numbers and generate a list of the numbers')\n",
    "import itertools\n",
    "\n",
    "def fibonacci_nums(x=0, y=1):\n",
    "    yield x\n",
    "    while True:\n",
    "        yield y\n",
    "        x, y = y, x + y\n",
    "\n",
    "#use itertools.islice to obtain the Fibonacci numbers \n",
    "result = list(itertools.islice(fibonacci_nums(), 10)) #10 for number\n",
    "print(result)\n",
    "\n",
    "print(list(map(lambda x: x*x, result)))"
   ]
  },
  {
   "cell_type": "code",
   "execution_count": 9,
   "metadata": {},
   "outputs": [
    {
     "name": "stdout",
     "output_type": "stream",
     "text": [
      "compute the sum of elements of an array of integers\n",
      "agreed use reduce instead\n",
      "0\n"
     ]
    }
   ],
   "source": [
    "print('compute the sum of elements of an array of integers')\n",
    "nums = [1, 2, 3, 4, 5, -15]\n",
    "\n",
    "print('agreed use reduce instead')\n",
    "from functools import reduce\n",
    "s = reduce(lambda a, b: a+b, nums)\n",
    "print(s)"
   ]
  },
  {
   "cell_type": "code",
   "execution_count": 10,
   "metadata": {},
   "outputs": [
    {
     "name": "stdout",
     "output_type": "stream",
     "text": [
      "find the ratio of positive numbers, negative numbers and zeroes in an array of integers\n",
      "(0.54, 0.31, 0.15)\n"
     ]
    }
   ],
   "source": [
    "print('find the ratio of positive numbers, negative numbers and zeroes in an array of integers')\n",
    "from array import array\n",
    "\n",
    "def plusMinus(nums):\n",
    "    n = len(nums)\n",
    "    #initialize counters for positive, negative, and zero numbers\n",
    "    n1 = n2 = n3 = 0\n",
    "    \n",
    "    for x in nums:\n",
    "        if x > 0:\n",
    "            n1 += 1\n",
    "        elif x < 0:\n",
    "            n2 += 1\n",
    "        else:\n",
    "            n3 += 1\n",
    "    #return the ratio of positive, negative, and zero numbers, rounded to two decimal places\n",
    "    return round(n1/n, 2), round(n2/n, 2), round(n3/n, 2)\n",
    "\n",
    "nums = array('i', [0, 1, 2, -1, -5, 6, 0, -3, -2, 3, 4, 6, 8])\n",
    "nums_arr = list(map(int, nums))\n",
    "\n",
    "result = plusMinus(nums_arr)\n",
    "print(result)"
   ]
  },
  {
   "cell_type": "code",
   "execution_count": 11,
   "metadata": {},
   "outputs": [
    {
     "name": "stdout",
     "output_type": "stream",
     "text": [
      "count the same pair in two given lists\n",
      "4\n"
     ]
    }
   ],
   "source": [
    "print('count the same pair in two given lists')\n",
    "from operator import eq\n",
    "\n",
    "def count_same_pair(nums1, nums2):\n",
    "    #with 'eq' to create a list of True/False values for corresponding elements\n",
    "    result = sum(map(eq, nums1, nums2))\n",
    "    return result\n",
    "\n",
    "nums1 = [1, 2, 3, 4, 5, 6, 7, 8]\n",
    "nums2 = [2, 2, 3, 1, 2, 6, 7, 9]\n",
    "\n",
    "print(count_same_pair(nums1, nums2))"
   ]
  },
  {
   "cell_type": "code",
   "execution_count": 12,
   "metadata": {},
   "outputs": [
    {
     "name": "stdout",
     "output_type": "stream",
     "text": [
      "interleave two lists into another list randomly\n",
      "[1, 4, 2, 3, 7, 8, 8, 9, 3, 4, 7, 3]\n"
     ]
    }
   ],
   "source": [
    "print('interleave two lists into another list randomly')\n",
    "nums1 = [1, 2, 7, 8, 3, 7]\n",
    "nums2 = [4, 3, 8, 9, 4, 3, 8, 9]\n",
    "\n",
    "result = [val for pair in zip(nums1, nums2) for val in pair]\n",
    "print(result)"
   ]
  },
  {
   "cell_type": "code",
   "execution_count": 13,
   "metadata": {},
   "outputs": [
    {
     "name": "stdout",
     "output_type": "stream",
     "text": [
      "split a given dictionary of lists into list of dictionaries\n",
      "[{'Science': 88, 'Language': 77}, {'Science': 89, 'Language': 78}, {'Science': 62, 'Language': 84}, {'Science': 95, 'Language': 80}]\n"
     ]
    }
   ],
   "source": [
    "print('split a given dictionary of lists into list of dictionaries')\n",
    "marks = {\n",
    "    'Science': [88, 89, 62, 95],\n",
    "    'Language': [77, 78, 84, 80]\n",
    "}\n",
    "\n",
    "result = list(map(dict, zip(*[[(key, val) \n",
    "                            for val in value]\n",
    "                            for key, value in marks.items()])))\n",
    "print(result)"
   ]
  },
  {
   "cell_type": "code",
   "execution_count": 14,
   "metadata": {},
   "outputs": [
    {
     "name": "stdout",
     "output_type": "stream",
     "text": [
      "convert a given list of tuples to a list of strings\n",
      "['red pink', 'white black', 'orange green']\n"
     ]
    }
   ],
   "source": [
    "print('convert a given list of tuples to a list of strings')\n",
    "colors = [('red', 'pink'), ('white', 'black'), ('orange', 'green')]\n",
    "result = list(map(' '.join, colors))\n",
    "print(result)"
   ]
  }
 ],
 "metadata": {
  "kernelspec": {
   "display_name": "Python 3",
   "language": "python",
   "name": "python3"
  },
  "language_info": {
   "codemirror_mode": {
    "name": "ipython",
    "version": 3
   },
   "file_extension": ".py",
   "mimetype": "text/x-python",
   "name": "python",
   "nbconvert_exporter": "python",
   "pygments_lexer": "ipython3",
   "version": "3.10.5"
  }
 },
 "nbformat": 4,
 "nbformat_minor": 2
}
