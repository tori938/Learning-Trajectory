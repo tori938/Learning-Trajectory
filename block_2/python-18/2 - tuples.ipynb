{
 "cells": [
  {
   "cell_type": "code",
   "execution_count": 1,
   "metadata": {},
   "outputs": [
    {
     "name": "stdout",
     "output_type": "stream",
     "text": [
      "reverse the tuple\n",
      "(50, 40, 30, 20, 10)\n"
     ]
    }
   ],
   "source": [
    "print('reverse the tuple')\n",
    "tuple1 = (10, 20, 30, 40, 50)\n",
    "\n",
    "reverse_tpl = tuple1[::-1]\n",
    "print(reverse_tpl)"
   ]
  },
  {
   "cell_type": "code",
   "execution_count": 2,
   "metadata": {},
   "outputs": [
    {
     "name": "stdout",
     "output_type": "stream",
     "text": [
      "access value 20 from the tuple\n",
      "20\n"
     ]
    }
   ],
   "source": [
    "print('access value 20 from the tuple')\n",
    "tuple1 = (\"Orange\", [10, 20, 30], (5, 15, 25))\n",
    "\n",
    "print(tuple1[1][1])"
   ]
  },
  {
   "cell_type": "code",
   "execution_count": 3,
   "metadata": {},
   "outputs": [
    {
     "name": "stdout",
     "output_type": "stream",
     "text": [
      "create a tuple with single item 50\n",
      "(50,)\n"
     ]
    }
   ],
   "source": [
    "print('create a tuple with single item 50')\n",
    "tpl = (50, )\n",
    "\n",
    "print(tpl)"
   ]
  },
  {
   "cell_type": "code",
   "execution_count": 4,
   "metadata": {},
   "outputs": [
    {
     "name": "stdout",
     "output_type": "stream",
     "text": [
      "unpack the tuple into 4 variables\n",
      "10\n",
      "20\n",
      "30\n",
      "40\n"
     ]
    }
   ],
   "source": [
    "print('unpack the tuple into 4 variables')\n",
    "tuple1 = (10, 20, 30, 40)\n",
    "a, b, c, d = tuple1\n",
    "\n",
    "print(a)\n",
    "print(b)\n",
    "print(c)\n",
    "print(d)"
   ]
  },
  {
   "cell_type": "code",
   "execution_count": 5,
   "metadata": {},
   "outputs": [
    {
     "name": "stdout",
     "output_type": "stream",
     "text": [
      "swap two tuples\n",
      "(99, 88)\n",
      "(11, 22)\n"
     ]
    }
   ],
   "source": [
    "print('swap two tuples')\n",
    "tuple1 = (11, 22)\n",
    "tuple2 = (99, 88)\n",
    "\n",
    "tuple1, tuple2 = tuple2, tuple1\n",
    "print(tuple1, tuple2, sep='\\n')"
   ]
  },
  {
   "cell_type": "code",
   "execution_count": 6,
   "metadata": {},
   "outputs": [
    {
     "name": "stdout",
     "output_type": "stream",
     "text": [
      "copy specific elements from one tuple to a new tuple: copy elements 44 and 55\n",
      "(44, 55)\n",
      "(44, 55)\n"
     ]
    }
   ],
   "source": [
    "print('copy specific elements from one tuple to a new tuple: copy elements 44 and 55')\n",
    "tuple1 = (11, 22, 33, 44, 55, 66)\n",
    "tuple2 = (tuple1[3:5])\n",
    "tuple3 = tuple1[3:-1]\n",
    "print(tuple2, tuple3, sep='\\n')"
   ]
  },
  {
   "cell_type": "code",
   "execution_count": 7,
   "metadata": {},
   "outputs": [
    {
     "name": "stdout",
     "output_type": "stream",
     "text": [
      "modify the tuple: 22 to 222\n",
      "(11, [222, 33], 44, 55)\n"
     ]
    }
   ],
   "source": [
    "print('modify the tuple: 22 to 222')\n",
    "tuple1 = (11, [22, 33], 44, 55)\n",
    "\n",
    "tuple1[1][0] = 222\n",
    "print(tuple1)"
   ]
  },
  {
   "cell_type": "code",
   "execution_count": 8,
   "metadata": {},
   "outputs": [
    {
     "name": "stdout",
     "output_type": "stream",
     "text": [
      "sort a tuple of tuples by 2nd item\n",
      "(('c', 11), ('a', 23), ('d', 29), ('b', 37))\n"
     ]
    }
   ],
   "source": [
    "print('sort a tuple of tuples by 2nd item')\n",
    "tuple1 = (('a', 23), ('b', 37), ('c', 11), ('d', 29))\n",
    "\n",
    "result = tuple(sorted(tuple1, key=lambda x: x[1]))\n",
    "print(result)"
   ]
  },
  {
   "cell_type": "code",
   "execution_count": 9,
   "metadata": {},
   "outputs": [
    {
     "name": "stdout",
     "output_type": "stream",
     "text": [
      "counts the number of occurrences of item 50 from a tuple\n",
      "2\n"
     ]
    }
   ],
   "source": [
    "print('counts the number of occurrences of item 50 from a tuple')\n",
    "tuple1 = (50, 10, 60, 70, 50)\n",
    "\n",
    "result = tuple1.count(50)\n",
    "print(result)"
   ]
  },
  {
   "cell_type": "code",
   "execution_count": 10,
   "metadata": {},
   "outputs": [
    {
     "name": "stdout",
     "output_type": "stream",
     "text": [
      "check if all items in the tuple are the same\n",
      "True\n"
     ]
    }
   ],
   "source": [
    "print('check if all items in the tuple are the same')\n",
    "tuple1 = (45, 45, 45, 45)\n",
    "\n",
    "def check(t):\n",
    "    return all(i == t[0] for i in t)\n",
    "\n",
    "print(check(tuple1))"
   ]
  },
  {
   "cell_type": "code",
   "execution_count": 11,
   "metadata": {},
   "outputs": [
    {
     "name": "stdout",
     "output_type": "stream",
     "text": [
      "create a tuple of numbers and print one item\n",
      "3\n"
     ]
    }
   ],
   "source": [
    "print('create a tuple of numbers and print one item')\n",
    "def create_tuple(arg, index):\n",
    "    return arg[index]\n",
    "\n",
    "print(create_tuple((1, 2, 3), 2))"
   ]
  },
  {
   "cell_type": "code",
   "execution_count": 12,
   "metadata": {},
   "outputs": [
    {
     "name": "stdout",
     "output_type": "stream",
     "text": [
      "unpack a tuple into several variables\n",
      "3 hi True\n",
      "\n",
      "alternative way\n",
      "1\n",
      "2\n"
     ]
    }
   ],
   "source": [
    "print('unpack a tuple into several variables')\n",
    "tpl = (3, 'hi', True)\n",
    "def unpacking(arg):\n",
    "    print(*arg)\n",
    "\n",
    "unpacking(tpl)\n",
    "print()\n",
    "\n",
    "print('alternative way')\n",
    "tuplex = (1, 2)\n",
    "n1, n2 = tuplex\n",
    "print(n1, n2, sep='\\n')"
   ]
  },
  {
   "cell_type": "code",
   "execution_count": 13,
   "metadata": {},
   "outputs": [
    {
     "name": "stdout",
     "output_type": "stream",
     "text": [
      "add an item to a tuple\n",
      "(1, 4, 5, 2)\n",
      "\n",
      "alternative way\n",
      "('yo', 'mama', 'out')\n"
     ]
    }
   ],
   "source": [
    "print('add an item to a tuple')\n",
    "def add_item(arg, item):\n",
    "    arg = list(arg)\n",
    "    arg.append(item)\n",
    "    return tuple(arg)\n",
    "\n",
    "print(add_item((1, 4, 5), 2))\n",
    "print()\n",
    "\n",
    "print('alternative way')\n",
    "def add_new(arg, item):\n",
    "    arg = arg + (item, )\n",
    "    return arg\n",
    "\n",
    "print(add_item(('yo', 'mama'), 'out'))"
   ]
  },
  {
   "cell_type": "code",
   "execution_count": 14,
   "metadata": {},
   "outputs": [
    {
     "name": "stdout",
     "output_type": "stream",
     "text": [
      "turn tuple to a string\n",
      "jax\n"
     ]
    }
   ],
   "source": [
    "print('turn tuple to a string')\n",
    "tpl = ('j', 'a', 'x')\n",
    "def convert_to_string(arg):\n",
    "    str = ''.join(arg)\n",
    "    return str\n",
    "\n",
    "print(convert_to_string(tpl))"
   ]
  },
  {
   "cell_type": "code",
   "execution_count": 15,
   "metadata": {},
   "outputs": [
    {
     "name": "stdout",
     "output_type": "stream",
     "text": [
      "find repeated items in a tuple\n",
      "('l', 'e')\n"
     ]
    }
   ],
   "source": [
    "print('find repeated items in a tuple')\n",
    "tuplex = ('y', 'e', 'l', 'l', 'o', 'w', 'j', 'a', 'c', 'k', 'e', 't', 's')\n",
    "def find_duplicates(arg):\n",
    "    unique = ()\n",
    "    repeated = ()\n",
    "    for x in arg:\n",
    "        if x not in unique:\n",
    "            unique = unique + (x, )\n",
    "        else:\n",
    "            repeated = repeated + (x, )\n",
    "    return repeated\n",
    "\n",
    "print(find_duplicates(tuplex))"
   ]
  },
  {
   "cell_type": "code",
   "execution_count": 16,
   "metadata": {},
   "outputs": [
    {
     "name": "stdout",
     "output_type": "stream",
     "text": [
      "check whether an element exists within a tuple\n",
      "True\n",
      "False\n"
     ]
    }
   ],
   "source": [
    "print('check whether an element exists within a tuple')\n",
    "tuplex = ('y', 'e', 'l', 'l', 'o', 'w', 'j', 'a', 'c', 'k', 'e', 't', 's')\n",
    "\n",
    "def exists(arg, element):\n",
    "    if element in arg:\n",
    "        return True\n",
    "    else:\n",
    "        return False\n",
    "\n",
    "print(exists(tuplex, 'w'))\n",
    "print(exists(tuplex, 'i'))"
   ]
  },
  {
   "cell_type": "code",
   "execution_count": 17,
   "metadata": {},
   "outputs": [
    {
     "name": "stdout",
     "output_type": "stream",
     "text": [
      "remove an item from a tuple\n",
      "using the pop method\n",
      "('team captain', False)\n",
      "(1, 'team captain')\n",
      "\n",
      "[(1,), (3.78, 9.56), ('StudyTonight', 'Study')]\n",
      "\n",
      "[(3.78, 9.56), ('StudyTonight', 'Study')]\n"
     ]
    }
   ],
   "source": [
    "print('remove an item from a tuple')\n",
    "tuplex = (1, 'team captain', False)\n",
    "print('using the pop method')\n",
    "def remove_element(arg, index):\n",
    "    arg = list(arg)\n",
    "    arg.pop(index)\n",
    "    return tuple(arg)\n",
    "\n",
    "print(remove_element(tuplex, 0))\n",
    "print(remove_element(tuplex, -1))\n",
    "print()\n",
    "\n",
    "my_tuple_list = [(1,2), (3.78, 9.56), (\"StudyTonight\", \"Study\")]\n",
    "my_tuple_list = [tuple(ele for ele in sub if ele != 2) for sub in my_tuple_list] \n",
    "print(my_tuple_list)\n",
    "print()\n",
    "\n",
    "my_tuple_list = [(1,2), (3.78, 9.56), (\"StudyTonight\", \"Study\")]\n",
    "print(list(filter(lambda x: x[1] != 2, my_tuple_list)))"
   ]
  },
  {
   "cell_type": "code",
   "execution_count": 18,
   "metadata": {},
   "outputs": [
    {
     "name": "stdout",
     "output_type": "stream",
     "text": [
      "find the length of a tuple\n",
      "13\n"
     ]
    }
   ],
   "source": [
    "print('find the length of a tuple')\n",
    "tuplex = ('y', 'e', 'l', 'l', 'o', 'w', 'j', 'a', 'c', 'k', 'e', 't', 's')\n",
    "\n",
    "def length(arg):\n",
    "    return len(arg)\n",
    "    \n",
    "print(length(tuplex))"
   ]
  },
  {
   "cell_type": "code",
   "execution_count": 19,
   "metadata": {},
   "outputs": [
    {
     "name": "stdout",
     "output_type": "stream",
     "text": [
      "convert a tuple to a dictionary\n",
      "{'y': 1, 'e': 2, 'l': 2, 'o': 1, 'w': 1, 'j': 1, 'a': 1, 'c': 1, 'k': 1, 't': 1, 's': 1}\n",
      "{'j': 1, 'a': 2, 'c': 1, 'k': 1, 'i': 1, 'e': 1, 't': 1, 'y': 1, 'l': 1, 'o': 1, 'r': 1}\n",
      "{'l': 1, 'o': 1, 't': 4, 'i': 1, 'e': 2, 'm': 1, 'a': 1, 'h': 1, 'w': 1, 's': 1}\n",
      "{'w': 2, 'r': 3}\n"
     ]
    }
   ],
   "source": [
    "print('convert a tuple to a dictionary')\n",
    "tuplex = ('y', 'e', 'l', 'l', 'o', 'w', 'j', 'a', 'c', 'k', 'e', 't', 's')\n",
    "tuplex2 = ('j', 'a', 'c', 'k', 'i', 'e', 't', 'a', 'y', 'l', 'o', 'r')\n",
    "tuplex3 = ('l', 'o', 't', 't', 'i', 'e', 'm', 'a', 't', 't', 'h', 'e', 'w', 's')\n",
    "def convert_to_dict(arg):\n",
    "    new_dict = {}\n",
    "    for x in arg:\n",
    "        if x not in new_dict:\n",
    "            new_dict[x] = 1\n",
    "        else:\n",
    "            new_dict[x] += 1\n",
    "    return new_dict\n",
    "    \n",
    "print(convert_to_dict(tuplex))\n",
    "print(convert_to_dict(tuplex2))\n",
    "print(convert_to_dict(tuplex3))\n",
    "\n",
    "# Create a tuple containing nested tuples, where each inner tuple consists of two elements.\n",
    "tuplex = ((2, \"w\"), (3, \"r\"))\n",
    "\n",
    "# Create a dictionary by using a generator expression to swap the elements of each inner tuple.\n",
    "# The generator iterates through 'tuplex', and for each inner tuple (x, y), it creates a key-value pair (y, x).\n",
    "result_dict = dict((y, x) for x, y in tuplex)\n",
    "\n",
    "# Print the resulting dictionary.\n",
    "print(result_dict)"
   ]
  },
  {
   "cell_type": "code",
   "execution_count": 20,
   "metadata": {},
   "outputs": [
    {
     "name": "stdout",
     "output_type": "stream",
     "text": [
      "unzip a list of tuples into individual lists\n",
      "[(1, 3, 8), (2, 4, 9)]\n"
     ]
    }
   ],
   "source": [
    "print('unzip a list of tuples into individual lists')\n",
    "l = [(1, 2), (3, 4), (8, 9)]\n",
    "\n",
    "# Use the 'zip' function with the '*' operator to unpack and zip the tuples.\n",
    "# This creates new tuples where the first elements from the original tuples are combined into one tuple,\n",
    "# and the second elements from the original tuples are combined into another tuple.\n",
    "result = list(zip(*l))\n",
    "\n",
    "print(result)"
   ]
  },
  {
   "cell_type": "code",
   "execution_count": 21,
   "metadata": {},
   "outputs": [
    {
     "name": "stdout",
     "output_type": "stream",
     "text": [
      "reverse a tuple\n",
      "(0, 11, 3)\n",
      "\n",
      "using lambda function\n",
      "(8, 7, 1)\n"
     ]
    }
   ],
   "source": [
    "print('reverse a tuple')\n",
    "tuplex = (3, 11, 0)\n",
    "def rev(arg):\n",
    "    return arg[::-1]\n",
    "\n",
    "print(rev(tuplex))\n",
    "print()\n",
    "\n",
    "print('using lambda function')\n",
    "reversed_tpl = (lambda x: tuple(reversed(x)))((1, 7, 8)) #--> last () call the variable\n",
    "print(reversed_tpl)"
   ]
  },
  {
   "cell_type": "code",
   "execution_count": 22,
   "metadata": {},
   "outputs": [
    {
     "name": "stdout",
     "output_type": "stream",
     "text": [
      "{'x': 6, 'y': 3, 'z': 1}\n",
      "\n",
      "{'x': [1, 2, 3], 'y': [1, 2], 'z': [1]}\n"
     ]
    }
   ],
   "source": [
    "l = [(\"x\", 1), (\"x\", 2), (\"x\", 3), (\"y\", 1), (\"y\", 2), (\"z\", 1)]\n",
    "def convert_to_dict(arg):\n",
    "    new_dict = {}\n",
    "    i = 0\n",
    "    for x in arg:\n",
    "        if x[i] not in new_dict:\n",
    "            new_dict[x[i]] = x[i+1]\n",
    "        else:\n",
    "            new_dict[x[i]] += x[i+1]\n",
    "    return new_dict\n",
    "    \n",
    "print(convert_to_dict(l))\n",
    "print()\n",
    "\n",
    "# Create a list of tuples where each tuple contains two elements, a character and a number.\n",
    "l = [(\"x\", 1), (\"x\", 2), (\"x\", 3), (\"y\", 1), (\"y\", 2), (\"z\", 1)]\n",
    "\n",
    "# Create an empty dictionary to store the results.\n",
    "d = {}\n",
    "\n",
    "# Iterate through each tuple (a, b) in the list 'l'.\n",
    "for a, b in l:\n",
    "    # Use 'setdefault' to create an empty list in the dictionary 'd' for the key 'a' if it doesn't exist.\n",
    "    # Then, append the value 'b' to the list associated with key 'a'.\n",
    "    d.setdefault(a, []).append(b)\n",
    "\n",
    "print(d)"
   ]
  },
  {
   "cell_type": "code",
   "execution_count": 23,
   "metadata": {},
   "outputs": [
    {
     "name": "stdout",
     "output_type": "stream",
     "text": [
      "replace the last value of tuples in a list\n",
      "(10, 20, 100)\n"
     ]
    }
   ],
   "source": [
    "print('replace the last value of tuples in a list')\n",
    "sample = (10, 20, 40)\n",
    "\n",
    "def replace_last(arg, n):\n",
    "    *other, last = arg\n",
    "    last = n\n",
    "    arg = *other, last\n",
    "    return arg\n",
    "    \n",
    "print(replace_last(sample, 100))"
   ]
  },
  {
   "cell_type": "code",
   "execution_count": 24,
   "metadata": {},
   "outputs": [
    {
     "name": "stdout",
     "output_type": "stream",
     "text": [
      "[(10, 20, 100), (40, 50, 100), (70, 80, 100)]\n"
     ]
    }
   ],
   "source": [
    "l = [(10, 20, 40), (40, 50, 60), (70, 80, 90)]\n",
    "\n",
    "print([t[:-1] + (100,) for t in l])"
   ]
  },
  {
   "cell_type": "code",
   "execution_count": 25,
   "metadata": {},
   "outputs": [
    {
     "name": "stdout",
     "output_type": "stream",
     "text": [
      "remove an empty tuple(s) from a list of tuples\n",
      "[('',), ('a', 'b'), ('a', 'b', 'c'), 'd']\n"
     ]
    }
   ],
   "source": [
    "print('remove an empty tuple(s) from a list of tuples')\n",
    "L = [(), (), ('',), ('a', 'b'), ('a', 'b', 'c'), ('d')]\n",
    "\n",
    "L = [t for t in L if t]\n",
    "print(L)"
   ]
  },
  {
   "cell_type": "code",
   "execution_count": 26,
   "metadata": {},
   "outputs": [
    {
     "name": "stdout",
     "output_type": "stream",
     "text": [
      "sort a tuple by its float element\n",
      "[('item3', '24.5'), ('item2', '15.10'), ('item1', '12.20')]\n"
     ]
    }
   ],
   "source": [
    "print('sort a tuple by its float element')\n",
    "sample = [('item1', '12.20'), ('item2', '15.10'), ('item3', '24.5')]\n",
    "\n",
    "sort_sample = sorted(sample, key=lambda x: x[-1], reverse=True)\n",
    "print(sort_sample)"
   ]
  },
  {
   "cell_type": "code",
   "execution_count": 27,
   "metadata": {},
   "outputs": [
    {
     "name": "stdout",
     "output_type": "stream",
     "text": [
      "count the elements in a list until an element is a tuple\n",
      "3\n"
     ]
    }
   ],
   "source": [
    "print('count the elements in a list until an element is a tuple')\n",
    "lst = [1, True, (5, 3), 'the symbol']\n",
    "\n",
    "def no_tuple(arg):\n",
    "    count = 0\n",
    "    for x in arg:\n",
    "        if isinstance(x, tuple):\n",
    "            continue #can use break if want to stop the count\n",
    "        count += 1\n",
    "    return count\n",
    "    \n",
    "print(no_tuple(lst))"
   ]
  },
  {
   "cell_type": "code",
   "execution_count": 28,
   "metadata": {},
   "outputs": [
    {
     "name": "stdout",
     "output_type": "stream",
     "text": [
      "convert a given string list to a tuple\n",
      "('p', 'y', 't', 'h', 'o', 'n', '3', '.', '0')\n",
      "\n",
      "alternative way\n",
      "('p', 'y', 't', 'h', 'o', 'n', '3', '.', '0')\n"
     ]
    }
   ],
   "source": [
    "print('convert a given string list to a tuple')\n",
    "string = 'python 3.0'\n",
    "\n",
    "def convert_to_string(arg):\n",
    "    #no spaces\n",
    "    arg = arg.replace(' ', '')\n",
    "    return tuple(arg)\n",
    "    \n",
    "print(convert_to_string(string))\n",
    "print()\n",
    "\n",
    "print('alternative way')\n",
    "def string_list_to_tuple(arg):\n",
    "    result = tuple(x for x in arg if not x.isspace())\n",
    "    return result\n",
    "\n",
    "print(string_list_to_tuple(string))"
   ]
  },
  {
   "cell_type": "code",
   "execution_count": 29,
   "metadata": {},
   "outputs": [
    {
     "name": "stdout",
     "output_type": "stream",
     "text": [
      "calculate the product, multiplying all the numbers in a given tuple\n",
      "using reduce function\n",
      "-864\n",
      "27648\n",
      "\n",
      "using loops\n",
      "-864\n",
      "27648\n",
      "\n",
      "using prod function\n",
      "-864\n",
      "27648\n"
     ]
    }
   ],
   "source": [
    "print('calculate the product, multiplying all the numbers in a given tuple')\n",
    "original = (4, 3, 2, 2, -1, 18) #-864\n",
    "other = (2, 4, 8, 8, 3, 2, 9) #27648\n",
    "print('using reduce function')\n",
    "def use_reduce(arg):\n",
    "    import functools\n",
    "    from functools import reduce\n",
    "    mul_tpl = reduce(lambda a, b: a*b, arg)\n",
    "    return mul_tpl\n",
    "\n",
    "print(use_reduce(original))\n",
    "print(use_reduce(other))\n",
    "print()\n",
    "\n",
    "original, other = (4, 3, 2, 2, -1, 18), (2, 4, 8, 8, 3, 2, 9)\n",
    "print('using loops')\n",
    "def use_loops(arg):\n",
    "    m = 1\n",
    "    for x in arg:\n",
    "        m *= x\n",
    "    return m\n",
    "print(use_loops(original))\n",
    "print(use_loops(other))\n",
    "print()\n",
    "\n",
    "print('using prod function')\n",
    "def use_prod(arg):\n",
    "    import numpy as np\n",
    "    return np.prod(arg)\n",
    "print(use_prod(original))\n",
    "print(use_prod(other))"
   ]
  },
  {
   "cell_type": "code",
   "execution_count": 30,
   "metadata": {},
   "outputs": [
    {
     "name": "stdout",
     "output_type": "stream",
     "text": [
      "calculate the average value of the numbers in a given tuple of tuples\n",
      "(10.5, 44.0, 58.0, 2.5)\n",
      "[2.5, 10.5, 44.0, 58.0]\n"
     ]
    }
   ],
   "source": [
    "print('calculate the average value of the numbers in a given tuple of tuples')\n",
    "tuplex = ((10, 10, 10, 12), (30, 45, 56, 45), (81, 80, 39, 32), (1, 2, 3, 4))\n",
    "\n",
    "result = tuple(map(lambda x: sum(x) / len(x), tuplex))\n",
    "print(result)\n",
    "print(sorted(result))"
   ]
  },
  {
   "cell_type": "code",
   "execution_count": 31,
   "metadata": {},
   "outputs": [
    {
     "name": "stdout",
     "output_type": "stream",
     "text": [
      "convert a tuple of string values to a tuple of integer values\n",
      "((333, 33), (1416, 55))\n"
     ]
    }
   ],
   "source": [
    "print('convert a tuple of string values to a tuple of integer values')\n",
    "original = (('333', '33'), ('1416', '55'))\n",
    "\n",
    "def tuple_int_str(tuple_str):\n",
    "    result = tuple((int(x[0]), int(x[1])) for x in tuple_str)\n",
    "    return result\n",
    "    \n",
    "print(tuple_int_str(original))"
   ]
  },
  {
   "cell_type": "code",
   "execution_count": 32,
   "metadata": {},
   "outputs": [
    {
     "name": "stdout",
     "output_type": "stream",
     "text": [
      "convert a given tuple of positive integers into an integer\n",
      "123\n",
      "102040570\n",
      "\n",
      "123\n",
      "102040570\n"
     ]
    }
   ],
   "source": [
    "print('convert a given tuple of positive integers into an integer')\n",
    "original, other = (1, 2, 3), (10, 20, 40, 5, 70)\n",
    "\n",
    "def convert_to_number(arg):\n",
    "    s = ''\n",
    "    for x in arg:\n",
    "        x = str(x)\n",
    "        s += x\n",
    "    s = int(s)\n",
    "    return s\n",
    "\n",
    "print(convert_to_number(original))\n",
    "print(convert_to_number(other))\n",
    "print()\n",
    "\n",
    "original, other = (1, 2, 3), (10, 20, 40, 5, 70)\n",
    "\n",
    "def tuple_to_int(nums):\n",
    "    result = int(''.join(map(str, nums)))\n",
    "    return result\n",
    "\n",
    "print(tuple_to_int(original))\n",
    "print(tuple_to_int(other))"
   ]
  },
  {
   "cell_type": "code",
   "execution_count": 33,
   "metadata": {},
   "outputs": [
    {
     "name": "stdout",
     "output_type": "stream",
     "text": [
      "check if a specified element appears in a tuple of tuples\n",
      "True\n",
      "False\n"
     ]
    }
   ],
   "source": [
    "print('check if a specified element appears in a tuple of tuples')\n",
    "def check_in_tuples(colors, c):\n",
    "    result = any(c in tu for tu in colors)\n",
    "    return result\n",
    "\n",
    "colors = (\n",
    "    ('Red', 'White', 'Blue'),\n",
    "    ('Green', 'Pink', 'Purple'),\n",
    "    ('Orange', 'Yellow', 'Lime'),\n",
    ")\n",
    "\n",
    "print(check_in_tuples(colors, 'White'))\n",
    "print(check_in_tuples(colors, 'Black'))"
   ]
  },
  {
   "cell_type": "code",
   "execution_count": 34,
   "metadata": {},
   "outputs": [
    {
     "name": "stdout",
     "output_type": "stream",
     "text": [
      "compute the element-wise sum of given tuples\n",
      "(6, 9, 8, 6)\n"
     ]
    }
   ],
   "source": [
    "print('compute the element-wise sum of given tuples')\n",
    "x = (1, 2, 3, 4)\n",
    "y = (3, 5, 2, 1)\n",
    "z = (2, 2, 3, 1)\n",
    "\n",
    "# Use the 'zip' function to pair corresponding elements from 'x', 'y', and 'z' tuples\n",
    "# and then use 'map' and 'sum' to calculate the element-wise sum.\n",
    "result = tuple(map(sum, zip(x, y, z)))\n",
    "print(result)"
   ]
  },
  {
   "cell_type": "code",
   "execution_count": 35,
   "metadata": {},
   "outputs": [
    {
     "name": "stdout",
     "output_type": "stream",
     "text": [
      "compute the sum of all the elements of each tuple stored inside a list of tuples\n",
      "(3, 5, 7)\n",
      "(9, -1, 7, 8)\n"
     ]
    }
   ],
   "source": [
    "print('compute the sum of all the elements of each tuple stored inside a list of tuples')\n",
    "original, new = [(1, 2), (2, 3), (3, 4)], [(1, 2, 6), (2, 3, -6), (3, 4), (2, 2, 2, 2)]\n",
    "\n",
    "result1 = tuple(map(sum, original))\n",
    "result2 = tuple(map(sum, new))\n",
    "print(result1, result2, sep='\\n')"
   ]
  },
  {
   "cell_type": "code",
   "execution_count": 36,
   "metadata": {},
   "outputs": [
    {
     "name": "stdout",
     "output_type": "stream",
     "text": [
      "convert a given list of tuples to a list of lists\n",
      "[[1, 2], [2, 3], [3, 4]]\n",
      "[[1, 2], [2, 3, 5], [3, 4], [2, 3, 4, 2]]\n",
      "\n",
      "alternative way\n",
      "[[1, 2], [2, 3], [3, 4]]\n",
      "[[1, 2], [2, 3, 5], [3, 4], [2, 3, 4, 2]]\n"
     ]
    }
   ],
   "source": [
    "print('convert a given list of tuples to a list of lists')\n",
    "original = [(1, 2), (2, 3), (3, 4)]\n",
    "additional = [(1, 2), (2, 3, 5), (3, 4), (2, 3, 4, 2)]\n",
    "\n",
    "result = list(map(list, original))\n",
    "result2 = list(map(list, additional))\n",
    "print(result, result2, sep='\\n')\n",
    "print()\n",
    "\n",
    "print('alternative way')\n",
    "def test(lst_tuples):\n",
    "    result = [list(el) for el in lst_tuples]\n",
    "    return result\n",
    "\n",
    "print(test(original))\n",
    "print(test(additional))"
   ]
  }
 ],
 "metadata": {
  "kernelspec": {
   "display_name": "Python 3",
   "language": "python",
   "name": "python3"
  },
  "language_info": {
   "codemirror_mode": {
    "name": "ipython",
    "version": 3
   },
   "file_extension": ".py",
   "mimetype": "text/x-python",
   "name": "python",
   "nbconvert_exporter": "python",
   "pygments_lexer": "ipython3",
   "version": "3.10.5"
  }
 },
 "nbformat": 4,
 "nbformat_minor": 2
}
