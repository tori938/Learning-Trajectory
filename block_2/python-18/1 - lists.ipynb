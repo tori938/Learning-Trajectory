{
 "cells": [
  {
   "cell_type": "code",
   "execution_count": 3,
   "metadata": {},
   "outputs": [
    {
     "name": "stdout",
     "output_type": "stream",
     "text": [
      "check if each number is prime in a given list of numbers, return True if all numbers are prime otherwise False\n",
      "Original list of numbers:\n",
      "[0, 3, 4, 7, 9]\n",
      "Check if each number is prime in the said list of numbers:\n",
      "False\n",
      "\n",
      "Original list of numbers:\n",
      "[3, 5, 7, 13]\n",
      "Check if each number is prime in the said list of numbers:\n",
      "True\n",
      "\n",
      "Original list of numbers:\n",
      "[1, 5, 3]\n",
      "Check if each number is prime in the said list of numbers:\n",
      "False\n"
     ]
    }
   ],
   "source": [
    "print('check if each number is prime in a given list of numbers, return True if all numbers are prime otherwise False')\n",
    "\n",
    "# Define a function named 'test' that takes a list 'nums' as a parameter\n",
    "def test(nums):\n",
    "    # Use a generator expression to check if each number in 'nums' is prime, and return True if all are prime\n",
    "    return all(is_prime(i) for i in nums)\n",
    "\n",
    "# Define a function named 'is_prime' that checks if a number 'n' is prime\n",
    "def is_prime(n):\n",
    "    # Check if 'n' is equal to 1; if so, it's not prime\n",
    "    if (n == 1):\n",
    "        return False\n",
    "    # Check if 'n' is equal to 2; if so, it's prime\n",
    "    elif (n == 2):\n",
    "        return True\n",
    "    else:\n",
    "        # Iterate through numbers from 2 to 'n' - 1\n",
    "        for x in range(2, n):\n",
    "            # If 'n' is divisible by 'x', it's not prime; return False\n",
    "            if (n % x == 0):\n",
    "                return False\n",
    "        # If no divisors were found, 'n' is prime; return True\n",
    "        return True\n",
    "\n",
    "# Define a list 'nums' containing a sequence of numbers\n",
    "nums = [0, 3, 4, 7, 9]\n",
    "# Print the original list of numbers\n",
    "print(\"Original list of numbers:\")\n",
    "print(nums)\n",
    "# Check if each number in 'nums' is prime and print the result\n",
    "print(\"Check if each number is prime in the said list of numbers:\")\n",
    "print(test(nums))\n",
    "\n",
    "# Reassign 'nums' with a different list of numbers\n",
    "nums = [3, 5, 7, 13]\n",
    "# Print the original list of numbers\n",
    "print(\"\\nOriginal list of numbers:\")\n",
    "print(nums)\n",
    "# Check if each number in the new 'nums' list is prime and print the result\n",
    "print(\"Check if each number is prime in the said list of numbers:\")\n",
    "print(test(nums))\n",
    "\n",
    "# Reassign 'nums' with another list of numbers\n",
    "nums = [1, 5, 3]\n",
    "# Print the original list of numbers\n",
    "print(\"\\nOriginal list of numbers:\")\n",
    "print(nums)\n",
    "# Check if each number in the new 'nums' list is prime and print the result\n",
    "print(\"Check if each number is prime in the said list of numbers:\")\n",
    "print(test(nums))"
   ]
  },
  {
   "cell_type": "code",
   "execution_count": 4,
   "metadata": {},
   "outputs": [
    {
     "name": "stdout",
     "output_type": "stream",
     "text": [
      "reverse a list\n",
      "[500, 400, 300, 200, 100]\n",
      "\n",
      "[500, 400, 300, 200, 100]\n"
     ]
    }
   ],
   "source": [
    "print('reverse a list')\n",
    "list1 = [100, 200, 300, 400, 500]\n",
    "\n",
    "print(list1[::-1])\n",
    "print()\n",
    "\n",
    "list1.reverse()\n",
    "print(list1)"
   ]
  },
  {
   "cell_type": "code",
   "execution_count": 5,
   "metadata": {},
   "outputs": [
    {
     "name": "stdout",
     "output_type": "stream",
     "text": [
      "concatenate two lists index-wise\n",
      "combine the string\n",
      "My name is Kelly\n",
      "\n",
      "map + lambda\n",
      "['My', 'name', 'is', 'Kelly']\n",
      "\n",
      "for loops and zip\n",
      "['My', 'name', 'is', 'Kelly']\n",
      "\n",
      "list comprehension and zip\n",
      "['My', 'name', 'is', 'Kelly']\n"
     ]
    }
   ],
   "source": [
    "print('concatenate two lists index-wise')\n",
    "list1 = [\"M\", \"na\", \"i\", \"Ke\"]\n",
    "list2 = [\"y\", \"me\", \"s\", \"lly\"]\n",
    "\n",
    "print('combine the string')\n",
    "print(list1[0] + list2[0], list1[1] + list2[1], \\\n",
    "list1[2] + list2[2], list1[3] + list2[3])\n",
    "print()\n",
    "\n",
    "print('map + lambda')\n",
    "combined = list(map(lambda a, b: a+b, list1, list2))\n",
    "print(combined)\n",
    "print()\n",
    "\n",
    "print('for loops and zip')\n",
    "empty = []\n",
    "for x, y in zip(list1, list2):\n",
    "    empty.append(x+y)\n",
    "print(empty)\n",
    "print()\n",
    "\n",
    "print('list comprehension and zip')\n",
    "list3 = [i + j for i, j in zip(list1, list2)]\n",
    "print(list3)"
   ]
  },
  {
   "cell_type": "code",
   "execution_count": 6,
   "metadata": {},
   "outputs": [
    {
     "name": "stdout",
     "output_type": "stream",
     "text": [
      "turn every item of a list into its square\n",
      "for loops\n",
      "[1, 4, 9, 16, 25, 36, 49]\n",
      "\n",
      "list comprehension\n",
      "[1, 4, 9, 16, 25, 36, 49]\n"
     ]
    }
   ],
   "source": [
    "print('turn every item of a list into its square')\n",
    "numbers = [1, 2, 3, 4, 5, 6, 7]\n",
    "\n",
    "print('for loops')\n",
    "sq_lst = []\n",
    "for x in numbers:\n",
    "    sq_lst.append(x**2)\n",
    "print(sq_lst)\n",
    "print()\n",
    "\n",
    "print('list comprehension')\n",
    "squared = [x**2 for x in numbers]\n",
    "print(squared)"
   ]
  },
  {
   "cell_type": "code",
   "execution_count": 7,
   "metadata": {},
   "outputs": [
    {
     "name": "stdout",
     "output_type": "stream",
     "text": [
      "concatenate two lists in the following order\n",
      "for loops\n",
      "['Hello Dear', 'Hello Sir', 'take Dear', 'take Sir']\n",
      "\n",
      "list comprehension\n",
      "['Hello Dear', 'Hello Sir', 'take Dear', 'take Sir']\n"
     ]
    }
   ],
   "source": [
    "print('concatenate two lists in the following order')\n",
    "list1 = [\"Hello \", \"take \"]\n",
    "list2 = [\"Dear\", \"Sir\"]\n",
    "\n",
    "print('for loops')\n",
    "new = []\n",
    "for x in list1:\n",
    "    for y in list2:\n",
    "        new.append(x + y)\n",
    "print(new)\n",
    "print()\n",
    "\n",
    "print('list comprehension')\n",
    "order = [x+y for x in list1 for y in list2]\n",
    "print(order)"
   ]
  },
  {
   "cell_type": "code",
   "execution_count": 8,
   "metadata": {},
   "outputs": [
    {
     "name": "stdout",
     "output_type": "stream",
     "text": [
      "iterate both lists simultaneously\n",
      "10 400\n",
      "20 300\n",
      "30 200\n",
      "40 100\n"
     ]
    }
   ],
   "source": [
    "print('iterate both lists simultaneously')\n",
    "list1 = [10, 20, 30, 40]\n",
    "list2 = [100, 200, 300, 400] #--> in reverse\n",
    "\n",
    "for x, y in zip(list1, list2[::-1]):\n",
    "    print(x, y)"
   ]
  },
  {
   "cell_type": "code",
   "execution_count": 9,
   "metadata": {},
   "outputs": [
    {
     "name": "stdout",
     "output_type": "stream",
     "text": [
      "remove empty strings from the list of strings\n",
      "['Mike', 'Emma', 'Kelly', 'Brad']\n",
      "['Mike', 'Emma', 'Kelly', 'Brad']\n",
      "\n",
      "['Mike', 'Emma', 'Kelly', 'Brad']\n",
      "\n",
      "['Mike', 'Emma', 'Kelly', 'Brad']\n"
     ]
    }
   ],
   "source": [
    "print('remove empty strings from the list of strings')\n",
    "list1 = [\"Mike\", \"\", \"Emma\", \"Kelly\", \"\", \"Brad\"]\n",
    "not_empty = list(filter(lambda x: len(x) > 0, list1))\n",
    "use_none = list(filter(None, list1))\n",
    "print(not_empty, use_none, sep='\\n')\n",
    "print()\n",
    "\n",
    "that_or_other = [x for x in list1 if len(x) > 0]\n",
    "print(that_or_other)\n",
    "print()\n",
    "\n",
    "new = []\n",
    "for x in list1:\n",
    "    if len(x) > 1:\n",
    "        new.append(x)\n",
    "print(new)"
   ]
  },
  {
   "cell_type": "code",
   "execution_count": 10,
   "metadata": {},
   "outputs": [
    {
     "name": "stdout",
     "output_type": "stream",
     "text": [
      "add new item to list after a specified item\n",
      "[10, 20, [300, 400, [5000, 6000, 7000], 500], 30, 40]\n"
     ]
    }
   ],
   "source": [
    "print('add new item to list after a specified item')\n",
    "list1 = [10, 20, [300, 400, [5000, 6000], 500], 30, 40]\n",
    "\n",
    "list1[2][2].append(7000)\n",
    "print(list1)"
   ]
  },
  {
   "cell_type": "code",
   "execution_count": 11,
   "metadata": {},
   "outputs": [
    {
     "name": "stdout",
     "output_type": "stream",
     "text": [
      "extend nested list by adding the sublist\n",
      "a\n",
      "b\n",
      "c\n",
      "['d', 'e', ['f', 'g'], 'k']\n",
      "['f', 'g']\n",
      "['a', 'b', ['c', ['d', 'e', ['f', 'g', 'h', 'i', 'j'], 'k'], 'l'], 'm', 'n']\n"
     ]
    }
   ],
   "source": [
    "print('extend nested list by adding the sublist')\n",
    "list1 = [\"a\", \"b\", [\"c\", [\"d\", \"e\", [\"f\", \"g\"], \"k\"], \"l\"], \"m\", \"n\"]\n",
    "sub_list = [\"h\", \"i\", \"j\"]\n",
    "print(list1[0])\n",
    "print(list1[1])\n",
    "print(list1[2][0])\n",
    "print(list1[2][1])\n",
    "print(list1[2][1][2])\n",
    "list1[2][1][2].extend(sub_list)\n",
    "print(list1)"
   ]
  },
  {
   "cell_type": "code",
   "execution_count": 12,
   "metadata": {},
   "outputs": [
    {
     "name": "stdout",
     "output_type": "stream",
     "text": [
      "replace list’s item with new value if found\n",
      "[5, 10, 15, 200, 25, 50, 20]\n",
      "\n",
      "alternate\n",
      "[5, 10, 15, 200, 25, 50, 20]\n"
     ]
    }
   ],
   "source": [
    "print('replace list’s item with new value if found')\n",
    "lst = [5, 10, 15, 20, 25, 50, 20]\n",
    "\n",
    "for n in range(0, len(lst)):\n",
    "\tif lst[n] == 20:\n",
    "\t\tlst[n] = 200\n",
    "\t\tbreak\n",
    "print(lst)\n",
    "print()\n",
    "\n",
    "print('alternate')\n",
    "list1 = [5, 10, 15, 20, 25, 50, 20]\n",
    "\n",
    "index = list1.index(20)\n",
    "list1[index] = 200\n",
    "print(list1)"
   ]
  },
  {
   "cell_type": "code",
   "execution_count": 13,
   "metadata": {},
   "outputs": [
    {
     "name": "stdout",
     "output_type": "stream",
     "text": [
      "remove all occurrences of a specific item from a list\n",
      "[5, 15, 25, 50]\n",
      "[5, 15, 25, 50]\n",
      "[5, 15, 25, 50]\n",
      "[5, 15, 25, 50]\n"
     ]
    }
   ],
   "source": [
    "print('remove all occurrences of a specific item from a list')\n",
    "lst = [5, 20, 15, 20, 25, 50, 20]\n",
    "\n",
    "filt_lst = list(filter(lambda x: x != 20, lst))\n",
    "print(filt_lst)\n",
    "\n",
    "no_twenty = [x for x in lst if x != 20]\n",
    "print(no_twenty)\n",
    "\n",
    "new = []\n",
    "for x in lst:\n",
    "    if x != 20:\n",
    "        new.append(x)\n",
    "print(new)\n",
    "\n",
    "while 20 in lst:\n",
    "    lst.remove(20)\n",
    "print(lst)"
   ]
  },
  {
   "cell_type": "code",
   "execution_count": 14,
   "metadata": {},
   "outputs": [
    {
     "name": "stdout",
     "output_type": "stream",
     "text": [
      "[4, 3, 2, 1]\n",
      "\n",
      "[4, 2, 3, 1]\n",
      "\n",
      "[4, 3, 2, 1]\n"
     ]
    }
   ],
   "source": [
    "lst = [1, 2, 3, 4]\n",
    "def rev(arg):\n",
    "    #reverse the list using indexation\n",
    "    arg = arg[::-1]\n",
    "    return arg\n",
    "\n",
    "print(rev(lst))\n",
    "print()\n",
    "\n",
    "def change(arg):\n",
    "    #set variables with unpacking\n",
    "    first, *other, last = arg\n",
    "    #change the order: first=last, last=first, middle unchanged\n",
    "    #-->or you can change the middle by saying *other[::-1]\n",
    "    arg = last, *other, first\n",
    "    #return as a list, not a tuple\n",
    "    #--> remember python usually converts results into tuples\n",
    "    return list(arg)\n",
    "\n",
    "print(change(lst))\n",
    "print()\n",
    "\n",
    "def rev2(arg):\n",
    "    #a little tricky: don't call into a new variable, leave as is\n",
    "    arg.reverse()\n",
    "    return arg\n",
    "\n",
    "print(rev2(lst))"
   ]
  },
  {
   "cell_type": "code",
   "execution_count": 15,
   "metadata": {},
   "outputs": [
    {
     "name": "stdout",
     "output_type": "stream",
     "text": [
      "using the aggregate function\n",
      "10\n",
      "\n",
      "using the reduce function\n",
      "10\n",
      "\n",
      "using for loops\n",
      "10\n"
     ]
    }
   ],
   "source": [
    "lst = [1, 2, 3, 4]\n",
    "print('using the aggregate function')\n",
    "def sum_items(arg):\n",
    "    return sum(arg)\n",
    "\n",
    "print(sum_items(lst))\n",
    "print()\n",
    "\n",
    "print('using the reduce function')\n",
    "import functools\n",
    "from functools import reduce\n",
    "\n",
    "def sum_items_red(arg):\n",
    "    result = reduce(lambda a,b: a+b, arg)\n",
    "    return result\n",
    "    \n",
    "print(sum_items_red(lst))\n",
    "print()\n",
    "\n",
    "print('using for loops')\n",
    "def sum_for_loop(arg):\n",
    "    s = 0\n",
    "    for x in arg:\n",
    "        s += x\n",
    "    return s\n",
    "\n",
    "print(sum_for_loop(lst))"
   ]
  },
  {
   "cell_type": "code",
   "execution_count": 16,
   "metadata": {},
   "outputs": [
    {
     "name": "stdout",
     "output_type": "stream",
     "text": [
      "using the reduce function\n",
      "24\n",
      "\n",
      "using for loops\n",
      "24\n",
      "\n",
      "using the aggregate function\n",
      "24\n"
     ]
    }
   ],
   "source": [
    "lst = [1, 2, 3, 4]\n",
    "print('using the reduce function')\n",
    "import functools\n",
    "from functools import reduce\n",
    "\n",
    "def mul_items_red(arg):\n",
    "    result = reduce(lambda a,b: a*b, arg)\n",
    "    return result\n",
    "    \n",
    "print(mul_items_red(lst))\n",
    "print()\n",
    "\n",
    "print('using for loops')\n",
    "def mul_for_loop(arg):\n",
    "    m = 1\n",
    "    for x in arg:\n",
    "        m *= x\n",
    "    return m\n",
    "\n",
    "print(mul_for_loop(lst))\n",
    "print()\n",
    "\n",
    "print('using the aggregate function')\n",
    "import numpy as np\n",
    "def mul_items(arg):\n",
    "    return np.prod(arg)\n",
    "\n",
    "print(mul_items(lst))"
   ]
  },
  {
   "cell_type": "code",
   "execution_count": 17,
   "metadata": {},
   "outputs": [
    {
     "name": "stdout",
     "output_type": "stream",
     "text": [
      "using the aggregate function\n",
      "4\n",
      "\n",
      "using for loops\n",
      "4\n"
     ]
    }
   ],
   "source": [
    "lst = [1, 2, 3, 4]\n",
    "print('using the aggregate function')\n",
    "def max_no(arg):\n",
    "    return max(arg)\n",
    "\n",
    "print(max_no(lst))\n",
    "print()\n",
    "\n",
    "print('using for loops')\n",
    "def max_for_loop(arg):\n",
    "    maximum = 0\n",
    "    for x in arg:\n",
    "        if x > maximum:\n",
    "            maximum = x\n",
    "    return maximum\n",
    "\n",
    "print(max_for_loop(lst))"
   ]
  },
  {
   "cell_type": "code",
   "execution_count": 18,
   "metadata": {},
   "outputs": [
    {
     "name": "stdout",
     "output_type": "stream",
     "text": [
      "using the aggregate function\n",
      "1\n",
      "\n",
      "using for loops\n",
      "1\n"
     ]
    }
   ],
   "source": [
    "lst = [1, 2, 3, 4]\n",
    "print('using the aggregate function')\n",
    "def min_no(arg):\n",
    "    return min(arg)\n",
    "\n",
    "print(min_no(lst))\n",
    "print()\n",
    "\n",
    "print('using for loops')\n",
    "def min_for_loop(arg):\n",
    "    #need to use indexation on the minimum value\n",
    "    minimum = arg[0]\n",
    "    for x in arg:\n",
    "        if x > minimum:\n",
    "            return minimum\n",
    "        else:\n",
    "            return x\n",
    "\n",
    "print(min_for_loop(lst))"
   ]
  },
  {
   "cell_type": "code",
   "execution_count": 19,
   "metadata": {},
   "outputs": [
    {
     "name": "stdout",
     "output_type": "stream",
     "text": [
      "get a list, sorted in ASC order by the last element in each tuple from a given list of non-empty tuples\n",
      "[(2, 1), (1, 2), (2, 3), (4, 4), (2, 5)]\n",
      "\n",
      "alternative answer\n",
      "[(2, 1), (1, 2), (2, 3), (4, 4), (2, 5)]\n"
     ]
    }
   ],
   "source": [
    "print('get a list, sorted in ASC order by the last element in each tuple from a given list of non-empty tuples')\n",
    "lst = [(2, 5), (1, 2), (4, 4), (2, 3), (2, 1)]\n",
    "\n",
    "#sort the list by the 2nd index in ASC order\n",
    "result = sorted(lst, key=lambda x: x[-1], reverse=False)\n",
    "print(result)\n",
    "print()\n",
    "\n",
    "print('alternative answer')\n",
    "def last(n):\n",
    "    return n[-1]\n",
    "    \n",
    "def sort_list_last(tuples):\n",
    "    return sorted(tuples, key=last)\n",
    "\n",
    "print(sort_list_last([(2, 5), (1, 2), (4, 4), (2, 3), (2, 1)]))"
   ]
  },
  {
   "cell_type": "code",
   "execution_count": 20,
   "metadata": {},
   "outputs": [
    {
     "name": "stdout",
     "output_type": "stream",
     "text": [
      "write a program to remove duplicates from a list\n",
      "[1, 2, 3]\n",
      "\n",
      "alternative answer\n",
      "{40, 10, 80, 50, 20, 60, 30}\n"
     ]
    }
   ],
   "source": [
    "print('write a program to remove duplicates from a list')\n",
    "lst = [1, 2, 3, 2, 3, 2, 3, 3, 3, 3]\n",
    "def remove_dupl(arg):\n",
    "    #convert list to set\n",
    "    arg = set(arg)\n",
    "    #convert back to list\n",
    "    return list(arg)\n",
    "\n",
    "print(remove_dupl(lst))\n",
    "print()\n",
    "\n",
    "print('alternative answer')\n",
    "a = [10, 20, 30, 20, 10, 50, 60, 40, 80, 50, 40]\n",
    "\n",
    "def unique(arg):\n",
    "    dup_items = set()\n",
    "    uniq_items = []\n",
    "    for x in arg:\n",
    "        # Check if the current element 'x' is not already in the set 'dup_items' (it's a duplicate check)\n",
    "        if x not in dup_items:\n",
    "            # If 'x' is not a duplicate, add it to the 'uniq_items' list\n",
    "            uniq_items.append(x)\n",
    "            # Add 'x' to the 'dup_items' set to mark it as a seen item\n",
    "            dup_items.add(x)\n",
    "    return dup_items\n",
    "\n",
    "print(unique(a))"
   ]
  },
  {
   "cell_type": "code",
   "execution_count": 21,
   "metadata": {},
   "outputs": [
    {
     "name": "stdout",
     "output_type": "stream",
     "text": [
      "write a program to check if a list is empty or not\n",
      "empty\n",
      "not empty\n"
     ]
    }
   ],
   "source": [
    "print('write a program to check if a list is empty or not')\n",
    "lst = []\n",
    "lst2 = ['sd', 'hd']\n",
    "\n",
    "def empty(arg):\n",
    "    if len(arg) == 0:\n",
    "        return 'empty'\n",
    "    else:\n",
    "        return 'not empty'\n",
    "\n",
    "print(empty(lst))\n",
    "print(empty(lst2))"
   ]
  },
  {
   "cell_type": "code",
   "execution_count": 22,
   "metadata": {},
   "outputs": [
    {
     "name": "stdout",
     "output_type": "stream",
     "text": [
      "[1, 2]\n",
      "\n",
      "[1, 2]\n"
     ]
    }
   ],
   "source": [
    "a = [1, 2]\n",
    "b = a.copy()\n",
    "print(b)\n",
    "print()\n",
    "\n",
    "c = list(a)\n",
    "print(c)"
   ]
  },
  {
   "cell_type": "code",
   "execution_count": 23,
   "metadata": {},
   "outputs": [
    {
     "name": "stdout",
     "output_type": "stream",
     "text": [
      "write a program to find the list of words that are longer than n from a given list of words\n",
      "['Jackie', 'Shauna', 'Lottie', 'Akilah', 'Laura Lee']\n",
      "['deserve', 'soft', 'epilogue', 'love']\n"
     ]
    }
   ],
   "source": [
    "print('write a program to find the list of words that are longer than n from a given list of words')\n",
    "lst = ['Jackie', 'Shauna', 'Nat', 'Lottie', 'Van', 'Tai', 'Mari', 'Akilah', 'Laura Lee']\n",
    "def lst_length(arg, n):\n",
    "    new_lst = []\n",
    "    for word in arg:\n",
    "        if len(word) > n:\n",
    "            new_lst.append(word)\n",
    "    return new_lst\n",
    "\n",
    "print(lst_length(lst, 4))\n",
    "\n",
    "txt = 'we deserve a soft epilogue, my love'\n",
    "def find_words(arg, n):\n",
    "    arg = arg.replace(',', '')\n",
    "    arg = arg.split(' ')\n",
    "    \n",
    "    new_lst = []\n",
    "    for word in arg:\n",
    "        if len(word) > n:\n",
    "            new_lst.append(word)\n",
    "    return new_lst\n",
    "\n",
    "print(find_words(txt, 3))"
   ]
  },
  {
   "cell_type": "code",
   "execution_count": 24,
   "metadata": {},
   "outputs": [
    {
     "name": "stdout",
     "output_type": "stream",
     "text": [
      "write a function that takes two lists and returns True if they have at least one common member\n",
      "True\n",
      "False\n",
      "\n",
      "True\n",
      "None\n"
     ]
    }
   ],
   "source": [
    "print('write a function that takes two lists and returns True if they have at least one common member')\n",
    "lst1 = [1, 2, 3]\n",
    "lst2 = [2, 3, 4]\n",
    "lst3 = [5, 7]\n",
    "def common_factor(arg1, arg2):\n",
    "    arg1, arg2 = set(arg1), set(arg2)\n",
    "    inters_result = arg1.intersection(arg2)\n",
    "    if len(inters_result) > 0:\n",
    "        return True\n",
    "    else:\n",
    "        return False\n",
    "\n",
    "print(common_factor(lst1, lst2))\n",
    "print(common_factor(lst1, lst3))\n",
    "print()\n",
    "    \n",
    "# Define a function called 'common_data' that takes two lists, 'list1' and 'list2', as input\n",
    "def common_data(list1, list2):\n",
    "    # Initialize a variable 'result' to False to indicate no common elements initially\n",
    "    result = False\n",
    "\n",
    "    # Iterate through each element 'x' in 'list1'\n",
    "    for x in list1:\n",
    "        # Iterate through each element 'y' in 'list2'\n",
    "        for y in list2:\n",
    "            # Check if the current elements 'x' and 'y' are equal\n",
    "            if x == y:\n",
    "                # If there's a common element, set 'result' to True and return it\n",
    "                result = True\n",
    "                return result\n",
    "\n",
    "print(common_data([1, 2, 3, 4, 5], [5, 6, 7, 8, 9]))\n",
    "print(common_data([1, 2, 3, 4, 5], [6, 7, 8, 9])) "
   ]
  },
  {
   "cell_type": "code",
   "execution_count": 25,
   "metadata": {},
   "outputs": [
    {
     "name": "stdout",
     "output_type": "stream",
     "text": [
      "['Green', 'White', 'Black']\n"
     ]
    }
   ],
   "source": [
    "# Create a list 'color' with several color strings\n",
    "color = ['Red', 'Green', 'White', 'Black', 'Pink', 'Yellow']\n",
    "\n",
    "# Use a list comprehension to create a new list 'color' that includes elements from the original list\n",
    "# but only if their index (i) is not in the specified indices (0, 4, 5)\n",
    "color = [x for (i, x) in enumerate(color) if i not in (0, 4, 5)]\n",
    "\n",
    "# Print the modified 'color' list, which excludes elements at indices 0, 4, and 5\n",
    "print(color)"
   ]
  },
  {
   "cell_type": "code",
   "execution_count": 26,
   "metadata": {},
   "outputs": [
    {
     "name": "stdout",
     "output_type": "stream",
     "text": [
      "generate a 3x4x6 array whose each element is *\n",
      "[[['*' '*' '*' '*' '*' '*']\n",
      "  ['*' '*' '*' '*' '*' '*']\n",
      "  ['*' '*' '*' '*' '*' '*']\n",
      "  ['*' '*' '*' '*' '*' '*']]\n",
      "\n",
      " [['*' '*' '*' '*' '*' '*']\n",
      "  ['*' '*' '*' '*' '*' '*']\n",
      "  ['*' '*' '*' '*' '*' '*']\n",
      "  ['*' '*' '*' '*' '*' '*']]\n",
      "\n",
      " [['*' '*' '*' '*' '*' '*']\n",
      "  ['*' '*' '*' '*' '*' '*']\n",
      "  ['*' '*' '*' '*' '*' '*']\n",
      "  ['*' '*' '*' '*' '*' '*']]]\n",
      "\n",
      "alternative answer\n",
      "[[['*', '*', '*', '*', '*', '*'], ['*', '*', '*', '*', '*', '*'], ['*', '*', '*', '*', '*', '*'], ['*', '*', '*', '*', '*', '*']], [['*', '*', '*', '*', '*', '*'], ['*', '*', '*', '*', '*', '*'], ['*', '*', '*', '*', '*', '*'], ['*', '*', '*', '*', '*', '*']], [['*', '*', '*', '*', '*', '*'], ['*', '*', '*', '*', '*', '*'], ['*', '*', '*', '*', '*', '*'], ['*', '*', '*', '*', '*', '*']]]\n"
     ]
    }
   ],
   "source": [
    "print('generate a 3x4x6 array whose each element is *')\n",
    "import numpy as np\n",
    "def array(l, w, h):\n",
    "    array = np.full((l, w, h), '*')\n",
    "    return array\n",
    "\n",
    "print(array(3, 4, 6))\n",
    "print()\n",
    "\n",
    "print('alternative answer')\n",
    "arr = [[['*' for col in range(6)] for col in range(4)] for row in range(3)]\n",
    "print(arr)"
   ]
  },
  {
   "cell_type": "code",
   "execution_count": 27,
   "metadata": {},
   "outputs": [
    {
     "name": "stdout",
     "output_type": "stream",
     "text": [
      "return the numbers of a specified list after removing even numbers from it\n",
      "using loops\n",
      "[5, 7, 3, 1]\n",
      "\n",
      "using list comprehension\n",
      "[5, 7, 3, 1]\n",
      "\n",
      "using filter function\n",
      "[5, 7, 3, 1]\n"
     ]
    }
   ],
   "source": [
    "print('return the numbers of a specified list after removing even numbers from it')\n",
    "lst = [2, 5, 4, 8, 7, 3, 1]\n",
    "print('using loops')\n",
    "def no_even(arg):\n",
    "    odd_lst = []\n",
    "    for n in lst:\n",
    "        if n % 2 != 0:\n",
    "            odd_lst.append(n)\n",
    "    return odd_lst\n",
    "\n",
    "print(no_even(lst))\n",
    "print()\n",
    "\n",
    "print('using list comprehension')\n",
    "lst_with_no_odds = [n for n in lst if n % 2 != 0]\n",
    "print(lst_with_no_odds)\n",
    "print()\n",
    "\n",
    "print('using filter function')\n",
    "odds_only = filter(lambda x: (x % 2 != 0), lst)\n",
    "print(list(odds_only))"
   ]
  },
  {
   "cell_type": "code",
   "execution_count": 28,
   "metadata": {},
   "outputs": [
    {
     "name": "stdout",
     "output_type": "stream",
     "text": [
      "generate and print a list of the first and last 5 elements where the values are square numbers between 1 and 30 (both included)\n",
      "[1, 4, 9, 16, 25]\n",
      "[256, 289, 324, 361, 400]\n"
     ]
    }
   ],
   "source": [
    "print('generate and print a list of the first and last 5 elements \\\n",
    "where the values are square numbers between 1 and 30 (both included)')\n",
    "# Define a function named printValues\n",
    "def printValues():\n",
    "    # Create an empty list 'l'\n",
    "    l = list()\n",
    "    # Loop from 1 to 20 (inclusive)\n",
    "    for i in range(1, 21):\n",
    "        # Calculate the square of 'i' and append it to the list 'l'\n",
    "        l.append(i**2)\n",
    "    # Print the first 5 elements of the list 'l'\n",
    "    print(l[:5])\n",
    "    # Print the last 5 elements of the list 'l'\n",
    "    print(l[-5:])\n",
    "\n",
    "# Call the printValues function to execute it\n",
    "printValues()"
   ]
  },
  {
   "cell_type": "code",
   "execution_count": 29,
   "metadata": {},
   "outputs": [
    {
     "name": "stdout",
     "output_type": "stream",
     "text": [
      "[(1, 2, 3), (1, 3, 2), (2, 1, 3), (2, 3, 1), (3, 1, 2), (3, 2, 1)]\n"
     ]
    }
   ],
   "source": [
    "# Import the 'itertools' module, which provides various functions for working with iterators\n",
    "import itertools\n",
    "\n",
    "# Use 'itertools.permutations' to generate all permutations of the list [1, 2, 3], and convert the result to a list\n",
    "# This will produce all possible orderings of the elements in the list\n",
    "print(list(itertools.permutations([1, 2, 3])))"
   ]
  },
  {
   "cell_type": "code",
   "execution_count": 30,
   "metadata": {},
   "outputs": [
    {
     "name": "stdout",
     "output_type": "stream",
     "text": [
      "calculate the difference between the two lists\n",
      "[1, 4]\n"
     ]
    }
   ],
   "source": [
    "print('calculate the difference between the two lists')\n",
    "lst1, lst2 = [1, 2, 3], [2, 3, 4]\n",
    "def dif_in_lst(arg1, arg2):\n",
    "    arg1, arg2 = set(arg1), set(arg2)\n",
    "    def one_to_two(arg1, arg2):\n",
    "        result1 = arg1.difference(arg2)\n",
    "        return result1\n",
    "    def two_to_one(arg1, arg2):\n",
    "        result2 = arg2.difference(arg1)\n",
    "        return result2\n",
    "    result1 = one_to_two(arg1, arg2)\n",
    "    result2 = two_to_one(arg1, arg2)\n",
    "    total_result = list(result1) + list(result2)\n",
    "    return total_result\n",
    "    \n",
    "print(dif_in_lst(lst1, lst2))"
   ]
  },
  {
   "cell_type": "code",
   "execution_count": 31,
   "metadata": {},
   "outputs": [
    {
     "name": "stdout",
     "output_type": "stream",
     "text": [
      "access the index of a list\n",
      "Lottie\n",
      "\n",
      "using loops\n",
      "0 Jackie\n",
      "1 Shauna\n",
      "2 Lottie\n",
      "3 Nat\n"
     ]
    }
   ],
   "source": [
    "print('access the index of a list')\n",
    "lst = ['Jackie', 'Shauna', 'Lottie', 'Nat']\n",
    "def access_index(arg, index):\n",
    "    return arg[index]\n",
    "\n",
    "print(access_index(lst, 2))\n",
    "print()\n",
    "\n",
    "print('using loops')\n",
    "def all_index(arg):\n",
    "    for word, index in enumerate(arg):\n",
    "        print(word, index)\n",
    "\n",
    "all_index(lst)"
   ]
  }
 ],
 "metadata": {
  "kernelspec": {
   "display_name": "Python 3",
   "language": "python",
   "name": "python3"
  },
  "language_info": {
   "codemirror_mode": {
    "name": "ipython",
    "version": 3
   },
   "file_extension": ".py",
   "mimetype": "text/x-python",
   "name": "python",
   "nbconvert_exporter": "python",
   "pygments_lexer": "ipython3",
   "version": "3.10.5"
  }
 },
 "nbformat": 4,
 "nbformat_minor": 2
}
