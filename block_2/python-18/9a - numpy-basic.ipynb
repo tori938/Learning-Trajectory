{
 "cells": [
  {
   "cell_type": "code",
   "execution_count": 2,
   "metadata": {},
   "outputs": [],
   "source": [
    "import numpy as np"
   ]
  },
  {
   "cell_type": "code",
   "execution_count": 3,
   "metadata": {},
   "outputs": [
    {
     "name": "stdout",
     "output_type": "stream",
     "text": [
      "test whether none of the elements of a given array are zero\n",
      "True\n",
      "\n",
      "False\n"
     ]
    }
   ],
   "source": [
    "print('test whether none of the elements of a given array are zero')\n",
    "\n",
    "x = np.array([1, 2, 3, 4])\n",
    "\n",
    "#checking if none of the elements in the array is zero\n",
    "print(np.all(x))\n",
    "print()\n",
    "\n",
    "y = np.array([0, 1, 2, 3])\n",
    "print(np.all(y))"
   ]
  },
  {
   "cell_type": "code",
   "execution_count": 4,
   "metadata": {},
   "outputs": [
    {
     "name": "stdout",
     "output_type": "stream",
     "text": [
      "test if any of the elements of a given array are non-zero\n",
      "True\n",
      "\n",
      "False\n"
     ]
    }
   ],
   "source": [
    "print('test if any of the elements of a given array are non-zero')\n",
    "\n",
    "x = np.array([1, 0, 0, 0])\n",
    "\n",
    "#checking if any element in the array is non-zero\n",
    "print(np.any(x))\n",
    "print()\n",
    "\n",
    "y = np.array([0, 0, 0, 0])\n",
    "print(np.any(y))"
   ]
  },
  {
   "cell_type": "code",
   "execution_count": 5,
   "metadata": {},
   "outputs": [
    {
     "name": "stdout",
     "output_type": "stream",
     "text": [
      "test a given array element-wise for finiteness, and +/-\n",
      "[ True  True False False]\n",
      "[False False False  True]\n"
     ]
    }
   ],
   "source": [
    "print('test a given array element-wise for finiteness, and +/-')\n",
    "\n",
    "a = np.array([1, 0, np.nan, np.inf])\n",
    "\n",
    "#checking the given array element-wise for finiteness\n",
    "print(np.isfinite(a))\n",
    "#testing the given array element-wise for positive or negative infinity\n",
    "print(np.isinf(a)) "
   ]
  },
  {
   "cell_type": "code",
   "execution_count": 6,
   "metadata": {},
   "outputs": [
    {
     "name": "stdout",
     "output_type": "stream",
     "text": [
      "test element-wise for NaN of a given array\n",
      "[False False  True False]\n"
     ]
    }
   ],
   "source": [
    "print('test element-wise for NaN of a given array')\n",
    "\n",
    "a = np.array([1, 0, np.nan, np.inf])\n",
    "print(np.isnan(a))"
   ]
  },
  {
   "cell_type": "code",
   "execution_count": 7,
   "metadata": {},
   "outputs": [
    {
     "name": "stdout",
     "output_type": "stream",
     "text": [
      "test element-wise for complex numbers, real numbers in a given array\n",
      "[ True False False False False  True]\n",
      "[False  True  True  True  True False]\n",
      "True\n",
      "False\n"
     ]
    }
   ],
   "source": [
    "print('test element-wise for complex numbers, real numbers in a given array')\n",
    "\n",
    "a = np.array([1+1j, 1+0j, 4.5, 3, 2, 2j])\n",
    "\n",
    "print(np.iscomplex(a))\n",
    "print(np.isreal(a))\n",
    "print(np.isscalar(3.1))\n",
    "print(np.isscalar([3.1]))"
   ]
  },
  {
   "cell_type": "code",
   "execution_count": 8,
   "metadata": {},
   "outputs": [
    {
     "name": "stdout",
     "output_type": "stream",
     "text": [
      "create an array with the values 1, 7, 13, 105 and determine the size of the memory occupied by the array\n",
      "[  1   7  13 105]\n",
      "4, 8, 32\n"
     ]
    }
   ],
   "source": [
    "print('create an array with the values 1, 7, 13, 105 and determine the size of the memory occupied by the array')\n",
    "\n",
    "a = np.array([1, 7, 13, 105])\n",
    "print(a)\n",
    "print(a.size, a.itemsize, a.size * a.itemsize, sep=', ')"
   ]
  },
  {
   "cell_type": "code",
   "execution_count": 9,
   "metadata": {},
   "outputs": [
    {
     "name": "stdout",
     "output_type": "stream",
     "text": [
      "create an array of 10 zeros, 10 ones, and 10 fives\n",
      "[0. 0. 0. 0. 0. 0. 0. 0. 0. 0.]\n",
      "\n",
      "[1. 1. 1. 1. 1. 1. 1. 1. 1. 1.]\n",
      "\n",
      "[5 5 5 5 5 5 5 5 5 5]\n",
      "\n"
     ]
    }
   ],
   "source": [
    "print('create an array of 10 zeros, 10 ones, and 10 fives')\n",
    "\n",
    "zeros = np.zeros(10)\n",
    "ones = np.ones(10)\n",
    "fives = np.full(10, 5) #--> np.ones(10) * 5\n",
    "print(zeros)\n",
    "print()\n",
    "\n",
    "print(ones)\n",
    "print()\n",
    "\n",
    "print(fives)\n",
    "print()"
   ]
  },
  {
   "cell_type": "code",
   "execution_count": 10,
   "metadata": {},
   "outputs": [
    {
     "name": "stdout",
     "output_type": "stream",
     "text": [
      "create an array of integers from 30 to 70\n",
      "[30 31 32 33 34 35 36 37 38 39 40 41 42 43 44 45 46 47 48 49 50 51 52 53\n",
      " 54 55 56 57 58 59 60 61 62 63 64 65 66 67 68 69 70]\n",
      "\n",
      "create an array of all even integers from 30 to 70\n",
      "[30 32 34 36 38 40 42 44 46 48 50 52 54 56 58 60 62 64 66 68 70]\n"
     ]
    }
   ],
   "source": [
    "print('create an array of integers from 30 to 70')\n",
    "\n",
    "a = np.arange(30, 71)\n",
    "print(a)\n",
    "print()\n",
    "\n",
    "print('create an array of all even integers from 30 to 70')\n",
    "b = np.arange(30, 71, 2)\n",
    "print(b)"
   ]
  },
  {
   "cell_type": "code",
   "execution_count": 11,
   "metadata": {},
   "outputs": [
    {
     "name": "stdout",
     "output_type": "stream",
     "text": [
      "create a 3x3 identity matrix\n",
      "[[1. 0. 0.]\n",
      " [0. 1. 0.]\n",
      " [0. 0. 1.]]\n"
     ]
    }
   ],
   "source": [
    "print('create a 3x3 identity matrix')\n",
    "\n",
    "a = np.identity(3)\n",
    "print(a)"
   ]
  },
  {
   "cell_type": "code",
   "execution_count": 12,
   "metadata": {},
   "outputs": [
    {
     "name": "stdout",
     "output_type": "stream",
     "text": [
      "generate a random number between 0 and 1\n",
      "0.15854559966693715\n"
     ]
    }
   ],
   "source": [
    "print('generate a random number between 0 and 1')\n",
    "\n",
    "n = np.random.rand()\n",
    "print(n)"
   ]
  },
  {
   "cell_type": "code",
   "execution_count": 13,
   "metadata": {},
   "outputs": [
    {
     "name": "stdout",
     "output_type": "stream",
     "text": [
      "create a vector with values ranging from 15 to 55 and print all values except the first and last\n",
      "[16 17 18 19 20 21 22 23 24 25 26 27 28 29 30 31 32 33 34 35 36 37 38 39\n",
      " 40 41 42 43 44 45 46 47 48 49 50 51 52 53 54]\n"
     ]
    }
   ],
   "source": [
    "print('create a vector with values ranging from 15 to 55 and print all values except the first and last')\n",
    "\n",
    "v = np.arange(15, 56)\n",
    "print(v[1:-1])"
   ]
  },
  {
   "cell_type": "code",
   "execution_count": 14,
   "metadata": {},
   "outputs": [
    {
     "name": "stdout",
     "output_type": "stream",
     "text": [
      "create a 3X4 array and iterate over it\n",
      "[[10 11 12 13]\n",
      " [14 15 16 17]\n",
      " [18 19 20 21]]\n",
      "\n",
      "10 11 12 13 14 15 16 17 18 19 20 21 "
     ]
    }
   ],
   "source": [
    "print('create a 3X4 array and iterate over it')\n",
    "\n",
    "a = np.arange(10, 22).reshape((3, 4))\n",
    "print(a)\n",
    "print()\n",
    "\n",
    "for x in np.nditer(a):\n",
    "    print(x, end=\" \") "
   ]
  },
  {
   "cell_type": "code",
   "execution_count": 15,
   "metadata": {},
   "outputs": [
    {
     "name": "stdout",
     "output_type": "stream",
     "text": [
      "create a 3x3 identity matrix, i.e. the diagonal elements are 1, the rest are 0\n",
      "[[1. 0. 0.]\n",
      " [0. 1. 0.]\n",
      " [0. 0. 1.]]\n"
     ]
    }
   ],
   "source": [
    "print('create a 3x3 identity matrix, i.e. the diagonal elements are 1, the rest are 0')\n",
    "\n",
    "#creating a 3x3 identity matrix using np.eye()\n",
    "x = np.eye(3)\n",
    "\n",
    "print(x)"
   ]
  },
  {
   "cell_type": "code",
   "execution_count": 16,
   "metadata": {},
   "outputs": [
    {
     "name": "stdout",
     "output_type": "stream",
     "text": [
      "create a matrix: elements on the borders are 1, and inside 0\n",
      "[[1. 1. 1. 1. 1.]\n",
      " [1. 0. 0. 0. 1.]\n",
      " [1. 0. 0. 0. 1.]\n",
      " [1. 0. 0. 0. 1.]\n",
      " [1. 1. 1. 1. 1.]]\n"
     ]
    }
   ],
   "source": [
    "print('create a matrix: elements on the borders are 1, and inside 0')\n",
    "\n",
    "def zero_in(l, w):\n",
    "    #creating a matrix filled with ones using np.ones()\n",
    "    x = np.ones((l, w))\n",
    "    \n",
    "    #setting the inner values of the matrix 'x'\n",
    "    #(excluding the borders) to 0 using slicing\n",
    "    x[1:-1, 1:-1] = 0\n",
    "    \n",
    "    return x\n",
    "    \n",
    "print(zero_in(5, 5))"
   ]
  },
  {
   "cell_type": "code",
   "execution_count": 17,
   "metadata": {},
   "outputs": [
    {
     "name": "stdout",
     "output_type": "stream",
     "text": [
      "create a 5x5 zero matrix with elements on the main diagonal equal to 1, 2, 3, 4, 5\n",
      "[[1 0 0 0 0]\n",
      " [0 2 0 0 0]\n",
      " [0 0 3 0 0]\n",
      " [0 0 0 4 0]\n",
      " [0 0 0 0 5]]\n",
      "\n",
      "[[1 0 0]\n",
      " [0 2 0]\n",
      " [0 0 3]]\n"
     ]
    }
   ],
   "source": [
    "print('create a 5x5 zero matrix with elements on the main diagonal equal to 1, 2, 3, 4, 5')\n",
    "\n",
    "#creating a diagonal matrix with diagonal elements 1, 2, 3, 4, 5 \\\n",
    "#using np.diag()\n",
    "x = np.diag([1, 2, 3, 4, 5])\n",
    "print(x)\n",
    "print()\n",
    "\n",
    "y = np.diag([1, 2, 3])\n",
    "print(y)"
   ]
  },
  {
   "cell_type": "code",
   "execution_count": 18,
   "metadata": {},
   "outputs": [
    {
     "name": "stdout",
     "output_type": "stream",
     "text": [
      "create a 4x4 matrix in which 0 and 1 are staggered, with zeros on the main diagonal\n",
      "[[0. 0. 0. 0.]\n",
      " [0. 0. 0. 0.]\n",
      " [0. 0. 0. 0.]\n",
      " [0. 0. 0. 0.]]\n",
      "\n",
      "[[0. 1. 0. 1.]\n",
      " [1. 0. 1. 0.]\n",
      " [0. 1. 0. 1.]\n",
      " [1. 0. 1. 0.]]\n"
     ]
    }
   ],
   "source": [
    "print('create a 4x4 matrix in which 0 and 1 are staggered, with zeros on the main diagonal')\n",
    "\n",
    "x = np.zeros((4, 4))\n",
    "print(x)\n",
    "print()\n",
    "\n",
    "x[0, 1], x[0, -1], x[1, 0], x[1, 2] = 1, 1, 1, 1\n",
    "x[2, 1], x[2, -1], x[3, 0], x[3, 2] = 1, 1, 1, 1\n",
    "print(x)"
   ]
  },
  {
   "cell_type": "code",
   "execution_count": 19,
   "metadata": {},
   "outputs": [
    {
     "name": "stdout",
     "output_type": "stream",
     "text": [
      "[[0. 1. 0. 1.]\n",
      " [1. 0. 1. 0.]\n",
      " [0. 1. 0. 1.]\n",
      " [1. 0. 1. 0.]]\n"
     ]
    }
   ],
   "source": [
    "x = np.zeros((4, 4))\n",
    "#setting elements in alternate rows and columns to 1\n",
    "#setting elements in even rows (0-based indexing) and odd columns to 1\n",
    "x[::2, 1::2] = 1\n",
    "\n",
    "#setting elements in odd rows and even columns to 1\n",
    "x[1::2, ::2] = 1\n",
    "\n",
    "print(x)"
   ]
  },
  {
   "cell_type": "code",
   "execution_count": 20,
   "metadata": {},
   "outputs": [
    {
     "name": "stdout",
     "output_type": "stream",
     "text": [
      "compute the x and y coordinates for points on a sine curve and plot the points using matplotlib\n"
     ]
    },
    {
     "data": {
      "image/png": "[encoded data removed]",
      "text/plain": [
       "<Figure size 640x480 with 1 Axes>"
      ]
     },
     "metadata": {},
     "output_type": "display_data"
    }
   ],
   "source": [
    "print('compute the x and y coordinates for points on a sine curve and plot the points using matplotlib')\n",
    "\n",
    "import matplotlib.pyplot as plt\n",
    "\n",
    "#compute the x coordinates from 0 to 3*pi with a step of 0.2\n",
    "x = np.arange(0, 3 * np.pi, 0.2)\n",
    "\n",
    "#compute the y coordinates by applying the sine function to each x value\n",
    "y = np.sin(x)\n",
    "\n",
    "plt.plot(x, y)\n",
    "plt.show()"
   ]
  },
  {
   "cell_type": "code",
   "execution_count": 21,
   "metadata": {},
   "outputs": [
    {
     "name": "stdout",
     "output_type": "stream",
     "text": [
      "[[0 0 0 0]\n",
      " [0 0 0 0]\n",
      " [0 0 0 0]]\n",
      "\n",
      "[[3 0 3 0]\n",
      " [7 0 7 0]\n",
      " [3 0 3 0]]\n"
     ]
    }
   ],
   "source": [
    "nums = np.zeros(shape=(3, 4), dtype='int')\n",
    "\n",
    "print(nums)\n",
    "print()\n",
    "\n",
    "nums[::2, ::2] = 3\n",
    "nums[1::2, ::2] = 7\n",
    "\n",
    "print(nums)"
   ]
  },
  {
   "cell_type": "code",
   "execution_count": 22,
   "metadata": {},
   "outputs": [
    {
     "name": "stdout",
     "output_type": "stream",
     "text": [
      "add elements to a matrix, if an element in the matrix is 0, we will not add the element below this element\n",
      "[[1, 1, 0, 2], [0, 3, 0, 3], [1, 0, 4, 4]]\n",
      "\n",
      "14\n"
     ]
    }
   ],
   "source": [
    "print('add elements to a matrix, if an element in the matrix is 0, \\\n",
    "we will not add the element below this element')\n",
    "import numpy as np\n",
    "\n",
    "def sum_matrix_Elements(m):\n",
    "    a = np.array(m)\n",
    "    \n",
    "    element_sum = 0  \n",
    "    \n",
    "    for p in range(len(a)):\n",
    "        #looping through columns of the array\n",
    "        for q in range(len(a[p])):\n",
    "            #checking if the element is 0\n",
    "            #and the row index is less than the last row\n",
    "            if a[p][q] == 0 and p < len(a)-1:\n",
    "                #assigning 0 to the element in the next row\n",
    "                #at the same column index\n",
    "                a[p+1][q] = 0  \n",
    "            \n",
    "            #adding the current element to the total sum\n",
    "            element_sum += a[p][q]  \n",
    "    \n",
    "    return element_sum\n",
    "\n",
    "m = [[1, 1, 0, 2],\n",
    "     [0, 3, 0, 3],\n",
    "     [1, 0, 4, 4]]\n",
    "\n",
    "print(m)\n",
    "print()\n",
    "\n",
    "print(sum_matrix_Elements(m))"
   ]
  },
  {
   "cell_type": "code",
   "execution_count": 23,
   "metadata": {},
   "outputs": [
    {
     "name": "stdout",
     "output_type": "stream",
     "text": [
      "sort a given array by column in ascending order\n",
      "[[1.54 2.39 9.29]\n",
      " [3.54 4.38 6.99]\n",
      " [5.54 3.38 7.99]]\n",
      "\n",
      "[[1.54 2.39 9.29]\n",
      " [5.54 3.38 7.99]\n",
      " [3.54 4.38 6.99]]\n",
      "\n",
      "[[3.54 4.38 6.99]\n",
      " [5.54 3.38 7.99]\n",
      " [1.54 2.39 9.29]]\n"
     ]
    }
   ],
   "source": [
    "print('sort a given array by column in ascending order')\n",
    "\n",
    "a = np.array([\n",
    "    [5.54, 3.38, 7.99],\n",
    "    [3.54, 4.38, 6.99],\n",
    "    [1.54, 2.39, 9.29]\n",
    "])\n",
    "a = a[a[:, 0].argsort()] #--> sorts the first column\n",
    "print(a)\n",
    "print()\n",
    "a = a[a[:, 1].argsort()] #--> sorts the second column\n",
    "print(a)\n",
    "print()\n",
    "a = a[a[:, -1].argsort()] #--> sorts the last column\n",
    "print(a)"
   ]
  },
  {
   "cell_type": "code",
   "execution_count": 24,
   "metadata": {},
   "outputs": [
    {
     "name": "stdout",
     "output_type": "stream",
     "text": [
      "sort a given array by row in ascending order\n",
      "[[5.54 3.38 7.99]\n",
      " [3.54 4.38 6.99]\n",
      " [1.54 2.39 9.29]]\n",
      "\n",
      "[[3.38 5.54 7.99]\n",
      " [4.38 3.54 6.99]\n",
      " [2.39 1.54 9.29]]\n",
      "\n",
      "[[5.54 3.38 7.99]\n",
      " [3.54 4.38 6.99]\n",
      " [1.54 2.39 9.29]]\n",
      "\n",
      "[[5.54 3.38 7.99]\n",
      " [3.54 4.38 6.99]\n",
      " [1.54 2.39 9.29]]\n",
      "\n"
     ]
    }
   ],
   "source": [
    "print('sort a given array by row in ascending order')\n",
    "\n",
    "a = np.array([\n",
    "    [5.54, 3.38, 7.99],\n",
    "    [3.54, 4.38, 6.99],\n",
    "    [1.54, 2.39, 9.29]\n",
    "])\n",
    "print(a)\n",
    "print()\n",
    "a = a[:, a[0, :].argsort()] #--> sorts the first row\n",
    "print(a)\n",
    "print()\n",
    "a = a[:, a[1, :].argsort()] #--> sorts the second row\n",
    "print(a)\n",
    "print()\n",
    "a = a[:, a[-1, :].argsort()] #--> sorts the last row\n",
    "print(a)\n",
    "print()"
   ]
  },
  {
   "cell_type": "code",
   "execution_count": 25,
   "metadata": {},
   "outputs": [
    {
     "name": "stdout",
     "output_type": "stream",
     "text": [
      "[[3.54 4.38 6.99]\n",
      " [5.54 3.38 7.99]\n",
      " [1.54 2.39 9.29]]\n",
      "\n",
      "[[3.38 5.54 7.99]\n",
      " [4.38 3.54 6.99]\n",
      " [2.39 1.54 9.29]]\n",
      "\n"
     ]
    }
   ],
   "source": [
    "a = np.array([\n",
    "    [5.54, 3.38, 7.99],\n",
    "    [3.54, 4.38, 6.99],\n",
    "    [1.54, 2.39, 9.29]\n",
    "])\n",
    "\n",
    "def sort_by_column(a, index):\n",
    "    #sort by column\n",
    "    a = a[a[:, index].argsort()]\n",
    "    return a\n",
    "\n",
    "print(sort_by_column(a, -1))\n",
    "print()\n",
    "\n",
    "def sort_by_row(a, index):\n",
    "    a = a[:, a[index, :].argsort()]\n",
    "    return a\n",
    "\n",
    "print(sort_by_row(a, 0))\n",
    "print()"
   ]
  },
  {
   "cell_type": "code",
   "execution_count": 26,
   "metadata": {},
   "outputs": [
    {
     "name": "stdout",
     "output_type": "stream",
     "text": [
      "extract all numbers from a given array less and greater than a specified number\n",
      "[5.54 7.99 6.99 9.29]\n",
      "\n",
      "[3.38 3.54 4.38 1.54 2.39]\n",
      "\n"
     ]
    }
   ],
   "source": [
    "print('extract all numbers from a given array less and greater than a specified number')\n",
    "\n",
    "nums = np.array([\n",
    "    [5.54, 3.38, 7.99],\n",
    "    [3.54, 4.38, 6.99],\n",
    "    [1.54, 2.39, 9.29]\n",
    "])\n",
    "\n",
    "n = 5\n",
    "\n",
    "print(nums[nums > n])\n",
    "print()\n",
    "print(nums[nums < n])\n",
    "print()"
   ]
  },
  {
   "cell_type": "code",
   "execution_count": 27,
   "metadata": {},
   "outputs": [
    {
     "name": "stdout",
     "output_type": "stream",
     "text": [
      "replace all numbers in a given array equal, less and greater than a given number\n",
      "[[ 5.54  7.    7.99]\n",
      " [ 7.   18.32  6.99]\n",
      " [ 7.    7.    9.29]]\n"
     ]
    }
   ],
   "source": [
    "print('replace all numbers in a given array equal, less and greater than a given number')\n",
    "\n",
    "nums = np.array([[5.54, 3.38, 7.99],\n",
    "              [3.54, 8.32, 6.99],\n",
    "              [1.54, 2.39, 9.29]])\n",
    "\n",
    "n1, n2, n3 = 8.32, 5, 3\n",
    "r1, r2, r3 = 18.32, 7, 0\n",
    "\n",
    "nums[nums == n1] = r1\n",
    "nums[nums < n2] = r2\n",
    "nums[nums < n3] = r3\n",
    "print(nums)"
   ]
  },
  {
   "cell_type": "code",
   "execution_count": 28,
   "metadata": {},
   "outputs": [
    {
     "name": "stdout",
     "output_type": "stream",
     "text": [
      "create an array of equal shape and data type for a given array\n",
      "[[5.54 3.38 7.99]\n",
      " [3.54 8.32 6.99]\n",
      " [1.54 2.39 9.29]]\n",
      "\n",
      "[[0. 0. 0.]\n",
      " [0. 0. 0.]\n",
      " [0. 0. 0.]]\n"
     ]
    }
   ],
   "source": [
    "print('create an array of equal shape and data type for a given array')\n",
    "\n",
    "nums = np.array([\n",
    "    [5.54, 3.38, 7.99],\n",
    "    [3.54, 8.32, 6.99],\n",
    "    [1.54, 2.39, 9.29]\n",
    "])\n",
    "print(nums)\n",
    "print()\n",
    "\n",
    "print(np.zeros_like(nums))"
   ]
  },
  {
   "cell_type": "code",
   "execution_count": 29,
   "metadata": {},
   "outputs": [
    {
     "name": "stdout",
     "output_type": "stream",
     "text": [
      "create an array from said array by swapping first and last, second and third columns\n",
      "[[ 0  1  2  3]\n",
      " [ 4  5  6  7]\n",
      " [ 8  9 10 11]\n",
      " [12 13 14 15]]\n",
      "\n",
      "swap first and last column\n",
      "[[ 3  1  2  0]\n",
      " [ 7  5  6  4]\n",
      " [11  9 10  8]\n",
      " [15 13 14 12]]\n",
      "\n",
      "swap 2nd and 3rd column\n",
      "[[ 3  2  1  0]\n",
      " [ 7  6  5  4]\n",
      " [11 10  9  8]\n",
      " [15 14 13 12]]\n",
      "\n"
     ]
    }
   ],
   "source": [
    "print('create an array from said array by swapping first and last, second and third columns')\n",
    "\n",
    "nums = np.arange(16, dtype='int').reshape(-1, 4)\n",
    "print(nums)\n",
    "print()\n",
    "\n",
    "print('swap first and last column')\n",
    "nums[:, [-1, 0]] = nums[:, [0, -1]] #--> last-first set to first-last \n",
    "print(nums)\n",
    "print()\n",
    "\n",
    "print('swap 2nd and 3rd column')\n",
    "nums[:, [2, 1]] = nums[:, [1, 2]] #--> 3rd-2nd set to 2nd-3rd\n",
    "print(nums)\n",
    "print()"
   ]
  },
  {
   "cell_type": "code",
   "execution_count": 30,
   "metadata": {},
   "outputs": [
    {
     "name": "stdout",
     "output_type": "stream",
     "text": [
      "create an array from said array by swapping first and last, second and third rows\n",
      "[[ 0  1  2  3]\n",
      " [ 4  5  6  7]\n",
      " [ 8  9 10 11]]\n",
      "\n",
      "[[ 8  9 10 11]\n",
      " [ 4  5  6  7]\n",
      " [ 0  1  2  3]]\n",
      "\n",
      "[[ 4  5  6  7]\n",
      " [ 8  9 10 11]\n",
      " [ 0  1  2  3]]\n"
     ]
    }
   ],
   "source": [
    "print('create an array from said array by swapping first and last, second and third rows')\n",
    "\n",
    "nums = np.arange(12, dtype='int').reshape(-1, 4)\n",
    "print(nums)\n",
    "print()\n",
    "\n",
    "nums[[-1, 0]] = nums[[0, -1]] #--> last-first set to first-last\n",
    "print(nums)\n",
    "print()\n",
    "\n",
    "nums[[1, 0]] = nums[[0, 1]] #--> 2nd-1st set to 1st-2nd\n",
    "print(nums)"
   ]
  },
  {
   "cell_type": "code",
   "execution_count": 31,
   "metadata": {},
   "outputs": [
    {
     "name": "stdout",
     "output_type": "stream",
     "text": [
      "create an array from said array by swapping first and last, second and third columns\n",
      "[[ 0  1  2  3]\n",
      " [ 4  5  6  7]\n",
      " [ 8  9 10 11]\n",
      " [12 13 14 15]]\n",
      "\n",
      "[[ 3  2  1  0]\n",
      " [ 7  6  5  4]\n",
      " [11 10  9  8]\n",
      " [15 14 13 12]]\n"
     ]
    }
   ],
   "source": [
    "print('create an array from said array by swapping first and last, second and third columns')\n",
    "\n",
    "nums = np.arange(16, dtype='int').reshape(-1, 4)\n",
    "print(nums)\n",
    "print()\n",
    "\n",
    "new_nums = nums[:, ::-1]\n",
    "print(new_nums)"
   ]
  },
  {
   "cell_type": "code",
   "execution_count": 32,
   "metadata": {},
   "outputs": [
    {
     "name": "stdout",
     "output_type": "stream",
     "text": [
      "swap rows and columns of a given array in reverse order\n",
      "[[ 1  2  3  4]\n",
      " [ 0  1  3  4]\n",
      " [90 91 93 94]\n",
      " [ 5  0  3  2]]\n",
      "\n",
      "[[ 2  3  0  5]\n",
      " [94 93 91 90]\n",
      " [ 4  3  1  0]\n",
      " [ 4  3  2  1]]\n"
     ]
    }
   ],
   "source": [
    "print('swap rows and columns of a given array in reverse order')\n",
    "\n",
    "nums = np.array([\n",
    "    [1, 2, 3, 4],\n",
    "    [0, 1, 3, 4],\n",
    "    [90, 91, 93, 94],\n",
    "    [5, 0, 3, 2]\n",
    "])\n",
    "\n",
    "print(nums)\n",
    "print()\n",
    "\n",
    "#swapping rows and columns in reverse order using slicing\n",
    "#reversing both rows and columns using [::-1, ::-1]\n",
    "new_nums = nums[::-1, ::-1]\n",
    "print(new_nums) "
   ]
  },
  {
   "cell_type": "code",
   "execution_count": 33,
   "metadata": {},
   "outputs": [
    {
     "name": "stdout",
     "output_type": "stream",
     "text": [
      "multiply two given arrays of the same size element-by-element\n",
      "[[2 5 2]\n",
      " [1 5 5]]\n",
      "[[5 3 4]\n",
      " [3 2 5]]\n",
      "\n",
      "[[10 15  8]\n",
      " [ 3 10 25]]\n"
     ]
    }
   ],
   "source": [
    "print('multiply two given arrays of the same size element-by-element')\n",
    "\n",
    "nums1 = np.array([\n",
    "    [2, 5, 2],\n",
    "    [1, 5, 5]])\n",
    "\n",
    "nums2 = np.array(\n",
    "    [[5, 3, 4],\n",
    "    [3, 2, 5]])\n",
    "\n",
    "print(nums1, nums2, sep='\\n')\n",
    "print()\n",
    "\n",
    "print(np.multiply(nums1, nums2))"
   ]
  }
 ],
 "metadata": {
  "kernelspec": {
   "display_name": "Python 3",
   "language": "python",
   "name": "python3"
  },
  "language_info": {
   "codemirror_mode": {
    "name": "ipython",
    "version": 3
   },
   "file_extension": ".py",
   "mimetype": "text/x-python",
   "name": "python",
   "nbconvert_exporter": "python",
   "pygments_lexer": "ipython3",
   "version": "3.10.5"
  }
 },
 "nbformat": 4,
 "nbformat_minor": 2
}
