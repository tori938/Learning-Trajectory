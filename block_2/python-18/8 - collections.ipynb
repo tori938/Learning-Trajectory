{
 "cells": [
  {
   "cell_type": "code",
   "execution_count": 2,
   "metadata": {},
   "outputs": [],
   "source": [
    "from collections import Counter, defaultdict, OrderedDict, deque"
   ]
  },
  {
   "cell_type": "code",
   "execution_count": 3,
   "metadata": {},
   "outputs": [
    {
     "name": "stdout",
     "output_type": "stream",
     "text": [
      "iterate over elements as many times as its count\n",
      "['p', 'p', 'p', 'p', 'q', 'q']\n"
     ]
    }
   ],
   "source": [
    "print('iterate over elements as many times as its count')\n",
    "\n",
    "c = Counter(p=4, q=2, r=0, s=-2)\n",
    "\n",
    "print(list(c.elements())) "
   ]
  },
  {
   "cell_type": "code",
   "execution_count": 4,
   "metadata": {},
   "outputs": [
    {
     "name": "stdout",
     "output_type": "stream",
     "text": [
      "find the most common elements and their counts in a specified text\n",
      "[('s', 4), ('e', 3), ('f', 3)]\n"
     ]
    }
   ],
   "source": [
    "print('find the most common elements and their counts in a specified text')\n",
    "word = 'lkseropewdssafsdfafkpwe'\n",
    "\n",
    "c = Counter(word)\n",
    "print(c.most_common(3))"
   ]
  },
  {
   "cell_type": "code",
   "execution_count": 5,
   "metadata": {},
   "outputs": [
    {
     "name": "stdout",
     "output_type": "stream",
     "text": [
      "create a new deque with three items and iterate over the deque's elements\n",
      "deque(['a', 'e', 'i', 'o', 'u'])\n",
      "\n",
      "a\n",
      "e\n",
      "i\n",
      "o\n",
      "u\n",
      "\n",
      "deque(['a', 'e', 'i', 'o', 'u'])\n",
      "\n",
      "a\n",
      "e\n",
      "i\n",
      "o\n",
      "u\n"
     ]
    }
   ],
   "source": [
    "print(\"create a new deque with three items and iterate over the deque's elements\") \n",
    "s = 'a', 'e', 'i', 'o', 'u'\n",
    "\n",
    "dq_s = deque(s)\n",
    "print(dq_s)\n",
    "print()\n",
    "\n",
    "for x in dq_s:\n",
    "    print(x)\n",
    "print()\n",
    "\n",
    "d = 'aeiou'\n",
    "dq_d = deque(d)\n",
    "print(dq_d)\n",
    "print()\n",
    "\n",
    "for x in dq_d:\n",
    "    print(x)\n"
   ]
  },
  {
   "cell_type": "code",
   "execution_count": 6,
   "metadata": {},
   "outputs": [
    {
     "name": "stdout",
     "output_type": "stream",
     "text": [
      "find the occurrences of ten most common words in a given text\n",
      "[('Python', 6), ('the', 6), ('and', 5), ('We', 2), ('with', 2), ('The', 1), ('Software', 1), ('Foundation', 1), ('PSF', 1), ('is', 1)]\n"
     ]
    }
   ],
   "source": [
    "print('find the occurrences of ten most common words in a given text')\n",
    "\n",
    "text = \"\"\"The Python Software Foundation (PSF) is a 501(c)(3) non-profit \n",
    "corporation that holds the intellectual property rights behind\n",
    "the Python programming language. We manage the open source licensing \n",
    "for Python version 2.1 and later and own and protect the trademarks \n",
    "associated with Python. We also run the North American PyCon conference \n",
    "annually, support other Python conferences around the world, and \n",
    "fund Python related development with our grants program and by funding \n",
    "special projects.\"\"\"\n",
    "\n",
    "text = text.replace('(', '').replace(')', '').replace(',', '').replace('.', '').split()\n",
    "c_text = Counter(text)\n",
    "print(c_text.most_common(10))"
   ]
  },
  {
   "cell_type": "code",
   "execution_count": 7,
   "metadata": {},
   "outputs": [
    {
     "name": "stdout",
     "output_type": "stream",
     "text": [
      "other way\n",
      "[('Python', 6), ('the', 6), ('and', 5), ('We', 2), ('with', 2), ('The', 1), ('Software', 1), ('Foundation', 1), ('PSF', 1), ('is', 1)]\n"
     ]
    }
   ],
   "source": [
    "print('other way')\n",
    "import re\n",
    "\n",
    "text = \"\"\"The Python Software Foundation (PSF) is a 501(c)(3) non-profit \n",
    "corporation that holds the intellectual property rights behind\n",
    "the Python programming language. We manage the open source licensing \n",
    "for Python version 2.1 and later and own and protect the trademarks \n",
    "associated with Python. We also run the North American PyCon conference \n",
    "annually, support other Python conferences around the world, and \n",
    "fund Python related development with our grants program and by funding \n",
    "special projects.\"\"\"\n",
    "\n",
    "#use a regular expression to extract words from the text\n",
    "words = re.findall('\\w+', text)\n",
    "\n",
    "print(Counter(words).most_common(10)) "
   ]
  },
  {
   "cell_type": "code",
   "execution_count": 8,
   "metadata": {},
   "outputs": [],
   "source": [
    "# print('accept some words and count the number of distinct words, print the number of distinct words and the number of occurrences \\\n",
    "# of each distinct word according to their appearance')\n",
    "# lst_of_words = ['Red', 'Green', 'Blue', 'Black', 'White']\n",
    "\n",
    "# from collections import Counter, OrderedDict\n",
    "\n",
    "# #create a new class 'OrderedCounter' that inherits from both Counter and OrderedDict\n",
    "# class OrderedCounter(Counter, OrderedDict):\n",
    "#    pass\n",
    "\n",
    "# #create an empty list to store words\n",
    "# word_array = []\n",
    "\n",
    "# #prompt the user to input the number of words\n",
    "# n = int(input('input number of words: '))\n",
    "\n",
    "# #prompt the user to input the words and store them in the empty list\n",
    "# print('input the words: ')\n",
    "# for i in range(n):\n",
    "#    word_array.append(input().strip())\n",
    "\n",
    "# #create an instance of the 'OrderedCounter' class using the empty list\n",
    "# word_ctr = OrderedCounter(word_array)\n",
    "\n",
    "# #display the number of unique words in 'word_ctr'\n",
    "# print(len(word_ctr))\n",
    "\n",
    "# #iterate over the words in 'word_ctr' and print their counts, separated by space\n",
    "# for word in word_ctr:\n",
    "#    print(word_ctr[word], end=' ')"
   ]
  },
  {
   "cell_type": "code",
   "execution_count": 9,
   "metadata": {},
   "outputs": [
    {
     "name": "stdout",
     "output_type": "stream",
     "text": [
      "create a deque and append a few elements to the left and right, remove some elements from the left and right sides and reverse the deque\n",
      "add elements:  deque(['Pink', 'Red', 'Green', 'White', 'Orange'])\n",
      "removing elements:  deque(['Red', 'Green', 'White'])\n",
      "reverse:  deque(['White', 'Green', 'Red'])\n"
     ]
    }
   ],
   "source": [
    "print('create a deque and append a few elements to the left and right, remove some elements from the left and right sides and reverse the deque')\n",
    "\n",
    "lst = ['Red', 'Green', 'White']\n",
    "dq_lst = deque(lst)\n",
    "dq_lst.appendleft('Pink') #add elements to the left\n",
    "dq_lst.append('Orange') #add elements to the right\n",
    "print('add elements: ', dq_lst)\n",
    "dq_lst.pop() #remove elements from the right\n",
    "dq_lst.popleft() #remove elements from the left\n",
    "print('removing elements: ', dq_lst)\n",
    "dq_lst.reverse() #reverse the deque\n",
    "print('reverse: ', dq_lst)"
   ]
  },
  {
   "cell_type": "code",
   "execution_count": 10,
   "metadata": {},
   "outputs": [
    {
     "name": "stdout",
     "output_type": "stream",
     "text": [
      "add more elements to a deque object from an iterable object\n",
      "deque([2, 4, 6, 8, 10, 12, 14, 16, 18, 20])\n"
     ]
    }
   ],
   "source": [
    "print('add more elements to a deque object from an iterable object')\n",
    "\n",
    "part_one = [2, 4, 6, 8, 10]\n",
    "part_two = [12, 14, 16, 18, 20]\n",
    "\n",
    "dq = deque(part_one)\n",
    "dq.extend(part_two)\n",
    "print(dq)"
   ]
  },
  {
   "cell_type": "code",
   "execution_count": 11,
   "metadata": {},
   "outputs": [
    {
     "name": "stdout",
     "output_type": "stream",
     "text": [
      "remove all the elements of a given deque object\n",
      "deque([1, 3, 5, 7, 9])\n",
      "5\n",
      "\n",
      "deque([])\n",
      "0\n"
     ]
    }
   ],
   "source": [
    "print('remove all the elements of a given deque object')\n",
    "lst = [1, 3, 5, 7, 9]\n",
    "\n",
    "dq_lst = deque(lst)\n",
    "print(dq_lst, len(dq_lst), sep='\\n')\n",
    "print()\n",
    "\n",
    "dq_lst.clear()\n",
    "print(dq_lst, len(dq_lst), sep='\\n')"
   ]
  },
  {
   "cell_type": "code",
   "execution_count": 12,
   "metadata": {},
   "outputs": [
    {
     "name": "stdout",
     "output_type": "stream",
     "text": [
      "copies a deque object and verifies shallow copying\n",
      "4392025920 4465470784 --> different id\n",
      "4341268720 4341268720 --> same id of the first element\n"
     ]
    }
   ],
   "source": [
    "print('copies a deque object and verifies shallow copying')\n",
    "\n",
    "tup1 = (1, 3, 5, 7, 9)\n",
    "dq1 = deque(tup1)\n",
    "\n",
    "#create a shallow copy\n",
    "dq2 = dq1.copy()\n",
    "\n",
    "print(id(dq1), id(dq2), '--> different id')\n",
    "print(id(dq1[0]), id(dq2[0]), '--> same id of the first element')"
   ]
  },
  {
   "cell_type": "code",
   "execution_count": 13,
   "metadata": {},
   "outputs": [
    {
     "name": "stdout",
     "output_type": "stream",
     "text": [
      "count the number of times a specific element appears\n"
     ]
    },
    {
     "data": {
      "text/plain": [
       "1"
      ]
     },
     "execution_count": 13,
     "metadata": {},
     "output_type": "execute_result"
    }
   ],
   "source": [
    "print('count the number of times a specific element appears')\n",
    "\n",
    "nums = (2, 9, 0, 8, 2, 4, 0, 9, 2, 4, 8, 2, 0, 4, 2, 3, 4, 0)\n",
    "\n",
    "def cnt_times(arg, n):\n",
    "    arg = deque(arg)\n",
    "    return dq.count(n)\n",
    "\n",
    "cnt_times(nums, 2)"
   ]
  },
  {
   "cell_type": "code",
   "execution_count": 14,
   "metadata": {},
   "outputs": [
    {
     "name": "stdout",
     "output_type": "stream",
     "text": [
      "rotate a Deque Object a specified number (positive) of times\n",
      "deque([2, 4, 6, 8, 10])\n",
      "deque([10, 2, 4, 6, 8])\n",
      "deque([6, 8, 10, 2, 4])\n"
     ]
    }
   ],
   "source": [
    "print('rotate a Deque Object a specified number (positive) of times')\n",
    "original = [2, 4, 6, 8, 10]\n",
    "\n",
    "dq = deque(original)\n",
    "print(dq)\n",
    "dq.rotate(1) #rotate the last element to the front --> rotate()\n",
    "print(dq)\n",
    "dq.rotate(-3) #rotate the first three elements to the end --> rotate(2)\n",
    "print(dq)"
   ]
  },
  {
   "cell_type": "code",
   "execution_count": 15,
   "metadata": {},
   "outputs": [
    {
     "name": "stdout",
     "output_type": "stream",
     "text": [
      "rotate a deque Object a specified number (negative) of times\n",
      "deque([2, 4, 6, 8, 10])\n",
      "deque([4, 6, 8, 10, 2])\n",
      "deque([8, 10, 2, 4, 6])\n"
     ]
    }
   ],
   "source": [
    "print('rotate a deque Object a specified number (negative) of times')\n",
    "\n",
    "original = [2, 4, 6, 8, 10]\n",
    "\n",
    "dq = deque(original)\n",
    "print(dq)\n",
    "dq.rotate(-1) #rotate the first element to the end\n",
    "print(dq)\n",
    "dq.rotate(-2) #rotate the first two elements to the end\n",
    "print(dq)"
   ]
  },
  {
   "cell_type": "code",
   "execution_count": 16,
   "metadata": {},
   "outputs": [
    {
     "name": "stdout",
     "output_type": "stream",
     "text": [
      "find the majority element from a given array of size n\n",
      "10\n"
     ]
    }
   ],
   "source": [
    "print('find the majority element from a given array of size n')\n",
    "\n",
    "lst_of_numbers = [10, 10, 20, 30, 40, 10, 20, 10]\n",
    "c = Counter(lst_of_numbers)\n",
    "print(c.most_common(1)[0][0])"
   ]
  },
  {
   "cell_type": "code",
   "execution_count": 17,
   "metadata": {},
   "outputs": [
    {
     "name": "stdout",
     "output_type": "stream",
     "text": [
      "merge more than one dictionary into a single expression\n",
      "merged dictionary\n",
      "{'R': 'Red', 'B': 'Black', 'P': 'Pink', 'G': 'Green', 'W': 'White'}\n",
      "\n",
      "merged dictionary\n",
      "{'R': 'Red', 'B': 'Black', 'P': 'Pink', 'G': 'Green', 'W': 'White', 'O': 'Orange'}\n",
      "\n"
     ]
    }
   ],
   "source": [
    "print('merge more than one dictionary into a single expression')\n",
    "\n",
    "one =  {'R': 'Red', 'B': 'Black', 'P': 'Pink'}\n",
    "two = {'G': 'Green', 'W': 'White'}\n",
    "\n",
    "print('merged dictionary')\n",
    "two_dict = {**one, **two}\n",
    "print(two_dict)\n",
    "print()\n",
    "\n",
    "three = {'R': 'Red', 'B': 'Black', 'P': 'Pink'}\n",
    "four = {'G': 'Green', 'W': 'White'}\n",
    "five = {'O': 'Orange', 'W': 'White', 'B': 'Black'}\n",
    "\n",
    "print('merged dictionary')\n",
    "three_dict = {**three, **four, **five}\n",
    "print(three_dict)\n",
    "print()"
   ]
  },
  {
   "cell_type": "code",
   "execution_count": 18,
   "metadata": {},
   "outputs": [
    {
     "name": "stdout",
     "output_type": "stream",
     "text": [
      "{'R': 'Red', 'B': 'Black', 'P': 'Pink'}   {'G': 'Green', 'W': 'White'}\n",
      "\n",
      "Merged dictionary:\n",
      "{'G': 'Green', 'W': 'White', 'R': 'Red', 'B': 'Black', 'P': 'Pink'}\n"
     ]
    }
   ],
   "source": [
    "from collections import ChainMap\n",
    "# Define a function 'merge_dictionaries' that takes two dictionaries as input and merges them using ChainMap\n",
    "def merge_dictionaries(color1, color2):\n",
    "    # Create a merged dictionary using ChainMap by chaining the provided dictionaries\n",
    "    merged_dict = dict(ChainMap({}, color1, color2))\n",
    "    return merged_dict\n",
    "\n",
    "color1 = { \"R\": \"Red\", \"B\": \"Black\", \"P\": \"Pink\" }\n",
    "color2 = { \"G\": \"Green\", \"W\": \"White\" }\n",
    "\n",
    "# Print the content of 'color1' and 'color2'\n",
    "print(color1, ' ', color2)\n",
    "\n",
    "print(\"\\nMerged dictionary:\")\n",
    "print(merge_dictionaries(color1, color2))"
   ]
  },
  {
   "cell_type": "code",
   "execution_count": 19,
   "metadata": {},
   "outputs": [
    {
     "name": "stdout",
     "output_type": "stream",
     "text": [
      "find the item with the highest frequency in a given list\n",
      "(2, 5)\n"
     ]
    }
   ],
   "source": [
    "print('find the item with the highest frequency in a given list')\n",
    "\n",
    "original = [2, 3, 8, 4, 7, 9, 8, 2, 6, 5, 1, 6, 1, 2, 3, 2, 4, 6, 9, 1, 2]\n",
    "\n",
    "c = Counter(original)\n",
    "print(c.most_common(1)[0])"
   ]
  },
  {
   "cell_type": "code",
   "execution_count": 20,
   "metadata": {},
   "outputs": [
    {
     "name": "stdout",
     "output_type": "stream",
     "text": [
      "(2, 5)\n"
     ]
    }
   ],
   "source": [
    "# Define a function 'max_occurrences' that finds the item with the maximum frequency in a list\n",
    "def max_occurrences(nums):\n",
    "    # Create a defaultdict 'dict' to count the occurrences of items in 'nums'\n",
    "    dict = defaultdict(int)\n",
    "    \n",
    "    # Loop through the items in 'nums' and increment their counts in 'dict'\n",
    "    for i in nums:\n",
    "        dict[i] += 1\n",
    "    \n",
    "    # Find the item with the maximum count using 'max' and a key function\n",
    "    result = max(dict.items(), key=lambda x: x[1])\n",
    "    \n",
    "    return result\n",
    "\n",
    "nums = [2, 3, 8, 4, 7, 9, 8, 2, 6, 5, 1, 6, 1, 2, 3, 2, 4, 6, 9, 1, 2]\n",
    "\n",
    "print(max_occurrences(nums))\n",
    "nums = [2, 3, 8, 4, 7, 9, 8, 2, 6, 5, 1, 6, 1, 2, 3, 2, 4, 6, 9, 1, 2]"
   ]
  },
  {
   "cell_type": "code",
   "execution_count": 21,
   "metadata": {},
   "outputs": [
    {
     "name": "stdout",
     "output_type": "stream",
     "text": [
      "count the most and least common characters in a given string\n",
      "l\n",
      "d\n",
      "[('h', 1), ('e', 1), (' ', 1), ('w', 1), ('r', 1), ('d', 1)]\n"
     ]
    }
   ],
   "source": [
    "print('count the most and least common characters in a given string')\n",
    "\n",
    "original = 'hello world'\n",
    "c = Counter(original)\n",
    "\n",
    "print(c.most_common(1)[0][0])\n",
    "print(c.most_common()[-1][0][0])\n",
    "print(c.most_common()[2:])#[0][0])"
   ]
  },
  {
   "cell_type": "code",
   "execution_count": 22,
   "metadata": {},
   "outputs": [
    {
     "name": "stdout",
     "output_type": "stream",
     "text": [
      "\n",
      "Most common character of the said string: l\n",
      "Least common character of the said string: h\n"
     ]
    }
   ],
   "source": [
    "# Define a function 'max_least_char' that finds the most and least common characters in a string\n",
    "def max_least_char(str1):\n",
    "    # Create a Counter object 'temp' to count the occurrences of characters in 'str1'\n",
    "    temp = Counter(str1) \n",
    "    \n",
    "    # Find the character with the maximum count using 'max' and the character with the minimum count using 'min'\n",
    "    max_char = max(temp, key=temp.get)\n",
    "    min_char = min(temp, key=temp.get)\n",
    "    \n",
    "    return (max_char, min_char)\n",
    "\n",
    "str1 = \"hello world\"\n",
    "result = max_least_char(str1)\n",
    "\n",
    "print(\"\\nMost common character of the said string:\", result[0])\n",
    "print(\"Least common character of the said string:\", result[1]) "
   ]
  },
  {
   "cell_type": "code",
   "execution_count": 23,
   "metadata": {},
   "outputs": [
    {
     "name": "stdout",
     "output_type": "stream",
     "text": [
      "insert an element at the beginning of a given Ordered Dictionary\n",
      "[('color1', 'Red'), ('color2', 'Green'), ('color3', 'Blue')]\n",
      "\n",
      "OrderedDict([('color4', 'Orange'), ('color1', 'Red'), ('color2', 'Green'), ('color3', 'Blue')])\n"
     ]
    }
   ],
   "source": [
    "print('insert an element at the beginning of a given Ordered Dictionary')\n",
    "\n",
    "#long and time-consuming\n",
    "dic = [('color1', 'Red'), ('color2', 'Green'), ('color3', 'Blue')]\n",
    "print(dic)\n",
    "print()\n",
    "\n",
    "o_dic = OrderedDict(dic)\n",
    "o_dic['color4'] = 'Orange'\n",
    "del o_dic['color1']\n",
    "del o_dic['color2']\n",
    "del o_dic['color3']\n",
    "o_dic['color1'] = 'Red'\n",
    "o_dic['color2'] = 'Green'\n",
    "o_dic['color3'] = 'Blue'\n",
    "print(o_dic)"
   ]
  },
  {
   "cell_type": "code",
   "execution_count": 24,
   "metadata": {},
   "outputs": [
    {
     "name": "stdout",
     "output_type": "stream",
     "text": [
      "OrderedDict([('color1', 'Red'), ('color2', 'Green'), ('color3', 'Blue'), ('color4', 'Orange')])\n",
      "\n",
      "OrderedDict([('color4', 'Orange'), ('color1', 'Red'), ('color2', 'Green'), ('color3', 'Blue')])\n"
     ]
    }
   ],
   "source": [
    "color_orderdict = OrderedDict([('color1', 'Red'), ('color2', 'Green'), ('color3', 'Blue')]) \n",
    "\n",
    "#insert an element at the beginning of the ordered dictionary\n",
    "color_orderdict.update({'color4':'Orange'})\n",
    "print(color_orderdict)\n",
    "print()\n",
    "\n",
    "#move the newly inserted element to the beginning of the ordered dictionary\n",
    "color_orderdict.move_to_end('color4', last=False)\n",
    "print(color_orderdict) "
   ]
  },
  {
   "cell_type": "code",
   "execution_count": 25,
   "metadata": {},
   "outputs": [
    {
     "name": "stdout",
     "output_type": "stream",
     "text": [
      "get the frequency of the tuples in a given list\n",
      "Counter({('1', '4'): 2, ('2', '7'): 2, ('6', '8'): 2, ('3', '4'): 1, ('5', '8'): 1, ('5', '7'): 1})\n",
      "\n",
      "('1', '4')  2\n",
      "('3', '4')  1\n",
      "('2', '7')  2\n",
      "('6', '8')  2\n",
      "('5', '8')  1\n",
      "('5', '7')  1\n"
     ]
    }
   ],
   "source": [
    "print('get the frequency of the tuples in a given list')\n",
    "\n",
    "nums = [(['1', '4'], ['4', '1'], ['3', '4'], ['2', '7'], ['6', '8'],\n",
    "             ['5', '8'], ['6', '8'], ['5', '7'], ['2', '7'])]\n",
    "\n",
    "#use Counter to count the frequency of tuples after sorting them\n",
    "result = Counter(tuple(sorted(i)) for i in nums[0])\n",
    "print(result)\n",
    "print()\n",
    "\n",
    "#loop through the results and print each tuple and its frequency\n",
    "for key, val in result.items():\n",
    "    print(key, '', val)"
   ]
  },
  {
   "cell_type": "code",
   "execution_count": 26,
   "metadata": {},
   "outputs": [
    {
     "name": "stdout",
     "output_type": "stream",
     "text": [
      "calculate the maximum aggregate from the list of tuples (pairs)\n",
      "('Juan Whelan', 212)\n"
     ]
    }
   ],
   "source": [
    "print('calculate the maximum aggregate from the list of tuples (pairs)')\n",
    "original = [('Juan Whelan', 90), ('Sabah Colley', 88), ('Peter Nichols', 7),\n",
    "            ('Juan Whelan', 122), ('Sabah Colley', 84)]\n",
    "\n",
    "def max_aggregate(lst):\n",
    "    #if a key is not in the dict, defaults the value for that key to 0\n",
    "    d = defaultdict(int)\n",
    "\n",
    "    #sum up the scores\n",
    "    for name, score in lst:\n",
    "        d[name] += score\n",
    "\n",
    "    #return the max score by iterating over the defaultdict's items\n",
    "    #and finding the max score\n",
    "    return max(d.items(), key=lambda x: x[1])\n",
    "\n",
    "print(max_aggregate(original))"
   ]
  },
  {
   "cell_type": "code",
   "execution_count": 27,
   "metadata": {},
   "outputs": [
    {
     "name": "stdout",
     "output_type": "stream",
     "text": [
      "find the characters in a list of strings that occur more or less than a given number\n",
      "['d', 'a', 'f']\n",
      "['c', 'b', 'i', 'h', 'e', 'l', 's', 'j', 'g', 'k']\n"
     ]
    }
   ],
   "source": [
    "print('find the characters in a list of strings that occur more or less than a given number')\n",
    "original = ['abcd', 'iabhef', 'dsalsdf', 'sdfsas', 'jlkdfgd']\n",
    "#char > 3, char < 3\n",
    "\n",
    "from collections import Counter\n",
    "from itertools import chain\n",
    "\n",
    "def max_aggregate(list_str, N):\n",
    "    #create a generator that converts each string into a set of unique characters\n",
    "    temp = (set(sub) for sub in list_str)\n",
    "    \n",
    "    #count the occurrences of characters across all sets using Counter and chain them together\n",
    "    counts = Counter(chain.from_iterable(temp))\n",
    "    \n",
    "    #create a list containing characters occurring more than 'N' times\n",
    "    gt_N = [chr for chr, count in counts.items() if count > N]\n",
    "    \n",
    "    #create a list containing characters occurring less than 'N' times\n",
    "    lt_N = [chr for chr, count in counts.items() if count < N]\n",
    "    \n",
    "    return gt_N, lt_N\n",
    "\n",
    "list_str = ['abcd', 'iabhef', 'dsalsdf', 'sdfsas', 'jlkdfgd']\n",
    "N = 3\n",
    "\n",
    "result = max_aggregate(list_str, N)\n",
    "\n",
    "# Print the characters from 'result[0]'\n",
    "print(result[0], result[1], sep='\\n') "
   ]
  },
  {
   "cell_type": "markdown",
   "metadata": {},
   "source": [
    "my solution"
   ]
  },
  {
   "cell_type": "code",
   "execution_count": 28,
   "metadata": {},
   "outputs": [
    {
     "name": "stdout",
     "output_type": "stream",
     "text": [
      "find the characters in a list of strings that occur more or less than a given number\n",
      "defaultdict(None, {'j': 1, 'a': 5, 'c': 1, 'k': 1, 'i': 4, 'e': 3, 's': 2, 'h': 1, 'u': 1, 'n': 2, 'l': 2, 'o': 1, 't': 4, 'm': 1, 'y': 1})\n",
      "\n",
      "['a', 'i', 't']\n",
      "['j', 'c', 'k', 'e', 's', 'h', 'u', 'n', 'l', 'o', 'm', 'y']\n"
     ]
    }
   ],
   "source": [
    "print('find the characters in a list of strings that occur more or less than a given number')\n",
    "original = ['jackie', 'shauna', 'lottie', 'natalie', 'misty']\n",
    "\n",
    "#create the default dict to find all the values for letters\n",
    "d = defaultdict()\n",
    "for x in original:\n",
    "    for y in x:\n",
    "        if y not in d:\n",
    "            d[y] = 1\n",
    "        else:\n",
    "            d[y] += 1\n",
    "print(d)\n",
    "print()\n",
    "\n",
    "more_three = []\n",
    "less_three = []\n",
    "for k, v in d.items():\n",
    "    if d[k] > 3:\n",
    "        more_three.append(k)\n",
    "    else:\n",
    "        less_three.append(k)\n",
    "print(more_three, less_three, sep='\\n')"
   ]
  },
  {
   "cell_type": "code",
   "execution_count": 29,
   "metadata": {},
   "outputs": [
    {
     "name": "stdout",
     "output_type": "stream",
     "text": [
      "find the difference between two lists including duplicate elements\n",
      "Counter({1: 2, 3: 2, 4: 2, 2: 1, 5: 1, 6: 1, 7: 1})\n",
      "Counter({1: 2, 2: 1, 4: 1, 5: 1, 6: 1})\n",
      "[3, 3, 4, 7]\n"
     ]
    }
   ],
   "source": [
    "print('find the difference between two lists including duplicate elements')\n",
    "\n",
    "l1 = [1, 1, 2, 3, 3, 4, 4, 5, 6, 7]\n",
    "l2 = [1, 1, 2, 4, 5, 6]\n",
    "\n",
    "c_l1 = Counter(l1)\n",
    "c_l2 = Counter(l2)\n",
    "\n",
    "print(c_l1, c_l2, sep='\\n')\n",
    "\n",
    "new = c_l1 - c_l2\n",
    "print(list(new.elements()))"
   ]
  },
  {
   "cell_type": "code",
   "execution_count": 30,
   "metadata": {},
   "outputs": [
    {
     "name": "stdout",
     "output_type": "stream",
     "text": [
      "remove duplicate words from a given string\n",
      "['Python', 'Exercises', 'Practice', 'Solution']\n",
      "\n",
      "Python Exercises Practice Solution\n"
     ]
    }
   ],
   "source": [
    "print('remove duplicate words from a given string')\n",
    "\n",
    "string = 'Python Exercises Practice Solution Exercises'\n",
    "\n",
    "d = defaultdict()\n",
    "for x in string.split():\n",
    "    if x not in d:\n",
    "        d[x] = 1\n",
    "    else:\n",
    "        d[x] = 1\n",
    "print(list(d.keys()))\n",
    "print()\n",
    "\n",
    "\n",
    "text_str = \"Python Exercises Practice Solution Exercises\"\n",
    "\n",
    "#split string into words, use OrderedDict to remove duplicates, and join the unique words\n",
    "result = ' '.join(OrderedDict((w, w) for w in text_str.split()).keys())\n",
    "\n",
    "print(result)"
   ]
  },
  {
   "cell_type": "code",
   "execution_count": 31,
   "metadata": {},
   "outputs": [
    {
     "name": "stdout",
     "output_type": "stream",
     "text": [
      "create a dict grouping a sequence of key-value pairs into a dictionary of lists\n",
      "yellow 1\n",
      "blue 2\n",
      "yellow 3\n",
      "blue 4\n",
      "red 1\n",
      "\n",
      "defaultdict(<class 'list'>, {'yellow': [1, 3], 'blue': [2, 4], 'red': [1]})\n",
      "\n"
     ]
    }
   ],
   "source": [
    "print('create a dict grouping a sequence of key-value pairs into a dictionary of lists')\n",
    "\n",
    "original = [('yellow', 1), ('blue', 2), ('yellow', 3), ('blue', 4), ('red', 1)]\n",
    "\n",
    "for x, y in original:\n",
    "    print(x, y)\n",
    "print()\n",
    "\n",
    "d = defaultdict(list)\n",
    "for k, v in original:\n",
    "        d[k].append(v)\n",
    "print(d)\n",
    "print()"
   ]
  },
  {
   "cell_type": "code",
   "execution_count": 32,
   "metadata": {},
   "outputs": [
    {
     "name": "stdout",
     "output_type": "stream",
     "text": [
      "get the frequency of elements in a given list of lists\n",
      "[1, 2, 3, 2, 4, 5, 6, 2, 7, 1, 9, 5]\n",
      "\n",
      "Counter({2: 3, 1: 2, 5: 2, 3: 1, 4: 1, 6: 1, 7: 1, 9: 1})\n",
      "\n",
      "Counter({2: 3, 1: 2, 5: 2, 3: 1, 4: 1, 6: 1, 7: 1, 9: 1})\n"
     ]
    }
   ],
   "source": [
    "print('get the frequency of elements in a given list of lists')\n",
    "import itertools\n",
    "from itertools import chain\n",
    "\n",
    "original = [[1, 2, 3, 2], [4, 5, 6, 2], [7, 1, 9, 5]]\n",
    "converted = list(chain(*original))\n",
    "print(converted)\n",
    "print()\n",
    "\n",
    "c = Counter(converted)\n",
    "print(c)\n",
    "print()\n",
    "\n",
    "\n",
    "original = [[1, 2, 3, 2], [4, 5, 6, 2], [7, 1, 9, 5]]\n",
    "flatten = []\n",
    "\n",
    "for lst in original:\n",
    "    for n in lst:\n",
    "        flatten.append(n)\n",
    "\n",
    "c = Counter(flatten)\n",
    "print(c)"
   ]
  },
  {
   "cell_type": "code",
   "execution_count": 33,
   "metadata": {},
   "outputs": [
    {
     "name": "stdout",
     "output_type": "stream",
     "text": [
      "count the occurrences of each element in a given list\n",
      "Counter({'Red': 2, 'Orange': 2, 'Black': 2, 'Green': 1, 'Blue': 1, 'White': 1})\n",
      "\n",
      "Counter({3: 4, 5: 4, 8: 4, 0: 3, 9: 1, 1: 1, 2: 1})\n",
      "\n"
     ]
    }
   ],
   "source": [
    "print('count the occurrences of each element in a given list')\n",
    "\n",
    "original = ['Green', 'Red', 'Blue', 'Red', 'Orange', 'Black', 'Black', 'White', 'Orange']\n",
    "c_original = Counter(original)\n",
    "print(c_original)\n",
    "print()\n",
    "\n",
    "other = [3, 5, 0, 3, 9, 5, 8, 0, 3, 8, 5, 8, 3, 5, 8, 1, 0, 2]\n",
    "c_other = Counter(other)\n",
    "print(c_other)\n",
    "print()"
   ]
  },
  {
   "cell_type": "code",
   "execution_count": 34,
   "metadata": {},
   "outputs": [
    {
     "name": "stdout",
     "output_type": "stream",
     "text": [
      "count the most common words in a dictionary\n",
      "[('pink', 6), ('black', 5), ('white', 5), ('red', 4)]\n"
     ]
    }
   ],
   "source": [
    "print('count the most common words in a dictionary')\n",
    "\n",
    "words = [\n",
    "   'red', 'green', 'black', 'pink', 'black', 'white', 'black', 'eyes',\n",
    "   'white', 'black', 'orange', 'pink', 'pink', 'red', 'red', 'white', 'orange',\n",
    "   'white', \"black\", 'pink', 'green', 'green', 'pink', 'green', 'pink',\n",
    "   'white', 'orange', \"orange\", 'red'\n",
    "]\n",
    "\n",
    "c_words = Counter(words)\n",
    "print(c_words.most_common(4))"
   ]
  },
  {
   "cell_type": "code",
   "execution_count": 35,
   "metadata": {},
   "outputs": [
    {
     "name": "stdout",
     "output_type": "stream",
     "text": [
      "find the class wise roll number from a tuple-of-tuples\n",
      "defaultdict(<class 'list'>, {'V': [1, 2], 'VI': [1, 2, 3], 'VII': [1]})\n"
     ]
    }
   ],
   "source": [
    "print('find the class wise roll number from a tuple-of-tuples')\n",
    "\n",
    "classes = (\n",
    "    ('V', 1),\n",
    "    ('VI', 1),\n",
    "    ('V', 2),\n",
    "    ('VI', 2),\n",
    "    ('VI', 3),\n",
    "    ('VII', 1),\n",
    ")\n",
    "\n",
    "d = defaultdict(list)\n",
    "for k, v in classes:\n",
    "    d[k].append(v)\n",
    "\n",
    "print(d)"
   ]
  },
  {
   "cell_type": "code",
   "execution_count": 36,
   "metadata": {},
   "outputs": [
    {
     "name": "stdout",
     "output_type": "stream",
     "text": [
      "count the number of students in an individual class\n",
      "defaultdict(None, {'V': 2, 'VI': 3, 'VII': 1})\n",
      "\n",
      "count the number of students in an individual class\n",
      "Counter({'VI': 3, 'V': 2, 'VII': 1})\n"
     ]
    }
   ],
   "source": [
    "print('count the number of students in an individual class')\n",
    "classes = (\n",
    "    ('V', 1),\n",
    "    ('VI', 1),\n",
    "    ('V', 2),\n",
    "    ('VI', 2),\n",
    "    ('VI', 3),\n",
    "    ('VII', 1),\n",
    ")\n",
    "\n",
    "d = defaultdict()\n",
    "for k, v in classes:\n",
    "    if k not in d:\n",
    "        d[k] = v\n",
    "    else:\n",
    "        d[k] = v\n",
    "print(d)\n",
    "print()\n",
    "\n",
    "\n",
    "print('count the number of students in an individual class')\n",
    "classes = (\n",
    "    ('V', 1),\n",
    "    ('VI', 1),\n",
    "    ('V', 2),\n",
    "    ('VI', 2),\n",
    "    ('VI', 3),\n",
    "    ('VII', 1),\n",
    ")\n",
    "\n",
    "students = Counter(class_name for class_name, no_students in classes)\n",
    "print(students)"
   ]
  },
  {
   "cell_type": "code",
   "execution_count": 37,
   "metadata": {},
   "outputs": [
    {
     "name": "stdout",
     "output_type": "stream",
     "text": [
      "create an instance of an OrderedDict using a given dictionary, sort the dict during the creation     and print the members of the dict in reverse order\n",
      "Afghanistan 93\n",
      "Albania 355\n",
      "Algeria 213\n",
      "Andorra 376\n",
      "Angola 244\n",
      "\n",
      "Angola 244\n",
      "Andorra 376\n",
      "Algeria 213\n",
      "Albania 355\n",
      "Afghanistan 93\n",
      "\n"
     ]
    }
   ],
   "source": [
    "print('create an instance of an OrderedDict using a given dictionary, sort the dict during the creation \\\n",
    "    and print the members of the dict in reverse order')\n",
    "\n",
    "d = {'Afghanistan': 93, 'Albania': 355, 'Algeria': 213, 'Andorra': 376, 'Angola': 244}\n",
    "\n",
    "new_dict = OrderedDict(d.items())\n",
    "\n",
    "for key in new_dict:\n",
    "    print(key, new_dict[key])\n",
    "print()\n",
    "\n",
    "for key in reversed(new_dict):\n",
    "    print(key, new_dict[key])\n",
    "print()"
   ]
  },
  {
   "cell_type": "code",
   "execution_count": 38,
   "metadata": {},
   "outputs": [
    {
     "name": "stdout",
     "output_type": "stream",
     "text": [
      "group a sequence of key-value pairs into a dictionary of lists\n",
      "defaultdict(<class 'list'>, {'v': [1, 3], 'vi': [2, 4], 'vii': [1]})\n",
      "[('v', [1, 3]), ('vi', [2, 4]), ('vii', [1])]\n"
     ]
    }
   ],
   "source": [
    "print('group a sequence of key-value pairs into a dictionary of lists')\n",
    "\n",
    "class_roll = [('v', 1), ('vi', 2), ('v', 3), ('vi', 4), ('vii', 1)]\n",
    "\n",
    "d = defaultdict(list)\n",
    "\n",
    "for k, v in class_roll:\n",
    "    d[k].append(v)\n",
    "\n",
    "print(d)\n",
    "print(sorted(d.items()))"
   ]
  },
  {
   "cell_type": "code",
   "execution_count": 39,
   "metadata": {},
   "outputs": [
    {
     "name": "stdout",
     "output_type": "stream",
     "text": [
      "compare two unordered lists (not sets)\n",
      "False\n"
     ]
    }
   ],
   "source": [
    "print('compare two unordered lists (not sets)')\n",
    "\n",
    "n1 = [20, 10, 30, 10, 20, 30]\n",
    "n2 = [30, 20, 10, 30, 20, 50]\n",
    "\n",
    "c_n1 = Counter(n1)\n",
    "c_n2 = Counter(n2)\n",
    "\n",
    "print(c_n1 == c_n2)"
   ]
  },
  {
   "cell_type": "code",
   "execution_count": 40,
   "metadata": {},
   "outputs": [
    {
     "name": "stdout",
     "output_type": "stream",
     "text": [
      "defaultdict(<class 'collections.deque'>, {'voltage': deque([41667, 35364]), 'office': deque([36871, 40690, 33850])})\n"
     ]
    }
   ],
   "source": [
    "tasks = [\n",
    "    (36871, 'office', False),\n",
    "    (40690, 'office', False),\n",
    "    (35364, 'voltage', False),\n",
    "    (41667, 'voltage', True),\n",
    "    (33850, 'office', False)\n",
    "    ]\n",
    "\n",
    "def task_manager(tasks):\n",
    "    ordered_tasks = sorted(tasks, key=lambda x: x[1], reverse=True)\n",
    "    task_data = defaultdict(deque)\n",
    "    for task_number, server_name, priority in ordered_tasks:\n",
    "        if priority:\n",
    "            task_data[server_name].appendleft(task_number)\n",
    "        else:\n",
    "            task_data[server_name].append(task_number)\n",
    "    return task_data\n",
    "\n",
    "print(task_manager(tasks))"
   ]
  }
 ],
 "metadata": {
  "kernelspec": {
   "display_name": "Python 3",
   "language": "python",
   "name": "python3"
  },
  "language_info": {
   "codemirror_mode": {
    "name": "ipython",
    "version": 3
   },
   "file_extension": ".py",
   "mimetype": "text/x-python",
   "name": "python",
   "nbconvert_exporter": "python",
   "pygments_lexer": "ipython3",
   "version": "3.10.5"
  }
 },
 "nbformat": 4,
 "nbformat_minor": 2
}
