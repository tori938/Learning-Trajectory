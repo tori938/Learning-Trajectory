{
 "cells": [
  {
   "cell_type": "code",
   "execution_count": 2,
   "metadata": {},
   "outputs": [],
   "source": [
    "import numpy as np"
   ]
  },
  {
   "cell_type": "markdown",
   "metadata": {},
   "source": [
    "FIND MIN AND MAX DISTANCE OF MULTIPLE VECTORS"
   ]
  },
  {
   "cell_type": "code",
   "execution_count": 3,
   "metadata": {},
   "outputs": [
    {
     "name": "stdout",
     "output_type": "stream",
     "text": [
      "5.196152422706632 20.784609690826528\n",
      "\n",
      "10.392304845413264 10.392304845413264\n"
     ]
    }
   ],
   "source": [
    "def min_max_dist(*vectors):\n",
    "    length = len(vectors) #how many vectors to begin with?\n",
    "    dist_lst = [] #input the distance between vectors\n",
    "    v_range = list(range(0, len(vectors))) #no of vectors to work with\n",
    "    index = 0\n",
    "    while index < length:\n",
    "        for v in vectors:\n",
    "            base_vector = vectors[0]\n",
    "            distance = np.linalg.norm(base_vector-vectors[index]) #calculate vector distance\n",
    "            dist_lst.append(distance)\n",
    "            index += 1\n",
    "    dist_lst.remove(0.0) #for instances when distance is vector by itself\n",
    "    print(min(dist_lst), max(dist_lst))\n",
    "\n",
    "vec1 = np.array([1, 2, 3])\n",
    "vec2 = np.array([4, 5, 6])\n",
    "vec3 = np.array([7, 8, 9])\n",
    "vec4 = np.array([10, 11, 12])\n",
    "vec5 = np.array([13, 14, 15])\n",
    "\n",
    "min_max_dist(vec1, vec2, vec3, vec4, vec5)\n",
    "print()\n",
    "\n",
    "min_max_dist(vec3, vec1)"
   ]
  },
  {
   "cell_type": "markdown",
   "metadata": {},
   "source": [
    "IF ONE PAIR OF VECTORS IS PERPENDICULAR"
   ]
  },
  {
   "cell_type": "code",
   "execution_count": 4,
   "metadata": {},
   "outputs": [
    {
     "name": "stdout",
     "output_type": "stream",
     "text": [
      "True\n",
      "False\n"
     ]
    }
   ],
   "source": [
    "def any_normal(*vectors):\n",
    "    length = len(vectors) #how many vectors to begin with?\n",
    "    scar_prod_lst = [] #input the scalar product between vectors\n",
    "    index = 0\n",
    "    while index < length:\n",
    "        for v in vectors:\n",
    "            base_vector = vectors[0]\n",
    "            scalar_product = np.dot(base_vector, vectors[index])\n",
    "            scar_prod_lst.append(scalar_product)\n",
    "            index += 1\n",
    "    if 0 in scar_prod_lst:\n",
    "        return True\n",
    "    else:\n",
    "        return False\n",
    "\n",
    "vec1 = np.array([2, 1])\n",
    "vec2 = np.array([-1, 2])\n",
    "vec3 = np.array([3, 4])\n",
    "vec4 = np.array([-1, 5])\n",
    "\n",
    "print(any_normal(vec1, vec2, vec3, vec4))\n",
    "print(any_normal(vec2, vec3))"
   ]
  },
  {
   "cell_type": "code",
   "execution_count": 5,
   "metadata": {},
   "outputs": [
    {
     "name": "stdout",
     "output_type": "stream",
     "text": [
      "[[[ 31  12  20  97  43]\n",
      "  [ 15  11  93  23  32]\n",
      "  [ 94  93   5  46  61]\n",
      "  [ 24  74  79  51  18]\n",
      "  [ 27  59  42  66  80]]\n",
      "\n",
      " [[ 33  54  13  23  70]\n",
      "  [ 36  76  75  81  50]\n",
      "  [ 31  46  39  35  96]\n",
      "  [ 40  66  51  84  96]\n",
      "  [ 52  46  20  70  17]]\n",
      "\n",
      " [[ 55  29  41  17  85]\n",
      "  [ 25  63   5  28  19]\n",
      "  [ 26  14  10  76  89]\n",
      "  [ 77  70  24 100   7]\n",
      "  [ 12  94  86  78  41]]]\n",
      "\n",
      "[[[82  2 64  7 35]\n",
      "  [57 21 61 43 96]\n",
      "  [29 68 88  1 90]\n",
      "  [31 97 46 80  0]\n",
      "  [26 20 91 23 32]]\n",
      "\n",
      " [[76 51 73  4 50]\n",
      "  [93 41 78 53 85]\n",
      "  [59 86 39  5 81]\n",
      "  [58 15 17 71 56]\n",
      "  [24 44 60 98 30]]]\n",
      "\n"
     ]
    }
   ],
   "source": [
    "def get_loto(num):\n",
    "    population = np.arange(0, 101)\n",
    "    rand_repeat_select = np.random.choice(population, size=(num, 5, 5), replace=True)\n",
    "    print(rand_repeat_select)\n",
    "    \n",
    "get_loto(3)\n",
    "print()\n",
    "\n",
    "\n",
    "def get_unique_loto(num):\n",
    "    population = np.arange(0, 101)\n",
    "    rand_unique_select = np.random.choice(population, size=(num, 5, 5), replace=False)\n",
    "    print(rand_unique_select)\n",
    "\n",
    "get_unique_loto(2)\n",
    "print()"
   ]
  },
  {
   "cell_type": "code",
   "execution_count": 6,
   "metadata": {},
   "outputs": [
    {
     "name": "stdout",
     "output_type": "stream",
     "text": [
      "(4, 5, 5)\n",
      "(10, 5, 5)\n"
     ]
    }
   ],
   "source": [
    "def get_unique_loto(num):\n",
    "    unique_loto = np.zeros((num, 5, 5), dtype=np.uint8)\n",
    "    population = np.array(range(1, 101))\n",
    "    for x in range(0, num):\n",
    "        loto = np.random.choice(population, size=25, replace=False).reshape((5, 5))\n",
    "        unique_loto[x] = loto\n",
    "    return(unique_loto)\n",
    "\n",
    "get_unique_loto(4)\n",
    "print(np.shape(get_unique_loto(4)))\n",
    "\n",
    "get_unique_loto(10)\n",
    "print(np.shape(get_unique_loto(10)))"
   ]
  },
  {
   "cell_type": "code",
   "execution_count": 7,
   "metadata": {},
   "outputs": [
    {
     "name": "stdout",
     "output_type": "stream",
     "text": [
      "[0 1 2 3 4 5]\n",
      "\n",
      "None\n",
      "\n",
      "[3 1 5 0 2 4]\n",
      "\n",
      "['Linkin Park', 'ACDC', 'Deep Purple']\n",
      "\n",
      "['Deep Purple' 'Linkin Park' 'ACDC']\n",
      "\n",
      "[5 9 8 4 1 6 2 0 7 3]\n",
      "\n",
      "['Zlata']\n",
      "\n",
      "['Yulia' 'Yulia' 'Yulia' 'Kristina' 'Zlata' 'Tanya M' 'Zlata']\n",
      "\n",
      "[4 1 6 2 1 2 2 5 2 6]\n",
      "\n",
      "None\n",
      "[[3 6 8 9]\n",
      " [6 8 7 9]\n",
      " [3 6 1 2]]\n",
      "\n",
      "[8 8 3]\n",
      "[7 7 0]\n",
      "[4 2 5]\n",
      "\n"
     ]
    }
   ],
   "source": [
    "arr = np.arange(6)\n",
    "print(arr)\n",
    "print()\n",
    "\n",
    "print(np.random.shuffle(arr))\n",
    "print()\n",
    "\n",
    "print(arr)\n",
    "print()\n",
    "\n",
    "\n",
    "\n",
    "playlist = ['Linkin Park', 'ACDC', 'Deep Purple']\n",
    "print(playlist)\n",
    "print()\n",
    "\n",
    "shuffled = np.random.permutation(playlist)\n",
    "print(shuffled)\n",
    "print()\n",
    "\n",
    "print(np.random.permutation(10))\n",
    "print()\n",
    "\n",
    "\n",
    "\n",
    "workers = ['Zlata', 'Yulia', 'Tanya M', 'Tanya V', 'Kristina']\n",
    "unlucky_stay = np.random.choice(workers, size=1, replace=False)\n",
    "print(unlucky_stay)\n",
    "print()\n",
    "\n",
    "unlucky_multiple = np.random.choice(workers, size=7, replace=True)\n",
    "print(unlucky_multiple)\n",
    "print()\n",
    "\n",
    "choice = np.random.choice([1, 2, 3, 4, 5, 6], size=10)\n",
    "print(choice)\n",
    "print()\n",
    "\n",
    "\n",
    "\n",
    "print(np.random.seed(23))\n",
    "print(np.random.randint(10, size=(3,4)))\n",
    "print()\n",
    "\n",
    "np.random.seed(100)\n",
    "print(np.random.randint(10, size=3))\n",
    "print(np.random.randint(10, size=3))\n",
    "print(np.random.randint(10, size=3))\n",
    "print()"
   ]
  }
 ],
 "metadata": {
  "kernelspec": {
   "display_name": "Python 3",
   "language": "python",
   "name": "python3"
  },
  "language_info": {
   "codemirror_mode": {
    "name": "ipython",
    "version": 3
   },
   "file_extension": ".py",
   "mimetype": "text/x-python",
   "name": "python",
   "nbconvert_exporter": "python",
   "pygments_lexer": "ipython3",
   "version": "3.10.5"
  }
 },
 "nbformat": 4,
 "nbformat_minor": 2
}
