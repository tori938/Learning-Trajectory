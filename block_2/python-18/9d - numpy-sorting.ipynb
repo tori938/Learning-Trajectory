{
 "cells": [
  {
   "cell_type": "code",
   "execution_count": 2,
   "metadata": {},
   "outputs": [],
   "source": [
    "import numpy as np"
   ]
  },
  {
   "cell_type": "markdown",
   "metadata": {},
   "source": [
    "Exercise 1: sort a given array of shape 2 along the first axis, last axis and on flattened array"
   ]
  },
  {
   "cell_type": "code",
   "execution_count": 3,
   "metadata": {},
   "outputs": [
    {
     "name": "stdout",
     "output_type": "stream",
     "text": [
      "sort a given array of shape 2 along the first axis, last axis and on flattened array\n",
      "[[10 20]\n",
      " [30 40]]\n",
      "\n",
      "[[10 40]\n",
      " [20 30]]\n",
      "\n",
      "[10 20 30 40]\n",
      "\n"
     ]
    }
   ],
   "source": [
    "print('sort a given array of shape 2 along the first axis, last axis and on flattened array')\n",
    "a = np.array([[10, 40], [30, 20]])\n",
    "\n",
    "#along the first axis\n",
    "print(np.sort(a, axis=0))\n",
    "print()\n",
    "\n",
    "#along the last axis (axis=-1, default behavior)\n",
    "print(np.sort(a, axis=-1))\n",
    "print()\n",
    "\n",
    "#sorting the flattened array\n",
    "print(np.sort(a, axis=None))\n",
    "print()"
   ]
  },
  {
   "cell_type": "markdown",
   "metadata": {},
   "source": [
    "Exercise 2: create a structured array from given student name, height, class and their data types"
   ]
  },
  {
   "cell_type": "code",
   "execution_count": 4,
   "metadata": {},
   "outputs": [
    {
     "name": "stdout",
     "output_type": "stream",
     "text": [
      "create a structured array from given student name, height, class and their data types\n",
      "[['James' '5' '48.5']\n",
      " ['Nail' '6' '52.5']\n",
      " ['Paul' '5' '42.1']\n",
      " ['Pit' '5' '40.11']]\n",
      "\n",
      "[array(['Pit', '5', '40.11'], dtype='<U32'), array(['Paul', '5', '42.1'], dtype='<U32'), array(['James', '5', '48.5'], dtype='<U32'), array(['Nail', '6', '52.5'], dtype='<U32')]\n",
      "\n",
      "[array(['Pit', '5', '40.11'], dtype='<U32'), array(['Paul', '5', '42.1'], dtype='<U32'), array(['James', '5', '48.5'], dtype='<U32'), array(['Nail', '6', '52.5'], dtype='<U32')]\n"
     ]
    }
   ],
   "source": [
    "print('create a structured array from given student name, height, class and their data types')\n",
    "#Now sort the array on height.\n",
    "a = np.array([('James', 5, 48.5), ('Nail', 6, 52.5), ('Paul', 5, 42.1), ('Pit', 5, 40.11)])\n",
    "\n",
    "print(a)\n",
    "print()\n",
    "\n",
    "print(sorted(a, key=lambda x: x[-1]))\n",
    "print()\n",
    "\n",
    "x = list(a)\n",
    "print(sorted(x, key=lambda x: x[-1]))"
   ]
  },
  {
   "cell_type": "markdown",
   "metadata": {},
   "source": [
    "Exercise 2-3: create a structured array from given student name, height, class and their data types"
   ]
  },
  {
   "cell_type": "code",
   "execution_count": 5,
   "metadata": {},
   "outputs": [
    {
     "name": "stdout",
     "output_type": "stream",
     "text": [
      "create a structured array from given student name, height, class and their data types\n",
      "[(b'Pit', 5, 40.11) (b'Paul', 5, 42.1 ) (b'James', 5, 48.5 )\n",
      " (b'Nail', 6, 52.5 )]\n",
      "[(b'Pit', 5, 40.11) (b'Paul', 5, 42.1 ) (b'James', 5, 48.5 )\n",
      " (b'Nail', 6, 52.5 )]\n",
      "[(b'James', 5, 48.5 ) (b'Nail', 6, 52.5 ) (b'Paul', 5, 42.1 )\n",
      " (b'Pit', 5, 40.11)]\n"
     ]
    }
   ],
   "source": [
    "print('create a structured array from given student name, height, class and their data types')\n",
    "\n",
    "data_type = [('name', 'S15'), ('class', int), ('height', float)]\n",
    "\n",
    "students_details = [('James', 5, 48.5), ('Nail', 6, 52.5), ('Paul', 5, 42.10), ('Pit', 5, 40.11)]\n",
    "\n",
    "students = np.array(students_details, dtype=data_type)\n",
    "\n",
    "print(np.sort(students, order=['height']))\n",
    "print(np.sort(students, order=['class', 'height']))\n",
    "print(np.sort(students, order=['name']))"
   ]
  },
  {
   "cell_type": "markdown",
   "metadata": {},
   "source": [
    "Exercise 4: sort the student id with increasing height of the students from given students id and height"
   ]
  },
  {
   "cell_type": "code",
   "execution_count": 6,
   "metadata": {},
   "outputs": [
    {
     "name": "stdout",
     "output_type": "stream",
     "text": [
      "sort the student id with increasing height of the students from given students id and height\n",
      "[4 0 5 3 6 1 2]\n",
      "\n",
      "1682 38.0\n",
      "1023 40.0\n",
      "5241 40.0\n",
      "1671 41.0\n",
      "4532 42.0\n",
      "5202 42.0\n",
      "6230 45.0\n"
     ]
    }
   ],
   "source": [
    "print('sort the student id with increasing height of the students from given students id and height')\n",
    "\n",
    "student_id = np.array([1023, 5202, 6230, 1671, 1682, 5241, 4532])\n",
    "student_height = np.array([40., 42., 45., 41., 38., 40., 42.0])\n",
    "\n",
    "#sorting the indices based on 'id' and 'height'\n",
    "indices = np.lexsort((student_id, student_height))\n",
    "\n",
    "print(indices)\n",
    "print()\n",
    "\n",
    "for n in indices:\n",
    "    print(student_id[n], student_height[n])"
   ]
  },
  {
   "cell_type": "markdown",
   "metadata": {},
   "source": [
    "Exercise 5: get the indices of the sorted elements of a given array"
   ]
  },
  {
   "cell_type": "code",
   "execution_count": 7,
   "metadata": {},
   "outputs": [
    {
     "name": "stdout",
     "output_type": "stream",
     "text": [
      "get the indices of the sorted elements of a given array\n",
      "[0 3 4 6 1 5 2]\n"
     ]
    }
   ],
   "source": [
    "print('get the indices of the sorted elements of a given array')\n",
    "\n",
    "student_id = np.array([1023, 5202, 6230, 1671, 1682, 5241, 4532])\n",
    "\n",
    "#sorting the indices of the array's elements in ascending order\n",
    "i = np.argsort(student_id)\n",
    "\n",
    "print(i)"
   ]
  },
  {
   "cell_type": "markdown",
   "metadata": {},
   "source": [
    "Exercise 6: sort a given complex array using the real part first, then the imaginary part"
   ]
  },
  {
   "cell_type": "code",
   "execution_count": 8,
   "metadata": {},
   "outputs": [
    {
     "name": "stdout",
     "output_type": "stream",
     "text": [
      "sort a given complex array using the real part first, then the imaginary part\n",
      "[1.+2.j 3.-2.j 3.-1.j 3.+5.j 4.-3.j]\n"
     ]
    }
   ],
   "source": [
    "print('sort a given complex array using the real part first, then the imaginary part')\n",
    "\n",
    "complex_num = [1 + 2j, 3 - 1j, 3 - 2j, 4 - 3j, 3 + 5j]\n",
    "\n",
    "#sorting the given complex array using the real part first, then the imaginary part\n",
    "print(np.sort_complex(complex_num))"
   ]
  },
  {
   "cell_type": "markdown",
   "metadata": {},
   "source": [
    "Exercise 7: partition a given array in a specified position and move all the smaller elements values to the left of the partition, and the remaining values to the right, in arbitrary order"
   ]
  },
  {
   "cell_type": "code",
   "execution_count": 9,
   "metadata": {},
   "outputs": [
    {
     "name": "stdout",
     "output_type": "stream",
     "text": [
      "partition a given array in a specified position and move all the smaller elements values to the left of the partition, and the remaining values to the right, in arbitrary order (based on random choice)\n",
      "[-11  30  20  40  50  50  60  70]\n"
     ]
    }
   ],
   "source": [
    "print('partition a given array in a specified position and move all the smaller elements values \\\n",
    "to the left of the partition, and the remaining values to the right, in arbitrary order (based on random choice)')\n",
    "\n",
    "nums = np.array([70, 50, 20, 30, -11, 60, 50, 40])\n",
    "\n",
    "#partitioning the array at the 4th position\n",
    "print(np.partition(nums, 4))"
   ]
  },
  {
   "cell_type": "markdown",
   "metadata": {},
   "source": [
    "Exercise 8: sort the specified number of elements from beginning of a given array"
   ]
  },
  {
   "cell_type": "code",
   "execution_count": 10,
   "metadata": {},
   "outputs": [
    {
     "name": "stdout",
     "output_type": "stream",
     "text": [
      "sort the specified number of elements from beginning of a given array\n",
      "[0.08171024 0.11699795 0.42195286 0.42233786 0.44597126 0.6706194\n",
      " 0.98789453 0.85166811 0.49896633 0.91477943]\n"
     ]
    }
   ],
   "source": [
    "print('sort the specified number of elements from beginning of a given array')\n",
    "\n",
    "nums = np.random.rand(10)\n",
    "\n",
    "#sorting the first 5 elements using argpartition\n",
    "print(nums[np.argpartition(nums, range(5))])"
   ]
  },
  {
   "cell_type": "markdown",
   "metadata": {},
   "source": [
    "Exercise 9: sort an given array by the nth column"
   ]
  },
  {
   "cell_type": "code",
   "execution_count": 11,
   "metadata": {},
   "outputs": [
    {
     "name": "stdout",
     "output_type": "stream",
     "text": [
      "sort an given array by the nth column\n",
      "[[1 1 4]\n",
      " [1 7 4]\n",
      " [7 8 9]]\n"
     ]
    }
   ],
   "source": [
    "print('sort an given array by the nth column')\n",
    "\n",
    "nums = np.random.randint(0, 10, (3, 3))\n",
    "\n",
    "print(nums[nums[:, 1].argsort()])"
   ]
  }
 ],
 "metadata": {
  "kernelspec": {
   "display_name": "Python 3",
   "language": "python",
   "name": "python3"
  },
  "language_info": {
   "codemirror_mode": {
    "name": "ipython",
    "version": 3
   },
   "file_extension": ".py",
   "mimetype": "text/x-python",
   "name": "python",
   "nbconvert_exporter": "python",
   "pygments_lexer": "ipython3",
   "version": "3.10.5"
  }
 },
 "nbformat": 4,
 "nbformat_minor": 2
}
