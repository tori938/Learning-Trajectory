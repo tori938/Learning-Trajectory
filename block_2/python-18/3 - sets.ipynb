{
 "cells": [
  {
   "cell_type": "code",
   "execution_count": 11,
   "metadata": {},
   "outputs": [
    {
     "name": "stdout",
     "output_type": "stream",
     "text": [
      "add a list of elements to a set\n",
      "{'Green', 'Blue', 'Orange', 'Yellow', 'Black', 'Red'}\n"
     ]
    }
   ],
   "source": [
    "print('add a list of elements to a set')\n",
    "sample_set = {\"Yellow\", \"Orange\", \"Black\"}\n",
    "sample_list = [\"Blue\", \"Green\", \"Red\"]\n",
    "\n",
    "sample_set.update(sample_list)\n",
    "print(sample_set)"
   ]
  },
  {
   "cell_type": "code",
   "execution_count": 12,
   "metadata": {},
   "outputs": [
    {
     "name": "stdout",
     "output_type": "stream",
     "text": [
      "return a new set of identical items from two sets\n",
      "{40, 50, 30}\n"
     ]
    }
   ],
   "source": [
    "print('return a new set of identical items from two sets')\n",
    "set1 = {10, 20, 30, 40, 50}\n",
    "set2 = {30, 40, 50, 60, 70}\n",
    "\n",
    "print(set1.intersection(set2))"
   ]
  },
  {
   "cell_type": "code",
   "execution_count": 13,
   "metadata": {},
   "outputs": [
    {
     "name": "stdout",
     "output_type": "stream",
     "text": [
      "get only unique items from two sets\n",
      "{50, 20, 70, 40, 10, 60, 30}\n"
     ]
    }
   ],
   "source": [
    "print('get only unique items from two sets')\n",
    "set1 = {10, 20, 30, 40, 50}\n",
    "set2 = {30, 40, 50, 60, 70}\n",
    "\n",
    "def unique_items(s1, s2):\n",
    "    return set(s1.union(s2))\n",
    "\n",
    "print(unique_items(set1, set2))"
   ]
  },
  {
   "cell_type": "code",
   "execution_count": 14,
   "metadata": {},
   "outputs": [
    {
     "name": "stdout",
     "output_type": "stream",
     "text": [
      "update the first set with items that don’t exist in the second set\n",
      "{10, 30}\n"
     ]
    }
   ],
   "source": [
    "print('update the first set with items that don’t exist in the second set')\n",
    "set1 = {10, 20, 30}\n",
    "set2 = {20, 40, 50}\n",
    "\n",
    "def first_only(s1, s2):\n",
    "    return s1.difference(s2)\n",
    "\n",
    "print(first_only(set1, set2))"
   ]
  },
  {
   "cell_type": "code",
   "execution_count": 15,
   "metadata": {},
   "outputs": [
    {
     "name": "stdout",
     "output_type": "stream",
     "text": [
      "remove items from the set at once\n",
      "{50, 40}\n"
     ]
    }
   ],
   "source": [
    "print('remove items from the set at once')\n",
    "set1 = {10, 20, 30, 40, 50}\n",
    "\n",
    "set1.difference_update({10, 20, 30})\n",
    "print(set1)"
   ]
  },
  {
   "cell_type": "code",
   "execution_count": 16,
   "metadata": {},
   "outputs": [
    {
     "name": "stdout",
     "output_type": "stream",
     "text": [
      "return a set of elements present in Set A or B, but not both\n",
      "{20, 70, 10, 60}\n"
     ]
    }
   ],
   "source": [
    "print('return a set of elements present in Set A or B, but not both')\n",
    "\n",
    "set1 = {10, 20, 30, 40, 50}\n",
    "set2 = {30, 40, 50, 60, 70}\n",
    "\n",
    "print(set1.symmetric_difference(set2))"
   ]
  },
  {
   "cell_type": "code",
   "execution_count": 17,
   "metadata": {},
   "outputs": [
    {
     "name": "stdout",
     "output_type": "stream",
     "text": [
      "check if two sets have any elements in common\n",
      "{10}\n"
     ]
    }
   ],
   "source": [
    "print('check if two sets have any elements in common')\n",
    "\n",
    "set1 = {10, 20, 30, 40, 50}\n",
    "set2 = {60, 70, 80, 90, 10}\n",
    "\n",
    "print(set1.intersection(set2))"
   ]
  },
  {
   "cell_type": "code",
   "execution_count": 18,
   "metadata": {},
   "outputs": [
    {
     "name": "stdout",
     "output_type": "stream",
     "text": [
      "update set1 by adding items from set2, except common items\n",
      "{70, 10, 20, 60}\n",
      "\n",
      "alternative way\n",
      "{20, 70, 10, 60}\n"
     ]
    }
   ],
   "source": [
    "print('update set1 by adding items from set2, except common items')\n",
    "\n",
    "set1 = {10, 20, 30, 40, 50}\n",
    "set2 = {30, 40, 50, 60, 70}\n",
    "\n",
    "print(set((list(set1.difference(set2)) + list(set2.difference(set1)))))\n",
    "print()\n",
    "\n",
    "print('alternative way')\n",
    "set1.symmetric_difference_update(set2)\n",
    "print(set1)"
   ]
  },
  {
   "cell_type": "code",
   "execution_count": 19,
   "metadata": {},
   "outputs": [
    {
     "name": "stdout",
     "output_type": "stream",
     "text": [
      "remove items from set1 that are not common to both set1 and set2\n",
      "{40, 50, 30}\n"
     ]
    }
   ],
   "source": [
    "print('remove items from set1 that are not common to both set1 and set2')\n",
    "\n",
    "set1 = {10, 20, 30, 40, 50}\n",
    "set2 = {30, 40, 50, 60, 70}\n",
    "\n",
    "set1.intersection_update(set2)\n",
    "print(set1)"
   ]
  },
  {
   "cell_type": "code",
   "execution_count": 20,
   "metadata": {},
   "outputs": [
    {
     "name": "stdout",
     "output_type": "stream",
     "text": [
      "check if two given sets have no elements in common\n",
      "True\n",
      "False\n"
     ]
    }
   ],
   "source": [
    "print('check if two given sets have no elements in common')\n",
    "x = {1, 2, 3, 4}\n",
    "y = {4, 5, 6, 7}\n",
    "z = {8}\n",
    "\n",
    "def common_elements(arg1, arg2):\n",
    "    #isdisjoint() method checks if sets have no common elements\n",
    "    if arg1.isdisjoint(arg2):\n",
    "        return False\n",
    "    else:\n",
    "        return True\n",
    "\n",
    "print(common_elements(x, y))\n",
    "print(common_elements(x, z))"
   ]
  },
  {
   "cell_type": "code",
   "execution_count": 21,
   "metadata": {},
   "outputs": [
    {
     "name": "stdout",
     "output_type": "stream",
     "text": [
      "remove the intersection of a second set with a first set\n",
      "sn1:  {1, 2, 3}\n",
      "sn2:  {4, 5, 6, 7, 8}\n"
     ]
    }
   ],
   "source": [
    "print('remove the intersection of a second set with a first set')\n",
    "sn1 = {1, 2, 3, 4, 5}\n",
    "sn2 = {4, 5, 6, 7, 8}\n",
    "\n",
    "for i in sn1 & sn2:\n",
    "    sn1.remove(i)\n",
    "\n",
    "print(\"sn1: \", sn1)\n",
    "print(\"sn2: \", sn2)"
   ]
  },
  {
   "cell_type": "code",
   "execution_count": 22,
   "metadata": {},
   "outputs": [
    {
     "name": "stdout",
     "output_type": "stream",
     "text": [
      "find all the unique words and count the frequency of occurrence from a given list of strings\n",
      "{'Blue': 1, 'Red': 4, 'Green': 2}\n"
     ]
    }
   ],
   "source": [
    "print('find all the unique words and count the frequency of occurrence from a given list of strings')\n",
    "words = ['Red', 'Green', 'Red', 'Blue', 'Red', 'Red', 'Green']\n",
    "\n",
    "def word_count(words):\n",
    "    word_set = set(words)\n",
    "    word_counts = {}\n",
    "    \n",
    "    for word in word_set:\n",
    "        # Count the occurrences of each word in the input list and store the count in 'word_counts'.\n",
    "        word_counts[word] = words.count(word)\n",
    "    \n",
    "    return word_counts\n",
    "\n",
    "print(word_count(words))"
   ]
  },
  {
   "cell_type": "code",
   "execution_count": 23,
   "metadata": {},
   "outputs": [
    {
     "name": "stdout",
     "output_type": "stream",
     "text": [
      "find all pairs of elements in a list whose sum is equal to a given value\n",
      "[{20, 15}, {16, 19}, {17, 18}, {17, 18}, {16, 19}, {20, 15}]\n"
     ]
    }
   ],
   "source": [
    "print('find all pairs of elements in a list whose sum is equal to a given value')\n",
    "nums = [10, 11, 12, 13, 14, 15, 16, 17, 18, 19, 20]\n",
    "\n",
    "def find_pairs(nums, target_val):\n",
    "    nums_set = set(nums)\n",
    "    # Create an empty list 'pairs' to store pairs of numbers that sum up to the target value\n",
    "    pairs = []\n",
    "    for n in nums_set:\n",
    "        # Calculate the complement of the current number with respect to the target value\n",
    "        complement = target_val - n\n",
    "        # Check if the complement is in the 'nums_set'.\n",
    "        if complement in nums_set:\n",
    "            # If the complement exists in the set\n",
    "            # add a pair consisting of the current number and its complement to the 'pairs' list\n",
    "            pairs.append({n, complement})\n",
    "    return pairs\n",
    "\n",
    "print(find_pairs(nums, 35))"
   ]
  },
  {
   "cell_type": "code",
   "execution_count": 24,
   "metadata": {},
   "outputs": [
    {
     "name": "stdout",
     "output_type": "stream",
     "text": [
      "find the longest common prefix of all strings\n",
      "pqr\n"
     ]
    }
   ],
   "source": [
    "print('find the longest common prefix of all strings')\n",
    "original = ['pqrefgh', 'pqrsfgh'] #pqr\n",
    "\n",
    "def longest_common_prefix(arg):\n",
    "    #if empty list\n",
    "    if not arg:\n",
    "        return ''\n",
    "    \n",
    "    #find the min length of strings in the list\n",
    "    min_length = min([len(word) for word in arg])\n",
    "    \n",
    "    for i in range(min_length):\n",
    "        #create a set containing the i-th character of each string in the list\n",
    "        chars = set([word[i] for word in arg])\n",
    "        #if the set has more than one element, return the common prefix found so far (up to i-th character)\n",
    "        if len(chars) > 1:\n",
    "            return arg[0][:i]\n",
    "    \n",
    "    #if no common prefix was found in the loop, return the common prefix as the 1st string\n",
    "    return arg[0][:min_length]\n",
    "\n",
    "print(longest_common_prefix(original))"
   ]
  },
  {
   "cell_type": "code",
   "execution_count": 25,
   "metadata": {},
   "outputs": [
    {
     "name": "stdout",
     "output_type": "stream",
     "text": [
      "find the two numbers whose product is maximum among all the pairs in a given list of numbers\n",
      "Original list of integers:\n",
      "[1, 2, 3, 4, 5, 6, 7, 8, 9]\n",
      "Maximum product of two numbers among all pairs in the said list:\n",
      "(8, 9)\n",
      "\n",
      "Original list of integers:\n",
      "[1, -2, -3, 4, 5, -6, 7, -8, 9]\n",
      "Maximum product of two numbers among all pairs in the said list:\n",
      "(7, 9)\n"
     ]
    }
   ],
   "source": [
    "print('find the two numbers whose product is maximum among all the pairs in a given list of numbers')\n",
    "\n",
    "def max_product(nums):\n",
    "    nums_set = set(nums)\n",
    "    \n",
    "    #initialize 'max_product' to negative infinity and 'max_num1' and 'max_num2' to None.\n",
    "    max_product = float('-inf')\n",
    "    max_num1 = None\n",
    "    max_num2 = None\n",
    "    \n",
    "    # Iterate over the unique numbers in 'nums_set'.\n",
    "    for n1 in nums_set:\n",
    "        for n2 in nums_set:\n",
    "            # Check if 'n1' and 'n2' are distinct and their product is greater than 'max_product'.\n",
    "            if n1 != n2 and n1 * n2 > max_product:\n",
    "                # Update 'max_product' with the new maximum product value.\n",
    "                max_product = n1 * n2\n",
    "                # Store the numbers that produced the maximum product in 'max_num1' and 'max_num2'.\n",
    "                max_num1 = n1\n",
    "                max_num2 = n2\n",
    "    \n",
    "    # Return a tuple containing the two numbers that produced the maximum product.\n",
    "    return (max_num1, max_num2)\n",
    "\n",
    "# Define a list of integers 'nums' for testing.\n",
    "nums = [1, 2, 3, 4, 5, 6, 7, 8, 9]\n",
    "print(\"Original list of integers:\")\n",
    "print(nums)\n",
    "\n",
    "# Call the 'max_product' function and print the result for the list of integers.\n",
    "print(\"Maximum product of two numbers among all pairs in the said list:\")\n",
    "print(max_product(nums))\n",
    "\n",
    "# Repeat the process for a different set of integers.\n",
    "nums = [1, -2, -3, 4, 5, -6, 7, -8, 9]\n",
    "print(\"\\nOriginal list of integers:\")\n",
    "print(nums)\n",
    "print(\"Maximum product of two numbers among all pairs in the said list:\")\n",
    "print(max_product(nums))"
   ]
  },
  {
   "cell_type": "code",
   "execution_count": 26,
   "metadata": {},
   "outputs": [
    {
     "name": "stdout",
     "output_type": "stream",
     "text": [
      "find all the anagrams and group them together from a given list of strings\n",
      "Original list of strings:\n",
      "['eat', 'cba', 'tae', 'abc', 'xyz']\n",
      "Find and group all anagrams in the said list:\n",
      "[['eat', 'tae'], ['cba', 'abc'], ['xyz']]\n",
      "\n",
      "Original list of strings:\n",
      "['restful', 'forty five', 'evil', 'over fifty', 'vile', 'fluster']\n",
      "Find and group all anagrams in the said list:\n",
      "[['restful', 'fluster'], ['forty five', 'over fifty'], ['evil', 'vile']]\n"
     ]
    }
   ],
   "source": [
    "print('find all the anagrams and group them together from a given list of strings')\n",
    "# Define a function 'group_anagrams' that takes a list of strings 'strs' as input.\n",
    "def group_anagrams(strs):\n",
    "    # Create an empty dictionary 'result' to store grouped anagrams.\n",
    "    result = {}\n",
    "    \n",
    "    # Iterate over each string 's' in the input list 'strs'.\n",
    "    for s in strs:\n",
    "        # Sort the characters of the string 's' and join them to create a sorted string.\n",
    "        sorted_string = ''.join(sorted(s))\n",
    "        \n",
    "        # Check if the sorted string exists as a key in 'result'.\n",
    "        if sorted_string in result:\n",
    "            # If it exists, append the original string 's' to the existing list of anagrams.\n",
    "            result[sorted_string].append(s)\n",
    "        else:\n",
    "            # If it doesn't exist, create a new entry with the sorted string as the key and a list containing 's' as the value.\n",
    "            result[sorted_string] = [s]\n",
    "    \n",
    "    # Convert the values of the 'result' dictionary (lists of anagrams) to a list and return it.\n",
    "    return list(result.values())\n",
    "\n",
    "# Define a list of strings 'strs' for testing.\n",
    "strs = ['eat', 'cba', 'tae', 'abc', 'xyz']\n",
    "print(\"Original list of strings:\")\n",
    "print(strs)\n",
    "\n",
    "# Call the 'group_anagrams' function and print the result for the list of strings.\n",
    "print(\"Find and group all anagrams in the said list:\")\n",
    "print(group_anagrams(strs))\n",
    "\n",
    "# Repeat the process for a different set of strings.\n",
    "strs = ['restful', 'forty five', 'evil', 'over fifty', 'vile', 'fluster']\n",
    "print(\"\\nOriginal list of strings:\")\n",
    "print(strs)\n",
    "\n",
    "# Call the 'group_anagrams' function and print the result for the list of strings.\n",
    "print(\"Find and group all anagrams in the said list:\")\n",
    "print(group_anagrams(strs))"
   ]
  },
  {
   "cell_type": "code",
   "execution_count": 27,
   "metadata": {},
   "outputs": [
    {
     "name": "stdout",
     "output_type": "stream",
     "text": [
      "find all the unique combinations of 3 numbers from a given list of numbers, adding up to a target number\n",
      "Original list of numbers:\n",
      "[1, 2, 3, 4, 5, 6, 7, 8, 9]\n",
      "Target value: 12\n",
      "Combine three numbers whose sum equals the target number:\n",
      "[(1, 3, 8), (1, 4, 7), (1, 2, 9), (1, 5, 6), (3, 4, 5), (2, 3, 7), (2, 4, 6)]\n",
      "\n",
      "Original list of numbers:\n",
      "[1, 2, 3, 4, 5, 6, 7, 8, 9]\n",
      "Target value: 17\n",
      "Combine three numbers whose sum equals the target number:\n",
      "[(4, 5, 8), (2, 6, 9), (3, 5, 9), (2, 7, 8), (4, 6, 7), (3, 6, 8), (1, 7, 9)]\n"
     ]
    }
   ],
   "source": [
    "print('find all the unique combinations of 3 numbers from a given list of numbers, adding up to a target number')\n",
    "# Define a function 'find_combinations_of_three' that takes a list of 'nums' and a 'target_val' as input.\n",
    "def find_combinations_of_three(nums, target_val):\n",
    "    # Convert the 'nums' list into a set to remove duplicates and then back to a list.\n",
    "    nums = list(set(nums))\n",
    "    \n",
    "    # Create an empty set 'result' to store unique combinations of three numbers.\n",
    "    result = set()\n",
    "    \n",
    "    # Iterate through the indices of 'nums' to consider pairs of numbers.\n",
    "    for i in range(len(nums)):\n",
    "        for j in range(i+1, len(nums)):\n",
    "            # Calculate the third number ('complement') needed to reach the 'target_val'.\n",
    "            complement = target_val - nums[i] - nums[j]\n",
    "            \n",
    "            # Check if the 'complement' exists in the remaining part of the list 'nums'.\n",
    "            if complement in nums[:i] + nums[j+1:]:\n",
    "                # Add a sorted tuple of the three numbers to the 'result' set.\n",
    "                result.add(tuple(sorted((nums[i], nums[j], complement))))\n",
    "    \n",
    "    # Convert the 'result' set into a list and return it.\n",
    "    return list(result)\n",
    "\n",
    "# Define a list of numbers 'nums' and a 'target_val' for testing.\n",
    "nums = [1, 2, 3, 4, 5, 6, 7, 8, 9]\n",
    "target_val = 12\n",
    "print(\"Original list of numbers:\")\n",
    "print(nums)\n",
    "print(\"Target value:\", target_val)\n",
    "\n",
    "# Call the 'find_combinations_of_three' function and print the result for the given list and target value.\n",
    "print(\"Combine three numbers whose sum equals the target number:\")\n",
    "print(find_combinations_of_three(nums, target_val))\n",
    "\n",
    "# Repeat the process for a different 'target_val'.\n",
    "target_val = 17\n",
    "print(\"\\nOriginal list of numbers:\")\n",
    "print(nums)\n",
    "print(\"Target value:\", target_val)\n",
    "\n",
    "# Call the 'find_combinations_of_three' function and print the result for the updated target value.\n",
    "print(\"Combine three numbers whose sum equals the target number:\")\n",
    "print(find_combinations_of_three(nums, target_val))"
   ]
  },
  {
   "cell_type": "code",
   "execution_count": 28,
   "metadata": {},
   "outputs": [
    {
     "name": "stdout",
     "output_type": "stream",
     "text": [
      "find the largest number from a given list of numbers\n",
      "4\n",
      "432\n",
      "\n",
      "alternative way\n",
      "455\n"
     ]
    }
   ],
   "source": [
    "print('find the largest number from a given list of numbers')\n",
    "def largest_number(*arg):\n",
    "    m = 0\n",
    "    for x in arg:\n",
    "        if x > m:\n",
    "            m = x\n",
    "    return m\n",
    "\n",
    "print(largest_number(2, 3, 4))\n",
    "print(largest_number(2, 56, 432, 94))\n",
    "print()\n",
    "\n",
    "print('alternative way')\n",
    "\n",
    "nums = [11, 2, 33, 234, 455, 16, 7]\n",
    "\n",
    "def largest(arg):\n",
    "    arg = set(arg)\n",
    "    \n",
    "    arg = list(arg)\n",
    "    arg = sorted(arg, reverse=False)\n",
    "    \n",
    "    return arg[-1]\n",
    "\n",
    "print(largest(nums))"
   ]
  },
  {
   "cell_type": "code",
   "execution_count": 29,
   "metadata": {},
   "outputs": [
    {
     "name": "stdout",
     "output_type": "stream",
     "text": [
      "remove all duplicates from a given list of strings and return a list of unique strings\n",
      "['shauna', 'jackie', 'lottie', 'nat']\n"
     ]
    }
   ],
   "source": [
    "print('remove all duplicates from a given list of strings and return a list of unique strings')\n",
    "\n",
    "def remove_duplicates(arg):\n",
    "    arg = set(arg)\n",
    "    \n",
    "    return list(arg)\n",
    "\n",
    "print(remove_duplicates(['jackie', 'shauna', 'nat', 'lottie', 'lottie']))"
   ]
  }
 ],
 "metadata": {
  "kernelspec": {
   "display_name": "Python 3",
   "language": "python",
   "name": "python3"
  },
  "language_info": {
   "codemirror_mode": {
    "name": "ipython",
    "version": 3
   },
   "file_extension": ".py",
   "mimetype": "text/x-python",
   "name": "python",
   "nbconvert_exporter": "python",
   "pygments_lexer": "ipython3",
   "version": "3.10.5"
  }
 },
 "nbformat": 4,
 "nbformat_minor": 2
}
