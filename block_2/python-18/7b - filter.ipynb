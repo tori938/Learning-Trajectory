{
 "cells": [
  {
   "cell_type": "code",
   "execution_count": 1,
   "metadata": {},
   "outputs": [
    {
     "name": "stdout",
     "output_type": "stream",
     "text": [
      "filter out even numbers from a list of integers\n",
      "[1, 3, 5, 7, 9]\n"
     ]
    }
   ],
   "source": [
    "print('filter out even numbers from a list of integers') \n",
    "nums = [1, 2, 3, 4, 5, 6, 7, 8, 9, 10]\n",
    "\n",
    "odd = list(filter(lambda x: x % 2 != 0, nums))\n",
    "print(odd)"
   ]
  },
  {
   "cell_type": "code",
   "execution_count": 2,
   "metadata": {},
   "outputs": [
    {
     "name": "stdout",
     "output_type": "stream",
     "text": [
      "extract all uppercase letters from a list of mixed-case strings\n",
      "['H', 'P', 'F', 'L']\n"
     ]
    }
   ],
   "source": [
    "print('extract all uppercase letters from a list of mixed-case strings')\n",
    "mixed_case_strings = ['Hello', 'w3resource', 'Python', 'Filter', 'Learning']\n",
    "\n",
    "upper = list(filter(lambda x: x.isupper(), ''.join(mixed_case_strings)))\n",
    "print(upper)"
   ]
  },
  {
   "cell_type": "code",
   "execution_count": 3,
   "metadata": {},
   "outputs": [
    {
     "name": "stdout",
     "output_type": "stream",
     "text": [
      "filter out all elements less than or equal than a specified value from a list of numbers\n",
      "[20, 15, 11, 7]\n"
     ]
    }
   ],
   "source": [
    "print('filter out all elements less than or equal than a specified value from a list of numbers')\n",
    "original = [20, 15, 24, 37, 23, 11, 7]\n",
    "target_value = 20\n",
    "\n",
    "result = list(filter(lambda x: x <= 20, original))\n",
    "print(result)"
   ]
  },
  {
   "cell_type": "code",
   "execution_count": 4,
   "metadata": {},
   "outputs": [
    {
     "name": "stdout",
     "output_type": "stream",
     "text": [
      "create a list of names and extract names that start with a vowel\n",
      "['Elita', 'Audovacar', 'Iolanda']\n"
     ]
    }
   ],
   "source": [
    "print('create a list of names and extract names that start with a vowel')\n",
    "vowel = ('A', 'E', 'I', 'O', 'U')\n",
    "original = ['Elita', 'Vitold', 'Audovacar', 'Kerensa', 'Ramana', 'Iolanda', 'Landyn']\n",
    "\n",
    "names = list(filter(lambda x: x[0] in vowel, original))\n",
    "print(names)"
   ]
  },
  {
   "cell_type": "code",
   "execution_count": 5,
   "metadata": {},
   "outputs": [
    {
     "name": "stdout",
     "output_type": "stream",
     "text": [
      "filter out all empty strings from a list of strings\n",
      "['jackie taylor', 'shauna shipman', 'lottie matthews']\n"
     ]
    }
   ],
   "source": [
    "print('filter out all empty strings from a list of strings')\n",
    "original = ['', 'jackie taylor', 'shauna shipman', '', 'lottie matthews', '']\n",
    "\n",
    "not_empty = list(filter(lambda x: len(x) != 0, original))\n",
    "print(not_empty)"
   ]
  },
  {
   "cell_type": "code",
   "execution_count": 8,
   "metadata": {},
   "outputs": [
    {
     "name": "stdout",
     "output_type": "stream",
     "text": [
      "create a list of dict containing student information (name, age, grade) and extract students with a grade greater than or equal to 95\n",
      "[{'name': 'Taissa Turner', 'age': 18, 'grade': 97}, {'name': 'Shauna Shipman', 'age': 18, 'grade': 100}]\n"
     ]
    }
   ],
   "source": [
    "print('create a list of dict containing student information (name, age, grade) and extract students with a grade greater than or equal to 95')\n",
    "student_data = [\n",
    "    {'name': 'Taissa Turner', 'age': 18, 'grade': 97},\n",
    "    {'name': 'Lottie Matthews', 'age': 17, 'grade': 82},\n",
    "    {'name': 'Jackie Taylor', 'age': 17, 'grade': 90},\n",
    "    {'name': 'Natalie Scatorccio', 'age': 17, 'grade': 74},\n",
    "    {'name': 'Shauna Shipman', 'age': 18, 'grade': 100}\n",
    "]\n",
    "\n",
    "high_achievers = list(filter(lambda x: x['grade'] >= 95, student_data))\n",
    "print(high_achievers)"
   ]
  },
  {
   "cell_type": "code",
   "execution_count": 9,
   "metadata": {},
   "outputs": [
    {
     "name": "stdout",
     "output_type": "stream",
     "text": [
      "filter out prime numbers from a list of integers\n",
      "[2, 3, 5, 7, 11, 13, 17]\n"
     ]
    }
   ],
   "source": [
    "print('filter out prime numbers from a list of integers')\n",
    "original = [1, 2, 3, 4, 5, 6, 7, 8, 9, 10, 11, 12, 13, 14, 15, 16, 17]\n",
    "\n",
    "def is_prime(n):\n",
    "    if n <= 1:\n",
    "        return False\n",
    "    if n <= 3:\n",
    "        return True\n",
    "    if n % 2 == 0 or n % 3 == 0:\n",
    "        return False\n",
    "    i = 5\n",
    "    while i * i <= n:\n",
    "        if n % i == 0 or n % (i + 2) == 0:\n",
    "            return False\n",
    "        i += 6\n",
    "    return True\n",
    "\n",
    "no_prime = list(filter(is_prime, original))\n",
    "print(no_prime)"
   ]
  },
  {
   "cell_type": "code",
   "execution_count": 12,
   "metadata": {},
   "outputs": [
    {
     "name": "stdout",
     "output_type": "stream",
     "text": [
      "filter out non-prime numbers from a list of integers\n",
      "[1, 4, 6, 8, 9, 10, 12, 14, 15, 16]\n"
     ]
    }
   ],
   "source": [
    "print('filter out non-prime numbers from a list of integers')\n",
    "original = [1, 2, 3, 4, 5, 6, 7, 8, 9, 10, 11, 12, 13, 14, 15, 16, 17]\n",
    "\n",
    "def not_prime(n):\n",
    "    if n <= 1:\n",
    "        return True\n",
    "    if n <= 3:\n",
    "        return False\n",
    "    if n % 2 == 0 or n % 3 == 0:\n",
    "        return True\n",
    "    i = 5\n",
    "    while i * i <= n:\n",
    "        if n % i == 0 or n % (i + 2) == 0:\n",
    "            return True\n",
    "        i += 6\n",
    "    return False\n",
    "\n",
    "no_prime = list(filter(not_prime, original))\n",
    "print(no_prime)"
   ]
  },
  {
   "cell_type": "code",
   "execution_count": 13,
   "metadata": {},
   "outputs": [
    {
     "name": "stdout",
     "output_type": "stream",
     "text": [
      "create a list of words and extract words that contain more than five letters\n",
      "['Orange', 'Yellow']\n"
     ]
    }
   ],
   "source": [
    "print('create a list of words and extract words that contain more than five letters')\n",
    "original = ['Red', 'Green', 'Orange', 'White', 'Black', 'Pink', 'Yellow']\n",
    "\n",
    "big_words = list(filter(lambda x: len(x) > 5, original))\n",
    "print(big_words)"
   ]
  },
  {
   "cell_type": "code",
   "execution_count": 14,
   "metadata": {},
   "outputs": [
    {
     "name": "stdout",
     "output_type": "stream",
     "text": [
      "filter out elements from a list of strings containing a specific substring\n",
      "['Black', 'Yellow']\n"
     ]
    }
   ],
   "source": [
    "print('filter out elements from a list of strings containing a specific substring')\n",
    "original = ['Red', 'Green', 'Orange', 'White', 'Black', 'Pink', 'Yellow']\n",
    "substring = 'l'\n",
    "\n",
    "specific = list(filter(lambda x: substring in x, original))\n",
    "print(specific)"
   ]
  },
  {
   "cell_type": "code",
   "execution_count": 15,
   "metadata": {},
   "outputs": [
    {
     "name": "stdout",
     "output_type": "stream",
     "text": [
      "filter out dates (in the format \"YYYY-MM-DD\") that are in the future\n",
      "['2024-05-11', '2025-12-31']\n"
     ]
    }
   ],
   "source": [
    "print('filter out dates (in the format \"YYYY-MM-DD\") that are in the future')\n",
    "from datetime import datetime\n",
    "\n",
    "date_strings = [\"2023-07-11\", \"2022-02-22\", \"2024-05-11\", \"2025-12-31\", \"2021-01-01\"]\n",
    "\n",
    "#convert the date strings to datetime objects\n",
    "dates = [datetime.strptime(date, '%Y-%m-%d') for date in date_strings]\n",
    "\n",
    "#get the current date\n",
    "current_date = datetime.now()\n",
    "\n",
    "#define a function to check if a date is in the future\n",
    "def is_date_in_future(date):\n",
    "    return date > current_date\n",
    "\n",
    "#extract dates in the past\n",
    "dates_in_past = list(filter(is_date_in_future, dates))\n",
    "\n",
    "#convert the filtered dates back to strings\n",
    "filtered_date_strings = [date.strftime(\"%Y-%m-%d\") for date in dates_in_past]\n",
    "print(filtered_date_strings)"
   ]
  },
  {
   "cell_type": "code",
   "execution_count": 16,
   "metadata": {},
   "outputs": [
    {
     "name": "stdout",
     "output_type": "stream",
     "text": [
      "create a list of tuples, each containing a city name and its population, extract cities with a population greater than 2 million\n",
      "[('New York', 8500000), ('Los Angeles', 4000000), ('Chicago', 2700000), ('Houston', 2300000)]\n"
     ]
    }
   ],
   "source": [
    "print('create a list of tuples, each containing a city name and its population, \\\n",
    "extract cities with a population greater than 2 million')\n",
    "cities = [\n",
    "    ('New York', 8500000),\n",
    "    ('Los Angeles', 4000000),\n",
    "    ('Chicago', 2700000),\n",
    "    ('Houston', 2300000),\n",
    "    ('Phoenix', 1600000),\n",
    "    ('Philadelphia', 1500000),\n",
    "    ('San Antonio', 1500000),\n",
    "]\n",
    "\n",
    "two_million = list(filter(lambda x: x[-1] > 2000000, cities))\n",
    "print(two_million)"
   ]
  }
 ],
 "metadata": {
  "kernelspec": {
   "display_name": "Python 3",
   "language": "python",
   "name": "python3"
  },
  "language_info": {
   "codemirror_mode": {
    "name": "ipython",
    "version": 3
   },
   "file_extension": ".py",
   "mimetype": "text/x-python",
   "name": "python",
   "nbconvert_exporter": "python",
   "pygments_lexer": "ipython3",
   "version": "3.10.5"
  }
 },
 "nbformat": 4,
 "nbformat_minor": 2
}
