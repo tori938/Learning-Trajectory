{
 "cells": [
  {
   "cell_type": "code",
   "execution_count": 1,
   "metadata": {},
   "outputs": [
    {
     "name": "stdout",
     "output_type": "stream",
     "text": [
      "find those numbers which are divisible by 7 and multiples of 5, between 1500 and 2700 (both included)\n",
      "[1505, 1540, 1575, 1610, 1645, 1680, 1715, 1750, 1785, 1820, 1855, 1890, 1925, 1960, 1995, 2030, 2065, 2100, 2135, 2170, 2205, 2240, 2275, 2310, 2345, 2380, 2415, 2450, 2485, 2520, 2555, 2590, 2625, 2660, 2695]\n",
      "\n"
     ]
    }
   ],
   "source": [
    "print('find those numbers which are divisible by 7 and multiples of 5, between 1500 and 2700 (both included)')\n",
    "divisible = []\n",
    "\n",
    "for x in range(1500, 2701):\n",
    "    if x % 7 == 0 and x % 5 == 0:\n",
    "        divisible.append(x)\n",
    "\n",
    "print(divisible)\n",
    "print()"
   ]
  },
  {
   "cell_type": "code",
   "execution_count": 2,
   "metadata": {},
   "outputs": [
    {
     "name": "stdout",
     "output_type": "stream",
     "text": [
      "convert temperatures to and from Celsius and Fahrenheit\n",
      "F = (n * 9/5) + 32\n",
      "C = (n - 32) * 5/9\n",
      "converted 60 Celsius to 140.0 Fahrenheit\n",
      "converted 45 Fahrenheit to 7.0 Celsius\n",
      "do not work with Calvin or other temperature scales\n"
     ]
    }
   ],
   "source": [
    "print('convert temperatures to and from Celsius and Fahrenheit')\n",
    "print('F = (n * 9/5) + 32')\n",
    "print('C = (n - 32) * 5/9')\n",
    "c = 60 #-->140\n",
    "f = 45 #-->7\n",
    "\n",
    "def temperature_conversion(n, scale='Celsius'):\n",
    "    if scale == 'Celsius':\n",
    "        result = round((n * 9/5) + 32, 0)\n",
    "        return f'converted {n} Celsius to {result} Fahrenheit'\n",
    "    elif scale == 'Fahrenheit':\n",
    "        result = round((n - 32) * 5/9, 0)\n",
    "        return f'converted {n} Fahrenheit to {result} Celsius'\n",
    "    else:\n",
    "        return 'do not work with Calvin or other temperature scales'\n",
    "\n",
    "print(temperature_conversion(60))\n",
    "print(temperature_conversion(45, 'Fahrenheit'))\n",
    "print(temperature_conversion(5, 'Calvin'))"
   ]
  },
  {
   "cell_type": "code",
   "execution_count": 3,
   "metadata": {},
   "outputs": [
    {
     "name": "stdout",
     "output_type": "stream",
     "text": [
      "construct a pattern using nested loops\n",
      "\n",
      "* \n",
      "* * \n",
      "* * * \n",
      "* * * * \n",
      "* * * * * \n",
      "* * * * \n",
      "* * * \n",
      "* * \n",
      "* \n"
     ]
    }
   ],
   "source": [
    "print('construct a pattern using nested loops')\n",
    "for i in range(5):\n",
    "    for j in range(i):\n",
    "        print('* ', end='')\n",
    "    print()\n",
    "for i in range(5, 0, -1):\n",
    "    for j in range(i):\n",
    "        print('* ', end='')\n",
    "    print()"
   ]
  },
  {
   "cell_type": "code",
   "execution_count": 5,
   "metadata": {},
   "outputs": [
    {
     "name": "stdout",
     "output_type": "stream",
     "text": [
      "count the number of even and odd numbers in a series of numbers\n",
      "[1, 3, 5, 7, 9]\n",
      "[2, 4, 6, 8]\n",
      "\n",
      "count the number of even and odd numbers in a series of numbers\n",
      "5\n",
      "4\n"
     ]
    }
   ],
   "source": [
    "print('count the number of even and odd numbers in a series of numbers')\n",
    "numbers = (1, 2, 3, 4, 5, 6, 7, 8, 9)\n",
    "\n",
    "def find_numbers(arg):\n",
    "    odd = []\n",
    "    even = []\n",
    "    for x in arg:\n",
    "        if x % 2 == 0:\n",
    "            even.append(x)\n",
    "        else:\n",
    "            odd.append(x)\n",
    "    print(odd, even, sep='\\n')\n",
    "\n",
    "find_numbers(numbers)\n",
    "print()\n",
    "\n",
    "\n",
    "print('count the number of even and odd numbers in a series of numbers')\n",
    "numbers = (1, 2, 3, 4, 5, 6, 7, 8, 9)\n",
    "\n",
    "def find_numbers(arg):\n",
    "    odd = 0\n",
    "    even = 0\n",
    "    for x in arg:\n",
    "        if x % 2 == 0:\n",
    "            even += 1\n",
    "        else:\n",
    "            odd += 1\n",
    "    print(odd, even, sep='\\n')\n",
    "\n",
    "find_numbers(numbers)"
   ]
  },
  {
   "cell_type": "code",
   "execution_count": 7,
   "metadata": {},
   "outputs": [
    {
     "name": "stdout",
     "output_type": "stream",
     "text": [
      "prints each item and its corresponding type from the list\n",
      "1452 is an integer\n",
      "11.23 is a float\n",
      "(1+2j) is a complex\n",
      "True is a boolean\n",
      "w3resource is a string\n",
      "(0, -1) is a tuple\n",
      "[5, 12] is a list\n",
      "{'class': 'V', 'section': 'A'} is a dict\n",
      "\n",
      "1452 is type <class 'int'>\n",
      "11.23 is type <class 'float'>\n",
      "(1+2j) is type <class 'complex'>\n",
      "True is type <class 'bool'>\n",
      "w3resource is type <class 'str'>\n",
      "(0, -1) is type <class 'tuple'>\n",
      "[5, 12] is type <class 'list'>\n",
      "{'class': 'V', 'section': 'A'} is type <class 'dict'>\n"
     ]
    }
   ],
   "source": [
    "print('prints each item and its corresponding type from the list')\n",
    "datalist = [1452, 11.23, 1+2j, True, 'w3resource', (0, -1), [5, 12], {\"class\":'V', \"section\":'A'}]\n",
    "\n",
    "for x in datalist:\n",
    "    #--> boolean is a subclass of integer, so check for it first\n",
    "    if isinstance(x, bool):\n",
    "        print(f'{x} is a boolean')\n",
    "    elif isinstance(x, float):\n",
    "        print(f'{x} is a float')\n",
    "    elif isinstance(x, complex):\n",
    "        print(f'{x} is a complex')\n",
    "    elif isinstance(x, int):\n",
    "        print(f'{x} is an integer')\n",
    "    elif isinstance(x, str):\n",
    "        print(f'{x} is a string')\n",
    "    elif isinstance(x, tuple):\n",
    "        print(f'{x} is a tuple')\n",
    "    elif isinstance(x, list):\n",
    "        print(f'{x} is a list')\n",
    "    elif isinstance(x, dict):\n",
    "        print(f'{x} is a dict')\n",
    "    else:\n",
    "        print(f'{x} is another data type: set, frozenset, other etc')\n",
    "print()\n",
    "\n",
    "datalist = [1452, 11.23, 1+2j, True, 'w3resource', (0, -1), [5, 12], {\"class\":'V', \"section\":'A'}]\n",
    "\n",
    "for x in datalist:\n",
    "    print(f'{x} is type {type(x)}')"
   ]
  },
  {
   "cell_type": "code",
   "execution_count": 8,
   "metadata": {},
   "outputs": [
    {
     "name": "stdout",
     "output_type": "stream",
     "text": [
      "Write a Python program that prints all the numbers from 0 to 6 except 3 and 6\n",
      "0\n",
      "1\n",
      "2\n",
      "4\n",
      "5\n"
     ]
    }
   ],
   "source": [
    "print('Write a Python program that prints all the numbers from 0 to 6 except 3 and 6')\n",
    "for x in range(7):\n",
    "    if x == 3 or x == 6:\n",
    "        continue\n",
    "    print(x)"
   ]
  },
  {
   "cell_type": "code",
   "execution_count": 9,
   "metadata": {},
   "outputs": [
    {
     "name": "stdout",
     "output_type": "stream",
     "text": [
      "get the Fibonacci series\n",
      "1\n",
      "2\n",
      "3\n",
      "5\n",
      "8\n",
      "13\n",
      "21\n",
      "34\n",
      "55\n"
     ]
    }
   ],
   "source": [
    "print('get the Fibonacci series')\n",
    "\n",
    "def get_fib(x, y, e):\n",
    "    while y < e:\n",
    "        x, y = y, x + y\n",
    "        print(y)\n",
    "    \n",
    "get_fib(0, 1, 50)"
   ]
  },
  {
   "cell_type": "code",
   "execution_count": 10,
   "metadata": {},
   "outputs": [
    {
     "name": "stdout",
     "output_type": "stream",
     "text": [
      "accepts a sequence of comma separated 4 digit binary numbers as its input\n",
      "print the numbers that are divisible by 5 in a comma separated sequence\n",
      "[100, 1010, 1100]\n"
     ]
    }
   ],
   "source": [
    "print('accepts a sequence of comma separated 4 digit binary numbers as its input')\n",
    "print('print the numbers that are divisible by 5 in a comma separated sequence')\n",
    "sample = '0100, 0011, 1010, 1001, 1100, 1001' #1010\n",
    "\n",
    "def conversion_divisible(arg):\n",
    "    lst = arg.replace(' ', '').replace(',', ' ').split()\n",
    "    divisible = []\n",
    "    for x in lst:\n",
    "        x = int(x)\n",
    "        if x % 5 == 0:\n",
    "            divisible.append(x)\n",
    "    return divisible\n",
    "\n",
    "print(conversion_divisible(sample))"
   ]
  },
  {
   "cell_type": "code",
   "execution_count": 11,
   "metadata": {},
   "outputs": [
    {
     "name": "stdout",
     "output_type": "stream",
     "text": [
      "accepts a string and calculates the number of digits and letters\n",
      "[6, 2]\n"
     ]
    }
   ],
   "source": [
    "print('accepts a string and calculates the number of digits and letters')\n",
    "sample = 'Python 3.2'\n",
    "\n",
    "count = []\n",
    "lst = sample.replace(',', '').replace('.', '').replace(';', '').split()\n",
    "for x in lst:\n",
    "    if isinstance(x, str):\n",
    "        count.append(len(x))\n",
    "    else:\n",
    "        count.append(len(x))\n",
    "\n",
    "print(count)"
   ]
  },
  {
   "cell_type": "code",
   "execution_count": 14,
   "metadata": {},
   "outputs": [
    {
     "name": "stdout",
     "output_type": "stream",
     "text": [
      "valid password\n",
      "at least between 6 and 12 characters\n",
      "contain at least one uppercase letter\n",
      "at least between 6 and 12 characters\n"
     ]
    }
   ],
   "source": [
    "def check_password(p):\n",
    "    #import the module\n",
    "    import re\n",
    "    \n",
    "    x = True\n",
    "    \n",
    "    check_list = ['at least between 6 and 12 characters',\n",
    "                  'contain at least one lowercase letter',\n",
    "                  'contain at least one digit',\n",
    "                  'contain at least one uppercase letter',\n",
    "                  'contain at least one special character',\n",
    "                  'not contain any whitespace character']\n",
    "    \n",
    "    while x:  \n",
    "        #at least between 6 and 12 characters\n",
    "        if (len(p) < 6 or len(p) > 12):\n",
    "            return check_list.pop(0)\n",
    "        #contain at least one lowercase letter\n",
    "        elif not re.search('[a-z]', p):\n",
    "            return check_list.pop(1)\n",
    "        #contain at least one digit\n",
    "        elif not re.search('[0-9]', p):\n",
    "            return check_list.pop(2)\n",
    "        #contain at least one uppercase letter\n",
    "        elif not re.search('[A-Z]', p):\n",
    "            return check_list.pop(3)\n",
    "        #contain at least one special character\n",
    "        elif not re.search('[$#@~^%&£]', p):\n",
    "            return check_list.pop(4)\n",
    "        #not contain any whitespace character\n",
    "        elif re.search('\\s', p):\n",
    "            return check_list.pop(5)\n",
    "        else:\n",
    "            #if all conditions are met\n",
    "            return 'valid password'\n",
    "            x = False\n",
    "            break\n",
    "        if x:\n",
    "            return 'not a valid password'\n",
    "            \n",
    "print(check_password('hjg56F@F7g'))\n",
    "print(check_password('hjgg'))\n",
    "print(check_password('hjg56@7g'))\n",
    "print(check_password('hjg56F@F7g789dsa'))"
   ]
  },
  {
   "cell_type": "code",
   "execution_count": 15,
   "metadata": {},
   "outputs": [
    {
     "name": "stdout",
     "output_type": "stream",
     "text": [
      "find numbers between 100 and 400 where each digit of a number is an even number\n",
      "numbers obtained should be printed in a comma-separated sequence\n",
      "200, 202, 204, 206, 208, 220, 222, 224, 226, 228, 240, 242, 244, 246, 248, 260, 262, 264, 266, 268, 280, 282, 284, 286, 288, 400\n"
     ]
    }
   ],
   "source": [
    "print('find numbers between 100 and 400 where each digit of a number is an even number')\n",
    "print('numbers obtained should be printed in a comma-separated sequence')\n",
    "\n",
    "items = []\n",
    "sep = ', '\n",
    "for i in range(100, 401):\n",
    "    s = str(i)\n",
    "    \n",
    "    if (int(s[0]) % 2 == 0) and (int(s[1]) % 2 == 0) and (int(s[2]) % 2 == 0):\n",
    "        items.append(s)\n",
    "\n",
    "print(sep.join(items))"
   ]
  },
  {
   "cell_type": "code",
   "execution_count": 16,
   "metadata": {},
   "outputs": [
    {
     "name": "stdout",
     "output_type": "stream",
     "text": [
      " ****  \n",
      " *   * \n",
      " *   * \n",
      " ****  \n",
      " * *   \n",
      " *  *  \n",
      " *   * \n",
      "\n"
     ]
    }
   ],
   "source": [
    "result_str = ''\n",
    "\n",
    "# Iterate through rows from 0 to 6 using the range function\n",
    "for row in range(0, 7):\n",
    "    # Iterate through columns from 0 to 6 using the range function\n",
    "    for column in range(0, 7):\n",
    "        # Check conditions to determine whether to place '*' or ' ' in the result string\n",
    "\n",
    "        # If conditions are met, place '*' in specific positions based on row and column values\n",
    "        if (column == 1 or ((row == 0 or row == 3) and column > 1 and column < 5)\n",
    "            or (column == 5 and row != 0 and row < 3) or (column == row - 1 and row > 2)):\n",
    "            result_str = result_str + '*'\n",
    "        else:\n",
    "            result_str = result_str + ' '\n",
    "\n",
    "    result_str = result_str + '\\n'\n",
    "\n",
    "print(result_str)"
   ]
  },
  {
   "cell_type": "code",
   "execution_count": 17,
   "metadata": {},
   "outputs": [
    {
     "name": "stdout",
     "output_type": "stream",
     "text": [
      "calculate dog's age in dog years: first 2 yrs = n*10.5, >2 yrs: n*4\n",
      "73\n",
      "21\n",
      "5\n",
      "15\n",
      "wrong age entered\n"
     ]
    }
   ],
   "source": [
    "print(\"calculate dog's age in dog years: first 2 yrs = n*10.5, >2 yrs: n*4\")\n",
    "def dog_yrs(n):\n",
    "    import math\n",
    "    try:\n",
    "        if n <= 2:\n",
    "            return math.floor(n * 10.5)\n",
    "        elif n > 2:\n",
    "            first_years = math.floor(2 * 10.5)\n",
    "            other_years = math.floor((n-2) * 4)\n",
    "            return (first_years + other_years)\n",
    "        else:\n",
    "            return 'wrong age entered'\n",
    "    except TypeError:\n",
    "        return ('wrong age entered')\n",
    "print(dog_yrs(15))\n",
    "print(dog_yrs(2))\n",
    "print(dog_yrs(0.5))\n",
    "print(dog_yrs(1.5))\n",
    "print(dog_yrs('14'))"
   ]
  },
  {
   "cell_type": "code",
   "execution_count": 18,
   "metadata": {},
   "outputs": [
    {
     "name": "stdout",
     "output_type": "stream",
     "text": [
      "check whether an alphabet is a vowel or consonant\n",
      "consonant\n",
      "vowel\n",
      "consonant\n"
     ]
    }
   ],
   "source": [
    "print('check whether an alphabet is a vowel or consonant')\n",
    "def check_letter(x):\n",
    "    vowels = ['a', 'e', 'i', 'o', 'u']\n",
    "    x = x.lower()\n",
    "    \n",
    "    if x in vowels:\n",
    "        return 'vowel'\n",
    "    else:\n",
    "        return 'consonant'\n",
    "    \n",
    "print(check_letter('l'))\n",
    "print(check_letter('o'))\n",
    "print(check_letter('D'))"
   ]
  },
  {
   "cell_type": "code",
   "execution_count": 19,
   "metadata": {},
   "outputs": [
    {
     "name": "stdout",
     "output_type": "stream",
     "text": [
      "convert a month name to a number of days\n",
      "no of days between 28 and 29\n",
      "no of days is 31\n",
      "no of days is 30\n"
     ]
    }
   ],
   "source": [
    "print('convert a month name to a number of days')\n",
    "def no_of_days(month):\n",
    "    thirty = ['April', 'June', 'September', 'November']\n",
    "    month = month.capitalize()\n",
    "    if month == 'February':\n",
    "        return 'no of days between 28 and 29'\n",
    "    elif month in thirty:\n",
    "        return 'no of days is 30'\n",
    "    else:\n",
    "        return 'no of days is 31'\n",
    "\n",
    "print(no_of_days('February'))\n",
    "print(no_of_days('January'))\n",
    "print(no_of_days('september'))"
   ]
  },
  {
   "cell_type": "code",
   "execution_count": 21,
   "metadata": {},
   "outputs": [
    {
     "name": "stdout",
     "output_type": "stream",
     "text": [
      "check if a triangle is equilateral, isosceles or scalene\n",
      "isosceles triangle\n",
      "equilateral triangle\n",
      "scalene triangle\n"
     ]
    }
   ],
   "source": [
    "print('check if a triangle is equilateral, isosceles or scalene')\n",
    "\n",
    "def check_triangle(x, y, z):\n",
    "    if x == y == z:\n",
    "        return ('equilateral triangle')\n",
    "    #if at least two sides are equal\n",
    "    elif x == y or y == z or z == x:\n",
    "        return ('isosceles triangle')\n",
    "    #if all sides have different lengths\n",
    "    else:\n",
    "        return ('scalene triangle') \n",
    "\n",
    "#print(check_triangle(int(input('x: ')), int(input('y: ')), int(input('z: '))))\n",
    "print(check_triangle(3, 4, 4))\n",
    "print(check_triangle(5, 5, 5))\n",
    "print(check_triangle(3, 2, 4))"
   ]
  },
  {
   "cell_type": "code",
   "execution_count": 23,
   "metadata": {},
   "outputs": [
    {
     "name": "stdout",
     "output_type": "stream",
     "text": [
      "find the median value\n",
      "6\n",
      "4\n",
      "3.5\n",
      "\n",
      "3.5\n"
     ]
    }
   ],
   "source": [
    "print('find the median value')\n",
    "def find_median(*arg): #--> takes multiple arguments\n",
    "    import statistics as s\n",
    "    return s.median(arg)\n",
    "\n",
    "print(find_median(5, 6, 7))\n",
    "print(find_median(4, 2, 3, 6, 11))\n",
    "lst = [4, 5, 6, 3, 2, 2]\n",
    "print(find_median(*lst)) #--> if a list, needs unpacking first\n",
    "print()\n",
    "\n",
    "def find_median(arg): #--> take one argument\n",
    "    import statistics as s\n",
    "    return s.median(arg)\n",
    "\n",
    "lst = [4, 5, 6, 3, 2, 2]\n",
    "print(find_median(lst))"
   ]
  },
  {
   "cell_type": "code",
   "execution_count": 26,
   "metadata": {},
   "outputs": [
    {
     "name": "stdout",
     "output_type": "stream",
     "text": [
      "calculate the sum and average of n integer numbers, Input 0 to finish\n",
      "(12, 6.0)\n"
     ]
    }
   ],
   "source": [
    "print('calculate the sum and average of n integer numbers, Input 0 to finish')\n",
    "\n",
    "def find_calculation(arg):\n",
    "    lst = arg.replace(',', '').split()\n",
    "    proper_numbers = []\n",
    "    for x in lst:\n",
    "        x = int(x)\n",
    "        proper_numbers.append(x)\n",
    "    total = sum(proper_numbers)\n",
    "    mean = sum(proper_numbers) / len(proper_numbers)\n",
    "    return total, mean\n",
    "\n",
    "print(find_calculation(('5, 7')))"
   ]
  },
  {
   "cell_type": "code",
   "execution_count": 27,
   "metadata": {},
   "outputs": [
    {
     "name": "stdout",
     "output_type": "stream",
     "text": [
      "create the multiplication table (from 1 to 10) of a number\n",
      "3 x 1 = 3\n",
      "3 x 2 = 6\n",
      "3 x 3 = 9\n",
      "3 x 4 = 12\n",
      "3 x 5 = 15\n",
      "3 x 6 = 18\n",
      "3 x 7 = 21\n",
      "3 x 8 = 24\n",
      "3 x 9 = 27\n",
      "3 x 10 = 30\n"
     ]
    }
   ],
   "source": [
    "print('create the multiplication table (from 1 to 10) of a number')\n",
    "def multiplication_table(n):\n",
    "    m = 1\n",
    "    while m < 11:\n",
    "        for x in range(1, 11):\n",
    "            print(f'{n} x {x} = {n * x}')\n",
    "            m += 1\n",
    "\n",
    "#multiplication_table(int(input('enter a value: ')))\n",
    "multiplication_table(3)"
   ]
  },
  {
   "cell_type": "code",
   "execution_count": 30,
   "metadata": {},
   "outputs": [
    {
     "name": "stdout",
     "output_type": "stream",
     "text": [
      "construct the following pattern, using a nested loop number\n",
      "\n",
      "1\n",
      "22\n",
      "333\n",
      "4444\n",
      "55555\n",
      "\n",
      "*\n",
      "**\n",
      "***\n",
      "****\n"
     ]
    }
   ],
   "source": [
    "print('construct the following pattern, using a nested loop number')\n",
    "for i in range(6):\n",
    "    print(str(i) * i)\n",
    "\n",
    "for i in range(5):\n",
    "    print('*' * i)"
   ]
  },
  {
   "cell_type": "code",
   "execution_count": 45,
   "metadata": {},
   "outputs": [
    {
     "name": "stdout",
     "output_type": "stream",
     "text": [
      "draw a x-mas tree\n",
      "\n",
      "        * \n",
      "       * * \n",
      "      * * * \n",
      "      * * * \n",
      "     * * * * \n",
      "    * * * * * \n",
      "   * * * * * * \n",
      "  * * * * * * * \n",
      "     * * * * \n",
      "    * * * * * \n",
      "   * * * * * * \n",
      "  * * * * * * * \n",
      " * * * * * * * * \n",
      "* * * * * * * * * \n",
      "* * * * * * * * * * \n",
      "      * * * \n",
      "      * * * \n",
      "      * * * \n",
      "      * * * \n",
      "      * * * \n"
     ]
    }
   ],
   "source": [
    "print('draw a x-mas tree')\n",
    "print()\n",
    "\n",
    "num = 3\n",
    "for i in range(1, num+1):\n",
    "    print(' ' * (2*num - i + 3), end='')\n",
    "    for j in range(1, i+1):\n",
    "        print('*', end=' ')\n",
    "    print()\n",
    " \n",
    "for i in range(1, num+3):\n",
    "    print(' ' * (2*num - i + 1), end='')\n",
    "    for j in range(-1, i+1):\n",
    "        print('*', end=' ')\n",
    "    print()\n",
    " \n",
    "for i in range(1, num+5):\n",
    "    print(' ' * (2*num - i), end='')\n",
    "    for j in range(-2, i+1):\n",
    "        print('*', end=' ')\n",
    "    print()\n",
    " \n",
    "for i in range(1, num+3):\n",
    "    print(' '*((2*num)), end='')\n",
    "    print('* '*3)"
   ]
  }
 ],
 "metadata": {
  "kernelspec": {
   "display_name": "Python 3",
   "language": "python",
   "name": "python3"
  },
  "language_info": {
   "codemirror_mode": {
    "name": "ipython",
    "version": 3
   },
   "file_extension": ".py",
   "mimetype": "text/x-python",
   "name": "python",
   "nbconvert_exporter": "python",
   "pygments_lexer": "ipython3",
   "version": "3.10.5"
  }
 },
 "nbformat": 4,
 "nbformat_minor": 2
}
