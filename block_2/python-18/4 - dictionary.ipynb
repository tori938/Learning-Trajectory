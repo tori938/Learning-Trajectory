{
 "cells": [
  {
   "cell_type": "code",
   "execution_count": 15,
   "metadata": {},
   "outputs": [
    {
     "name": "stdout",
     "output_type": "stream",
     "text": [
      "convert two lists into a dictionary\n",
      "{'Ten': 10, 'Twenty': 20, 'Thirty': 30}\n",
      "\n",
      "alternative way\n",
      "{'Ten': 10, 'Twenty': 20, 'Thirty': 30}\n"
     ]
    }
   ],
   "source": [
    "print('convert two lists into a dictionary')\n",
    "keys = ['Ten', 'Twenty', 'Thirty']\n",
    "values = [10, 20, 30]\n",
    "\n",
    "print(dict(zip(keys, values)))\n",
    "print()\n",
    "\n",
    "print('alternative way')\n",
    "res_dict = dict()\n",
    "\n",
    "for i in range(len(keys)):\n",
    "    res_dict.update({keys[i]: values[i]})\n",
    "print(res_dict)"
   ]
  },
  {
   "cell_type": "code",
   "execution_count": 16,
   "metadata": {},
   "outputs": [
    {
     "name": "stdout",
     "output_type": "stream",
     "text": [
      "merge two Python dictionaries into one\n",
      "{'Ten': 10, 'Twenty': 20, 'Thirty': 30, 'Fourty': 40, 'Fifty': 50}\n",
      "\n",
      "alternative way\n",
      "{'Ten': 10, 'Twenty': 20, 'Thirty': 30, 'Fourty': 40, 'Fifty': 50}\n"
     ]
    }
   ],
   "source": [
    "print('merge two Python dictionaries into one')\n",
    "\n",
    "dict1 = {'Ten': 10, 'Twenty': 20, 'Thirty': 30}\n",
    "dict2 = {'Thirty': 30, 'Fourty': 40, 'Fifty': 50}\n",
    "\n",
    "dict3 = {**dict1, **dict2}\n",
    "print(dict3)\n",
    "print()\n",
    "\n",
    "print('alternative way')\n",
    "dict4 = dict1.copy()\n",
    "dict4.update(dict2)\n",
    "print(dict4)"
   ]
  },
  {
   "cell_type": "code",
   "execution_count": 17,
   "metadata": {},
   "outputs": [
    {
     "name": "stdout",
     "output_type": "stream",
     "text": [
      "get the value of key ‘history’ from the below dict\n",
      "80\n"
     ]
    }
   ],
   "source": [
    "print('get the value of key ‘history’ from the below dict')\n",
    "sampleDict = {\n",
    "    \"class\": {\n",
    "        \"student\": {\n",
    "            \"name\": \"Mike\",\n",
    "            \"marks\": {\n",
    "                \"physics\": 70,\n",
    "                \"history\": 80\n",
    "            }\n",
    "        }\n",
    "    }\n",
    "}\n",
    "\n",
    "print(sampleDict['class']['student']['marks']['history'])"
   ]
  },
  {
   "cell_type": "code",
   "execution_count": 18,
   "metadata": {},
   "outputs": [
    {
     "name": "stdout",
     "output_type": "stream",
     "text": [
      "initialize dictionary with default values\n",
      "{'Kelly': {'designation': 'Developer', 'salary': 8000}, 'Emma': {'designation': 'Developer', 'salary': 8000}}\n",
      "\n",
      "\n",
      "{'designation': 'Developer', 'salary': 8000}\n"
     ]
    }
   ],
   "source": [
    "print('initialize dictionary with default values')\n",
    "employees = ['Kelly', 'Emma']\n",
    "defaults = {\"designation\": 'Developer', \"salary\": 8000}\n",
    "\n",
    "res = dict.fromkeys(employees, defaults)\n",
    "print(res)\n",
    "print()\n",
    "print()\n",
    "\n",
    "print(res[\"Kelly\"])"
   ]
  },
  {
   "cell_type": "code",
   "execution_count": 19,
   "metadata": {},
   "outputs": [
    {
     "name": "stdout",
     "output_type": "stream",
     "text": [
      "create a dict by extracting the keys from a given dict\n",
      "{'name': 'Kelly', 'salary': 8000}\n"
     ]
    }
   ],
   "source": [
    "print('create a dict by extracting the keys from a given dict')\n",
    "sample_dict = {\n",
    "    \"name\": \"Kelly\",\n",
    "    \"age\": 25,\n",
    "    \"salary\": 8000,\n",
    "    \"city\": \"New york\"}\n",
    "keys = [\"name\", \"salary\"]\n",
    "#{'name': 'Kelly', 'salary': 8000}\n",
    "\n",
    "new_dict = {}\n",
    "for k, v in sample_dict.items():\n",
    "    if k in keys and k not in new_dict:\n",
    "        new_dict[k] = v\n",
    "print(new_dict)"
   ]
  },
  {
   "cell_type": "code",
   "execution_count": 20,
   "metadata": {},
   "outputs": [
    {
     "name": "stdout",
     "output_type": "stream",
     "text": [
      "alternative way\n",
      "{'name': 'Kelly', 'salary': 8000}\n",
      "\n",
      "another way\n",
      "{'name': 'Kelly', 'salary': 8000}\n"
     ]
    }
   ],
   "source": [
    "print('alternative way')\n",
    "sample_dict = {\n",
    "    \"name\": \"Kelly\",\n",
    "    \"age\": 25,\n",
    "    \"salary\": 8000,\n",
    "    \"city\": \"New york\"}\n",
    "keys = [\"name\", \"salary\"]\n",
    "\n",
    "newdict = {k: sample_dict[k] for k in keys}\n",
    "print(newdict)\n",
    "print()\n",
    "\n",
    "print('another way')\n",
    "res = dict()\n",
    "\n",
    "for k in keys:\n",
    "    res.update({k: sample_dict[k]})\n",
    "print(res)"
   ]
  },
  {
   "cell_type": "code",
   "execution_count": 21,
   "metadata": {},
   "outputs": [
    {
     "name": "stdout",
     "output_type": "stream",
     "text": [
      "delete a list of keys from a dict\n",
      "{'age': 25, 'city': 'New york'}\n"
     ]
    }
   ],
   "source": [
    "print('delete a list of keys from a dict')\n",
    "sample_dict = {\n",
    "    \"name\": \"Kelly\",\n",
    "    \"age\": 25,\n",
    "    \"salary\": 8000,\n",
    "    \"city\": \"New york\"}\n",
    "keys = [\"name\", \"salary\"]\n",
    "#{'city': 'New york', 'age': 25}\n",
    "\n",
    "new_dict = {}\n",
    "for k, v in sample_dict.items():\n",
    "    if k in keys:\n",
    "        continue\n",
    "    new_dict[k] = v\n",
    "print(new_dict)"
   ]
  },
  {
   "cell_type": "code",
   "execution_count": 22,
   "metadata": {},
   "outputs": [
    {
     "name": "stdout",
     "output_type": "stream",
     "text": [
      "alternative way\n",
      "{'age': 25, 'city': 'New york'}\n",
      "\n",
      "another way\n",
      "{'age': 25, 'city': 'New york'}\n"
     ]
    }
   ],
   "source": [
    "print('alternative way')\n",
    "sample_dict = {\n",
    "    \"name\": \"Kelly\",\n",
    "    \"age\": 25,\n",
    "    \"salary\": 8000,\n",
    "    \"city\": \"New york\"}\n",
    "keys = [\"name\", \"salary\"]\n",
    "\n",
    "for k in keys:\n",
    "    sample_dict.pop(k)\n",
    "print(sample_dict)\n",
    "print()\n",
    "\n",
    "print('another way')\n",
    "new_dict = {k: sample_dict[k] for k in sample_dict.keys() - keys}\n",
    "print(new_dict)"
   ]
  },
  {
   "cell_type": "code",
   "execution_count": 23,
   "metadata": {},
   "outputs": [
    {
     "name": "stdout",
     "output_type": "stream",
     "text": [
      "check if a value exists in a dictionary\n",
      "True\n"
     ]
    }
   ],
   "source": [
    "print('check if a value exists in a dictionary')\n",
    "sample_dict = {'a': 100, 'b': 200, 'c': 300}\n",
    "\n",
    "for v in sample_dict.values():\n",
    "    if v == 200:\n",
    "         print(True)"
   ]
  },
  {
   "cell_type": "code",
   "execution_count": 24,
   "metadata": {},
   "outputs": [
    {
     "name": "stdout",
     "output_type": "stream",
     "text": [
      "rename key of a dictionary\n",
      "{'name': 'Kelly', 'age': 25, 'salary': 8000, 'location': 'New york'}\n"
     ]
    }
   ],
   "source": [
    "print('rename key of a dictionary')\n",
    "sample_dict = {\n",
    "  \"name\": \"Kelly\",\n",
    "  \"age\":25,\n",
    "  \"salary\": 8000,\n",
    "  \"city\": \"New york\"\n",
    "}\n",
    "\n",
    "def rename_key(d, k, nk):\n",
    "    d[nk] = d.pop(k)\n",
    "    return d\n",
    "\n",
    "print(rename_key(sample_dict, 'city', 'location'))"
   ]
  },
  {
   "cell_type": "code",
   "execution_count": 25,
   "metadata": {},
   "outputs": [
    {
     "name": "stdout",
     "output_type": "stream",
     "text": [
      "get the key of a minimum value from the following dictionary\n",
      "Math\n",
      "\n",
      "alternative way\n",
      "Math\n"
     ]
    }
   ],
   "source": [
    "print('get the key of a minimum value from the following dictionary')\n",
    "sample_dict = {\n",
    "  'Physics': 82,\n",
    "  'Math': 65,\n",
    "  'history': 75\n",
    "}\n",
    "\n",
    "find_key = [k for k, v in sample_dict.items() if v == min(sample_dict.values())]\n",
    "print(*find_key)\n",
    "print()\n",
    "\n",
    "print('alternative way')\n",
    "print(min(sample_dict, key=sample_dict.get))"
   ]
  },
  {
   "cell_type": "code",
   "execution_count": 26,
   "metadata": {},
   "outputs": [
    {
     "name": "stdout",
     "output_type": "stream",
     "text": [
      "change value of a key in a nested dictionary\n",
      "{'emp1': {'name': 'John', 'salary': 7500}, 'emp2': {'name': 'Emma', 'salary': 8000}, 'emp3': {'name': 'Brad', 'salary': 8500}}\n"
     ]
    }
   ],
   "source": [
    "print('change value of a key in a nested dictionary')\n",
    "sample_dict = {\n",
    "    'emp1': {'name': 'John', 'salary': 7500},\n",
    "    'emp2': {'name': 'Emma', 'salary': 8000},\n",
    "    'emp3': {'name': 'Brad', 'salary': 500} #-->8500\n",
    "}\n",
    "\n",
    "sample_dict['emp3']['salary'] = 8500\n",
    "print(sample_dict)"
   ]
  },
  {
   "cell_type": "code",
   "execution_count": 27,
   "metadata": {},
   "outputs": [
    {
     "name": "stdout",
     "output_type": "stream",
     "text": [
      "sort (ascending and descending) a dictionary by value\n",
      "[('c', 300), ('a', 400), ('b', 1200)]\n",
      "\n",
      "[('b', 1200), ('a', 400), ('c', 300)]\n"
     ]
    }
   ],
   "source": [
    "print('sort (ascending and descending) a dictionary by value')\n",
    "import operator\n",
    "\n",
    "sample_dict = {'a': 400, 'b': 1200, 'c': 300}\n",
    "\n",
    "sorted_d = sorted(sample_dict.items(), key=operator.itemgetter(1), reverse=False)\n",
    "print(sorted_d)\n",
    "print()\n",
    "\n",
    "sorted_d = sorted(sample_dict.items(), key=operator.itemgetter(1), reverse=True)\n",
    "print(sorted_d)"
   ]
  },
  {
   "cell_type": "code",
   "execution_count": 28,
   "metadata": {},
   "outputs": [
    {
     "name": "stdout",
     "output_type": "stream",
     "text": [
      "add a key to a dictionary\n",
      "{0: 10, 1: 20, 2: 30}\n",
      "\n",
      "alternative way\n",
      "{0: 10, 1: 20, 2: 30, 3: 40}\n"
     ]
    }
   ],
   "source": [
    "print('add a key to a dictionary')\n",
    "sample = {0: 10, 1: 20}\n",
    "\n",
    "sample[2] = 30\n",
    "print(sample)\n",
    "print()\n",
    "\n",
    "print('alternative way')\n",
    "sample.update({3: 40})\n",
    "print(sample)"
   ]
  },
  {
   "cell_type": "code",
   "execution_count": 29,
   "metadata": {},
   "outputs": [
    {
     "name": "stdout",
     "output_type": "stream",
     "text": [
      "concatenate the following dictionaries to create a new one\n",
      "{1: 10, 2: 20, 3: 30, 4: 40, 5: 50, 6: 60}\n",
      "\n",
      "alternative way\n",
      "{1: 10, 2: 20, 3: 30, 4: 40, 5: 50, 6: 60}\n"
     ]
    }
   ],
   "source": [
    "print('concatenate the following dictionaries to create a new one')\n",
    "dic1={1:10, 2:20}\n",
    "dic2={3:30, 4:40}\n",
    "dic3={5:50,6:60}\n",
    "\n",
    "combined_dict = {**dic1, **dic2, **dic3}\n",
    "print(combined_dict)\n",
    "print()\n",
    "\n",
    "print('alternative way')\n",
    "dic4 = {}\n",
    "\n",
    "for d in (dic1, dic2, dic3):\n",
    "    dic4.update(d)\n",
    "print(dic4)"
   ]
  },
  {
   "cell_type": "code",
   "execution_count": 30,
   "metadata": {},
   "outputs": [
    {
     "name": "stdout",
     "output_type": "stream",
     "text": [
      "generate and print a dictionary that contains a number (between 1 and n) in the form (x, x*x)\n",
      "{1: 1, 2: 4, 3: 27, 4: 256, 5: 3125}\n"
     ]
    }
   ],
   "source": [
    "print('generate and print a dictionary that contains a number (between 1 and n) in the form (x, x*x)')\n",
    "def create_dict(n):\n",
    "    new_dict = {}\n",
    "    for x in range(1, n):\n",
    "        if x not in new_dict:\n",
    "            new_dict[x] = x**x\n",
    "    return new_dict\n",
    "\n",
    "print(create_dict(6))"
   ]
  },
  {
   "cell_type": "code",
   "execution_count": 31,
   "metadata": {},
   "outputs": [
    {
     "name": "stdout",
     "output_type": "stream",
     "text": [
      "print a dict where the keys are numbers between 1 and 15 and the values are the square of the keys\n",
      "{1: 1, 2: 4, 3: 9, 4: 16, 5: 25, 6: 36, 7: 49, 8: 64, 9: 81, 10: 100, 11: 121, 12: 144, 13: 169, 14: 196, 15: 225}\n"
     ]
    }
   ],
   "source": [
    "print('print a dict where the keys are numbers between 1 and 15 \\\n",
    "and the values are the square of the keys')\n",
    "def create_dict(n):\n",
    "    new_dict = {}\n",
    "    for x in range(1, n+1):\n",
    "        if x not in new_dict:\n",
    "            new_dict[x] = x**2\n",
    "    return new_dict\n",
    "\n",
    "print(create_dict(15))"
   ]
  },
  {
   "cell_type": "code",
   "execution_count": 32,
   "metadata": {},
   "outputs": [
    {
     "name": "stdout",
     "output_type": "stream",
     "text": [
      "sum all the items in a dictionary\n",
      "293\n"
     ]
    }
   ],
   "source": [
    "print('sum all the items in a dictionary')\n",
    "my_dict = {'data1': 100, 'data2': -54, 'data3': 247}\n",
    "\n",
    "print(sum(my_dict.values()))"
   ]
  },
  {
   "cell_type": "code",
   "execution_count": 33,
   "metadata": {},
   "outputs": [
    {
     "name": "stdout",
     "output_type": "stream",
     "text": [
      "multiply all the items in a dictionary\n",
      "-1333800\n",
      "\n",
      "alternative way\n",
      "-1333800\n"
     ]
    }
   ],
   "source": [
    "print('multiply all the items in a dictionary')\n",
    "my_dict = {'data1': 100, 'data2': -54, 'data3': 247}\n",
    "\n",
    "m = 1\n",
    "for v in my_dict.values():\n",
    "    m *= v\n",
    "\n",
    "print(m)\n",
    "print()\n",
    "\n",
    "print('alternative way')\n",
    "result = 1\n",
    "for key in my_dict:\n",
    "    result = result * my_dict[key]\n",
    "\n",
    "print(result) "
   ]
  },
  {
   "cell_type": "code",
   "execution_count": 34,
   "metadata": {},
   "outputs": [
    {
     "name": "stdout",
     "output_type": "stream",
     "text": [
      "remove a key from a dict\n",
      "{'b': 2, 'c': 3, 'd': 4}\n"
     ]
    }
   ],
   "source": [
    "print('remove a key from a dict')\n",
    "myDict = {'a': 1, 'b': 2, 'c': 3, 'd': 4}\n",
    "\n",
    "if 'a' in myDict:\n",
    "    del myDict['a']\n",
    "\n",
    "print(myDict)"
   ]
  },
  {
   "cell_type": "code",
   "execution_count": 35,
   "metadata": {},
   "outputs": [
    {
     "name": "stdout",
     "output_type": "stream",
     "text": [
      "sort a given dictionary by key\n",
      "black: #000000\n",
      "green: #008000\n",
      "red: #FF0000\n",
      "white: #FFFFFF\n"
     ]
    }
   ],
   "source": [
    "print('sort a given dictionary by key')\n",
    "color_dict = {\n",
    "    'red': '#FF0000',\n",
    "    'green': '#008000',\n",
    "    'black': '#000000',\n",
    "    'white': '#FFFFFF'\n",
    "}\n",
    "\n",
    "for key in sorted(color_dict):\n",
    "    print(key, color_dict[key], sep=': ')"
   ]
  },
  {
   "cell_type": "code",
   "execution_count": 36,
   "metadata": {},
   "outputs": [
    {
     "name": "stdout",
     "output_type": "stream",
     "text": [
      "get the maximum and minimum values of a dictionary\n",
      "500, 5874\n"
     ]
    }
   ],
   "source": [
    "print('get the maximum and minimum values of a dictionary')\n",
    "my_dict = {'x': 500, 'y': 5874, 'z': 560}\n",
    "\n",
    "minimum = min(my_dict.values())\n",
    "maximum = max(my_dict.values())\n",
    "print(minimum, maximum, sep=', ')"
   ]
  },
  {
   "cell_type": "code",
   "execution_count": 37,
   "metadata": {},
   "outputs": [
    {
     "name": "stdout",
     "output_type": "stream",
     "text": [
      "remove duplicates from the dictionary\n",
      "{'id1': {'name': ['Sara'], 'class': ['V'], 'subject_integration': ['english, math, science']}, 'id2': {'name': ['David'], 'class': ['V'], 'subject_integration': ['english, math, science']}, 'id4': {'name': ['Surya'], 'class': ['V'], 'subject_integration': ['english, math, science']}}\n"
     ]
    }
   ],
   "source": [
    "print('remove duplicates from the dictionary')\n",
    "student_data = {\n",
    "    'id1': {\n",
    "        'name': ['Sara'],\n",
    "        'class': ['V'],\n",
    "        'subject_integration': ['english, math, science']\n",
    "    },\n",
    "    'id2': {\n",
    "        'name': ['David'],\n",
    "        'class': ['V'],\n",
    "        'subject_integration': ['english, math, science']\n",
    "    },\n",
    "    'id3': {\n",
    "        'name': ['Sara'],\n",
    "        'class': ['V'],\n",
    "        'subject_integration': ['english, math, science']\n",
    "    },\n",
    "    'id4': {\n",
    "        'name': ['Surya'],\n",
    "        'class': ['V'],\n",
    "        'subject_integration': ['english, math, science']\n",
    "    }\n",
    "}\n",
    "\n",
    "result = {}\n",
    "\n",
    "for key, value in student_data.items():\n",
    "    if value not in result.values():\n",
    "        result[key] = value\n",
    "\n",
    "print(result)"
   ]
  },
  {
   "cell_type": "code",
   "execution_count": 38,
   "metadata": {},
   "outputs": [
    {
     "name": "stdout",
     "output_type": "stream",
     "text": [
      "check if a dictionary is empty or not\n",
      "not empty\n",
      "empty\n"
     ]
    }
   ],
   "source": [
    "print('check if a dictionary is empty or not')\n",
    "dic1 = {1:10, 2:20}\n",
    "dic2 = {}\n",
    "\n",
    "def dict_length(d):\n",
    "    if len(d) == 0:\n",
    "        return 'empty'\n",
    "    else:\n",
    "        return 'not empty'\n",
    "\n",
    "print(dict_length(dic1))\n",
    "print(dict_length(dic2))"
   ]
  },
  {
   "cell_type": "code",
   "execution_count": 39,
   "metadata": {},
   "outputs": [
    {
     "name": "stdout",
     "output_type": "stream",
     "text": [
      "combine two dictionary by adding values for common keys\n",
      "Counter({'a': 400, 'b': 400, 'd': 400, 'c': 300})\n"
     ]
    }
   ],
   "source": [
    "print('combine two dictionary by adding values for common keys')\n",
    "from collections import Counter\n",
    "\n",
    "d1 = {'a': 100, 'b': 200, 'c': 300}\n",
    "d2 = {'a': 300, 'b': 200, 'd': 400}\n",
    "\n",
    "combined = Counter(d1) + Counter(d2)\n",
    "print(combined)"
   ]
  },
  {
   "cell_type": "code",
   "execution_count": 40,
   "metadata": {},
   "outputs": [
    {
     "name": "stdout",
     "output_type": "stream",
     "text": [
      "print all distinct values in a dictionary\n",
      "{'S005', 'S009', 'S007', 'S001', 'S002'}\n"
     ]
    }
   ],
   "source": [
    "print('print all distinct values in a dictionary')\n",
    "sample = [\n",
    "    {\"V\": \"S001\"},\n",
    "    {\"V\": \"S002\"},\n",
    "    {\"VI\": \"S001\"},\n",
    "    {\"VI\": \"S005\"},\n",
    "    {\"VII\": \"S005\"},\n",
    "    {\"V\": \"S009\"},\n",
    "    {\"VIII\": \"S007\"}\n",
    "]\n",
    "\n",
    "unique = set(val for dic in sample for val in dic.values())\n",
    "print(unique)"
   ]
  },
  {
   "cell_type": "code",
   "execution_count": 41,
   "metadata": {},
   "outputs": [
    {
     "name": "stdout",
     "output_type": "stream",
     "text": [
      "to create and display all combinations of letters selecting each letter from a different key in a dictionary\n",
      "{1: 'ac', 2: 'ad', 3: 'bc', 4: 'bd'}\n",
      "\n",
      "alternative solution\n",
      "ac\n",
      "ad\n",
      "bc\n",
      "bd\n"
     ]
    }
   ],
   "source": [
    "print('to create and display all combinations of letters selecting each letter from a different key in a dictionary')\n",
    "one = 'ab'\n",
    "two = 'cd'\n",
    "\n",
    "my_dict = {}\n",
    "i = 1\n",
    "for v1 in one:\n",
    "    for v2 in two:\n",
    "        my_dict[i] = v1+v2\n",
    "        i += 1\n",
    "\n",
    "print(my_dict)\n",
    "print()\n",
    "\n",
    "print('alternative solution')\n",
    "import itertools\n",
    "\n",
    "d = {'1': ['a', 'b'], '2': ['c', 'd']}\n",
    "\n",
    "# Iterate through combinations of values from the dictionary 'd' using 'itertools.product'.\n",
    "# The values are sorted based on their keys to ensure a specific order.\n",
    "for combo in itertools.product(*[d[k] for k in sorted(d.keys())]):\n",
    "    # Print the combinations as strings by joining the characters in each combination.\n",
    "    print(''.join(combo))"
   ]
  },
  {
   "cell_type": "code",
   "execution_count": 42,
   "metadata": {},
   "outputs": [
    {
     "name": "stdout",
     "output_type": "stream",
     "text": [
      "[('b', 5874), ('e', 5874), ('c', 560)]\n",
      "\n",
      "alternative\n",
      "['b', 'e', 'c']\n"
     ]
    }
   ],
   "source": [
    "my_dict = {'a': 500, 'b': 5874, 'c': 560, 'd': 400, 'e': 5874, 'f': 20}\n",
    "\n",
    "from collections import Counter\n",
    "cd = Counter(my_dict)\n",
    "print(cd.most_common(3))\n",
    "print()\n",
    "\n",
    "print('alternative')\n",
    "from heapq import nlargest\n",
    "\n",
    "#the 'key' argument specifies that the values should be used for comparison\n",
    "three_largest = nlargest(3, my_dict, key=my_dict.get)\n",
    "\n",
    "print(three_largest)"
   ]
  },
  {
   "cell_type": "code",
   "execution_count": 43,
   "metadata": {},
   "outputs": [
    {
     "name": "stdout",
     "output_type": "stream",
     "text": [
      "combine values in a list of dictionaries\n",
      "Counter({'item1': 1150, 'item2': 300})\n"
     ]
    }
   ],
   "source": [
    "print('combine values in a list of dictionaries')\n",
    "from collections import Counter\n",
    "\n",
    "item_list = [\n",
    "    {'item': 'item1', 'amount': 400},\n",
    "    {'item': 'item2', 'amount': 300},\n",
    "    {'item': 'item1', 'amount': 750}]\n",
    "\n",
    "result = Counter()\n",
    "\n",
    "for d in item_list:\n",
    "    # Update the 'result' Counter by adding the 'amount' to the corresponding 'item' key\n",
    "    result[d['item']] += d['amount']\n",
    "\n",
    "print(result)"
   ]
  },
  {
   "cell_type": "code",
   "execution_count": 44,
   "metadata": {},
   "outputs": [
    {
     "name": "stdout",
     "output_type": "stream",
     "text": [
      "create a dictionary from a string\n",
      "{'w': 1, '3': 1, 'r': 2, 'e': 2, 's': 1, 'o': 1, 'u': 1, 'c': 1}\n",
      "other way\n",
      "{'w': 1, '3': 1, 'r': 2, 'e': 2, 's': 1, 'o': 1, 'u': 1, 'c': 1}\n"
     ]
    }
   ],
   "source": [
    "print('create a dictionary from a string')\n",
    "sample = 'w3resource'\n",
    "\n",
    "my_dict = {}\n",
    "for x in sample:\n",
    "    if x not in my_dict:\n",
    "        my_dict[x] = 1\n",
    "    else:\n",
    "        my_dict[x] += 1\n",
    "\n",
    "print(my_dict)\n",
    "\n",
    "\n",
    "print('other way')\n",
    "from collections import defaultdict, Counter\n",
    "\n",
    "sample = 'w3resource'\n",
    "\n",
    "my_dict = {}\n",
    "\n",
    "for letter in sample:\n",
    "    my_dict[letter] = my_dict.get(letter, 0) + 1\n",
    "\n",
    "print(my_dict) "
   ]
  },
  {
   "cell_type": "code",
   "execution_count": 45,
   "metadata": {},
   "outputs": [
    {
     "name": "stdout",
     "output_type": "stream",
     "text": [
      "   C1  C2  C3\n",
      "0   1   5   9\n",
      "1   2   6  10\n",
      "2   3   7  11\n",
      "\n",
      "other\n",
      "C1 C2 C3\n",
      "1 5 9\n",
      "2 6 10\n",
      "3 7 11\n"
     ]
    }
   ],
   "source": [
    "my_dict = {'C1': [1, 2, 3], 'C2': [5, 6, 7], 'C3': [9, 10, 11]}\n",
    "\n",
    "import pandas as pd\n",
    "\n",
    "my_table = pd.DataFrame(my_dict)\n",
    "print(my_table)\n",
    "print()\n",
    "\n",
    "print('other')\n",
    "#use a list comprehension to create a list of tuples\n",
    "#where each tuple contains a key and its corresponding list of values\n",
    "#'zip' function is used to transpose the rows and columns\n",
    "for row in zip(*([key] + (value) for key, value in sorted(my_dict.items()))):\n",
    "    print(*row)"
   ]
  },
  {
   "cell_type": "code",
   "execution_count": 46,
   "metadata": {},
   "outputs": [
    {
     "name": "stdout",
     "output_type": "stream",
     "text": [
      "count the values associated with a key in a dictionary\n",
      "6\n",
      "2\n"
     ]
    }
   ],
   "source": [
    "print('count the values associated with a key in a dictionary')\n",
    "student = [\n",
    "    {'id': 1, 'success': True, 'name': 'Lary'},\n",
    "    {'id': 2, 'success': False, 'name': 'Rabi'},\n",
    "    {'id': 3, 'success': True, 'name': 'Alex'}]\n",
    "\n",
    "print(sum(d['id'] for d in student))\n",
    "print(sum(d['success'] for d in student))"
   ]
  },
  {
   "cell_type": "code",
   "execution_count": 47,
   "metadata": {},
   "outputs": [
    {
     "name": "stdout",
     "output_type": "stream",
     "text": [
      "convert a list into a nested dictionary of keys\n",
      "{1: {2: {3: {4: {}}}}}\n"
     ]
    }
   ],
   "source": [
    "print('convert a list into a nested dictionary of keys')\n",
    "num_list = [1, 2, 3, 4]\n",
    "\n",
    "new_dict = current = {}\n",
    "\n",
    "for name in num_list:\n",
    "    #create a nested empty dictionary under the new dictionary\n",
    "    #with the current variable as key\n",
    "    current[name] = {}\n",
    "    \n",
    "    #update the reference to point to the newly created nested dictionary\n",
    "    current = current[name]\n",
    "\n",
    "print(new_dict)"
   ]
  },
  {
   "cell_type": "code",
   "execution_count": 48,
   "metadata": {},
   "outputs": [
    {
     "name": "stdout",
     "output_type": "stream",
     "text": [
      "sort a list alphabetically in a dictionary\n",
      "{'n1': [1, 2, 3], 'n2': [1, 2, 5], 'n3': [2, 3, 4]}\n"
     ]
    }
   ],
   "source": [
    "print('sort a list alphabetically in a dictionary')\n",
    "num = {'n1': [2, 3, 1], 'n2': [5, 1, 2], 'n3': [3, 2, 4]}\n",
    "\n",
    "sorted_dict = {x: sorted(y) for x, y in num.items()}\n",
    "print(sorted_dict)"
   ]
  },
  {
   "cell_type": "code",
   "execution_count": 49,
   "metadata": {},
   "outputs": [
    {
     "name": "stdout",
     "output_type": "stream",
     "text": [
      "remove spaces from dictionary keys\n",
      "{'S001': ['Math', 'Science'], 'S002': ['Math', 'English']}\n"
     ]
    }
   ],
   "source": [
    "print('remove spaces from dictionary keys')\n",
    "student_list = {'S  001': ['Math', 'Science'], 'S    002': ['Math', 'English']}\n",
    "\n",
    "student_dict = {x.translate({32: None}): y for x, y in student_list.items()}\n",
    "print(student_dict)"
   ]
  },
  {
   "cell_type": "code",
   "execution_count": 50,
   "metadata": {},
   "outputs": [
    {
     "name": "stdout",
     "output_type": "stream",
     "text": [
      "get the top three items in a shop\n",
      "item4 55\n",
      "item1 45.5\n",
      "item3 41.3\n"
     ]
    }
   ],
   "source": [
    "print('get the top three items in a shop')\n",
    "sample = {'item1': 45.50, 'item2': 35, 'item3': 41.30, 'item4': 55, 'item5': 24}\n",
    "\n",
    "#import 'nlargest' function from the 'heapq' module\n",
    "#and 'itemgetter' function from the 'operator' module\n",
    "from heapq import nlargest\n",
    "from operator import itemgetter\n",
    "\n",
    "#use nlargest to find the three items with the largest prices\n",
    "#key specifies that the second element (price) of each key-value pair should be used for comparison\n",
    "for name, value in nlargest(3, sample.items(), key=itemgetter(1)):\n",
    "    print(name, value)"
   ]
  }
 ],
 "metadata": {
  "kernelspec": {
   "display_name": "Python 3",
   "language": "python",
   "name": "python3"
  },
  "language_info": {
   "codemirror_mode": {
    "name": "ipython",
    "version": 3
   },
   "file_extension": ".py",
   "mimetype": "text/x-python",
   "name": "python",
   "nbconvert_exporter": "python",
   "pygments_lexer": "ipython3",
   "version": "3.10.5"
  }
 },
 "nbformat": 4,
 "nbformat_minor": 2
}
