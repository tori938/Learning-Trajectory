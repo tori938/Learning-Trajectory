{
 "cells": [
  {
   "cell_type": "code",
   "execution_count": 10,
   "metadata": {},
   "outputs": [
    {
     "data": {
      "text/plain": [
       "'global x'"
      ]
     },
     "execution_count": 10,
     "metadata": {},
     "output_type": "execute_result"
    }
   ],
   "source": [
    "x = \"global x\"\n",
    "\n",
    "\n",
    "def level_one():\n",
    "    return x\n",
    "\n",
    "level_one()"
   ]
  },
  {
   "cell_type": "code",
   "execution_count": 11,
   "metadata": {},
   "outputs": [
    {
     "name": "stdout",
     "output_type": "stream",
     "text": [
      "2\n"
     ]
    },
    {
     "data": {
      "text/plain": [
       "'local x'"
      ]
     },
     "execution_count": 11,
     "metadata": {},
     "output_type": "execute_result"
    }
   ],
   "source": [
    "def level_two(v):\n",
    "    print(v)\n",
    "    if v:\n",
    "        x = \"local x\"\n",
    "    return x\n",
    "\n",
    "level_two(2)"
   ]
  },
  {
   "cell_type": "code",
   "execution_count": 12,
   "metadata": {},
   "outputs": [
    {
     "data": {
      "text/plain": [
       "('global x', 'y arg', 'outer z')"
      ]
     },
     "execution_count": 12,
     "metadata": {},
     "output_type": "execute_result"
    }
   ],
   "source": [
    "def level_three():\n",
    "    z = \"outer z\"\n",
    "\n",
    "    def inner(y):\n",
    "        return x, y, z\n",
    "\n",
    "    return inner(\"y arg\")\n",
    "\n",
    "level_three()"
   ]
  },
  {
   "cell_type": "code",
   "execution_count": 13,
   "metadata": {},
   "outputs": [
    {
     "data": {
      "text/plain": [
       "('global x', 'y arg', 'second outer z')"
      ]
     },
     "execution_count": 13,
     "metadata": {},
     "output_type": "execute_result"
    }
   ],
   "source": [
    "def level_four():\n",
    "    z = \"first outer z\"\n",
    "\n",
    "    def inner(y):\n",
    "        return x, y, z\n",
    "\n",
    "    z = \"second outer z\"\n",
    "    return inner(\"y arg\")\n",
    "\n",
    "level_four()"
   ]
  },
  {
   "cell_type": "code",
   "execution_count": 14,
   "metadata": {},
   "outputs": [
    {
     "data": {
      "text/plain": [
       "<function __main__.level_five.<locals>.inner(y)>"
      ]
     },
     "execution_count": 14,
     "metadata": {},
     "output_type": "execute_result"
    }
   ],
   "source": [
    "def level_five(n):\n",
    "    z = f\"outer z {n}\"\n",
    "\n",
    "    def inner(y):\n",
    "        return x, y, z\n",
    "\n",
    "    return inner\n",
    "\n",
    "level_five(2)"
   ]
  },
  {
   "cell_type": "code",
   "execution_count": 15,
   "metadata": {},
   "outputs": [
    {
     "data": {
      "text/plain": [
       "('global x', 'y arg', 'donky z')"
      ]
     },
     "execution_count": 15,
     "metadata": {},
     "output_type": "execute_result"
    }
   ],
   "source": [
    "def level_six():\n",
    "    z = \"outer z\"\n",
    "\n",
    "    def donky():\n",
    "        def inner(y):\n",
    "            return x, y, z\n",
    "\n",
    "        z = \"donky z\"\n",
    "        return inner\n",
    "\n",
    "    def chonky():\n",
    "        x = \"chonky x\"\n",
    "        f = donky()\n",
    "        return f(\"y arg\")\n",
    "\n",
    "    return chonky()\n",
    "\n",
    "level_six()"
   ]
  }
 ],
 "metadata": {
  "kernelspec": {
   "display_name": "Python 3",
   "language": "python",
   "name": "python3"
  },
  "language_info": {
   "codemirror_mode": {
    "name": "ipython",
    "version": 3
   },
   "file_extension": ".py",
   "mimetype": "text/x-python",
   "name": "python",
   "nbconvert_exporter": "python",
   "pygments_lexer": "ipython3",
   "version": "3.10.5"
  }
 },
 "nbformat": 4,
 "nbformat_minor": 2
}
