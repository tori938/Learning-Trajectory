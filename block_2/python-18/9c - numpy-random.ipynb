{
 "cells": [
  {
   "cell_type": "code",
   "execution_count": 3,
   "metadata": {},
   "outputs": [],
   "source": [
    "import numpy as np"
   ]
  },
  {
   "cell_type": "code",
   "execution_count": 4,
   "metadata": {},
   "outputs": [
    {
     "name": "stdout",
     "output_type": "stream",
     "text": [
      "ex1: generate five random numbers from the normal distribution\n",
      "[ 0.05662663 -0.05561061  0.08613881 -0.38761177  0.17768348]\n"
     ]
    }
   ],
   "source": [
    "print('ex1: generate five random numbers from the normal distribution')\n",
    "\n",
    "x = np.random.normal(size=5)\n",
    "print(x)"
   ]
  },
  {
   "cell_type": "code",
   "execution_count": 5,
   "metadata": {},
   "outputs": [
    {
     "name": "stdout",
     "output_type": "stream",
     "text": [
      "ex2: generate six random integers between 10 and 30\n",
      "[12 27 17 11 11 18]\n"
     ]
    }
   ],
   "source": [
    "print('ex2: generate six random integers between 10 and 30')\n",
    "\n",
    "def generate_random(start, end, n):\n",
    "    return np.random.randint(start, end, size=n)\n",
    "\n",
    "print(generate_random(10, 30, 6))"
   ]
  },
  {
   "cell_type": "code",
   "execution_count": 6,
   "metadata": {},
   "outputs": [
    {
     "name": "stdout",
     "output_type": "stream",
     "text": [
      "ex3: create a 3x3x3 array with random values\n",
      "[[[0.89572696 0.38507849 0.51995593]\n",
      "  [0.5064341  0.91714836 0.58480242]\n",
      "  [0.64522859 0.57232905 0.49431498]]\n",
      "\n",
      " [[0.93125245 0.46112238 0.67677259]\n",
      "  [0.08423816 0.99182777 0.0588189 ]\n",
      "  [0.70698116 0.9241159  0.96503342]]\n",
      "\n",
      " [[0.60329652 0.57366886 0.26464323]\n",
      "  [0.31924603 0.01961842 0.17097836]\n",
      "  [0.93425162 0.08056245 0.17090766]]]\n"
     ]
    }
   ],
   "source": [
    "print('ex3: create a 3x3x3 array with random values')\n",
    "\n",
    "def generate_random(tpl=(3,3,3)):\n",
    "    return np.random.rand(*tpl)\n",
    "\n",
    "print(generate_random())"
   ]
  },
  {
   "cell_type": "code",
   "execution_count": 7,
   "metadata": {},
   "outputs": [
    {
     "name": "stdout",
     "output_type": "stream",
     "text": [
      "ex4: create a 5x5 array with random values and find the minimum and maximum values\n",
      "(array([[0.15488435, 0.81477847, 0.31692714, 0.03304263, 0.25325881],\n",
      "       [0.23372879, 0.50252544, 0.3349234 , 0.19990635, 0.0018494 ],\n",
      "       [0.31084631, 0.86582107, 0.59894137, 0.66414627, 0.54578015],\n",
      "       [0.01602403, 0.50496595, 0.59848298, 0.11329012, 0.57558403],\n",
      "       [0.01512799, 0.84181167, 0.48398736, 0.42541924, 0.2073384 ]]), 0.8658210653648334, 0.0018494048889495796)\n"
     ]
    }
   ],
   "source": [
    "print('ex4: create a 5x5 array with random values and find the minimum and maximum values')\n",
    "\n",
    "def generate_random(tpl=(5,5)):\n",
    "    result = np.random.rand(*tpl)\n",
    "    return result, np.max(result), np.min(result) #--> can use array.max() and array.min()\n",
    "    \n",
    "print(generate_random())"
   ]
  },
  {
   "cell_type": "code",
   "execution_count": 8,
   "metadata": {},
   "outputs": [
    {
     "name": "stdout",
     "output_type": "stream",
     "text": [
      "ex5: create a random 10x4 array and extract the first five rows of the array and store them into a variable\n",
      "[[0.68 0.19 0.95 0.48]\n",
      " [0.45 0.57 0.9  0.3 ]\n",
      " [0.46 0.78 0.81 0.5 ]\n",
      " [0.06 0.3  0.51 0.9 ]\n",
      " [0.99 0.95 0.35 0.9 ]\n",
      " [0.32 0.05 0.62 0.18]\n",
      " [0.25 0.82 0.71 0.16]\n",
      " [0.26 0.01 0.19 0.47]\n",
      " [0.78 0.34 0.13 0.83]\n",
      " [0.39 0.   0.65 0.58]]\n",
      "\n",
      "[[0.68 0.19 0.95 0.48]\n",
      " [0.45 0.57 0.9  0.3 ]\n",
      " [0.46 0.78 0.81 0.5 ]\n",
      " [0.06 0.3  0.51 0.9 ]\n",
      " [0.99 0.95 0.35 0.9 ]]\n",
      "\n"
     ]
    }
   ],
   "source": [
    "print('ex5: create a random 10x4 array and extract the first five rows of the array and store them into a variable')\n",
    "\n",
    "r = np.round(np.random.rand(10, 4), 2)\n",
    "e = r[0:5] #--> x[:5, :]\n",
    "print(r)\n",
    "print()\n",
    "print(e)\n",
    "print()"
   ]
  },
  {
   "cell_type": "code",
   "execution_count": 9,
   "metadata": {},
   "outputs": [
    {
     "name": "stdout",
     "output_type": "stream",
     "text": [
      "ex6: shuffle numbers between 0 and 10 (inclusive)\n",
      "[0 1 2 3 4 5 6 7 8 9]\n",
      "\n",
      "[9 3 5 6 0 4 8 1 2 7]\n"
     ]
    }
   ],
   "source": [
    "print('ex6: shuffle numbers between 0 and 10 (inclusive)')\n",
    "\n",
    "s = np.arange(10)\n",
    "print(s)\n",
    "print()\n",
    "\n",
    "p = np.random.permutation(s)\n",
    "print(p)"
   ]
  },
  {
   "cell_type": "code",
   "execution_count": 10,
   "metadata": {},
   "outputs": [
    {
     "name": "stdout",
     "output_type": "stream",
     "text": [
      "ex7: normalize a 3x3 random matrix\n",
      "[[0.31397181 0.36213415 0.78422775]\n",
      " [0.14069365 0.5991535  0.18864338]\n",
      " [0.289868   0.08151719 0.47685787]]\n",
      "\n",
      "[[0.33079711 0.39933505 1.        ]\n",
      " [0.08421171 0.73662805 0.1524471 ]\n",
      " [0.29649591 0.         0.56259391]]\n"
     ]
    }
   ],
   "source": [
    "print('ex7: normalize a 3x3 random matrix')\n",
    "\n",
    "r = np.random.rand(3,3)\n",
    "print(r)\n",
    "print()\n",
    "\n",
    "#finding the maximum and minimum values in array\n",
    "rmax, rmin = np.max(r), np.min(r)\n",
    "\n",
    "#normalizing the array using min-max scaling: (x - xmin) / (xmax - xmin)\n",
    "r = (r - rmin) / (rmax - rmin)\n",
    "print(r)"
   ]
  },
  {
   "cell_type": "code",
   "execution_count": 11,
   "metadata": {},
   "outputs": [
    {
     "name": "stdout",
     "output_type": "stream",
     "text": [
      "ex8: create a random vector of size 10 and sort it\n",
      "[0.47573435 0.9146825  0.99169695 0.19618936 0.43031275 0.34497731\n",
      " 0.81363465 0.53814268 0.73239203 0.39689939]\n",
      "\n",
      "[0.19618936 0.34497731 0.39689939 0.43031275 0.47573435 0.53814268\n",
      " 0.73239203 0.81363465 0.9146825  0.99169695]\n"
     ]
    }
   ],
   "source": [
    "print('ex8: create a random vector of size 10 and sort it')\n",
    "\n",
    "r = np.random.rand(10)\n",
    "print(r)\n",
    "print()\n",
    "\n",
    "r.sort()\n",
    "print(r)"
   ]
  },
  {
   "cell_type": "code",
   "execution_count": 12,
   "metadata": {},
   "outputs": [
    {
     "name": "stdout",
     "output_type": "stream",
     "text": [
      "ex9: find the nearest value from a given value in an array\n",
      "[3.36708 1.50051 3.50726 3.13025 4.53673]\n",
      "\n",
      "3.50726\n"
     ]
    }
   ],
   "source": [
    "print('ex9: find the nearest value from a given value in an array')\n",
    "\n",
    "#generating an array of 5 random numbers between 1 and 12\n",
    "x = np.round(np.random.uniform(1, 10, 5), 5)\n",
    "print(x)\n",
    "print()\n",
    "\n",
    "v = 4\n",
    "\n",
    "#finding the value 'n' in 'x' that is closest to 'v'\n",
    "#using np.abs(x - v).argmin() to get the index of the element in 'x' closest to 'v'\n",
    "#accessing the element using x.flat[index] to get the closest value 'n'\n",
    "n = x.flat[np.abs(x - v).argmin()]\n",
    "print(n)"
   ]
  },
  {
   "cell_type": "code",
   "execution_count": 13,
   "metadata": {},
   "outputs": [
    {
     "name": "stdout",
     "output_type": "stream",
     "text": [
      "ex10: check two random arrays are equal or not\n",
      "[ True  True  True  True  True]\n",
      "True\n",
      "\n",
      "[[ True  True False]\n",
      " [ True  True False]\n",
      " [False  True  True]]\n",
      "False\n"
     ]
    }
   ],
   "source": [
    "print('ex10: check two random arrays are equal or not')\n",
    "\n",
    "x = np.arange(5)\n",
    "y = np.arange(5)\n",
    "array_equal = np.allclose(x, y)\n",
    "print(x == y)\n",
    "print(array_equal)\n",
    "print()\n",
    "\n",
    "i = np.random.randint(0, 2, size=(3,3))\n",
    "j = np.random.randint(0, 2, size=(3,3))\n",
    "array_equal = np.allclose(i, j)\n",
    "print(i == j)\n",
    "print(array_equal)"
   ]
  },
  {
   "cell_type": "code",
   "execution_count": 14,
   "metadata": {},
   "outputs": [
    {
     "name": "stdout",
     "output_type": "stream",
     "text": [
      "ex11: create random vector replace the maximum /minimum value\n",
      "[ 0.1239918  0.9429879  0.0519396  0.6342072  0.2099639  0.9190388\n",
      "  0.0249168  0.124334   0.8535022 -1.         0.0543346  0.7538676\n",
      "  0.2191755  0.1127039  0.9281485]\n",
      "\n",
      "[0.5310053 0.8439316 0.5088689 0.        0.8528245]\n"
     ]
    }
   ],
   "source": [
    "print('ex11: create random vector replace the maximum /minimum value')\n",
    "\n",
    "def max_vector(n, set_new_max):\n",
    "    v = np.round(np.random.rand(n), 7)\n",
    "    v[v.argmax()] = set_new_max\n",
    "    return v\n",
    "    \n",
    "print(max_vector(15, -1))\n",
    "print()\n",
    "\n",
    "def min_vector(n, set_new_min):\n",
    "    v = np.round(np.random.rand(n), 7)\n",
    "    v[v.argmin()] = set_new_min\n",
    "    return v\n",
    "    \n",
    "print(min_vector(5, 0))"
   ]
  },
  {
   "cell_type": "code",
   "execution_count": 15,
   "metadata": {},
   "outputs": [
    {
     "name": "stdout",
     "output_type": "stream",
     "text": [
      "ex12: find point by point distances of a random vector with shape (10,2) representing coordinates\n",
      "[[0.         0.86180007 0.91301225 0.90110104 1.00105418 0.39660052\n",
      "  1.23360595 0.61968419 0.82432621 0.78097208]\n",
      " [0.86180007 0.         0.05667949 0.21932685 0.24912157 0.50660546\n",
      "  0.50486906 0.25521406 0.12055156 0.2567023 ]\n",
      " [0.91301225 0.05667949 0.         0.19778569 0.25433441 0.56237737\n",
      "  0.45499137 0.2999131  0.16709874 0.30381365]\n",
      " [0.90110104 0.21932685 0.19778569 0.         0.45194233 0.61275964\n",
      "  0.34500419 0.29891975 0.3357232  0.46614129]\n",
      " [1.00105418 0.24912157 0.25433441 0.45194233 0.         0.60931326\n",
      "  0.6524062  0.46232379 0.193514   0.2299104 ]\n",
      " [0.39660052 0.50660546 0.56237737 0.61275964 0.60931326 0.\n",
      "  0.95747154 0.31598086 0.44401285 0.38525033]\n",
      " [1.23360595 0.50486906 0.45499137 0.34500419 0.6524062  0.95747154\n",
      "  0.         0.6438294  0.6220621  0.75879252]\n",
      " [0.61968419 0.25521406 0.2999131  0.29891975 0.46232379 0.31598086\n",
      "  0.6438294  0.         0.26976231 0.32509963]\n",
      " [0.82432621 0.12055156 0.16709874 0.3357232  0.193514   0.44401285\n",
      "  0.6220621  0.26976231 0.         0.13691848]\n",
      " [0.78097208 0.2567023  0.30381365 0.46614129 0.2299104  0.38525033\n",
      "  0.75879252 0.32509963 0.13691848 0.        ]]\n"
     ]
    }
   ],
   "source": [
    "print('ex12: find point by point distances of a random vector with shape (10,2) representing coordinates')\n",
    "\n",
    "a = np.random.random((10, 2))\n",
    "\n",
    "#extracting x and y coordinates from the array 'a' using np.atleast_2d() method\n",
    "#at least 2-dimensional arrays from the columns of 'a'\n",
    "x, y = np.atleast_2d(a[:, 0], a[:, 1])\n",
    "\n",
    "#calculating the Euclidean distance between points in the 'a' array using the formula:\n",
    "#d = sqrt((x - x_transpose)^2 + (y - y_transpose)^2)\n",
    "#where x and y are the coordinate matrices created, and T is the transpose of those matrices\n",
    "d = np.sqrt((x - x.T) ** 2 + (y - y.T) ** 2)\n",
    "\n",
    "print(d)"
   ]
  },
  {
   "cell_type": "code",
   "execution_count": 16,
   "metadata": {},
   "outputs": [
    {
     "name": "stdout",
     "output_type": "stream",
     "text": [
      "ex13: find the most frequent value in an array\n",
      "[5 3 3 8 4 9 1 8 1 7 9 2 1 2 9]\n",
      "\n",
      "9, 1\n"
     ]
    }
   ],
   "source": [
    "print('ex13: find the most frequent value in an array')\n",
    "import statistics\n",
    "\n",
    "s = np.random.randint(1, 10, size=15)\n",
    "print(s)\n",
    "print()\n",
    "\n",
    "frequent = statistics.mode(s)\n",
    "most_frequent_value = np.bincount(s).argmax()\n",
    "print(frequent, most_frequent_value, sep=', ')"
   ]
  },
  {
   "cell_type": "code",
   "execution_count": 17,
   "metadata": {},
   "outputs": [
    {
     "name": "stdout",
     "output_type": "stream",
     "text": [
      "ex14: convert cartesian coordinates to polar coordinates of a random 10x2 matrix representing cartesian coordinates\n",
      "[0.90612409 1.11784626 0.31575743 0.53423837 0.93201836 0.12201907\n",
      " 1.18865935 0.26822523 0.79452285 0.91035805]\n",
      "\n",
      "[0.81759647 0.79013706 1.01613211 1.13629192 1.1773083  0.01050238\n",
      " 0.60791792 0.93045231 0.75405793 0.27044605]\n"
     ]
    }
   ],
   "source": [
    "print('ex14: convert cartesian coordinates to polar coordinates of a random 10x2 matrix representing cartesian coordinates')\n",
    "\n",
    "z = np.random.random((10,2))\n",
    "\n",
    "x, y = z[:, 0], z[:, 1]\n",
    "\n",
    "#calculating the Euclidean distance (r) using the formula sqrt(x^2 + y^2)\n",
    "r = np.sqrt(x**2 + y**2)\n",
    "\n",
    "#calculating the angles (t) using arctan2() function, which returns the arctangent of y/x in radians\n",
    "t = np.arctan2(y, x)\n",
    "\n",
    "#displaying the calculated Euclidean distances (r)\n",
    "print(r)\n",
    "print()\n",
    "\n",
    "#displaying the calculated angles (t) in radians\n",
    "print(t)"
   ]
  },
  {
   "cell_type": "code",
   "execution_count": 18,
   "metadata": {},
   "outputs": [
    {
     "name": "stdout",
     "output_type": "stream",
     "text": [
      "ex15: find the closest value (to a given scalar) in an array\n",
      "58\n"
     ]
    }
   ],
   "source": [
    "print('ex15: find the closest value (to a given scalar) in an array')\n",
    "\n",
    "i = np.arange(100)\n",
    "f = np.random.uniform(0, 100)\n",
    "\n",
    "#finding the index of the element in array closest to the generated value\n",
    "index = (np.abs(i - f)).argmin()\n",
    "\n",
    "print(i[index])"
   ]
  },
  {
   "cell_type": "code",
   "execution_count": 19,
   "metadata": {},
   "outputs": [
    {
     "name": "stdout",
     "output_type": "stream",
     "text": [
      "ex16: get the n largest values of an array\n",
      "[0 1 2 3 4 5 6 7 8 9]\n",
      "9\n",
      "\n",
      "alternatively\n",
      "[9]\n"
     ]
    }
   ],
   "source": [
    "print('ex16: get the n largest values of an array')\n",
    "\n",
    "x = np.arange(10)\n",
    "print(x, np.max(x), sep='\\n')\n",
    "print()\n",
    "\n",
    "print('alternatively')\n",
    "np.random.shuffle(x)\n",
    "\n",
    "#selecting the 'n' largest elements in 'x' using argsort and slicing\n",
    "n = 1\n",
    "print(x[np.argsort(x)[-n:]])"
   ]
  },
  {
   "cell_type": "code",
   "execution_count": 20,
   "metadata": {},
   "outputs": [
    {
     "name": "stdout",
     "output_type": "stream",
     "text": [
      "ex17: create a three-dimension array with shape (300, 400, 5) and set to a variable, fill the array elements with values using unsigned integer (0 to 255)\n",
      "[[[215  42 224 219  43]\n",
      "  [166  69  15 133 255]\n",
      "  [105  95  54  37 201]\n",
      "  ...\n",
      "  [240  22  66 232 132]\n",
      "  [ 13  85  53 220 170]\n",
      "  [249  62 221 146  69]]\n",
      "\n",
      " [[ 73  79 148 132 164]\n",
      "  [  3  93  98 138 200]\n",
      "  [174  34  31 208 130]\n",
      "  ...\n",
      "  [ 15 252  41  64  39]\n",
      "  [188 216 223 124  27]\n",
      "  [ 85 112 240 116 231]]\n",
      "\n",
      " [[227  50 243  20 171]\n",
      "  [ 12  66 108 102  63]\n",
      "  [107  54   0   0 173]\n",
      "  ...\n",
      "  [215  46  57  99 151]\n",
      "  [243 199  31  28 179]\n",
      "  [143   7  30 175 190]]\n",
      "\n",
      " ...\n",
      "\n",
      " [[214  64  64 212  62]\n",
      "  [140  44 217  17 164]\n",
      "  [226 146 247  53 199]\n",
      "  ...\n",
      "  [189  68  49 117  63]\n",
      "  [ 14  17 109  82  92]\n",
      "  [155 221 135 184 231]]\n",
      "\n",
      " [[132 194 160 136 102]\n",
      "  [132 244 230 117 181]\n",
      "  [146 245  21 164  29]\n",
      "  ...\n",
      "  [125 240 243 190 240]\n",
      "  [137  41 157 117 155]\n",
      "  [ 20  92  72 182  41]]\n",
      "\n",
      " [[120  45 198 218 190]\n",
      "  [ 42 150 190 103 106]\n",
      "  [164  71 220 114  59]\n",
      "  ...\n",
      "  [143  20 219 154  85]\n",
      "  [219 190 170 227 246]\n",
      "  [ 39  14 127 230 158]]]\n"
     ]
    }
   ],
   "source": [
    "print('ex17: create a three-dimension array with shape (300, 400, 5) and set to a variable, \\\n",
    "fill the array elements with values using unsigned integer (0 to 255)')\n",
    "\n",
    "#setting the random seed to 32 for reproducibility\n",
    "np.random.seed(32)\n",
    "\n",
    "nums = np.random.randint(low=0, high=256, size=(300, 400, 5), dtype=np.uint8)\n",
    "\n",
    "print(nums)"
   ]
  }
 ],
 "metadata": {
  "kernelspec": {
   "display_name": "Python 3",
   "language": "python",
   "name": "python3"
  },
  "language_info": {
   "codemirror_mode": {
    "name": "ipython",
    "version": 3
   },
   "file_extension": ".py",
   "mimetype": "text/x-python",
   "name": "python",
   "nbconvert_exporter": "python",
   "pygments_lexer": "ipython3",
   "version": "3.10.5"
  }
 },
 "nbformat": 4,
 "nbformat_minor": 2
}
