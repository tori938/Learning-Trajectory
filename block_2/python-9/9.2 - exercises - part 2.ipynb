{
 "cells": [
  {
   "cell_type": "code",
   "execution_count": 1,
   "metadata": {},
   "outputs": [],
   "source": [
    "import numpy as np\n",
    "import pandas as pd"
   ]
  },
  {
   "cell_type": "markdown",
   "metadata": {},
   "source": [
    "EXERCISE 10.6: CHESSBOARD"
   ]
  },
  {
   "cell_type": "code",
   "execution_count": 2,
   "metadata": {},
   "outputs": [],
   "source": [
    "def get_chess(a):\n",
    "    arr = np.zeros((a, a))\n",
    "    arr[1::2, ::2] = 1\n",
    "    arr[::2, 1::2] = 1\n",
    "    return arr"
   ]
  },
  {
   "cell_type": "markdown",
   "metadata": {},
   "source": [
    "EX10.8: FIND MIN AND MAX DISTANCE BETWEEN MULTIPLE VECTORS"
   ]
  },
  {
   "cell_type": "code",
   "execution_count": 3,
   "metadata": {},
   "outputs": [
    {
     "name": "stdout",
     "output_type": "stream",
     "text": [
      "5.196152422706632 20.784609690826528\n",
      "\n",
      "10.392304845413264 10.392304845413264\n"
     ]
    }
   ],
   "source": [
    "def min_max_dist(*vectors):\n",
    "    length = len(vectors) #how many vectors to begin with?\n",
    "    dist_lst = [] #input the distance between vectors\n",
    "    v_range = list(range(0, len(vectors))) #no of vectors to work with\n",
    "    index = 0\n",
    "    while index < length:\n",
    "        for v in vectors:\n",
    "            base_vector = vectors[0]\n",
    "            distance = np.linalg.norm(base_vector-vectors[index]) #calculate vector distance\n",
    "            dist_lst.append(distance)\n",
    "            index += 1\n",
    "    dist_lst.remove(0.0) #for instances when distance is vector by itself\n",
    "    print(min(dist_lst), max(dist_lst))\n",
    "\n",
    "vec1 = np.array([1, 2, 3])\n",
    "vec2 = np.array([4, 5, 6])\n",
    "vec3 = np.array([7, 8, 9])\n",
    "vec4 = np.array([10, 11, 12])\n",
    "vec5 = np.array([13, 14, 15])\n",
    "\n",
    "min_max_dist(vec1, vec2, vec3, vec4, vec5)\n",
    "print()\n",
    "\n",
    "min_max_dist(vec3, vec1)"
   ]
  },
  {
   "cell_type": "markdown",
   "metadata": {},
   "source": [
    "EX10.9: IF ONE PAIR OF VECTORS IS PERPENDICULAR?"
   ]
  },
  {
   "cell_type": "code",
   "execution_count": 4,
   "metadata": {},
   "outputs": [
    {
     "name": "stdout",
     "output_type": "stream",
     "text": [
      "True\n",
      "False\n"
     ]
    }
   ],
   "source": [
    "def any_normal(*vectors):\n",
    "    length = len(vectors) #how many vectors to begin with?\n",
    "    scar_prod_lst = [] #input the scalar product between vectors\n",
    "    index = 0\n",
    "    while index < length:\n",
    "        for v in vectors:\n",
    "            base_vector = vectors[0]\n",
    "            scalar_product = np.dot(base_vector, vectors[index])\n",
    "            scar_prod_lst.append(scalar_product)\n",
    "            index += 1\n",
    "    if 0 in scar_prod_lst:\n",
    "        return True\n",
    "    else:\n",
    "        return False\n",
    "\n",
    "vec1 = np.array([2, 1])\n",
    "vec2 = np.array([-1, 2])\n",
    "vec3 = np.array([3, 4])\n",
    "vec4 = np.array([-1, 5])\n",
    "\n",
    "print(any_normal(vec1, vec2, vec3, vec4))\n",
    "print(any_normal(vec2, vec3))"
   ]
  },
  {
   "cell_type": "code",
   "execution_count": 5,
   "metadata": {},
   "outputs": [
    {
     "name": "stdout",
     "output_type": "stream",
     "text": [
      "True\n"
     ]
    }
   ],
   "source": [
    "def any_normal(*vectors):\n",
    "    for i in range(len(vectors)):\n",
    "        for j in range(i + 1, len(vectors)):\n",
    "            if np.dot(vectors[i], vectors[j]) == 0:\n",
    "                return True\n",
    "    return False\n",
    "\n",
    "vec1 = np.array([2, 1])\n",
    "vec2 = np.array([-1, 2])\n",
    "vec3 = np.array([3, 4])\n",
    "vec4 = np.array([-1, 5])\n",
    "\n",
    "print(any_normal(vec1, vec2, vec3, vec4))"
   ]
  },
  {
   "cell_type": "markdown",
   "metadata": {},
   "source": [
    "EX10.10 and 10.11"
   ]
  },
  {
   "cell_type": "code",
   "execution_count": 6,
   "metadata": {},
   "outputs": [
    {
     "name": "stdout",
     "output_type": "stream",
     "text": [
      "[[[66 19 33 46 81]\n",
      "  [78  7  8 99 29]\n",
      "  [40 13 38 78 77]\n",
      "  [62 99 88 59 82]\n",
      "  [82 38 83 10 23]]\n",
      "\n",
      " [[80 51 75  0 31]\n",
      "  [82 54  3  6 80]\n",
      "  [60 46 38 20 25]\n",
      "  [83 55 14  5 91]\n",
      "  [91 63 68 56 90]]\n",
      "\n",
      " [[ 1 36 19 61 39]\n",
      "  [77 62 83 52 48]\n",
      "  [35 71 35 83 40]\n",
      "  [ 2 75 29 32 54]\n",
      "  [ 5  7  2 21 16]]]\n",
      "\n",
      "[[[ 89  82  23  74  94]\n",
      "  [ 10  12   9  33   2]\n",
      "  [ 70  47  11  16 100]\n",
      "  [  8  87  56  59  29]\n",
      "  [ 86  96  36  60  28]]\n",
      "\n",
      " [[  5  35   7  18  31]\n",
      "  [ 39  42  67  38  44]\n",
      "  [ 53  34  55  24  64]\n",
      "  [ 63  43  19  97  14]\n",
      "  [ 80  54   6  57  84]]]\n",
      "\n"
     ]
    }
   ],
   "source": [
    "def get_loto(num):\n",
    "    population = np.arange(0, 101)\n",
    "    rand_repeat_select = np.random.choice(population, size=(num, 5, 5), replace=True)\n",
    "    print(rand_repeat_select)\n",
    "    \n",
    "get_loto(3)\n",
    "print()\n",
    "\n",
    "\n",
    "def get_unique_loto(num):\n",
    "    population = np.arange(0, 101)\n",
    "    rand_unique_select = np.random.choice(population, size=(num, 5, 5), replace=False)\n",
    "    print(rand_unique_select)\n",
    "\n",
    "get_unique_loto(2)\n",
    "print()"
   ]
  },
  {
   "cell_type": "markdown",
   "metadata": {},
   "source": [
    "Exercise 10.11"
   ]
  },
  {
   "cell_type": "code",
   "execution_count": 7,
   "metadata": {},
   "outputs": [
    {
     "name": "stdout",
     "output_type": "stream",
     "text": [
      "(4, 5, 5)\n",
      "(10, 5, 5)\n"
     ]
    }
   ],
   "source": [
    "def get_unique_loto(num):\n",
    "    unique_loto = np.zeros((num, 5, 5), dtype=np.uint8)\n",
    "    population = np.array(range(1, 101))\n",
    "    for x in range(0, num):\n",
    "        loto = np.random.choice(population, size=25, replace=False).reshape((5, 5))\n",
    "        unique_loto[x] = loto\n",
    "    return(unique_loto)\n",
    "\n",
    "get_unique_loto(4)\n",
    "print(np.shape(get_unique_loto(4)))\n",
    "\n",
    "get_unique_loto(10)\n",
    "print(np.shape(get_unique_loto(10)))"
   ]
  }
 ],
 "metadata": {
  "kernelspec": {
   "display_name": "Python 3",
   "language": "python",
   "name": "python3"
  },
  "language_info": {
   "codemirror_mode": {
    "name": "ipython",
    "version": 3
   },
   "file_extension": ".py",
   "mimetype": "text/x-python",
   "name": "python",
   "nbconvert_exporter": "python",
   "pygments_lexer": "ipython3",
   "version": "3.10.5"
  }
 },
 "nbformat": 4,
 "nbformat_minor": 2
}
