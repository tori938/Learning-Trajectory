{
 "cells": [
  {
   "cell_type": "code",
   "execution_count": 2,
   "metadata": {},
   "outputs": [],
   "source": [
    "import numpy as np\n",
    "import pandas as pd"
   ]
  },
  {
   "cell_type": "code",
   "execution_count": 3,
   "metadata": {},
   "outputs": [
    {
     "name": "stdout",
     "output_type": "stream",
     "text": [
      "np.zeros helps to create an array of 0\n",
      "[[0 0 0]\n",
      " [0 0 0]]\n",
      "\n",
      "[0. 0. 0. 0.]\n",
      "\n",
      "np.ones helps to create an array of 1\n",
      "[[1 1]\n",
      " [1 1]]\n",
      "\n",
      "[1. 1. 1.]\n",
      "\n",
      "np.full creates an n-dimensional array of a random value\n",
      "[[3 3 3 3]\n",
      " [3 3 3 3]]\n",
      "\n",
      "[7 7 7]\n",
      "\n",
      "np.identity creates an identity matrix with specified dimensions\n",
      "[[1. 0. 0.]\n",
      " [0. 1. 0.]\n",
      " [0. 0. 1.]]\n",
      "\n"
     ]
    }
   ],
   "source": [
    "print('np.zeros helps to create an array of 0')\n",
    "#np.zeros(shape, dtype=?)\n",
    "x = np.zeros((2, 3), dtype=int)\n",
    "print(x)\n",
    "print()\n",
    "\n",
    "y = np.zeros(4)\n",
    "print(y)\n",
    "print()\n",
    "\n",
    "\n",
    "print('np.ones helps to create an array of 1')\n",
    "#np.ones(shape, dtype=?)\n",
    "x = np.ones((2, 2), dtype=int)\n",
    "print(x)\n",
    "print()\n",
    "\n",
    "y = np.ones(3)\n",
    "print(y)\n",
    "print()\n",
    "\n",
    "\n",
    "print('np.full creates an n-dimensional array of a random value')\n",
    "#np.full(shape, fill_value=?, dtype=?)\n",
    "x = np.full((2, 4), fill_value=3, dtype=int)\n",
    "print(x)\n",
    "print()\n",
    "\n",
    "y = np.full(3, fill_value=7)\n",
    "print(y)\n",
    "print()\n",
    "\n",
    "\n",
    "print('np.identity creates an identity matrix with specified dimensions')\n",
    "#np.identity(n, dtype=None)\n",
    "\n",
    "x = np.identity(3)\n",
    "print(x)\n",
    "print()"
   ]
  },
  {
   "cell_type": "code",
   "execution_count": 4,
   "metadata": {},
   "outputs": [
    {
     "name": "stdout",
     "output_type": "stream",
     "text": [
      "min and max\n",
      "0\n",
      "9\n",
      "\n",
      "count non-zero: count all the non-zero elements and return their count\n",
      "2\n",
      "\n",
      "argwhere: find and return all the index of non-zero elements\n",
      "[[2]\n",
      " [4]]\n",
      "\n",
      "argmax returns the index of the max element from the array. It can be used to get the index of high probability predicted labels in multiclass image classification problems\n",
      "1\n",
      "\n",
      "argmin will return the index of the lowest element from the array.\n",
      "3\n",
      "\n"
     ]
    }
   ],
   "source": [
    "print('min and max')\n",
    "arr = np.array([1, 9, 0, 4])\n",
    "min_val = np.min(arr)\n",
    "max_val = np.max(arr)\n",
    "print(min_val, max_val, sep='\\n')\n",
    "print()\n",
    "\n",
    "\n",
    "print('count non-zero: count all the non-zero elements \\\n",
    "and return their count')\n",
    "#np.count_nonzero(a, axis=None, *, keepdims=False)\n",
    "a = np.array([0, 0, 6, 2, 0])\n",
    "print(np.count_nonzero(a))\n",
    "print()\n",
    "\n",
    "\n",
    "print('argwhere: find and return all the index of non-zero elements')\n",
    "#np.argwhere(?)\n",
    "a = np.array([0, 0, 6, 0, 1])\n",
    "print(np.argwhere(a))\n",
    "print()\n",
    "\n",
    "\n",
    "print('argmax returns the index of the max element from the array. \\\n",
    "It can be used to get the index of high probability predicted labels \\\n",
    "in multiclass image classification problems')\n",
    "#np.argmax(?, axis=Mone, out=None)\n",
    "arr = np.array([[0.12, 0.64, 0.19, 0.05]])\n",
    "print(np.argmax(arr))\n",
    "print()\n",
    "\n",
    "print('argmin will return the index of the lowest element \\\n",
    "from the array.')\n",
    "#np.argmin(?, axis=Mone, out=None)\n",
    "print(np.argmin(arr))\n",
    "print()"
   ]
  },
  {
   "cell_type": "code",
   "execution_count": 5,
   "metadata": {},
   "outputs": [
    {
     "name": "stdout",
     "output_type": "stream",
     "text": [
      "sort: sort the array and return\n",
      "[1 2 3 4 5 7]\n"
     ]
    }
   ],
   "source": [
    "print('sort: sort the array and return')\n",
    "#np.sort(a, axis=-1, kind=None, order=None)\n",
    "\n",
    "arr = np.array([2, 3, 1, 7, 4, 5])\n",
    "s_arr = np.sort(arr)\n",
    "print(s_arr)"
   ]
  },
  {
   "cell_type": "code",
   "execution_count": 6,
   "metadata": {},
   "outputs": [
    {
     "name": "stdout",
     "output_type": "stream",
     "text": [
      "abs: Return the absolute values of elements inside an array.It is useful when an array contains negative values.\n",
      "[[1 3 4]\n",
      " [2 4 3]]\n",
      "\n"
     ]
    }
   ],
   "source": [
    "print('abs: Return the absolute values of elements inside an array.\\\n",
    "It is useful when an array contains negative values.')\n",
    "a = np.array([[1, -3, 4], [-2, -4, 3]])\n",
    "print(np.abs(a))\n",
    "print()"
   ]
  },
  {
   "cell_type": "code",
   "execution_count": 7,
   "metadata": {},
   "outputs": [
    {
     "name": "stdout",
     "output_type": "stream",
     "text": [
      "copy to: copy the content of one array into another\n",
      "[2 3]\n",
      "[4 5]\n",
      "\n",
      "[4 5]\n",
      "[4 5]\n",
      "\n"
     ]
    }
   ],
   "source": [
    "print('copy to: copy the content of one array into another')\n",
    "#copyto(dst, src, casting='same_kind', where=True)\n",
    "#dst: array into which values are copied\n",
    "#src: array from which values are copied\n",
    "\n",
    "arr1 = np.array([2, 3])\n",
    "arr2 = np.array([4, 5])\n",
    "print(arr1, arr2, sep='\\n')\n",
    "print()\n",
    "\n",
    "np.copyto(arr1, arr2) #just a function, doesn't print anything: None\n",
    "print(arr1, arr2, sep='\\n')\n",
    "print()"
   ]
  },
  {
   "cell_type": "code",
   "execution_count": 8,
   "metadata": {},
   "outputs": [
    {
     "name": "stdout",
     "output_type": "stream",
     "text": [
      "np.intersect1d function returns all the unique values from both arrays in a sorted manner.\n",
      "[3 4]\n",
      "\n",
      "np.setdiff1d function returns all the unique elements from array 1 that are not present in arr2\n",
      "[2]\n",
      "\n",
      "setxor1d function will return all the unique values from both arrays in sorted order.\n",
      "[2 3 6 9]\n",
      "\n",
      "union1d function will combine both arrays into one\n",
      "[2 3 4 5 7 8]\n"
     ]
    }
   ],
   "source": [
    "print('np.intersect1d function returns all the unique values from \\\n",
    "both arrays in a sorted manner.')\n",
    "#np.intersect1d(arr1, arr2, assume_unique=False, return_indices=False)\n",
    "\n",
    "#assume_unique: if true, then input arrays are both assumed to be unique\n",
    "#return_indices: if true, then common elements indices are returned\n",
    "\n",
    "ar1 = np.array([2, 3, 4])\n",
    "ar2 = np.array([3, 4, 8])\n",
    "print(np.intersect1d(ar1, ar2))\n",
    "print()\n",
    "\n",
    "\n",
    "print('np.setdiff1d function returns all the unique elements from \\\n",
    "array 1 that are not present in arr2')\n",
    "\n",
    "ar1 = np.array([2, 3, 4])\n",
    "ar2 = np.array([3, 4, 8])\n",
    "print(np.setdiff1d(ar1, ar2))\n",
    "print()\n",
    "\n",
    "\n",
    "print('setxor1d function will return all the unique values from both \\\n",
    "arrays in sorted order.')\n",
    "a = np.array([1, 2, 3, 4, 6])\n",
    "b = np.array([1, 4, 9, 4])\n",
    "print(np.setxor1d(a, b))\n",
    "print()\n",
    "\n",
    "\n",
    "print('union1d function will combine both arrays into one')\n",
    "x = np.array([2, 3, 7, 5])\n",
    "y = np.array([8, 5, 4])\n",
    "print(np.union1d(x, y))"
   ]
  },
  {
   "cell_type": "code",
   "execution_count": 9,
   "metadata": {},
   "outputs": [
    {
     "name": "stdout",
     "output_type": "stream",
     "text": [
      "hstack will stack appends one array at the end of another\n",
      "[1 2 3 1 4 9]\n",
      "\n",
      "vstack will stack one array on top of another\n",
      "[[1 2 3]\n",
      " [1 4 9]]\n",
      "\n"
     ]
    }
   ],
   "source": [
    "print('hstack will stack appends one array at the end of another')\n",
    "a = np.array([1, 2, 3])\n",
    "b = np.array([1, 4, 9])\n",
    "print(np.hstack((a, b)))\n",
    "print()\n",
    "\n",
    "print('vstack will stack one array on top of another')\n",
    "print(np.vstack((a, b)))\n",
    "print()"
   ]
  },
  {
   "cell_type": "code",
   "execution_count": 10,
   "metadata": {},
   "outputs": [
    {
     "name": "stdout",
     "output_type": "stream",
     "text": [
      "np.allclose function finds whether two arrays are equal or approximately equal to each other based on some tolerance value if the shape of both arrays is the same.\n",
      "False\n",
      "\n",
      "True\n",
      "\n"
     ]
    }
   ],
   "source": [
    "print('np.allclose function finds whether two arrays are equal or approximately equal to each other based on some tolerance value if \\\n",
    "the shape of both arrays is the same.')\n",
    "a = np.array([0.25, 0.4, 0.6, 0.32])\n",
    "b = np.array([0.26, 0.3, 0.7, 0.32])\n",
    "tolerance = 0.1 ## Total Difference \n",
    "print(np.allclose(a, b, tolerance))\n",
    "print()\n",
    "tolerance = 0.4 ## Total Difference \n",
    "print(np.allclose(a, b, tolerance))\n",
    "print()"
   ]
  },
  {
   "cell_type": "code",
   "execution_count": 11,
   "metadata": {},
   "outputs": [
    {
     "name": "stdout",
     "output_type": "stream",
     "text": [
      "It is used to repeat elements of an array for n number of times\n",
      "['2017' '2017' '2017']\n",
      "\n",
      "  Product  Container Sales\n",
      "0   Mango               40\n",
      "1   Apple               90\n",
      "2  Banana              130\n",
      "\n",
      "  Product  Container Sales  Year\n",
      "0   Mango               40  2020\n",
      "1   Apple               90  2020\n",
      "2  Banana              130  2020\n",
      "\n"
     ]
    }
   ],
   "source": [
    "print('It is used to repeat elements of an array for n number of times')\n",
    "#np.repeat(a, repeats, axis=None)\n",
    "print(np.repeat('2017', 3))\n",
    "print()\n",
    "fruits = pd.DataFrame([\n",
    "    ['Mango', 40],\n",
    "    ['Apple', 90],\n",
    "    ['Banana', 130]\n",
    "],columns=['Product', 'Container Sales'])\n",
    "print(fruits)\n",
    "print()\n",
    "fruits['Year'] = np.repeat(2020, fruits.shape[0])\n",
    "print(fruits)\n",
    "print()"
   ]
  },
  {
   "cell_type": "code",
   "execution_count": 12,
   "metadata": {},
   "outputs": [
    {
     "name": "stdout",
     "output_type": "stream",
     "text": [
      "savetxt used to save the content of an array inside a text file.\n",
      "\n",
      "loadtxt used to load the content of an array from a text file. It takes the file name as a parameter\n",
      "\n"
     ]
    }
   ],
   "source": [
    "print('savetxt used to save the content of an array inside a text file.')\n",
    "''' Generate array with 500 elements '''\n",
    "arr = np.linspace(10, 100, 500).reshape(25, 20) \n",
    "\n",
    "##saves array data inside a txt File\n",
    "np.savetxt('array.txt', arr)\n",
    "print()\n",
    "\n",
    "print('loadtxt used to load the content of an array from a text file. \\\n",
    "It takes the file name as a parameter')\n",
    "#loads array data from a txt file\n",
    "np.loadtxt('array.txt')\n",
    "print()"
   ]
  }
 ],
 "metadata": {
  "kernelspec": {
   "display_name": "Python 3",
   "language": "python",
   "name": "python3"
  },
  "language_info": {
   "codemirror_mode": {
    "name": "ipython",
    "version": 3
   },
   "file_extension": ".py",
   "mimetype": "text/x-python",
   "name": "python",
   "nbconvert_exporter": "python",
   "pygments_lexer": "ipython3",
   "version": "3.10.5"
  }
 },
 "nbformat": 4,
 "nbformat_minor": 2
}
