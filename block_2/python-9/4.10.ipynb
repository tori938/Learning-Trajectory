{
 "cells": [
  {
   "cell_type": "code",
   "execution_count": 1,
   "metadata": {},
   "outputs": [],
   "source": [
    "from collections import defaultdict, deque"
   ]
  },
  {
   "cell_type": "markdown",
   "metadata": {},
   "source": [
    "EXERCISE 4.10"
   ]
  },
  {
   "cell_type": "code",
   "execution_count": 2,
   "metadata": {},
   "outputs": [
    {
     "name": "stdout",
     "output_type": "stream",
     "text": [
      "defaultdict(<class 'collections.deque'>, {'voltage': deque([41667, 35364]), 'office': deque([36871, 40690, 33850])})\n"
     ]
    }
   ],
   "source": [
    "tasks = [\n",
    "    (36871, 'office', False),\n",
    "    (40690, 'office', False),\n",
    "    (35364, 'voltage', False),\n",
    "    (41667, 'voltage', True),\n",
    "    (33850, 'office', False)\n",
    "    ]\n",
    "\n",
    "def task_manager(tasks):\n",
    "    ordered_tasks = sorted(tasks, key=lambda x: x[1], reverse=True)\n",
    "    task_data = defaultdict(deque)\n",
    "    for task_number, server_name, priority in ordered_tasks:\n",
    "        if priority:\n",
    "            task_data[server_name].appendleft(task_number)\n",
    "        else:\n",
    "            task_data[server_name].append(task_number)\n",
    "    return task_data\n",
    "\n",
    "print(task_manager(tasks))"
   ]
  }
 ],
 "metadata": {
  "kernelspec": {
   "display_name": "Python 3",
   "language": "python",
   "name": "python3"
  },
  "language_info": {
   "codemirror_mode": {
    "name": "ipython",
    "version": 3
   },
   "file_extension": ".py",
   "mimetype": "text/x-python",
   "name": "python",
   "nbconvert_exporter": "python",
   "pygments_lexer": "ipython3",
   "version": "3.10.5"
  }
 },
 "nbformat": 4,
 "nbformat_minor": 2
}
