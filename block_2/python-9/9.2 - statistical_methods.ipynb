{
 "cells": [
  {
   "cell_type": "code",
   "execution_count": 1,
   "metadata": {},
   "outputs": [],
   "source": [
    "import numpy as np"
   ]
  },
  {
   "cell_type": "markdown",
   "metadata": {},
   "source": [
    "MEDIAN"
   ]
  },
  {
   "cell_type": "code",
   "execution_count": 2,
   "metadata": {},
   "outputs": [
    {
     "name": "stdout",
     "output_type": "stream",
     "text": [
      "median: return the median of an array\n",
      "odd list of numbers\n",
      "3.0\n",
      "\n",
      "even list of numbers\n",
      "6.5\n",
      "\n"
     ]
    }
   ],
   "source": [
    "print('median: return the median of an array')\n",
    "\n",
    "print('odd list of numbers')\n",
    "array1 = np.array([1, 2, 3, 4, 5])\n",
    "median = np.median(array1)\n",
    "print(median)\n",
    "print()\n",
    "\n",
    "print('even list of numbers')\n",
    "array2 = np.array([5, 6, 7, 8])\n",
    "median = np.median(array2)\n",
    "print(median)\n",
    "print()"
   ]
  },
  {
   "cell_type": "code",
   "execution_count": 3,
   "metadata": {},
   "outputs": [
    {
     "name": "stdout",
     "output_type": "stream",
     "text": [
      "Median along horizontal axis : [ 4. 10. 16.]\n",
      "Median along vertical axis: [ 8. 10. 12.]\n",
      "Median of entire array: 10.0\n"
     ]
    }
   ],
   "source": [
    "# create a 2D array\n",
    "array1 = np.array([\n",
    "    [2, 4, 6], \n",
    "    [8, 10, 12], \n",
    "    [14, 16, 18]])\n",
    "\n",
    "# compute median along horizontal axis \n",
    "result1 = np.median(array1, axis=1)\n",
    "print(\"Median along horizontal axis :\", result1)\n",
    "\n",
    "# compute median along vertical axis\n",
    "result2 = np.median(array1, axis=0)\n",
    "print(\"Median along vertical axis:\", result2)\n",
    "\n",
    "# compute median of entire array\n",
    "result3 = np.median(array1)\n",
    "print(\"Median of entire array:\", result3)"
   ]
  },
  {
   "cell_type": "markdown",
   "metadata": {},
   "source": [
    "MEAN"
   ]
  },
  {
   "cell_type": "code",
   "execution_count": 4,
   "metadata": {},
   "outputs": [
    {
     "name": "stdout",
     "output_type": "stream",
     "text": [
      "mean: return the mean of an array\n",
      "78.33333333333333\n"
     ]
    }
   ],
   "source": [
    "print('mean: return the mean of an array')\n",
    "import numpy as np\n",
    "\n",
    "# create a numpy array\n",
    "marks = np.array([76, 78, 81])\n",
    "\n",
    "# compute the mean of marks\n",
    "mean_marks = np.mean(marks)\n",
    "\n",
    "print(mean_marks)"
   ]
  },
  {
   "cell_type": "code",
   "execution_count": 5,
   "metadata": {},
   "outputs": [
    {
     "name": "stdout",
     "output_type": "stream",
     "text": [
      "Entire Array: 4.0\n",
      "Along Vertical Axis: [3. 5.]\n",
      "Along Horizontal Axis : [2. 6.]\n"
     ]
    }
   ],
   "source": [
    "# create a 2D array\n",
    "array1 = np.array([[1, 3], \n",
    "                 [5, 7]])\n",
    "\n",
    "# calculate the mean of the entire array\n",
    "result1 = np.mean(array1)\n",
    "print(\"Entire Array:\",result1)  # 4.0\n",
    "\n",
    "# calculate the mean along vertical axis (axis=0)\n",
    "result2 = np.mean(array1, axis=0)\n",
    "print(\"Along Vertical Axis:\",result2)  # [3. 5.]\n",
    "\n",
    "# calculate the mean along  (axis=1)\n",
    "result3 = np.mean(array1, axis=1)\n",
    "print(\"Along Horizontal Axis :\",result3)  # [2. 6.]\n",
    "\n",
    "#np.mean(array1) - calculates the mean over the entire array\n",
    "#np.mean(array1, axis=0) - calculates the mean along vertical axis\n",
    "#np.mean(array1, axis=1) calculates the mean along horizontal axis"
   ]
  },
  {
   "cell_type": "markdown",
   "metadata": {},
   "source": [
    "PERCENTILE"
   ]
  },
  {
   "cell_type": "code",
   "execution_count": 6,
   "metadata": {},
   "outputs": [
    {
     "name": "stdout",
     "output_type": "stream",
     "text": [
      "percentile: return the nth percentile of elements in an array\n",
      "25th percentile: 3.0\n",
      "75th percentile: 7.0\n"
     ]
    }
   ],
   "source": [
    "print('percentile: return the nth percentile of elements in an array')\n",
    "import numpy as np\n",
    "\n",
    "# create an array\n",
    "array1 = np.array([1, 3, 5, 7, 9])\n",
    "\n",
    "# compute the 25th percentile of the array\n",
    "result1 = np.percentile(array1, 25)\n",
    "print(\"25th percentile:\",result1)\n",
    "\n",
    "# compute the 75th percentile of the array\n",
    "result2 = np.percentile(array1, 75)\n",
    "print(\"75th percentile:\",result2)\n",
    "\n",
    "#25% of the values in array1 are less than or equal to 5.5.\n",
    "#75% of the values in array1 are less than or equal to 14.5."
   ]
  }
 ],
 "metadata": {
  "kernelspec": {
   "display_name": "Python 3",
   "language": "python",
   "name": "python3"
  },
  "language_info": {
   "codemirror_mode": {
    "name": "ipython",
    "version": 3
   },
   "file_extension": ".py",
   "mimetype": "text/x-python",
   "name": "python",
   "nbconvert_exporter": "python",
   "pygments_lexer": "ipython3",
   "version": "3.10.5"
  }
 },
 "nbformat": 4,
 "nbformat_minor": 2
}
