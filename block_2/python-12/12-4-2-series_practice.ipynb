{
 "cells": [
  {
   "cell_type": "code",
   "execution_count": 1,
   "metadata": {},
   "outputs": [],
   "source": [
    "import pandas as pd, numpy as np"
   ]
  },
  {
   "cell_type": "code",
   "execution_count": 2,
   "metadata": {},
   "outputs": [
    {
     "data": {
      "text/plain": [
       "white  up       0.044379\n",
       "       down     0.965485\n",
       "       right    0.025043\n",
       "blue   up       0.044500\n",
       "       down     0.687644\n",
       "red    up       0.175784\n",
       "       down     0.571804\n",
       "       left     0.144760\n",
       "dtype: float64"
      ]
     },
     "metadata": {},
     "output_type": "display_data"
    }
   ],
   "source": [
    "mser = pd.Series(\n",
    "    np.random.rand(8),\n",
    "\tindex=[['white','white','white','blue','blue','red','red','red'], \n",
    "           ['up','down','right','up','down','up','down','left']])\n",
    "display(mser)"
   ]
  },
  {
   "cell_type": "markdown",
   "metadata": {},
   "source": [
    "look by index"
   ]
  },
  {
   "cell_type": "code",
   "execution_count": 3,
   "metadata": {},
   "outputs": [
    {
     "name": "stdout",
     "output_type": "stream",
     "text": [
      "MultiIndex([('white',    'up'),\n",
      "            ('white',  'down'),\n",
      "            ('white', 'right'),\n",
      "            ( 'blue',    'up'),\n",
      "            ( 'blue',  'down'),\n",
      "            (  'red',    'up'),\n",
      "            (  'red',  'down'),\n",
      "            (  'red',  'left')],\n",
      "           )\n"
     ]
    }
   ],
   "source": [
    "print(mser.index)"
   ]
  },
  {
   "cell_type": "code",
   "execution_count": 4,
   "metadata": {},
   "outputs": [
    {
     "data": {
      "text/html": [
       "<div>\n",
       "<style scoped>\n",
       "    .dataframe tbody tr th:only-of-type {\n",
       "        vertical-align: middle;\n",
       "    }\n",
       "\n",
       "    .dataframe tbody tr th {\n",
       "        vertical-align: top;\n",
       "    }\n",
       "\n",
       "    .dataframe thead tr th {\n",
       "        text-align: left;\n",
       "    }\n",
       "</style>\n",
       "<table border=\"1\" class=\"dataframe\">\n",
       "  <thead>\n",
       "    <tr>\n",
       "      <th></th>\n",
       "      <th></th>\n",
       "      <th colspan=\"2\" halign=\"left\">pen</th>\n",
       "      <th colspan=\"2\" halign=\"left\">paper</th>\n",
       "    </tr>\n",
       "    <tr>\n",
       "      <th></th>\n",
       "      <th></th>\n",
       "      <th>1</th>\n",
       "      <th>2</th>\n",
       "      <th>1</th>\n",
       "      <th>2</th>\n",
       "    </tr>\n",
       "  </thead>\n",
       "  <tbody>\n",
       "    <tr>\n",
       "      <th rowspan=\"2\" valign=\"top\">white</th>\n",
       "      <th>up</th>\n",
       "      <td>-0.460983</td>\n",
       "      <td>-1.763780</td>\n",
       "      <td>-1.171899</td>\n",
       "      <td>1.543344</td>\n",
       "    </tr>\n",
       "    <tr>\n",
       "      <th>down</th>\n",
       "      <td>-1.698432</td>\n",
       "      <td>0.038566</td>\n",
       "      <td>2.070950</td>\n",
       "      <td>0.029501</td>\n",
       "    </tr>\n",
       "    <tr>\n",
       "      <th rowspan=\"2\" valign=\"top\">red</th>\n",
       "      <th>up</th>\n",
       "      <td>-0.295038</td>\n",
       "      <td>0.203800</td>\n",
       "      <td>-1.472186</td>\n",
       "      <td>-1.710075</td>\n",
       "    </tr>\n",
       "    <tr>\n",
       "      <th>down</th>\n",
       "      <td>-0.040780</td>\n",
       "      <td>-0.290084</td>\n",
       "      <td>0.463446</td>\n",
       "      <td>-0.963962</td>\n",
       "    </tr>\n",
       "  </tbody>\n",
       "</table>\n",
       "</div>"
      ],
      "text/plain": [
       "                 pen               paper          \n",
       "                   1         2         1         2\n",
       "white up   -0.460983 -1.763780 -1.171899  1.543344\n",
       "      down -1.698432  0.038566  2.070950  0.029501\n",
       "red   up   -0.295038  0.203800 -1.472186 -1.710075\n",
       "      down -0.040780 -0.290084  0.463446 -0.963962"
      ]
     },
     "metadata": {},
     "output_type": "display_data"
    }
   ],
   "source": [
    "mframe = pd.DataFrame(\n",
    "    np.random.randn(16).reshape(4,4),\n",
    "    index=[['white','white','red','red'], ['up','down','up','down']],\n",
    "    columns=[['pen','pen','paper','paper'],[1,2,1,2]]\n",
    ")\n",
    "display(mframe)"
   ]
  }
 ],
 "metadata": {
  "kernelspec": {
   "display_name": "Python 3",
   "language": "python",
   "name": "python3"
  },
  "language_info": {
   "codemirror_mode": {
    "name": "ipython",
    "version": 3
   },
   "file_extension": ".py",
   "mimetype": "text/x-python",
   "name": "python",
   "nbconvert_exporter": "python",
   "pygments_lexer": "ipython3",
   "version": "3.10.5"
  }
 },
 "nbformat": 4,
 "nbformat_minor": 2
}
